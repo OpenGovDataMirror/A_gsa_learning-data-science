{
 "cells": [
  {
   "cell_type": "markdown",
   "metadata": {},
   "source": [
    "# Intro to Numbers\n",
    "In this lesson, you'll learn how Python treats **numbers**. You'll also be exposed to a few **control flow** concepts, which are tools that help you control the order in which code executes. "
   ]
  },
  {
   "cell_type": "markdown",
   "metadata": {},
   "source": [
    "## Lesson Objectives\n",
    "By the end of this lesson, you will be able to:\n",
    "- Understand and construct common numerical types in Python\n",
    "- Use arithmetic, assignment, comparison, logical, membership, and identity operators with numbers\n",
    "- Use conditional statements and `while` loops for control flow.\n",
    "- Understand how to work with numbers using a few common Python packages"
   ]
  },
  {
   "cell_type": "markdown",
   "metadata": {},
   "source": [
    " - [Constructing Numbers](#constructingNumbers)\n",
    "      - [Integer](#int)\n",
    "      - [Boolean](#bool)\n",
    "      - [Float](#float)\n",
    "      - [Complex](#complex)\n",
    " - [Arithmetic Operators](#arithmetic)\n",
    " - [Assignment Operators](#assignmentOperators)\n",
    " - [Comparison Operators](#comparisonOperators)\n",
    "      - [Conditional Statements](#conditional)\n",
    "      - [While Loops](#while)\n",
    " - [Logical Operators](#logicalOperators)\n",
    " - [Membership Operators](#membershipOperators)\n",
    " - [Identity Operators](#identityOperators)\n",
    " - [More Calculations](#mathematicalCalculations)\n",
    " - [Random Numbers](#random)\n",
    " - [What's Next](#next)"
   ]
  },
  {
   "cell_type": "markdown",
   "metadata": {},
   "source": [
    "<a id='constructingNumbers'></a>\n",
    "## Constructing Numbers\n",
    "There are four main types of numbers in Python:\n",
    "- Integers\n",
    "- Floats\n",
    "- Complex\n",
    "- Boolean\n",
    "\n",
    "You can create a number with a numeric literal - which means just typing a number - or as the result of several built-in functions and operators."
   ]
  },
  {
   "cell_type": "markdown",
   "metadata": {},
   "source": [
    "<a id='int'></a>\n",
    "### Integers\n",
    "[Integers](https://en.wikipedia.org/wiki/Integer) are numbers that can be written without a fractional component. Integers can also be thought of as discrete, equally spaced points on an infinitely long number line. \n",
    "\n",
    "<img src= 'assets/number_line.png' width = 400 height = 400 >\n",
    "\n",
    "In the above, non-negative integers are shown in purple and negative integers in red. And here's how we create them in Python:"
   ]
  },
  {
   "cell_type": "code",
   "execution_count": 1,
   "metadata": {
    "collapsed": true
   },
   "outputs": [],
   "source": [
    "anInteger = 1                #using a numeric literal\n",
    "anotherInteger = int('1')    #using the built-in int function on a string (which is a character, as we'll \n",
    "                             #see in the next lesson)"
   ]
  },
  {
   "cell_type": "code",
   "execution_count": 3,
   "metadata": {
    "collapsed": false
   },
   "outputs": [
    {
     "data": {
      "text/plain": [
       "int"
      ]
     },
     "execution_count": 3,
     "metadata": {},
     "output_type": "execute_result"
    }
   ],
   "source": [
    "type(anInteger)              #verify the type (i.e. anInteger is an object of the \"int\" type)"
   ]
  },
  {
   "cell_type": "code",
   "execution_count": 4,
   "metadata": {
    "collapsed": false
   },
   "outputs": [
    {
     "data": {
      "text/plain": [
       "int"
      ]
     },
     "execution_count": 4,
     "metadata": {},
     "output_type": "execute_result"
    }
   ],
   "source": [
    "type(anotherInteger)         #verify the type"
   ]
  },
  {
   "cell_type": "markdown",
   "metadata": {},
   "source": [
    "`int()` can also convert numbers from one base (e.g. base-2) to base-10:"
   ]
  },
  {
   "cell_type": "code",
   "execution_count": 5,
   "metadata": {
    "collapsed": false
   },
   "outputs": [
    {
     "data": {
      "text/plain": [
       "255"
      ]
     },
     "execution_count": 5,
     "metadata": {},
     "output_type": "execute_result"
    }
   ],
   "source": [
    "int('11111111', 2)           #convert a binary number to a base-10 number"
   ]
  },
  {
   "cell_type": "markdown",
   "metadata": {},
   "source": [
    "<a id='bool'></a>\n",
    "### Boolean\n",
    "A Boolean value is either `True` or `False`. "
   ]
  },
  {
   "cell_type": "code",
   "execution_count": 7,
   "metadata": {
    "collapsed": false
   },
   "outputs": [
    {
     "data": {
      "text/plain": [
       "True"
      ]
     },
     "execution_count": 7,
     "metadata": {},
     "output_type": "execute_result"
    }
   ],
   "source": [
    "x = True\n",
    "x"
   ]
  },
  {
   "cell_type": "markdown",
   "metadata": {},
   "source": [
    "A boolean value's type is `bool`."
   ]
  },
  {
   "cell_type": "code",
   "execution_count": 8,
   "metadata": {
    "collapsed": false
   },
   "outputs": [
    {
     "data": {
      "text/plain": [
       "bool"
      ]
     },
     "execution_count": 8,
     "metadata": {},
     "output_type": "execute_result"
    }
   ],
   "source": [
    "type(x)"
   ]
  },
  {
   "cell_type": "markdown",
   "metadata": {},
   "source": [
    "In arithmetic, Python converts `True` to `1` and `False` to `0`. So adding two `True`s returns the `int` `2`"
   ]
  },
  {
   "cell_type": "code",
   "execution_count": 13,
   "metadata": {
    "collapsed": false
   },
   "outputs": [
    {
     "data": {
      "text/plain": [
       "2"
      ]
     },
     "execution_count": 13,
     "metadata": {},
     "output_type": "execute_result"
    }
   ],
   "source": [
    "x + x"
   ]
  },
  {
   "cell_type": "markdown",
   "metadata": {},
   "source": [
    "You can also perform [Boolean Algebra](https://en.wikipedia.org/wiki/Boolean_algebra) in Python. This is useful when you have a complicated set of criteria that you want to test. We'll see this later in the **Logical Operators** section"
   ]
  },
  {
   "cell_type": "markdown",
   "metadata": {},
   "source": [
    "<a id='float'></a>\n",
    "## Float\n",
    "Floating point numbers are numbers with decimals. \n",
    "\n",
    "> #### Optional Deep Dive\n",
    ">> *Getting computers to represent decimal numbers is actually a lot trickier than you might think, so if you've got the urge, I'd suggest reading this [article](https://www.ntu.edu.sg/home/ehchua/programming/java/DataRepresentation.html).* \n",
    "\n",
    ">> *The tl;dr is that floating point arithmetic can sometimes be imprecise. If you need to make very precise calcuations, see this Python-specific [reference](https://docs.python.org/3/tutorial/floatingpoint.html) on the issues and limitations of floating point numbers. You can use the [decimal module](https://docs.python.org/3/library/decimal.html) for fast, correctly-rounded decimal floating point arithmetic.*\n",
    "\n",
    "So let's create a `float` now."
   ]
  },
  {
   "cell_type": "code",
   "execution_count": 15,
   "metadata": {
    "collapsed": true
   },
   "outputs": [],
   "source": [
    "# each of the following assigns a float value to an object\n",
    "aFloat = 1.0\n",
    "anotherFloat = float(1)"
   ]
  },
  {
   "cell_type": "markdown",
   "metadata": {},
   "source": [
    "#### Exercise\n",
    "> 1) Check the `type` of each object above:"
   ]
  },
  {
   "cell_type": "code",
   "execution_count": null,
   "metadata": {
    "collapsed": true
   },
   "outputs": [],
   "source": []
  },
  {
   "cell_type": "code",
   "execution_count": null,
   "metadata": {
    "collapsed": true
   },
   "outputs": [],
   "source": []
  },
  {
   "cell_type": "markdown",
   "metadata": {},
   "source": [
    "And be careful when converting a `float` to an `int` since rounding doesn't happen the way you'd think it would!"
   ]
  },
  {
   "cell_type": "code",
   "execution_count": 20,
   "metadata": {
    "collapsed": false
   },
   "outputs": [
    {
     "data": {
      "text/plain": [
       "1"
      ]
     },
     "execution_count": 20,
     "metadata": {},
     "output_type": "execute_result"
    }
   ],
   "source": [
    "float_to_int = int(1.9)\n",
    "float_to_int"
   ]
  },
  {
   "cell_type": "markdown",
   "metadata": {},
   "source": [
    "<a id='complex'></a>\n",
    "## Complex\n",
    "[Complex numbers](https://en.wikipedia.org/wiki/Complex_number) in Python are created by putting a 'j’ or ‘J’ after a number.\n",
    "\n",
    "#### Optional Deep Dive\n",
    "> *Imaginary numbers are numbers than can be written as a real number multiplied by the imaginary unit $i$, which is defined by the property $i^2 = −1$.*\n",
    "\n",
    "> An imaginary number $bi$ can be added to a real number $a$ to form a complex number of the form $a + bi$, where the real numbers $a$ and $b$ are called, respectively, the real part and the imaginary part of the complex number."
   ]
  },
  {
   "cell_type": "code",
   "execution_count": 16,
   "metadata": {
    "collapsed": false
   },
   "outputs": [
    {
     "data": {
      "text/plain": [
       "complex"
      ]
     },
     "execution_count": 16,
     "metadata": {},
     "output_type": "execute_result"
    }
   ],
   "source": [
    "type(1j)"
   ]
  },
  {
   "cell_type": "code",
   "execution_count": 17,
   "metadata": {
    "collapsed": false
   },
   "outputs": [
    {
     "data": {
      "text/plain": [
       "(-1+0j)"
      ]
     },
     "execution_count": 17,
     "metadata": {},
     "output_type": "execute_result"
    }
   ],
   "source": [
    "1j * 1j"
   ]
  },
  {
   "cell_type": "code",
   "execution_count": 18,
   "metadata": {
    "collapsed": false
   },
   "outputs": [
    {
     "data": {
      "text/plain": [
       "(1+100j)"
      ]
     },
     "execution_count": 18,
     "metadata": {},
     "output_type": "execute_result"
    }
   ],
   "source": [
    "complex(1,100)"
   ]
  },
  {
   "cell_type": "markdown",
   "metadata": {},
   "source": [
    "The [cmath module](https://docs.python.org/3/library/cmath.html) has more functions for complex numbers."
   ]
  },
  {
   "cell_type": "markdown",
   "metadata": {},
   "source": [
    "<a id='arithmetic'></a>\n",
    "## Arithmetic Operators\n",
    "\n",
    "\n",
    "<table class=\"table table-bordered\">\n",
    "<tr>\n",
    "<th style=\"text-align:center; width:21%\">Operator</th>\n",
    "<th style=\"text-align:center; width:45%\">Description</th>\n",
    "</tr>\n",
    "<tr>\n",
    "<td style=\"text-align:center; vertical-align:middle;\">`+`</td>\n",
    "<td>Adds operands</td>\n",
    "</tr>\n",
    "<tr>\n",
    "<td style=\"text-align:center; vertical-align:middle;\">-</td>\n",
    "<td>Subtracts right operand from left operand</td>\n",
    "</tr>\n",
    "<tr>\n",
    "<td style=\"text-align:center; vertical-align:middle;\">`*`</td>\n",
    "<td>Multiplies operands</td>\n",
    "</tr>\n",
    "<tr>\n",
    "<td style=\"text-align:center; vertical-align:middle;\">/</td>\n",
    "<td>Divides left operand by right operand</td>\n",
    "</tr>\n",
    "<tr>\n",
    "<td style=\"text-align:center; vertical-align:middle;\">%</td>\n",
    "<td>Divides left operand by right operand and returns remainder</td>\n",
    "</tr>\n",
    "<tr>\n",
    "<td style=\"text-align:center; vertical-align:middle;\">`**`</td>\n",
    "<td>Exponentiates left operand by right operand</td>\n",
    "</tr>\n",
    "<tr>\n",
    "<td style=\"text-align:center; vertical-align:middle;\">//</td>\n",
    "<td>Divides left operand by right operand, returing the integer portion of the quotient. If one of the operands is negative, the result is floored, i.e., rounded away from zero.</td>\n",
    "</tr>\n",
    "</table>"
   ]
  },
  {
   "cell_type": "code",
   "execution_count": 20,
   "metadata": {
    "collapsed": true
   },
   "outputs": [],
   "source": [
    "a, b, c = 2, 4, 10 #you can assign multiple values to multiple variables like this."
   ]
  },
  {
   "cell_type": "code",
   "execution_count": 21,
   "metadata": {
    "collapsed": false
   },
   "outputs": [
    {
     "data": {
      "text/plain": [
       "6"
      ]
     },
     "execution_count": 21,
     "metadata": {},
     "output_type": "execute_result"
    }
   ],
   "source": [
    "a + b"
   ]
  },
  {
   "cell_type": "code",
   "execution_count": 22,
   "metadata": {
    "collapsed": false
   },
   "outputs": [
    {
     "data": {
      "text/plain": [
       "-2"
      ]
     },
     "execution_count": 22,
     "metadata": {},
     "output_type": "execute_result"
    }
   ],
   "source": [
    "a - b"
   ]
  },
  {
   "cell_type": "code",
   "execution_count": 23,
   "metadata": {
    "collapsed": false
   },
   "outputs": [
    {
     "data": {
      "text/plain": [
       "8"
      ]
     },
     "execution_count": 23,
     "metadata": {},
     "output_type": "execute_result"
    }
   ],
   "source": [
    "a * b"
   ]
  },
  {
   "cell_type": "code",
   "execution_count": 24,
   "metadata": {
    "collapsed": false
   },
   "outputs": [
    {
     "data": {
      "text/plain": [
       "0.2"
      ]
     },
     "execution_count": 24,
     "metadata": {},
     "output_type": "execute_result"
    }
   ],
   "source": [
    "a / c"
   ]
  },
  {
   "cell_type": "code",
   "execution_count": 25,
   "metadata": {
    "collapsed": false
   },
   "outputs": [
    {
     "data": {
      "text/plain": [
       "2"
      ]
     },
     "execution_count": 25,
     "metadata": {},
     "output_type": "execute_result"
    }
   ],
   "source": [
    "c % b"
   ]
  },
  {
   "cell_type": "code",
   "execution_count": 26,
   "metadata": {
    "collapsed": false
   },
   "outputs": [
    {
     "data": {
      "text/plain": [
       "1024"
      ]
     },
     "execution_count": 26,
     "metadata": {},
     "output_type": "execute_result"
    }
   ],
   "source": [
    "a**c"
   ]
  },
  {
   "cell_type": "code",
   "execution_count": 27,
   "metadata": {
    "collapsed": false
   },
   "outputs": [
    {
     "data": {
      "text/plain": [
       "2"
      ]
     },
     "execution_count": 27,
     "metadata": {},
     "output_type": "execute_result"
    }
   ],
   "source": [
    "c // b"
   ]
  },
  {
   "cell_type": "markdown",
   "metadata": {},
   "source": [
    "Operators can be strung together, following the [order of operations](https://en.wikipedia.org/wiki/Order_of_operations), so that we can quickly calculate soomething like $\\frac{a^{b}}{a+b}$:"
   ]
  },
  {
   "cell_type": "code",
   "execution_count": 30,
   "metadata": {
    "collapsed": false
   },
   "outputs": [
    {
     "data": {
      "text/plain": [
       "2.6666666666666665"
      ]
     },
     "execution_count": 30,
     "metadata": {},
     "output_type": "execute_result"
    }
   ],
   "source": [
    "a**b / (a + b)"
   ]
  },
  {
   "cell_type": "markdown",
   "metadata": {},
   "source": [
    "#### Exercises"
   ]
  },
  {
   "cell_type": "markdown",
   "metadata": {},
   "source": [
    "> 1) Calculate: $$\\frac{a(a-3)}{b}$$"
   ]
  },
  {
   "cell_type": "markdown",
   "metadata": {
    "collapsed": true
   },
   "source": [
    "## "
   ]
  },
  {
   "cell_type": "markdown",
   "metadata": {},
   "source": [
    "> 2) Calculate $$\\frac{-b+\\sqrt{b^2-4ac\\ }}{2a}$$\n",
    "> *Hint:* you can get the square root of a number by raising it to the $\\frac{1}{2}$ power."
   ]
  },
  {
   "cell_type": "code",
   "execution_count": null,
   "metadata": {
    "collapsed": true
   },
   "outputs": [],
   "source": []
  },
  {
   "cell_type": "markdown",
   "metadata": {},
   "source": [
    "<a id='assignmentOperators'></a>\n",
    "## Assignment Operators\n",
    "<p>These operators combine an arithmetic operator with the assignment operator (`=`). The variable to which you're assigning the value must already exist.</p>\n",
    "<table class=\"table table-bordered\">\n",
    "<tr>\n",
    "<th style=\"text-align:center; width:21%\">Operator</th>\n",
    "<th style=\"text-align:center; width:45%\">Description</th>\n",
    "<th style=\"text-align:center;\">Example</th>\n",
    "</tr>\n",
    "<tr>\n",
    "<td style=\"text-align:center; vertical-align:middle;\">&plus;=</td>\n",
    "<td>Assigns the sum of the right and left operands to the left operand</td>\n",
    "<td style=\"text-align:center; vertical-align:middle;\">c &plus;= a is equivalent to c = c &plus; a</td>\n",
    "</tr>\n",
    "<tr>\n",
    "<td style=\"text-align:center; vertical-align:middle;\">-=</td>\n",
    "<td>Assigns the difference of the right and left operands to the left operand</td>\n",
    "<td style=\"text-align:center; vertical-align:middle;\">c -= a is equivalent to c = c - a</td>\n",
    "</tr>\n",
    "<tr>\n",
    "<td style=\"text-align:center; vertical-align:middle;\">`*=`</td>\n",
    "<td>Assigns the product of the right and left operands to the left operand</td>\n",
    "<td style=\"text-align:center; vertical-align:middle;\">`c *= a` is equivalent to `c = c * a`</td>\n",
    "</tr>\n",
    "<tr>\n",
    "<td style=\"text-align:center; vertical-align:middle;\">/=</td>\n",
    "<td>Assigns the quotient of the right and left operands to the left operand</td>\n",
    "<td style=\"text-align:center; vertical-align:middle;\">c /= a is equivalent to c = c / ac /= a is equivalent to c = c / a</td>\n",
    "</tr>\n",
    "<tr>\n",
    "<td style=\"text-align:center; vertical-align:middle;\">%=</td>\n",
    "<td>Assigns the modulus of the right and left operands to the left operand</td>\n",
    "<td style=\"text-align:center; vertical-align:middle;\">c %= a is equivalent to c = c % a</td>\n",
    "</tr>\n",
    "<tr>\n",
    "<td style=\"text-align:center; vertical-align:middle;\">`**=`</td>\n",
    "<td>Assigns the exponentiation of the left operand by the right operand to the left operand</td>\n",
    "<td style=\"text-align:center; vertical-align:middle;\">`c **= a` is equivalent to c = c ** a</td>\n",
    "</tr>\n",
    "<tr>\n",
    "<td style=\"text-align:center; vertical-align:middle;\">//=</td>\n",
    "<td>Assigns floor division quotient to the left operand</td>\n",
    "<td style=\"text-align:center; vertical-align:middle;\">c //= a is equivalent to c = c // a</td>\n",
    "</tr>\n",
    "</table>\n",
    "\n",
    "You'll commonly see assignment operators in *loops*, which are sequences of code that execute over and over until some sort of condition is met. You'll be introduced to one of these - the `while` loop - later."
   ]
  },
  {
   "cell_type": "markdown",
   "metadata": {},
   "source": [
    "#### Exercises"
   ]
  },
  {
   "cell_type": "markdown",
   "metadata": {},
   "source": [
    "> 1) Create a variable called `d` containing the value `0` and use and assignment operator return the equivalent of `d = c - a`"
   ]
  },
  {
   "cell_type": "code",
   "execution_count": null,
   "metadata": {
    "collapsed": false
   },
   "outputs": [],
   "source": []
  },
  {
   "cell_type": "markdown",
   "metadata": {},
   "source": [
    "> 2) Increment `d` by 1"
   ]
  },
  {
   "cell_type": "code",
   "execution_count": null,
   "metadata": {
    "collapsed": true
   },
   "outputs": [],
   "source": []
  },
  {
   "cell_type": "markdown",
   "metadata": {},
   "source": [
    "> 3) Decrement `d` by 1"
   ]
  },
  {
   "cell_type": "code",
   "execution_count": null,
   "metadata": {
    "collapsed": true
   },
   "outputs": [],
   "source": []
  },
  {
   "cell_type": "markdown",
   "metadata": {},
   "source": [
    "<a id='comparisonOperators'></a>\n",
    "## Comparison Operators\n",
    "<p>These operators compare the values of the operands and return a boolean.</p>\n",
    "<p>Assume $a=1$ and $b=2$</p>\n",
    "<table class=\"table table-bordered\">\n",
    "<tr>\n",
    "<th style=\"text-align:center; width:21%\">Operator</th><th style=\"text-align:center; width:45%\">Description</th><th style=\"text-align:center;\">Example</th>\n",
    "</tr>\n",
    "<tr>\n",
    "<td style=\"text-align:center; vertical-align:middle;\">==</td>\n",
    "<td>Equal to.</td>\n",
    "<td style=\"text-align:center; vertical-align:middle;\">(a == b) is not true.</td>\n",
    "</tr>\n",
    "<tr>\n",
    "<td style=\"text-align:center; vertical-align:middle;\">!=</td>\n",
    "<td>Not equal to</td>\n",
    "<td style=\"text-align:center; vertical-align:middle;\">(a!= b) is true. </td>\n",
    "</tr>\n",
    "<tr>\n",
    "<td style=\"text-align:center; vertical-align:middle;\">&gt;</td>\n",
    "<td>Greater than</td>\n",
    "<td style=\"text-align:center; vertical-align:middle;\">(a &gt; b) is not true.</td>\n",
    "</tr>\n",
    "<tr>\n",
    "<td style=\"text-align:center; vertical-align:middle;\">&lt;</td>\n",
    "<td>Less than</td>\n",
    "<td style=\"text-align:center; vertical-align:middle;\">(a &lt; b) is true.</td>\n",
    "</tr>\n",
    "<tr>\n",
    "<td style=\"text-align:center; vertical-align:middle;\">&gt;=</td>\n",
    "<td>Greater than or equal to.</td>\n",
    "<td style=\"text-align:center; vertical-align:middle;\">(a &gt;= b) is not true. </td>\n",
    "</tr>\n",
    "<tr>\n",
    "<td style=\"text-align:center; vertical-align:middle;\">&lt;=</td>\n",
    "<td>Less than or equal to.</td>\n",
    "<td style=\"text-align:center; vertical-align:middle;\">(a &lt;= b) is true. </td>\n",
    "</tr>\n",
    "</table>\n"
   ]
  },
  {
   "cell_type": "markdown",
   "metadata": {},
   "source": [
    "<a id='conditional'></a>\n",
    "### Conditional Statements\n",
    "Comparison operators are often used to write **conditional statements**. Conditional statements will evaluate a boolean and then execute code within the block of that condition if the condtion is `True`.\n",
    "\n",
    "We use the `if` and `elif` keywords to set our conditions and the `else` keyword to specify every other possible condition. Consider the example below, which uses `input()` to ask the user for data:"
   ]
  },
  {
   "cell_type": "code",
   "execution_count": 40,
   "metadata": {
    "collapsed": false
   },
   "outputs": [
    {
     "name": "stdout",
     "output_type": "stream",
     "text": [
      "Please enter your age as an integer:91\n",
      "Let's nominate you for Al Roker's Smuckers-Old-Person-Birthday-Thing on the Today Show!\n"
     ]
    }
   ],
   "source": [
    "your_age = int(input(\"Please enter your age as an integer:\"))  #ask the user for input, and convert that input to int\n",
    "\n",
    "if your_age <=0:    #if this condition is True, exectute the code in the indented block below\n",
    "    print(\"You look much older...\") #this executes if the condition above is True\n",
    "elif 0 < your_age < 21:\n",
    "    print(\"You're pretty young!\")\n",
    "elif 21 <= your_age <= 90:\n",
    "    print(\"You're getting on in years!\")\n",
    "elif your_age > 90:\n",
    "    print(\"Let's nominate you for Al Roker's Smuckers-Old-Person-Birthday-Thing on the Today Show!\")\n",
    "else:\n",
    "    print(\"Did you enter an imaginary number?\")"
   ]
  },
  {
   "cell_type": "markdown",
   "metadata": {},
   "source": [
    "In Python, the following objects evaluate to `False`:\n",
    "- numerical zero values\n",
    "- `False`\n",
    "- empty containers\n",
    "- the special value `None`\n",
    "\n",
    "All other objets are `True`."
   ]
  },
  {
   "cell_type": "markdown",
   "metadata": {},
   "source": [
    "#### Exercises"
   ]
  },
  {
   "cell_type": "markdown",
   "metadata": {},
   "source": [
    "> 1) Use `input()` to ask a user to enter an integer (like above) and then write a conditional statement that uses an arithmetic operator to check and `print()` whether that integer is even or odd."
   ]
  },
  {
   "cell_type": "code",
   "execution_count": null,
   "metadata": {
    "collapsed": true
   },
   "outputs": [],
   "source": []
  },
  {
   "cell_type": "markdown",
   "metadata": {
    "collapsed": true
   },
   "source": [
    "> 2) There's a built-in function called [`isinstance(obect,class)`](https://docs.python.org/2/library/functions.html#isinstance) that returs `True` if the `object` is an instance of the `class` you specify. Use this function to to determine the class (`int` or `float`) of a user's numerical `input()` and to `print()` the result."
   ]
  },
  {
   "cell_type": "code",
   "execution_count": null,
   "metadata": {
    "collapsed": true
   },
   "outputs": [],
   "source": []
  },
  {
   "cell_type": "markdown",
   "metadata": {},
   "source": [
    "> 3) Evaluate equality between `a`, `b`, and `c` in one line."
   ]
  },
  {
   "cell_type": "code",
   "execution_count": null,
   "metadata": {
    "collapsed": true
   },
   "outputs": [],
   "source": []
  },
  {
   "cell_type": "markdown",
   "metadata": {},
   "source": [
    "<a id='logicalOperators'></a>\n",
    "## Logical Operators\n",
    "Assume $a=True, b=False$:\n",
    "<table class=\"table table-bordered\">\n",
    "<tr>\n",
    "<th style=\"text-align:center; width:21%\">Operator</th><th style=\"text-align:center; width:45%\">Description</th><th style=\"text-align:center;\">Example</th>\n",
    "</tr>\n",
    "<tr>\n",
    "<td style=\"text-align:center; vertical-align:middle;\">and</td>\n",
    "<td>If both the operands are true, then condition is true.</td>\n",
    "<td style=\"text-align:center; vertical-align:middle;\">a AND b = False</td>\n",
    "</tr>\n",
    "<tr>\n",
    "<td style=\"text-align:center; vertical-align:middle;\">or</td>\n",
    "<td>If either of the operands are True (or nonzero), then the condition is True</td>\n",
    "<td style=\"text-align:center; vertical-align:middle;\"> a OR b = True</td>\n",
    "</tr>\n",
    "<tr>\n",
    "<td style=\"text-align:center; vertical-align:middle;\">not</td>\n",
    "<td>Used with the above, it will return the opposite</td>\n",
    "<td style=\"text-align:center; vertical-align:middle;\">NOT(a AND b) = True. </td>\n",
    "</tr>\n",
    "</table>\n",
    "\n",
    "This truth table explains how the operators work:\n",
    "<img src = 'assets/truth_table.png' width = 400 height = 400>"
   ]
  },
  {
   "cell_type": "code",
   "execution_count": 49,
   "metadata": {
    "collapsed": true
   },
   "outputs": [],
   "source": [
    "true = True\n",
    "false = False"
   ]
  },
  {
   "cell_type": "code",
   "execution_count": 50,
   "metadata": {
    "collapsed": false
   },
   "outputs": [
    {
     "data": {
      "text/plain": [
       "False"
      ]
     },
     "execution_count": 50,
     "metadata": {},
     "output_type": "execute_result"
    }
   ],
   "source": [
    "not true"
   ]
  },
  {
   "cell_type": "code",
   "execution_count": 51,
   "metadata": {
    "collapsed": false
   },
   "outputs": [
    {
     "data": {
      "text/plain": [
       "True"
      ]
     },
     "execution_count": 51,
     "metadata": {},
     "output_type": "execute_result"
    }
   ],
   "source": [
    "not false"
   ]
  },
  {
   "cell_type": "code",
   "execution_count": 52,
   "metadata": {
    "collapsed": false
   },
   "outputs": [
    {
     "data": {
      "text/plain": [
       "True"
      ]
     },
     "execution_count": 52,
     "metadata": {},
     "output_type": "execute_result"
    }
   ],
   "source": [
    "true or false"
   ]
  },
  {
   "cell_type": "code",
   "execution_count": 53,
   "metadata": {
    "collapsed": false
   },
   "outputs": [
    {
     "data": {
      "text/plain": [
       "False"
      ]
     },
     "execution_count": 53,
     "metadata": {},
     "output_type": "execute_result"
    }
   ],
   "source": [
    "true and false"
   ]
  },
  {
   "cell_type": "markdown",
   "metadata": {},
   "source": [
    "You can combine logical operators with comparison operators to create more complex conditions for when code should or should not be executed."
   ]
  },
  {
   "cell_type": "code",
   "execution_count": 54,
   "metadata": {
    "collapsed": false
   },
   "outputs": [
    {
     "name": "stdout",
     "output_type": "stream",
     "text": [
      "True\n",
      "False\n",
      "True\n",
      "True\n"
     ]
    }
   ],
   "source": [
    "print((2 > 1) and (0 < 1))  # Both expressions are True, so return True\n",
    "print((a == a) and (a != a))# One expression is True, so return False\n",
    "print((a == a) or (a != a)) # One expression is True, so return True\n",
    "print(not(10 <= 1))         # The expression is False, so return True "
   ]
  },
  {
   "cell_type": "markdown",
   "metadata": {},
   "source": [
    "<a id='while'></a>\n",
    "### While Loops"
   ]
  },
  {
   "cell_type": "markdown",
   "metadata": {},
   "source": [
    "> The `while` statement can be combined with logical operators and/or comparison operators to help you execute code over and over until a certain condition is met. Examine the following code:"
   ]
  },
  {
   "cell_type": "code",
   "execution_count": 41,
   "metadata": {
    "collapsed": false
   },
   "outputs": [
    {
     "name": "stdout",
     "output_type": "stream",
     "text": [
      "We're incrementing counter, which now equals 1. At 10, we'll stop.\n",
      "We're incrementing counter, which now equals 2. At 10, we'll stop.\n",
      "We're incrementing counter, which now equals 3. At 10, we'll stop.\n",
      "We're incrementing counter, which now equals 4. At 10, we'll stop.\n",
      "We're incrementing counter, which now equals 5. At 10, we'll stop.\n",
      "We're incrementing counter, which now equals 6. At 10, we'll stop.\n",
      "We're incrementing counter, which now equals 7. At 10, we'll stop.\n",
      "We're incrementing counter, which now equals 8. At 10, we'll stop.\n",
      "We're incrementing counter, which now equals 9. At 10, we'll stop.\n",
      "We're incrementing counter, which now equals 10. At 10, we'll stop.\n"
     ]
    }
   ],
   "source": [
    "counter = 0\n",
    "while counter < 10:\n",
    "    counter += 1\n",
    "    print(\"We're incrementing counter, which now equals {}. At 10, we'll stop.\".format(counter))"
   ]
  },
  {
   "cell_type": "markdown",
   "metadata": {},
   "source": [
    "#### How  `while`  works\n",
    "\n",
    "> First, the condition following the `while` keyword is evaluated. If the condition evaluates to `False`, the `while` statement ends. If the condition evaluates to `True`, the statement(s) that comprise the body of the loop are executed. \n",
    "\n",
    "> When the loop body finishes executing, the loop condition is evaluated again to see if the loop body should be executed again. This process continues until the loop condition is `False` (or a `break` statement is encountered).\n",
    "\n",
    "> Since a `while` loop continues so long as the condition is `True`, it's possible to have an **infinite loop** if your `while` condition never evaluates to `False`. If you accidentally execute an infinite loop, you can click the `interrupt kernel` button in the toolbar above:"
   ]
  },
  {
   "cell_type": "markdown",
   "metadata": {},
   "source": [
    "<img src=\"assets/kernel_interrupt.png\">\n",
    "\n",
    "\n",
    "> Since you don't want an infinite loop in your program, you need to be sure the loop body contains some code that eventually makes the loop condition `False`. In the code above, we did this by incrementing the counter variable by 1. Once `counter` hit 10, the loop condition evaluate to `False` and code execution terminated."
   ]
  },
  {
   "cell_type": "markdown",
   "metadata": {},
   "source": [
    "#### `break` \n",
    ">But you can also include a `break` statement to exit a loop. Here's a slight modification of the code above that uses a `break` statement:"
   ]
  },
  {
   "cell_type": "code",
   "execution_count": 42,
   "metadata": {
    "collapsed": false
   },
   "outputs": [
    {
     "name": "stdout",
     "output_type": "stream",
     "text": [
      "We're incrementing counter, which now equals 1\n",
      "We're incrementing counter, which now equals 2\n",
      "We're incrementing counter, which now equals 3\n",
      "We're incrementing counter, which now equals 4\n",
      "We're incrementing counter, which now equals 5\n",
      "We're incrementing counter, which now equals 6\n",
      "We're incrementing counter, which now equals 7\n",
      "We're incrementing counter, which now equals 8\n",
      "We're incrementing counter, which now equals 9\n",
      "We're incrementing counter, which now equals 10\n"
     ]
    }
   ],
   "source": [
    "counter = 0\n",
    "while True:\n",
    "    counter += 1\n",
    "    print(\"We're incrementing counter, which now equals {}\".format(counter))\n",
    "    if counter == 10:\n",
    "        break"
   ]
  },
  {
   "cell_type": "markdown",
   "metadata": {},
   "source": [
    "#### Nested loops\n",
    "> You can nest loops within loops. The following will find the prime numbers between 2 and 100:"
   ]
  },
  {
   "cell_type": "code",
   "execution_count": 43,
   "metadata": {
    "collapsed": false
   },
   "outputs": [
    {
     "name": "stdout",
     "output_type": "stream",
     "text": [
      "2  is a prime number!\n",
      "3  is a prime number!\n",
      "5  is a prime number!\n",
      "7  is a prime number!\n",
      "11  is a prime number!\n",
      "13  is a prime number!\n",
      "17  is a prime number!\n",
      "19  is a prime number!\n",
      "23  is a prime number!\n",
      "29  is a prime number!\n",
      "31  is a prime number!\n",
      "37  is a prime number!\n",
      "41  is a prime number!\n",
      "43  is a prime number!\n",
      "47  is a prime number!\n",
      "53  is a prime number!\n",
      "59  is a prime number!\n",
      "61  is a prime number!\n",
      "67  is a prime number!\n",
      "71  is a prime number!\n",
      "73  is a prime number!\n",
      "79  is a prime number!\n",
      "83  is a prime number!\n",
      "89  is a prime number!\n",
      "97  is a prime number!\n"
     ]
    }
   ],
   "source": [
    "n = 2\n",
    "while(n < 100):\n",
    "    i = 2\n",
    "    while(i <= (n/i)):\n",
    "        if not(n%i): \n",
    "            break\n",
    "        i = i + 1\n",
    "    if (i > n/i): \n",
    "        print(n, \" is a prime number!\")\n",
    "    n += 1"
   ]
  },
  {
   "cell_type": "markdown",
   "metadata": {},
   "source": [
    "#### Exercises"
   ]
  },
  {
   "cell_type": "markdown",
   "metadata": {},
   "source": [
    "> 1) Use a single `while` loop to print all of the even numbers between 2 and 100 inclusive:"
   ]
  },
  {
   "cell_type": "code",
   "execution_count": null,
   "metadata": {
    "collapsed": true
   },
   "outputs": [],
   "source": []
  },
  {
   "cell_type": "markdown",
   "metadata": {},
   "source": [
    "> 2) Try to describe in your own words each step of the `while` loop that printed all of the primes above."
   ]
  },
  {
   "cell_type": "markdown",
   "metadata": {},
   "source": [
    "<a id='identityOperators'></a>\n",
    "## Identity Operators\n",
    "<p>Identity operators compare the memory locations of two objects.</p>\n",
    "\n",
    "<table class=\"table table-bordered\">\n",
    "<tr>\n",
    "<th style=\"text-align:center; width:21%\">Operator</th><th style=\"text-align:center; width:45%\">Description</th><th style=\"text-align:center;\">Example</th>\n",
    "</tr>\n",
    "<tr>\n",
    "<td style=\"text-align:center; vertical-align:middle;\">is</td><td>Evaluates to true if the variables on either side of the operator point to the same object and false otherwise.</td><td style=\"text-align:center; vertical-align:middle;\"> x is y, here <b>is</b> results in 1 if id(x) equals id(y).</td>\n",
    "</tr>\n",
    "<tr>\n",
    "<td style=\"text-align:center; vertical-align:middle;\">is not</td><td>Evaluates to false if the variables on either side of the operator point to the same object and true otherwise.</td><td style=\"text-align:center; vertical-align:middle;\"> x is not y, here <b>is not</b> results in 1 if id(x) is not equal to id(y).</td>\n",
    "</tr>\n",
    "</table>\n"
   ]
  },
  {
   "cell_type": "markdown",
   "metadata": {},
   "source": [
    "#### Exercise"
   ]
  },
  {
   "cell_type": "markdown",
   "metadata": {},
   "source": [
    "> 1) Show that the `id()` of `a` doesn't equal the `id()` of `b`:"
   ]
  },
  {
   "cell_type": "code",
   "execution_count": null,
   "metadata": {
    "collapsed": true
   },
   "outputs": [],
   "source": []
  },
  {
   "cell_type": "markdown",
   "metadata": {},
   "source": [
    "> 2) Create two new variables, `var1` and `var2`, that share a memory location. Prove it using `id()`"
   ]
  },
  {
   "cell_type": "code",
   "execution_count": null,
   "metadata": {
    "collapsed": true
   },
   "outputs": [],
   "source": []
  },
  {
   "cell_type": "markdown",
   "metadata": {},
   "source": [
    "<a id='moreCalculations'></a>\n",
    "## More Calculations\n",
    "<p>Here's a sampling of functions that perform common mathematical calculations. Most of these are in the `math` module.</p>\n",
    "<table class=\"table table-bordered\">\n",
    "<tr>\n",
    "<th style=\"width:25%;\">Function</th><th>Returns</th></tr>\n",
    "<tr><td><p><a href=\"https://docs.python.org/3/library/functions.html#abs\">abs(x)</a></p></td>\n",
    "<td>The absolute value of x: the (positive) distance between x and zero.</td></tr>\n",
    "<tr><td><p><a href=\"https://docs.python.org/3/library/math.html#math.ceil\">math.ceil(x) </a></p></td>\n",
    "<td>The ceiling of x: the smallest integer not less than x</td></tr>\n",
    "<tr><td><p><a href=\"https://docs.python.org/2/library/math.html#power-and-logarithmic-functions\">math.exp(x) </a></p></td><td>The exponential of x: e<sup>x</sup> </td></tr>\n",
    "<tr><td><p><a href=\"https://docs.python.org/3/library/math.html#math.floor\">math.floor(x) </a></p></td><td>The floor of x: the largest integer not greater than x</td></tr>\n",
    "<tr><td><p><a href=\"https://docs.python.org/2/library/math.html#power-and-logarithmic-functions\">math.log(x) </a></p></td><td>The natural logarithm of x, for x&gt; 0 </td></tr>\n",
    "<tr><td><p><a href=\"https://docs.python.org/2/library/math.html#power-and-logarithmic-functions\">math.log10(x) </a></p></td><td>The base-10 logarithm of x for x&gt; 0 .</td></tr>\n",
    "<tr><td><p><a href=\"https://docs.python.org/2/library/math.html#power-and-logarithmic-functions\">math.modf(x) </a></p></td>\n",
    "<td>The fractional and integer parts of x in a two-item tuple. Both parts have the same sign as x. The integer part is returned as a float.</td></tr>\n",
    "<tr><td><p><a href=\"https://docs.python.org/3/library/functions.html#pow\">pow(x, y)</a></p></td><td>The value of x**y.</td></tr>\n",
    "<tr><td><p><a href=\"https://docs.python.org/3/library/functions.html#round\">round(x [,n])</a></p></td><td>x rounded to n digits from the decimal point. Python rounds away from zero as a tie-breaker: round(0.5) is 1.0 and round(-0.5) is -1.0.</td></tr>\n",
    "<tr><td><p><a href=\"https://docs.python.org/2/library/math.html#power-and-logarithmic-functions\">math.sqrt(x) </a></p></td><td>The square root of x for x &gt; 0</td></tr>\n",
    "</table>"
   ]
  },
  {
   "cell_type": "markdown",
   "metadata": {},
   "source": [
    "### Exercises"
   ]
  },
  {
   "cell_type": "code",
   "execution_count": 56,
   "metadata": {
    "collapsed": true
   },
   "outputs": [],
   "source": [
    "import math"
   ]
  },
  {
   "cell_type": "markdown",
   "metadata": {},
   "source": [
    "> 1) Round 3.141592653589793 to 3 decimal places"
   ]
  },
  {
   "cell_type": "code",
   "execution_count": null,
   "metadata": {
    "collapsed": false
   },
   "outputs": [],
   "source": []
  },
  {
   "cell_type": "markdown",
   "metadata": {},
   "source": [
    "> 2) Use your knowledge of arithmetic operators and the fact that `math.exp(x)` returns $y$ in $$y=e^x$$ to return the value of $e$, which is approximately equal to $2.71828$"
   ]
  },
  {
   "cell_type": "code",
   "execution_count": null,
   "metadata": {
    "collapsed": false
   },
   "outputs": [],
   "source": []
  },
  {
   "cell_type": "markdown",
   "metadata": {},
   "source": [
    "> 3) Prove that $log(a/b)=log(a)−log(b)$"
   ]
  },
  {
   "cell_type": "code",
   "execution_count": null,
   "metadata": {
    "collapsed": true
   },
   "outputs": [],
   "source": []
  },
  {
   "cell_type": "markdown",
   "metadata": {},
   "source": [
    "<a id='random'></a>\n",
    "## Random Numbers\n",
    "<p>The `random` module includes a lot of methods for randomization. The [numpy module](https://docs.scipy.org/doc/numpy-1.13.0/reference/routines.random.html) also has a lot of random number functions.</p>\n",
    "<table class=\"table table-bordered\">\n",
    "<tr>\n",
    "<th style=\"width:25%;\">Function</th><th>Description</th></tr>\n",
    "<tr><td><p><a href=\"https://docs.python.org/2/library/random.html\">random.randint(a, b)</a></p></td>\n",
    "<td>Return a random integer N such that a <= N <= b.</td></tr>\n",
    "<tr><td><p><a href=\"https://docs.python.org/2/library/random.html\">randrange ([start,] stop [,step]) </a></p></td>\n",
    "<td>A randomly selected element from range(start, stop, step)</td></tr>\n",
    "<tr><td><p><a href=\"https://docs.python.org/2/library/random.html\">random.random() </a></p></td>\n",
    "<td>A random float r, such that 0 is less than or equal to r and r is less than 1</td></tr>\n",
    "<tr><td><p><a href=\"https://docs.python.org/3/library/random.html#bookkeeping-functions\">random.seed([x]) </a></p></td>\n",
    "<td>Initialize the random number generator. If a is omitted or None, the current system time is used.</td></tr>\n",
    "<tr>\n",
    "<tr><td><p><a href=\"https://docs.python.org/3/library/random.html#uniform\">random.uniform(x, y)</a></p></td>\n",
    "<td>Return a random floating point number N such that `a<=N<=b` for `a<=b` and `b<=N<=a` for `b<a`</td></tr>\n",
    "</table>"
   ]
  },
  {
   "cell_type": "code",
   "execution_count": 62,
   "metadata": {
    "collapsed": true
   },
   "outputs": [],
   "source": [
    "# import the random module\n",
    "import random"
   ]
  },
  {
   "cell_type": "markdown",
   "metadata": {},
   "source": [
    "> Let's see how we can generate some random numbers"
   ]
  },
  {
   "cell_type": "code",
   "execution_count": 64,
   "metadata": {
    "collapsed": false
   },
   "outputs": [
    {
     "data": {
      "text/plain": [
       "17334299"
      ]
     },
     "execution_count": 64,
     "metadata": {},
     "output_type": "execute_result"
    }
   ],
   "source": [
    "random.randint(1,100000000) #generate a random number between 1 and 100,000,000"
   ]
  },
  {
   "cell_type": "code",
   "execution_count": 65,
   "metadata": {
    "collapsed": false
   },
   "outputs": [
    {
     "data": {
      "text/plain": [
       "19190760"
      ]
     },
     "execution_count": 65,
     "metadata": {},
     "output_type": "execute_result"
    }
   ],
   "source": [
    "# let's try the above again\n",
    "random.randint(1,100000000) "
   ]
  },
  {
   "cell_type": "markdown",
   "metadata": {
    "collapsed": false
   },
   "source": [
    "> Random numbers are generated based on the [system time](https://en.wikipedia.org/wiki/System_time) of your machine. This is why the two numbers you generated above are different.\n",
    "\n",
    "> Sometimes you want to be able to reproduce randomness. You can do this with `random.seed()`. This is important in machine learning when randomness is used to re(sample) observations."
   ]
  },
  {
   "cell_type": "code",
   "execution_count": 66,
   "metadata": {
    "collapsed": false
   },
   "outputs": [
    {
     "data": {
      "text/plain": [
       "7028124"
      ]
     },
     "execution_count": 66,
     "metadata": {},
     "output_type": "execute_result"
    }
   ],
   "source": [
    "random.seed(123) #set the seed\n",
    "random.randint(1,100000000) #generate a random number"
   ]
  },
  {
   "cell_type": "code",
   "execution_count": 67,
   "metadata": {
    "collapsed": false
   },
   "outputs": [
    {
     "data": {
      "text/plain": [
       "7028124"
      ]
     },
     "execution_count": 67,
     "metadata": {},
     "output_type": "execute_result"
    }
   ],
   "source": [
    "random.seed(123) #set the seed again\n",
    "random.randint(1,100000000) #regenerate a random number"
   ]
  },
  {
   "cell_type": "markdown",
   "metadata": {
    "collapsed": true
   },
   "source": [
    "<a id='next'></a>\n",
    "## What's Next\n",
    "In this lesson, you've learned how to:\n",
    "- Construct common numerical types in Python\n",
    "- Use arithmetic, assignment, comparison, logical, membership, and identity operators with numbers\n",
    "- Use conditional statements and `while` loops for control flow\n",
    "- Work with numbers using common python packages such as `math` and `random`\n",
    "\n",
    "In the next lesson, you'll learn how to work with textual data in Python."
   ]
  }
 ],
 "metadata": {
  "kernelspec": {
   "display_name": "Python 3",
   "language": "python",
   "name": "python3"
  },
  "language_info": {
   "codemirror_mode": {
    "name": "ipython",
    "version": 3
   },
   "file_extension": ".py",
   "mimetype": "text/x-python",
   "name": "python",
   "nbconvert_exporter": "python",
   "pygments_lexer": "ipython3",
   "version": "3.6.0"
  }
 },
 "nbformat": 4,
 "nbformat_minor": 2
}
