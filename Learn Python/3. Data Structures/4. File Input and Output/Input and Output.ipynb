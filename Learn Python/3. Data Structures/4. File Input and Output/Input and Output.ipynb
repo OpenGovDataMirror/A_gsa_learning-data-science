{
 "cells": [
  {
   "cell_type": "code",
   "execution_count": 14,
   "metadata": {
    "collapsed": true
   },
   "outputs": [],
   "source": [
    "import sys, os, json, pickle\n",
    "import numpy as np"
   ]
  },
  {
   "cell_type": "markdown",
   "metadata": {},
   "source": [
    "# Input and Output\n",
    "You'll eventually reach a point where you want your program to interact with the user by printing messages or writing output to a file. You might also need a way to save really large objects once you begin hitting your computer's memory limits. Hence this lesson!"
   ]
  },
  {
   "cell_type": "markdown",
   "metadata": {},
   "source": [
    "## Lesson Objectives\n",
    "By the end of this lesson, you will be able to:\n",
    "- Use the `input()` and `print()` functions more extensively\n",
    "- Read and write text & binary data\n",
    "- Save structured data with JSON\n",
    "- Persist Python objects using the `pickle` module "
   ]
  },
  {
   "cell_type": "markdown",
   "metadata": {},
   "source": [
    "## Table of Contents\n",
    "- [More About `print()` and `input()`](#print)\n",
    "- [Reading and Writing Files](#read)\n",
    "- [Saving Structured Data with JSON](#json)\n",
    "- [Pickling Python objects](#pickle)\n",
    "- [Reading and Writing Binary Data](#binary)"
   ]
  },
  {
   "cell_type": "markdown",
   "metadata": {},
   "source": [
    "<a id='print'></a>\n",
    "## More About `print()` and `input()`\n",
    "You can use `print()` and `input()` to interact with the user of your program. In these cases, you'll take `input` from the user and then, optionally, `print` something back. Before we consider a use case, let's familiarize ourselves with the two functions."
   ]
  },
  {
   "cell_type": "markdown",
   "metadata": {},
   "source": [
    "**`input([prompt])`**\n",
    "\n",
    "> If the `prompt` argument is present, it is written to standard output without a trailing newline. The function then reads a line from input, converts it to a string (stripping a trailing newline), and returns it."
   ]
  },
  {
   "cell_type": "code",
   "execution_count": 2,
   "metadata": {
    "collapsed": false
   },
   "outputs": [
    {
     "name": "stdout",
     "output_type": "stream",
     "text": [
      "Type something, anything!, and it'll become a string:\n"
     ]
    },
    {
     "data": {
      "text/plain": [
       "''"
      ]
     },
     "execution_count": 2,
     "metadata": {},
     "output_type": "execute_result"
    }
   ],
   "source": [
    "input(\"Type something, anything!, and it'll become a string:\")"
   ]
  },
  {
   "cell_type": "markdown",
   "metadata": {},
   "source": [
    "> Usually you'll want to save the input so that you can do something with it."
   ]
  },
  {
   "cell_type": "code",
   "execution_count": 2,
   "metadata": {
    "collapsed": false
   },
   "outputs": [
    {
     "name": "stdout",
     "output_type": "stream",
     "text": [
      "Type something:abc\n"
     ]
    }
   ],
   "source": [
    "userInput = input(\"Type something:\")"
   ]
  },
  {
   "cell_type": "markdown",
   "metadata": {},
   "source": [
    "> That brings us to a simple use case - asking the user if they want to do one thing or another:"
   ]
  },
  {
   "cell_type": "code",
   "execution_count": 5,
   "metadata": {
    "collapsed": false
   },
   "outputs": [
    {
     "name": "stdout",
     "output_type": "stream",
     "text": [
      "To calculate the median, enter median; otherwise you'll get the mean:f\n",
      "34.3333333333\n"
     ]
    }
   ],
   "source": [
    "userInput = input(\"To calculate the median, enter median; otherwise you'll get the mean:\")\n",
    "\n",
    "def input_check(ui):\n",
    "    if ui == 'median':\n",
    "        return True\n",
    "    else:\n",
    "        return False\n",
    "\n",
    "numList = [1,2,100]\n",
    "\n",
    "if input_check(userInput):\n",
    "    print(np.median(numList))\n",
    "else:\n",
    "    print(np.mean(numList))"
   ]
  },
  {
   "cell_type": "markdown",
   "metadata": {},
   "source": [
    "> Above, we ask the user to enter the word \"median\" if they want the median calculated; otherwise we'll calculate the mean.\n",
    "\n",
    "> Then we define a function that accepts a string. If that string is 'median', it returns True; otherwise it returns False.\n",
    "\n",
    "> Then we make a simple list:  `[1,2,100]`\n",
    "\n",
    "> Then we pass `userInput` to `input_check`. If `input_check` evaluates to `True`, we calculate the median using numpy. If `False`, we calculate the mean.\n",
    "\n",
    "> Although this example is a bit simplistic, it demonstrates the utility of `input()`."
   ]
  },
  {
   "cell_type": "markdown",
   "metadata": {},
   "source": [
    "#### Exercise"
   ]
  },
  {
   "cell_type": "markdown",
   "metadata": {},
   "source": [
    "> 1) Write a `while` loop that asks the user to `input` a `password` until it matches the `secret`:  'password'"
   ]
  },
  {
   "cell_type": "code",
   "execution_count": null,
   "metadata": {
    "collapsed": true
   },
   "outputs": [],
   "source": []
  },
  {
   "cell_type": "markdown",
   "metadata": {},
   "source": [
    "**`print(*objects, sep=' ', end='\\n', file=sys.stdout, flush=False)`**\n",
    "\n",
    "> Print object(s), separated by `sep` and followed by `end`, to the text stream file, which by default is sys.stdout (here in Jupyter in other words).\n",
    "\n",
    "> `sep` is useful when you want to control the separators between each string you're printing. \n",
    "\n",
    "> `end` is useful when you want to do the same for the end of a line.\n",
    "\n",
    "> Let's inspect the default behavior:"
   ]
  },
  {
   "cell_type": "code",
   "execution_count": 39,
   "metadata": {
    "collapsed": false
   },
   "outputs": [
    {
     "name": "stdout",
     "output_type": "stream",
     "text": [
      "A space between each word by default...\n",
      "And a new line at the end by default\n"
     ]
    }
   ],
   "source": [
    "print('A', 'space', 'between','each','word','by','default...')\n",
    "print(\"And a new line at the end by default\")"
   ]
  },
  {
   "cell_type": "markdown",
   "metadata": {},
   "source": [
    "> Now we'll use a comma as the separator and then, for the second `print`, change `end`:"
   ]
  },
  {
   "cell_type": "code",
   "execution_count": 24,
   "metadata": {
    "collapsed": false
   },
   "outputs": [
    {
     "name": "stdout",
     "output_type": "stream",
     "text": [
      "a,comma,between,each,word,but,still,a,new,line,at,the,end\n",
      "a,comma,between,each,word,with,the,line,ending,exclamatorily!!\n"
     ]
    }
   ],
   "source": [
    "print('a', 'comma', 'between','each','word','but','still','a','new','line','at','the','end', sep = \",\")\n",
    "print('a', 'comma', 'between','each','word','with','the', 'line','ending','exclamatorily',sep = \",\",end = \"!\")\n",
    "print('!')"
   ]
  },
  {
   "cell_type": "markdown",
   "metadata": {},
   "source": [
    "> Another look at the utility of `end`:"
   ]
  },
  {
   "cell_type": "code",
   "execution_count": 41,
   "metadata": {
    "collapsed": false
   },
   "outputs": [
    {
     "name": "stdout",
     "output_type": "stream",
     "text": [
      "A-dash-instead-of-new-lines\n"
     ]
    }
   ],
   "source": [
    "print(\"A\", end=\"-\")\n",
    "print(\"dash\", end=\"-\")\n",
    "print(\"instead\", end=\"-\")\n",
    "print(\"of\", end=\"-\")\n",
    "print(\"new\", end=\"-\")\n",
    "print(\"lines\")"
   ]
  },
  {
   "cell_type": "markdown",
   "metadata": {},
   "source": [
    "> As you can see, changing the `end` keyword argument suppresses the defualt new line. This can be helpful if you're trying to use `print` to help you inspect the contents of a container during debugging."
   ]
  },
  {
   "cell_type": "code",
   "execution_count": 1,
   "metadata": {
    "collapsed": false
   },
   "outputs": [
    {
     "name": "stdout",
     "output_type": "stream",
     "text": [
      "See how each number is printed on a new line: 0\n",
      "See how each number is printed on a new line: 1\n",
      "See how each number is printed on a new line: 2\n",
      "See how each number is printed on a new line: 3\n",
      "See how each number is printed on a new line: 4\n",
      "See how each number is printed on a new line: 5\n",
      "See how each number is printed on a new line: 6\n",
      "See how each number is printed on a new line: 7\n",
      "See how each number is printed on a new line: 8\n",
      "See how each number is printed on a new line: 9\n"
     ]
    }
   ],
   "source": [
    "# if the container is large, you'll have to scroll through a whole lot\n",
    "for n in range(0,10):\n",
    "    print(\"See how each number is printed on a new line:\",n)"
   ]
  },
  {
   "cell_type": "code",
   "execution_count": 2,
   "metadata": {
    "collapsed": false
   },
   "outputs": [
    {
     "name": "stdout",
     "output_type": "stream",
     "text": [
      "0 1 2 3 4 5 6 7 8 9 10 11 12 13 14 15 16 17 18 19 20 21 22 23 24 25 26 27 28 29 30 31 32 33 34 35 36 37 38 39 40 41 42 43 44 45 46 47 48 49 50 51 52 53 54 55 56 57 58 59 60 61 62 63 64 65 66 67 68 69 70 71 72 73 74 75 76 77 78 79 80 81 82 83 84 85 86 87 88 89 90 91 92 93 94 95 96 97 98 99 "
     ]
    }
   ],
   "source": [
    "#so if the container is large, use end to supress the new lines\n",
    "for n in range(0,100):\n",
    "    print(n,end=\" \")"
   ]
  },
  {
   "cell_type": "markdown",
   "metadata": {},
   "source": [
    "> To get an idea for how `print` knows where to print, consider the following code:"
   ]
  },
  {
   "cell_type": "code",
   "execution_count": 66,
   "metadata": {
    "collapsed": false
   },
   "outputs": [
    {
     "name": "stdout",
     "output_type": "stream",
     "text": [
      "Now you see me!\n",
      "Now you see me!\n"
     ]
    }
   ],
   "source": [
    "print(\"Now you see me!\")                     # printing to stdout, which you'll see here in jupyter\n",
    "placeHolder = sys.stdout                     # store original stdout object for later\n",
    "sys.stdout = open(r'assets/stream.txt', 'w') # open a file, stream.txt, make it stdout and thereby redirect print\n",
    "print(\"Now you don't!\")                      # you won't see this print here because it's written to stream.txt\n",
    "sys.stdout.close()                           # close the file object we opened\n",
    "sys.stdout = placeHolder                     # restore print to sys.stdout\n",
    "print(\"Now you see me!\")                     # now we can see this print"
   ]
  },
  {
   "cell_type": "markdown",
   "metadata": {},
   "source": [
    "> If you go open stream.txt, you'll see that `\"Now you don't!\"` printed there. But we could have achieved that much more easily by using the `file` keyword argument:"
   ]
  },
  {
   "cell_type": "code",
   "execution_count": 65,
   "metadata": {
    "collapsed": false
   },
   "outputs": [],
   "source": [
    "streamFile = open(r'assets/stream.txt', 'w')\n",
    "print(\"Printing to stream.txt\", file = streamFile)\n",
    "streamFile.close()"
   ]
  },
  {
   "cell_type": "markdown",
   "metadata": {},
   "source": [
    "> Now stream.txt contains the following line: `Printing to stream.txt`"
   ]
  },
  {
   "cell_type": "markdown",
   "metadata": {},
   "source": [
    "<a id='read'></a>\n",
    "## Reading and Writing Files\n",
    "We've already been opening and writing to files, but let's now explain that process.\n",
    "\n",
    "When working with files, you typically:\n",
    "1. Open the file, specifying the mode\n",
    "2. Do something with the file\n",
    "   - depends on the mode you used to open the file\n",
    "   - usually facilitated by *seeking* through the file so you can get to an exact spot\n",
    "3. Close the file\n",
    "   - Closing a file causes attempts to use the file to fail. Closing also frees up system resources and prevents Python’s garbage collector from eventually destroying the file object.\n",
    "   \n",
    " "
   ]
  },
  {
   "cell_type": "markdown",
   "metadata": {},
   "source": [
    "### Opening a file\n",
    "> The built-in `open()` function returns a [file object](https://docs.python.org/3/glossary.html#term-file-object), and is most commonly used with two arguments: `filename` and `mode`. \n",
    "\n",
    "> The filename can include a file path. \n",
    "\n",
    "> And the file can be opened in one or more modes:\n",
    "\n",
    "> <table border=\"1\">\n",
    "\t<caption>Open File Modes</caption>\n",
    "\t<tbody>\n",
    "\t\t<tr>\n",
    "\t\t\t<th>Mode</th>\n",
    "\t\t\t<th>Description</th>\n",
    "\t\t</tr>\n",
    "\t\t<tr>\n",
    "\t\t\t<td>&#39;r&#39;</td>\n",
    "\t\t\t<td>Open a file for reading. (default)</td>\n",
    "\t\t</tr>\n",
    "\t\t<tr>\n",
    "\t\t\t<td>&#39;w&#39;</td>\n",
    "\t\t\t<td>Open a file for writing. Creates a new file if it does not exist or truncates the file if it exists.</td>\n",
    "\t\t</tr>\n",
    "\t\t<tr>\n",
    "\t\t\t<td>&#39;x&#39;</td>\n",
    "\t\t\t<td>Open a file for exclusive creation. If the file already exists, the operation fails.</td>\n",
    "\t\t</tr>\n",
    "\t\t<tr>\n",
    "\t\t\t<td>&#39;a&#39;</td>\n",
    "\t\t\t<td>Open for appending at the end of the file without truncating it. Creates a new file if it does not exist.</td>\n",
    "\t\t</tr>\n",
    "\t\t<tr>\n",
    "\t\t\t<td>&#39;t&#39;</td>\n",
    "\t\t\t<td>Open in text mode. (default)</td>\n",
    "\t\t</tr>\n",
    "\t\t<tr>\n",
    "\t\t\t<td>&#39;b&#39;</td>\n",
    "\t\t\t<td>Open in binary mode.</td>\n",
    "\t\t</tr>\n",
    "\t\t<tr>\n",
    "\t\t\t<td>&#39;+&#39;</td>\n",
    "\t\t\t<td>Open a file for updating (reading and writing)</td>\n",
    "\t\t</tr>\n",
    "\t</tbody>\n",
    "</table>\n",
    "\n",
    "> By default, `open()` expects a `'t'`ext file and opens it in `'r'`ead mode. Let's practice."
   ]
  },
  {
   "cell_type": "code",
   "execution_count": 228,
   "metadata": {
    "collapsed": false
   },
   "outputs": [],
   "source": [
    "lines = open(r'assets/lines.txt', 'r') #open for reading (didn't need to specify 'r' since it's default)"
   ]
  },
  {
   "cell_type": "markdown",
   "metadata": {},
   "source": [
    "`lines` is now a file object. Let's inspect its type (note there are multiple file object types defined within the `io` module)."
   ]
  },
  {
   "cell_type": "code",
   "execution_count": 229,
   "metadata": {
    "collapsed": false
   },
   "outputs": [
    {
     "data": {
      "text/plain": [
       "<_io.TextIOWrapper name='assets/lines.txt' mode='r' encoding='UTF-8'>"
      ]
     },
     "execution_count": 229,
     "metadata": {},
     "output_type": "execute_result"
    }
   ],
   "source": [
    "type(lines)"
   ]
  },
  {
   "cell_type": "markdown",
   "metadata": {},
   "source": [
    "### Reading a file\n",
    "> Since we opened the file in `r` mode, we can now read it using some of the file object's available methods."
   ]
  },
  {
   "cell_type": "markdown",
   "metadata": {},
   "source": [
    "#### `f.read([size])` \n",
    "> Although `size` is an optional numeric argument, when size is omitted or negative, the entire contents of the file will be read and returned; it’s your problem if the file is twice as large as your machine’s memory!"
   ]
  },
  {
   "cell_type": "code",
   "execution_count": 230,
   "metadata": {
    "collapsed": false
   },
   "outputs": [
    {
     "data": {
      "text/plain": [
       "'T'"
      ]
     },
     "execution_count": 230,
     "metadata": {},
     "output_type": "execute_result"
    }
   ],
   "source": [
    "lines.read(1) #Read the first character"
   ]
  },
  {
   "cell_type": "code",
   "execution_count": 231,
   "metadata": {
    "collapsed": false
   },
   "outputs": [
    {
     "data": {
      "text/plain": [
       "'his is the first line\\n'"
      ]
     },
     "execution_count": 231,
     "metadata": {},
     "output_type": "execute_result"
    }
   ],
   "source": [
    "lines.read(22) #Read the next 21 characters, picking up where we left off"
   ]
  },
  {
   "cell_type": "markdown",
   "metadata": {},
   "source": [
    "#### `f.readline()`\n",
    "> `readline()` reads a single line from the file, leaving a newline character at the end of the string unless reading a final line that doesn't end in a newline character. This makes the return value unambiguous:  if `f.readline()` returns an empty string `''`, the end of the file has been reached, while a blank line is represented by `'\\n'`."
   ]
  },
  {
   "cell_type": "code",
   "execution_count": 232,
   "metadata": {
    "collapsed": false
   },
   "outputs": [
    {
     "data": {
      "text/plain": [
       "'This is the second line\\n'"
      ]
     },
     "execution_count": 232,
     "metadata": {},
     "output_type": "execute_result"
    }
   ],
   "source": [
    "lines.readline() #reading the line where we left off with f.read() above; note the trailing \\n"
   ]
  },
  {
   "cell_type": "code",
   "execution_count": 233,
   "metadata": {
    "collapsed": false
   },
   "outputs": [
    {
     "data": {
      "text/plain": [
       "'This is the third line\\n'"
      ]
     },
     "execution_count": 233,
     "metadata": {},
     "output_type": "execute_result"
    }
   ],
   "source": [
    "lines.readline() #read the next line; note the trailing \\n"
   ]
  },
  {
   "cell_type": "markdown",
   "metadata": {},
   "source": [
    "> If you want to read a file line by line, you can loop over the file object:"
   ]
  },
  {
   "cell_type": "code",
   "execution_count": 234,
   "metadata": {
    "collapsed": false
   },
   "outputs": [
    {
     "name": "stdout",
     "output_type": "stream",
     "text": [
      "This is the fourth line\n",
      "\n",
      "This is the sixth line (#5 was blank!)\n",
      "This is the seventh and final line.\n",
      "We just wrote a new line!\n"
     ]
    }
   ],
   "source": [
    "for line in lines:\n",
    "    print(line, end='')"
   ]
  },
  {
   "cell_type": "code",
   "execution_count": 235,
   "metadata": {
    "collapsed": true
   },
   "outputs": [],
   "source": [
    "lines.close() #close the file for now"
   ]
  },
  {
   "cell_type": "markdown",
   "metadata": {},
   "source": [
    "#### `list(f)` & `f.readlines()`\n",
    "> You can use these if you want to read all the lines of a file in a list."
   ]
  },
  {
   "cell_type": "code",
   "execution_count": 236,
   "metadata": {
    "collapsed": false
   },
   "outputs": [
    {
     "data": {
      "text/plain": [
       "['This is the first line\\n',\n",
       " 'This is the second line\\n',\n",
       " 'This is the third line\\n',\n",
       " 'This is the fourth line\\n',\n",
       " '\\n',\n",
       " 'This is the sixth line (#5 was blank!)\\n',\n",
       " 'This is the seventh and final line.\\n',\n",
       " 'We just wrote a new line!\\n']"
      ]
     },
     "execution_count": 236,
     "metadata": {},
     "output_type": "execute_result"
    }
   ],
   "source": [
    "lines = open(r'assets/lines.txt', 'r') #we've already read every line, so we need to reopen\n",
    "line_list = list(lines)\n",
    "lines.close()\n",
    "line_list"
   ]
  },
  {
   "cell_type": "code",
   "execution_count": 237,
   "metadata": {
    "collapsed": false
   },
   "outputs": [
    {
     "data": {
      "text/plain": [
       "['This is the first line\\n',\n",
       " 'This is the second line\\n',\n",
       " 'This is the third line\\n',\n",
       " 'This is the fourth line\\n',\n",
       " '\\n',\n",
       " 'This is the sixth line (#5 was blank!)\\n',\n",
       " 'This is the seventh and final line.\\n',\n",
       " 'We just wrote a new line!\\n']"
      ]
     },
     "execution_count": 237,
     "metadata": {},
     "output_type": "execute_result"
    }
   ],
   "source": [
    "lines = open(r'assets/lines.txt', 'r') #we've already read every line, so we need to reopen\n",
    "line_list = lines.readlines()\n",
    "lines.close()\n",
    "line_list"
   ]
  },
  {
   "cell_type": "markdown",
   "metadata": {},
   "source": [
    "### Writing to a file\n",
    "#### `f.write(string)` \n",
    "> Writes the string to the file, returning the number of characters written."
   ]
  },
  {
   "cell_type": "code",
   "execution_count": 250,
   "metadata": {
    "collapsed": false
   },
   "outputs": [
    {
     "data": {
      "text/plain": [
       "33"
      ]
     },
     "execution_count": 250,
     "metadata": {},
     "output_type": "execute_result"
    }
   ],
   "source": [
    "written_lines = open(r'assets/write_lines.txt', 'w+') #open for reading & writing (creates file since it doesn't exist)\n",
    "written_lines.write(\"We just wrote a new line!\\n\")\n",
    "written_lines.write(\"We just wrote another line!\\n\")\n",
    "written_lines.write(\"This is the last line we'll write\")"
   ]
  },
  {
   "cell_type": "code",
   "execution_count": 251,
   "metadata": {
    "collapsed": false
   },
   "outputs": [],
   "source": [
    "for line in written_lines:\n",
    "    print(line)"
   ]
  },
  {
   "cell_type": "markdown",
   "metadata": {},
   "source": [
    "> The above loop didn't print our lines although we opened the file for both reading and writing? Why is that?\n",
    "\n",
    "> When we opened the file in `w+` mode, we truncated the file, meaning we'd only be able to read data that was previously written. We need to return to the top of the file before reading, otherwise we'll just be reading from the point after writing, which is nothing.\n",
    "\n",
    "> Fortunately, you can move through a file without returning the contents."
   ]
  },
  {
   "cell_type": "code",
   "execution_count": 253,
   "metadata": {
    "collapsed": true
   },
   "outputs": [],
   "source": [
    "written_lines.close() #close the file!"
   ]
  },
  {
   "cell_type": "markdown",
   "metadata": {},
   "source": [
    "### File Seeking\n",
    "#### `f.tell()`\n",
    "> Returns an integer giving your current current position in the file object. The initial position is 0."
   ]
  },
  {
   "cell_type": "code",
   "execution_count": 254,
   "metadata": {
    "collapsed": false
   },
   "outputs": [
    {
     "data": {
      "text/plain": [
       "0"
      ]
     },
     "execution_count": 254,
     "metadata": {},
     "output_type": "execute_result"
    }
   ],
   "source": [
    "reading_lines = open(r'assets/write_lines.txt')\n",
    "reading_lines.tell()"
   ]
  },
  {
   "cell_type": "markdown",
   "metadata": {},
   "source": [
    "#### `f.seek(offset, from_what)`\n",
    "> To change the file object’s position, you use `f.seek(offset, from_what)`. The position is computed from adding `offset` to a reference point; the reference point is selected by the `from_what` argument. \n",
    "\n",
    "> - `from_what` values:\n",
    "    - 0 (the default) measures from the beginning of the file\n",
    "    - 1 uses the current file position\n",
    "    - 2 uses the end of the file as the reference point\n",
    "    \n",
    "> In text files (those opened without a `b` in the mode string), only seeks relative to the beginning of the file are allowed (the exception being seeking to the very file end with seek(0, 2)) and the only valid offset values are those returned from `f.tell()`, or zero. Any other offset value produces undefined behaviour."
   ]
  },
  {
   "cell_type": "code",
   "execution_count": 266,
   "metadata": {
    "collapsed": false
   },
   "outputs": [
    {
     "data": {
      "text/plain": [
       "10"
      ]
     },
     "execution_count": 266,
     "metadata": {},
     "output_type": "execute_result"
    }
   ],
   "source": [
    "reading_lines.seek(10) #this returns 10 since we're offsetting 10 from 0 (the beginning)"
   ]
  },
  {
   "cell_type": "code",
   "execution_count": 274,
   "metadata": {
    "collapsed": false
   },
   "outputs": [
    {
     "data": {
      "text/plain": [
       "'ote a new '"
      ]
     },
     "execution_count": 274,
     "metadata": {},
     "output_type": "execute_result"
    }
   ],
   "source": [
    "reading_lines.readline(reading_lines.seek(10)) #sub the return value into the f.readline()"
   ]
  },
  {
   "cell_type": "code",
   "execution_count": 275,
   "metadata": {
    "collapsed": true
   },
   "outputs": [],
   "source": [
    "reading_lines.close()"
   ]
  },
  {
   "cell_type": "markdown",
   "metadata": {},
   "source": [
    "### Closing Files\n",
    "> So far, we've been careful to close each file once we're done with it. However, this isn't good practice. \n",
    "\n",
    "> The preferred method is to use the `with` keyword when dealing with file objects. This is an example of a **context manager** in Python (there's actually a whole standard library module called [contextlib](https://docs.python.org/3/library/contextlib.html) that's dedicated to context managers). \n",
    "\n",
    "> The advantage of using the `with` keyword is that the file is properly closed after we're done working with it even if an exception is raised at some point. This becomes important when you're working with a lot of files as it will help your computer manager resources and not crash. It's also a more elegant syntax when comapred to the equivalent `try-finally` block.\n",
    "\n",
    "> Here's what using the `with` keyword looks like:"
   ]
  },
  {
   "cell_type": "code",
   "execution_count": 276,
   "metadata": {
    "collapsed": false
   },
   "outputs": [
    {
     "data": {
      "text/plain": [
       "True"
      ]
     },
     "execution_count": 276,
     "metadata": {},
     "output_type": "execute_result"
    }
   ],
   "source": [
    "with open(r'assets/write_lines.txt') as f:\n",
    "    read_data = f.read()\n",
    "\n",
    "f.closed #boolean test to see if the file is closed"
   ]
  },
  {
   "cell_type": "markdown",
   "metadata": {},
   "source": [
    "> Above, we opened the file using the `with` keyword, read its contents into `read_data`, and then tested to see if the file was indeed closed after the `with` statement. Here we can see that we did indeed read the contents of the file:"
   ]
  },
  {
   "cell_type": "code",
   "execution_count": 277,
   "metadata": {
    "collapsed": false
   },
   "outputs": [
    {
     "data": {
      "text/plain": [
       "\"We just wrote a new line!\\nWe just wrote another line!\\nThis is the last line we'll write\""
      ]
     },
     "execution_count": 277,
     "metadata": {},
     "output_type": "execute_result"
    }
   ],
   "source": [
    "read_data"
   ]
  },
  {
   "cell_type": "markdown",
   "metadata": {},
   "source": [
    "> If you're curious, the equivalent using a `try-finally` block would look like this:"
   ]
  },
  {
   "cell_type": "code",
   "execution_count": 284,
   "metadata": {
    "collapsed": false
   },
   "outputs": [
    {
     "data": {
      "text/plain": [
       "True"
      ]
     },
     "execution_count": 284,
     "metadata": {},
     "output_type": "execute_result"
    }
   ],
   "source": [
    "try:\n",
    "    f = open(r'assets/write_lines.txt')\n",
    "    read_data = f.read()\n",
    "finally:\n",
    "    f.close()\n",
    "\n",
    "f.closed"
   ]
  },
  {
   "cell_type": "markdown",
   "metadata": {},
   "source": [
    "<a id='json'></a>\n",
    "## Saving Structured Data with JSON\n",
    "Working with files requires you to read and write strings. But reading and writing numbers can take more effort, since file methods, like `read()`,  return strings. This means you'd have to pass a number string, like `'100'`, to a function like `int()` to return its numeric value, `100`. This can get quite complicated once you need to save more complex data types, like nested lists and dictionaries.\n",
    "\n",
    "The `json` module can convert Python's data hierarchies into string representations using the popular data interchange format called [JSON](https://www.json.org/). This process is called *serializing* while the reconstruction of the data from the JSON string representation is called *deserializing*. It's between these serializing and deserializing processes that the string representing the object may be stored in a file and/or sent over a network connection to some far-away machine."
   ]
  },
  {
   "cell_type": "markdown",
   "metadata": {},
   "source": [
    "> If you have an object, `x`, you can view its JSON string representation with a simple line of code:"
   ]
  },
  {
   "cell_type": "code",
   "execution_count": 291,
   "metadata": {
    "collapsed": false
   },
   "outputs": [
    {
     "data": {
      "text/plain": [
       "'[1, \"simple\", \"list\"]'"
      ]
     },
     "execution_count": 291,
     "metadata": {},
     "output_type": "execute_result"
    }
   ],
   "source": [
    "x = [1,'simple','list']\n",
    "json.dumps(x)"
   ]
  },
  {
   "cell_type": "markdown",
   "metadata": {},
   "source": [
    "> Now that we have a string representation of `x`, we could write it to a file. Or we could use the `dump()` function to achieve all of this in one step."
   ]
  },
  {
   "cell_type": "code",
   "execution_count": 294,
   "metadata": {
    "collapsed": false
   },
   "outputs": [],
   "source": [
    "with open(r'assets/from_json.txt', 'w') as f:\n",
    "    json.dump(x, f)"
   ]
  },
  {
   "cell_type": "markdown",
   "metadata": {},
   "source": [
    "> To see that we wrote the encoded object, let's open it, decode it, and read it using `json.load()`:"
   ]
  },
  {
   "cell_type": "code",
   "execution_count": 297,
   "metadata": {
    "collapsed": false
   },
   "outputs": [
    {
     "name": "stdout",
     "output_type": "stream",
     "text": [
      "[1, 'simple', 'list']\n"
     ]
    }
   ],
   "source": [
    "with open(r'assets/from_json.txt') as f:\n",
    "    y = json.load(f)\n",
    "print(y)"
   ]
  },
  {
   "cell_type": "markdown",
   "metadata": {},
   "source": [
    "This technique can handle lists and dictionaries well enough, but serializing arbitrary class instances in JSON requires a bit of extra effort. See the `json` module [reference](https://docs.python.org/3/library/json.html#module-json) for more information."
   ]
  },
  {
   "cell_type": "markdown",
   "metadata": {},
   "source": [
    "<a id='pickle'></a>\n",
    "## Pickle\n",
    "So far we've been working with **dynamic data**, where information is asynchronously changed as further updates to the information become available.\n",
    "\n",
    "The opposite of dynamic data is **persistent data**, which denotes information that is infrequently accessed and/or not likely to be modified. There are degrees to data persistence, but that can be the topic of another lesson.\n",
    "\n",
    "For now, we'll just introduce ourselves to the [`pickle` module](https://docs.python.org/3.6/library/pickle.html). As you may know, [pickling](https://en.wikipedia.org/wiki/Pickling) is the process of preserving or expanding the lifespan of food by either anaerobic fermentation in brine or immersion in vinegar. You can do the digital equivalent using the `pickle` module. \n",
    "\n",
    "What exactly happens when you pickle and unpickle a Python object? This is straight from the Python docs:\n",
    " - “Pickling” is the process whereby a Python object hierarchy is converted into a byte stream.\n",
    " - “Unpickling” is the inverse operation, whereby a byte stream (from a binary file or bytes-like object) is converted back into an object hierarchy.\n",
    " \n",
    "Once you've pickled something you can either write it to a file (saving it persistenly to disk) or assign the `bytes object` to an object in memory. We'll show an example of the former. An example will make this concrete."
   ]
  },
  {
   "cell_type": "code",
   "execution_count": 6,
   "metadata": {
    "collapsed": false
   },
   "outputs": [
    {
     "name": "stdout",
     "output_type": "stream",
     "text": [
      "['cucumber', 'cabbage', 'carrot', 'turnip', 'kimchi']\n"
     ]
    }
   ],
   "source": [
    "# The name of the file where we will store the object\n",
    "pickleFile = r'assets/pickleFile.data'\n",
    "# The list of things to pickle\n",
    "pickleList = ['cucumber', 'cabbage', 'carrot', 'turnip', 'kimchi']\n",
    "\n",
    "# Write to the file\n",
    "with open(pickleFile, 'wb') as f:           # open the file in write binary mode\n",
    "    pickle.dump(pickleList, f)              # dump the object to a file (pickling)\n",
    "\n",
    "# Destroy pickleList\n",
    "del pickleList\n",
    "\n",
    "# Read back from the storage\n",
    "with open(pickleFile, 'rb') as f:           # open the file in read binary mode\n",
    "    pickles = pickle.load(f)                # return the pickled object using the load function (unpickling)\n",
    " \n",
    "print(pickles)"
   ]
  },
  {
   "cell_type": "markdown",
   "metadata": {},
   "source": [
    "### Why Pickle?\n",
    "We just saw how pickling converts a Python object (e.g. list) into a character stream containing all of the information necessary to reconstruct the object in another Python script. But why would you want to do this?\n",
    "\n",
    "#### Memory Constraints\n",
    "Sometimes you need to work with data that exceeds your computer's memory limits. If a scalable server isn't an option, you can use pickling to chunk up your data objects. In this way you do a little work on a portion of the data, pickle the output, do a little more work on another portion of the data, pickle that output, and so forth until you've covered all of the data. Then you can combine the pickled outputs.\n",
    "\n",
    "#### Networks\n",
    "Another use case is transmitting a Python object over a network. Normally, you would first need to convert the objet into a character stream before sending it over the connection. Pickling does that for you."
   ]
  },
  {
   "cell_type": "markdown",
   "metadata": {},
   "source": [
    "<a id='binary'></a>\n",
    "## Reading and Writing Binary Data\n",
    "At some point you might need to read or write binary data, such as that found in an image or audio file.\n",
    "\n",
    "And if you were paying attention to how we opened the pickle files above, you would have noticed that were working with those files in binary rather than text mode.\n",
    "\n",
    "You can use `open()` with the `b` mode to specify binary data.\n",
    "\n",
    "But before we do that, let's familiarize ourselves with **encoding**."
   ]
  },
  {
   "cell_type": "markdown",
   "metadata": {},
   "source": [
    "### Encodings \n",
    "> An encoding is a how computers represent audio, images, text, etc in **bytes**. \n",
    " - A byte is a unit of digital information that most commonly consists of eight **bits**.\n",
    " - A bit is the smallest unit of digital storage, the proverbial 0 or 1. Bit is a portmanteau of **bi**nary digi**t**.\n",
    "     - One byte = 8 bits\n",
    "         - e.g. `1 1 0 1 1 1 1 0`\n",
    "         - One byte can represent 256 ($2^8$) different patterns\n",
    "\n",
    "> #### Bytes and Characters\n",
    "> [ASCII](http://www.asciitable.com/) is an old encoding that can represent common latinate characters as numbers. Each number is represented by one byte. This means the numbers are from 0 to 255:\n",
    " - A is 65\n",
    " - B is 66\n",
    " - a is 96\n",
    "\n",
    "> Computers eventually expanded beyond English-speaking countries. The [Unicode Standard](https://unicode.org/) provides a unique number for every character, no matter what platform, device, application or language.\n",
    "\n",
    "> Python's default encoding is UTF-8, which is capable of encoding 1,112,064 valid code points using one to four 8-bit bytes. Importantly, UTF-8 was designed for backward compatibility with ASCII. "
   ]
  },
  {
   "cell_type": "markdown",
   "metadata": {},
   "source": [
    "### Reading and Writing Binary Files\n",
    "We read a binary file the same way we read and write text files"
   ]
  },
  {
   "cell_type": "code",
   "execution_count": 329,
   "metadata": {
    "collapsed": true
   },
   "outputs": [],
   "source": [
    "# Read the entire file as a single byte string\n",
    "with open(r'assets/binary.bin', 'wb') as f:\n",
    "    f.write(b'Hello World')"
   ]
  },
  {
   "cell_type": "code",
   "execution_count": 330,
   "metadata": {
    "collapsed": false
   },
   "outputs": [
    {
     "data": {
      "text/plain": [
       "b'Hello World'"
      ]
     },
     "execution_count": 330,
     "metadata": {},
     "output_type": "execute_result"
    }
   ],
   "source": [
    "with open(r'assets/binary.bin', 'rb') as f:\n",
    "    binary_data = f.read()\n",
    "    \n",
    "binary_data"
   ]
  },
  {
   "cell_type": "markdown",
   "metadata": {},
   "source": [
    "> When reading binary, your data will be returned in the form of byte strings, not text strings. That's why there's the `b` before the string.\n",
    "\n",
    "> Similarly, when writing, you must supply data in the form of byte objects.\n",
    "\n",
    "> Finally, when indexing byte objects, integer byte values are returned instead of the string representations."
   ]
  },
  {
   "cell_type": "code",
   "execution_count": 337,
   "metadata": {
    "collapsed": false
   },
   "outputs": [
    {
     "name": "stdout",
     "output_type": "stream",
     "text": [
      "f\n",
      "o\n",
      "o\n"
     ]
    }
   ],
   "source": [
    "s = \"foo\"\n",
    "for c in s:\n",
    "    print(c)"
   ]
  },
  {
   "cell_type": "code",
   "execution_count": 338,
   "metadata": {
    "collapsed": false
   },
   "outputs": [
    {
     "name": "stdout",
     "output_type": "stream",
     "text": [
      "98\n",
      "97\n",
      "114\n"
     ]
    }
   ],
   "source": [
    "b = b\"bar\"\n",
    "for c in b:\n",
    "    print(c)"
   ]
  },
  {
   "cell_type": "markdown",
   "metadata": {},
   "source": [
    "If you ever need to read or write text from a binary file, make sure you remember to decode or encode it. For example:"
   ]
  },
  {
   "cell_type": "code",
   "execution_count": 11,
   "metadata": {
    "collapsed": false
   },
   "outputs": [
    {
     "name": "stdout",
     "output_type": "stream",
     "text": [
      "binary is fun!\n"
     ]
    }
   ],
   "source": [
    "with open(r'assets/binFile.bin', 'wb') as f:\n",
    "    text = 'binary is fun!'\n",
    "    f.write(text.encode('utf-8'))\n",
    "    \n",
    "    \n",
    "with open(r'assets/binFile.bin', 'rb') as f:\n",
    "    data = f.read(16)\n",
    "    text = data.decode('utf-8')\n",
    "    print(text)"
   ]
  },
  {
   "cell_type": "markdown",
   "metadata": {},
   "source": [
    "# An Example"
   ]
  },
  {
   "cell_type": "markdown",
   "metadata": {},
   "source": [
    "## Extracting png images from a file\n",
    "Behind the scenes, all files are binary. Moreover, file types are standardized so that each file of a certain type organizes its binary in a specifc way. We'll use the [standards for png image files](http://www.libpng.org/pub/png/spec/1.2/PNG-Chunks.html) to help us extract png image files from a document.\n",
    "\n",
    "Here are the key details that we need to know:\n",
    " \n",
    " - A PNG file always contains a **PNG signature**, with the first eight bytes of the file always containing the following (decimal) values:  $137$ $80$ $78$ $71$ $13$ $10$ $26$ $10$\n",
    "\n",
    " - The signature is then followed by a series of chunks. One of these chunks is the **IHDR Image header**. The IHDR chunk always appears first and contains some vital details about the image:\n",
    "<table>\n",
    "<tr>\n",
    "    <th>Detail</th>\n",
    "    <th>Size</th>\n",
    "</tr>\n",
    "<tr>\n",
    "    <td>Width:</td>\n",
    "    <td>4 bytes</td>\n",
    "</tr>\n",
    "<tr>\n",
    "    <td>Height:</td>\n",
    "    <td>4 bytes</td>\n",
    "</tr>\n",
    "<tr>\n",
    "    <td>Bit depth:</td>\n",
    "    <td>1 byte</td>\n",
    "</tr>\n",
    "<tr>\n",
    "    <td>Color type:</td>\n",
    "    <td>1 byte</td>\n",
    "</tr>\n",
    "<tr>\n",
    "    <td>Compression method:</td>\n",
    "    <td>1 byte</td>\n",
    "</tr>\n",
    "<tr>\n",
    "    <td>Filter method:</td>\n",
    "    <td>1 byte</td>\n",
    "</tr>\n",
    "<tr>\n",
    "    <td>Interlace method:</td>\n",
    "    <td>1 byte</td>\n",
    "</tr>\n",
    "    \n",
    "We'll use this knowledge to write a function that extracts png image files from another file. In our case, we'll be extracting the pokemon pngs from a word document that contains 4 pngs and one jpg."
   ]
  },
  {
   "cell_type": "code",
   "execution_count": 34,
   "metadata": {
    "collapsed": true
   },
   "outputs": [],
   "source": [
    "def extract_pngs(file):\n",
    "    \"\"\"\n",
    "    Extracts pngs from files and writes them to a new directory:  pngs/...\n",
    "    file:  file path, which will be read as binary\n",
    "    \"\"\"  \n",
    "    png_path = os.path.join(os.getcwd(),\"assets\",\"pngs\")\n",
    "    \n",
    "    with open(file, \"rb\") as bf:\n",
    "        bf.seek(0, 2)  # seek to the end\n",
    "        num_bytes = bf.tell()  # get the file size\n",
    "\n",
    "        c = 0 #instantiate counter\n",
    "        for i in range(num_bytes):\n",
    "            bf.seek(i)\n",
    "            eight_bytes = bf.read(8)\n",
    "            if eight_bytes == b\"\\x89\\x50\\x4e\\x47\\x0d\\x0a\\x1a\\x0a\":  # that's the PNG signature\n",
    "                c += 1\n",
    "                print(\"Found Signature #\" + str(c) + \" at \" + str(i))\n",
    "\n",
    "                # the next 4 bytes after the signature are part of the IHDR. This gives us the image size\n",
    "                png_size_bytes = bf.read(4)\n",
    "                png_size = int.from_bytes(png_size_bytes, byteorder='little', signed=False)\n",
    "\n",
    "                # Now go back to the beginning of the image file and extract full thing\n",
    "                bf.seek(i)\n",
    "                # Read the size of image plus the signature (8)\n",
    "                png_data = bf.read(png_size + 8)\n",
    "                \n",
    "                #conditional check if our path exists. If not, make it\n",
    "                if not os.path.exists(png_path):\n",
    "                    os.makedirs(png_path)\n",
    "            \n",
    "                with open(os.path.join(png_path,str(i)+\".png\"), \"wb\") as pic_out:\n",
    "                    pic_out.write(png_data)"
   ]
  },
  {
   "cell_type": "code",
   "execution_count": 35,
   "metadata": {
    "collapsed": true
   },
   "outputs": [],
   "source": [
    "pic_file = r'assets/pokemon_pics.docx' #this is the word doc"
   ]
  },
  {
   "cell_type": "code",
   "execution_count": 36,
   "metadata": {
    "collapsed": false
   },
   "outputs": [
    {
     "name": "stdout",
     "output_type": "stream",
     "text": [
      "Found Signature #1 at 127567\n",
      "Found Signature #2 at 135907\n",
      "Found Signature #3 at 348481\n",
      "Found Signature #4 at 976658\n"
     ]
    }
   ],
   "source": [
    "extract_pngs(pic_file)"
   ]
  }
 ],
 "metadata": {
  "kernelspec": {
   "display_name": "Python 3",
   "language": "python",
   "name": "python3"
  },
  "language_info": {
   "codemirror_mode": {
    "name": "ipython",
    "version": 3
   },
   "file_extension": ".py",
   "mimetype": "text/x-python",
   "name": "python",
   "nbconvert_exporter": "python",
   "pygments_lexer": "ipython3",
   "version": "3.6.0"
  }
 },
 "nbformat": 4,
 "nbformat_minor": 2
}
