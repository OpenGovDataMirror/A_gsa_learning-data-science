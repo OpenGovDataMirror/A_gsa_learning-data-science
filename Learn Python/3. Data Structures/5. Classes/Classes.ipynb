{
 "cells": [
  {
   "cell_type": "markdown",
   "metadata": {},
   "source": [
    "# Classes (and some Python theory)\n",
    "In this lesson, we'll take a deep dive into object-oriented programming with Python."
   ]
  },
  {
   "cell_type": "markdown",
   "metadata": {
    "collapsed": true
   },
   "source": [
    "## Lesson Objectives\n",
    "By the end of this lesson, you will be able to:\n",
    "- Understand namespaces and scope hierarchies in Python\n",
    "- Create your own classes to represent abstract data types\n",
    "- Understand and apply the four pillars of object-oriented programming\n",
    "- Differentiate between dynamically and statically typed languages\n",
    "- Differentiate between strongly and weakly typed languages\n",
    "- Understand and apply duck typing\n",
    "- Know when to use private as opposed to public variables"
   ]
  },
  {
   "cell_type": "markdown",
   "metadata": {
    "collapsed": true
   },
   "source": [
    "## Table of Contents\n",
    " - [Namespaces & Scope](#namespaces)\n",
    " - [Creating A Class](#classes)\n",
    "     - [Class Definition](#classDefinition)\n",
    "     - [Class Objects](#classObjects)\n",
    "     - [Instance Objects](#instanceObjects)\n",
    "     - [Class and Instance Variables](#classInstanceVariables)\n",
    " - [The Four Pillars of Object-Oriented Programming](#pillars)\n",
    "     - [Encapsulation](#encapsulation)\n",
    "     - [Abstraction](#abstraction)\n",
    "     - [Inheritance](#inheritance)\n",
    "     - [Polymorphism](#polymorphism)\n",
    " - [Dynamically Typed vs. Statically Typed](#dynamically)\n",
    " - [Strongly Typed vs. Weakly Typed](#strong)\n",
    " - [Duck Typing](#duck)\n",
    " - [Private vs. Public Variables](#private)\n",
    " - [Takeaways](#takeaways)"
   ]
  },
  {
   "cell_type": "markdown",
   "metadata": {},
   "source": [
    "<a id='namespaces'></a>\n",
    "# Namespaces & Scope\n",
    "Before we cover classes, we need to cover **namespaces** and **scope**. That's because class definitions add another level of complexity to how we reference objects by name."
   ]
  },
  {
   "cell_type": "markdown",
   "metadata": {},
   "source": [
    "## Namespace\n",
    "A namespace is a system for managing all of the object names in your program. In Python, this system is implemented as a dictionary of dictionaries, with namespaces as the primary keys and then the names within each namespace (the sub-keys) mapped to their objects (the sub-values). Here's an example to help you visualize this:\n",
    "\n",
    "> `namespace1 = {'name_1':object_1, 'name_2':object_2, ...}`<br>\n",
    "> `namespace2 = {'name_3':object_3, 'name_4':object_4, ...}`\n",
    "\n",
    "As an example, think about what happens whenever you define a function. Behind the scenes, Python creates a namespace for all of the names that you defined within that function. That way the function knows to use the objects you defined within it before using another object of the same name that might exist elsewhere in your program. \n",
    "\n",
    "As you can imagine, the moment you start writing larger, more complex programs, you'll have multiple *independent* namespaces. When I say that namespaces are independent, I mean names can be reused across different namespaces. Only the objects that map to the names will be unique. That means our little example above could look like this:\n",
    "\n",
    "> `namespace1 = {'name_1':object_1, 'name_2':object_2, ...}`<br>\n",
    "> `namespace2 = {'name_1':object_3, 'name_2':object_4, ...}`\n",
    "\n",
    "In Python the primary namespaces include:\n",
    " - built-in names (like `while`, `for`, `in`, `def`, etc.)\n",
    " - names imported from another module\n",
    " - the global names of the current module\n",
    " - local names defined within a function or loop"
   ]
  },
  {
   "cell_type": "markdown",
   "metadata": {},
   "source": [
    "### Lifetime of a Namespace\n",
    "Namespaces are born and then they die. This means that your program's namespaces aren't always accessible (i.e. alive). That's chiefly because they are often created at different points in time. For example:\n",
    " - The built-in namespace is immortal. Names like `in`, `for`, `assert` and `del` are always available. \n",
    " - The global namespace of a module is accessible once the module is imported. These normally last until the intrepreter quits.\n",
    " - A local namespace is created whenever the function or loop that it's connected to is invoked. If it's a function's namesapce, the namespace is deleted when the function ends."
   ]
  },
  {
   "cell_type": "markdown",
   "metadata": {},
   "source": [
    "## Scope\n",
    "Namespaces exist hierarchically, and it's **scope** that determines the order in which Python searches namespaces for objects with a given name. More concretely, a scope is a textual region of a program where a namespace can be directly accessed without using a namespace prefix (we'll see this prefix in action later, when we work with imported modules).\n",
    "\n",
    "Fortunately for us, there's actually a handy acronym to help you remember Python's scoping rules: LEGB.\n",
    "\n",
    " - **L**ocal:  names that are assigned within functions\n",
    " - **E**nclosing:  names that are assigned within a closure (i.e. a nested function)\n",
    " - **G**lobal:  names that are assigned for the whole module (i.e. objects created at the top-level of a program without indentation)\n",
    " - **B**uilt-In:  names such such as `open`, `with`, `print`, `map`, `zip`, etc.\n",
    " \n",
    "A few rules also govern this hierarchy:\n",
    " - The lowest scope is local\n",
    " - Lower scopes can access the namespaces of higher scopes\n",
    " - Higher scopes cannot directly access the namespaces of lower scopes\n",
    "\n",
    "Here's a way to visualize these rules:\n",
    "\n",
    "<img src='assets/namespaces.png' height = 500 width = 500>\n",
    "\n",
    "So, let's say you reference a particular name. If this name cannot be found in the local namespace(s), Python moves the search to any enclosing namespaces. If the search in the enclosed scope is also unsuccessful, Python searches the global namespace next. If the global namespace doesn't have the name, Python will then search the built-in namespace. Finally, if the name isn't a built-in name, a `NameError` will be raised.\n",
    "\n",
    "To see this in action, consider this code, which comes straight from the official Python [documentation](https://docs.python.org/3/tutorial/classes.html#scopes-and-namespaces-example)."
   ]
  },
  {
   "cell_type": "code",
   "execution_count": 257,
   "metadata": {
    "collapsed": false
   },
   "outputs": [
    {
     "name": "stdout",
     "output_type": "stream",
     "text": [
      "After local assignment: test spam\n",
      "After nonlocal assignment: nonlocal spam\n",
      "After global assignment: nonlocal spam\n",
      "In global scope: global spam\n"
     ]
    }
   ],
   "source": [
    "def scope_test():\n",
    "    def do_local():\n",
    "        spam = \"local spam\"\n",
    "\n",
    "    def do_nonlocal():\n",
    "        nonlocal spam             #`nonlocal` allows you to assign to variables in an outer, but non-global scope\n",
    "        spam = \"nonlocal spam\"\n",
    "\n",
    "    def do_global():\n",
    "        global spam               #`global` changes or creates global variables in a local context\n",
    "        spam = \"global spam\"\n",
    "\n",
    "    spam = \"test spam\"\n",
    "    do_local()\n",
    "    print(\"After local assignment:\", spam)\n",
    "    do_nonlocal()\n",
    "    print(\"After nonlocal assignment:\", spam)\n",
    "    do_global()\n",
    "    print(\"After global assignment:\", spam)\n",
    "\n",
    "scope_test()\n",
    "print(\"In global scope:\", spam)"
   ]
  },
  {
   "cell_type": "markdown",
   "metadata": {},
   "source": [
    "For the first `print` statement, note how the local assignment didn’t change `scope_test`‘s binding of \"test spam\" to `spam`. \n",
    "\n",
    "But then for the second `print` statement, the nonlocal assignment changed `scope_test`‘s binding of spam.\n",
    "\n",
    "Then, for the third `print` statement, the global assignment changed the module-level binding but not the local-level binding, which is checked before the global level. \n",
    "\n",
    "Finally, for the fourth `print` statement, you can see that there was no previous binding for `spam` before the global assignment."
   ]
  },
  {
   "cell_type": "markdown",
   "metadata": {},
   "source": [
    "### Module Namespaces\n",
    "Namespaces can be further nested whenever you import modules. That's why it's good practice to use prefixes to access the names within a module. Check out all these objects named `pi`:"
   ]
  },
  {
   "cell_type": "code",
   "execution_count": 258,
   "metadata": {
    "collapsed": false
   },
   "outputs": [
    {
     "name": "stdout",
     "output_type": "stream",
     "text": [
      "3.141592653589793 from the math module\n",
      "3.141592653589793 from the numpy package\n",
      "3.141592653589793 from the scipy package\n",
      "3.14 from the global namespace\n"
     ]
    }
   ],
   "source": [
    "import numpy\n",
    "import math\n",
    "import scipy\n",
    "\n",
    "pi = 3.14\n",
    "print(math.pi, 'from the math module')\n",
    "print(numpy.pi, 'from the numpy package')\n",
    "print(scipy.pi, 'from the scipy package')\n",
    "print(pi, 'from the global namespace')"
   ]
  },
  {
   "cell_type": "markdown",
   "metadata": {},
   "source": [
    "#### Explicit is better than implicit\n",
    "It's also not recommended to use `from <module name> import *`. \n",
    "\n",
    "Why? Well, the first reason is that the zen of Python tells us explicit is better than implicit. The second reason is that it puts a lot of names into your namespace that might either shadow some other object from a previous import or even a built-in Python keyword. Consider that if you were to do `from numpy import *`, then `numpy.any` would shadow Python's built-in `any`."
   ]
  },
  {
   "cell_type": "markdown",
   "metadata": {},
   "source": [
    "### Global Variables and Side Effects\n",
    "When you define a variable in the main body of a `py` file, you've created a global variable. As such, the variable will be accessible throughout the file and also any other file which imports that file. Whenever you change a global variable, you're causing what's termed a [**side effect**](https://en.wikipedia.org/wiki/Side_effect_(computer_science).\n",
    "\n",
    "Side effects aren't bad, but when your programs get large, defining everything as a global variable means that you can have *unintended* side effects. Because of this, it's usually good practice to have only those objects that are intended to be used globally, like functions and classes, defined in the global namespace."
   ]
  },
  {
   "cell_type": "markdown",
   "metadata": {},
   "source": [
    "<a id='classes'></a>\n",
    "# Creating A Class\n",
    "Classes allow you to define your own object types. As you know, everything in Python is an object. And every object is an instance of some particular `type`. We can see that using the built-in `type` function:"
   ]
  },
  {
   "cell_type": "code",
   "execution_count": 4,
   "metadata": {
    "collapsed": false
   },
   "outputs": [
    {
     "data": {
      "text/plain": [
       "int"
      ]
     },
     "execution_count": 4,
     "metadata": {},
     "output_type": "execute_result"
    }
   ],
   "source": [
    "type(1)"
   ]
  },
  {
   "cell_type": "code",
   "execution_count": 5,
   "metadata": {
    "collapsed": false
   },
   "outputs": [
    {
     "data": {
      "text/plain": [
       "str"
      ]
     },
     "execution_count": 5,
     "metadata": {},
     "output_type": "execute_result"
    }
   ],
   "source": [
    "type('word')"
   ]
  },
  {
   "cell_type": "code",
   "execution_count": 259,
   "metadata": {
    "collapsed": false
   },
   "outputs": [
    {
     "data": {
      "text/plain": [
       "function"
      ]
     },
     "execution_count": 259,
     "metadata": {},
     "output_type": "execute_result"
    }
   ],
   "source": [
    "def dummy_function():\n",
    "    pass\n",
    "\n",
    "type(dummy_function)"
   ]
  },
  {
   "cell_type": "markdown",
   "metadata": {},
   "source": [
    "Even `type` is an instance of the type `type`:"
   ]
  },
  {
   "cell_type": "code",
   "execution_count": 260,
   "metadata": {
    "collapsed": false
   },
   "outputs": [
    {
     "data": {
      "text/plain": [
       "type"
      ]
     },
     "execution_count": 260,
     "metadata": {},
     "output_type": "execute_result"
    }
   ],
   "source": [
    "type(type)"
   ]
  },
  {
   "cell_type": "markdown",
   "metadata": {},
   "source": [
    "In other words, everything in Python is an instance of some `class`. So think of a `class` as just another kind of data type, like `str` or `list`. The difference is that *you* get to define it!"
   ]
  },
  {
   "cell_type": "markdown",
   "metadata": {
    "collapsed": true
   },
   "source": [
    "<a id='classDefinition'></a>\n",
    "## Class Definition \n",
    "The simplest class definitions use the `class` keyword and then look something like this:\n",
    "\n",
    "> `class ClassName:`<br>\n",
    "&nbsp;&nbsp;&nbsp;&nbsp;&nbsp;&nbsp;&nbsp;&nbsp;`<statement-1>`<br>\n",
    "&nbsp;&nbsp;&nbsp;&nbsp;&nbsp;&nbsp;&nbsp;&nbsp;`.`<br>\n",
    "&nbsp;&nbsp;&nbsp;&nbsp;&nbsp;&nbsp;&nbsp;&nbsp;`.`<br>\n",
    "&nbsp;&nbsp;&nbsp;&nbsp;&nbsp;&nbsp;&nbsp;&nbsp;`.`<br>\n",
    "&nbsp;&nbsp;&nbsp;&nbsp;&nbsp;&nbsp;&nbsp;&nbsp;`<statement-N>`<br>\n",
    "    \n",
    "Just like `function` definitions, `class` definitions must be executed before they can have any effect.\n",
    "\n",
    "> *A note on class definitions and namepsaces:*\n",
    ">> *Once a `class` definition is entered, a new namespace is created and then used as the local scope. This means that all assignments to local variables go into this new namespace. Then, once the class has been defined, the original local scope (the one in effect just before the class definition was entered) is reinstated. Then the class object is bound to the given class name (e.g. `ClassName` in the example above).*"
   ]
  },
  {
   "cell_type": "markdown",
   "metadata": {},
   "source": [
    "<a id='classObjects'></a>\n",
    "## Class Objects\n",
    "Class objects support two kinds of operations: \n",
    " - Attribute references\n",
    " - Instantiation"
   ]
  },
  {
   "cell_type": "markdown",
   "metadata": {},
   "source": [
    "### Attribute References\n",
    "Attribute references follow the syntax used for all attribute references in Python: `obj.name`. Valid attribute \n",
    "names are all the names that were in the class’s namespace when the class object was created. \n",
    "\n",
    "Say we had a class definition that looked like this:"
   ]
  },
  {
   "cell_type": "code",
   "execution_count": 276,
   "metadata": {
    "collapsed": true
   },
   "outputs": [],
   "source": [
    "class MyClass:\n",
    "    \"\"\"A simple example class\"\"\"\n",
    "    i = 12345\n",
    "\n",
    "    def f(self):               #what's this weird \"self\" parameter?? You'll learn about that shortly!\n",
    "        return 'hello world'"
   ]
  },
  {
   "cell_type": "markdown",
   "metadata": {},
   "source": [
    "Then `MyClass.i` and `MyClass.f` are both valid attribute references, returning an integer and a function object, respectively."
   ]
  },
  {
   "cell_type": "code",
   "execution_count": 267,
   "metadata": {
    "collapsed": false
   },
   "outputs": [
    {
     "data": {
      "text/plain": [
       "12345"
      ]
     },
     "execution_count": 267,
     "metadata": {},
     "output_type": "execute_result"
    }
   ],
   "source": [
    "MyClass.i"
   ]
  },
  {
   "cell_type": "code",
   "execution_count": 268,
   "metadata": {
    "collapsed": false
   },
   "outputs": [
    {
     "data": {
      "text/plain": [
       "<function __main__.MyClass.f>"
      ]
     },
     "execution_count": 268,
     "metadata": {},
     "output_type": "execute_result"
    }
   ],
   "source": [
    "MyClass.f"
   ]
  },
  {
   "cell_type": "markdown",
   "metadata": {
    "collapsed": true
   },
   "source": [
    "`__doc__` is also a valid attribute, returning the docstring belonging to the class:"
   ]
  },
  {
   "cell_type": "code",
   "execution_count": 269,
   "metadata": {
    "collapsed": false
   },
   "outputs": [
    {
     "data": {
      "text/plain": [
       "'A simple example class'"
      ]
     },
     "execution_count": 269,
     "metadata": {},
     "output_type": "execute_result"
    }
   ],
   "source": [
    "MyClass.__doc__"
   ]
  },
  {
   "cell_type": "markdown",
   "metadata": {},
   "source": [
    "### Class Instantiation\n",
    "Class instantiation uses the parentheses of function notation. For example:"
   ]
  },
  {
   "cell_type": "code",
   "execution_count": 270,
   "metadata": {
    "collapsed": true
   },
   "outputs": [],
   "source": [
    "x = MyClass() #creates a new instance of the class and assigns this \n",
    "              #object to the local variable x."
   ]
  },
  {
   "cell_type": "markdown",
   "metadata": {},
   "source": [
    "The instantiation operation creates an object that will have the attribte references from the class definition:"
   ]
  },
  {
   "cell_type": "code",
   "execution_count": 273,
   "metadata": {
    "collapsed": false
   },
   "outputs": [
    {
     "data": {
      "text/plain": [
       "12345"
      ]
     },
     "execution_count": 273,
     "metadata": {},
     "output_type": "execute_result"
    }
   ],
   "source": [
    "x.i"
   ]
  },
  {
   "cell_type": "code",
   "execution_count": 274,
   "metadata": {
    "collapsed": false
   },
   "outputs": [
    {
     "data": {
      "text/plain": [
       "'A simple example class'"
      ]
     },
     "execution_count": 274,
     "metadata": {},
     "output_type": "execute_result"
    }
   ],
   "source": [
    "x.__doc__"
   ]
  },
  {
   "cell_type": "markdown",
   "metadata": {},
   "source": [
    "**`__init__`**\n",
    "> Sometimes you might want to have class instances customized to a specific initial state. Therefore a class may define a special method named `__init__()`:"
   ]
  },
  {
   "cell_type": "code",
   "execution_count": 275,
   "metadata": {
    "collapsed": true
   },
   "outputs": [],
   "source": [
    "class MyClass:\n",
    "    \"\"\"A simple example class\"\"\"\n",
    "    def __init__(self):\n",
    "        self.data = [\"this\", \"is\", \"a\", \"list\",\"of\",\"data\"]\n",
    "    \n",
    "    i = 12345\n",
    "\n",
    "    def f(self):\n",
    "        return 'hello world'"
   ]
  },
  {
   "cell_type": "markdown",
   "metadata": {},
   "source": [
    "> You may be wondering why we used the argument `self` up there. And beforehand in the function definition for `f()`. That's because the first argument of every class method, including `__init__`, must be a reference to the current instance of the class. This argument is named `self` by convention. In the `__init__` method, `self` will refer to the instance of the class object you're creating.\n",
    "\n",
    "> <img src=\"assets/self.jpg\" height = 400 width = 400>"
   ]
  },
  {
   "cell_type": "markdown",
   "metadata": {},
   "source": [
    "The `__init__()` method also accepts arguments for greater flexibility:"
   ]
  },
  {
   "cell_type": "code",
   "execution_count": 277,
   "metadata": {
    "collapsed": true
   },
   "outputs": [],
   "source": [
    "class Person:\n",
    "    def __init__(self, first_name, last_name):\n",
    "        self.first_name = first_name\n",
    "        self.last_name = last_name"
   ]
  },
  {
   "cell_type": "markdown",
   "metadata": {},
   "source": [
    "Then, when you want to create an instance of the class object, the arguments you give to the class instantiation operator are passed on to `__init__()`. For example,"
   ]
  },
  {
   "cell_type": "code",
   "execution_count": 278,
   "metadata": {
    "collapsed": false
   },
   "outputs": [
    {
     "data": {
      "text/plain": [
       "('Bob', 'Dylan')"
      ]
     },
     "execution_count": 278,
     "metadata": {},
     "output_type": "execute_result"
    }
   ],
   "source": [
    "x = Person(\"Bob\", \"Dylan\")\n",
    "x.first_name, x.last_name"
   ]
  },
  {
   "cell_type": "markdown",
   "metadata": {},
   "source": [
    "<a id='instanceObjects'></a>\n",
    "## Instance Objects\n",
    "Those `x`'s we created above are **instance objects**. They're simply instances of our class objects. When working with them, the only operations they understand are attribute references. And there are two types of attribute references:  **data attributes** and **methods**."
   ]
  },
  {
   "cell_type": "markdown",
   "metadata": {},
   "source": [
    "### Data Attributes \n",
    "Think of **data attributes** as the data values associated with any given instance of a `class` object. They're kind of like the attribute references of the `class` itself except they're specific to each particular `class` instantiation. We've actually already seen them above, namely when we got the `first_name` and the `last_name` of our `Person` `class` once we assigned it with the arguments `Bob` and `Dylan` to `x`. \n",
    "\n",
    "Below, both `first_name` and `last_name` are attributes of `x`."
   ]
  },
  {
   "cell_type": "code",
   "execution_count": 19,
   "metadata": {
    "collapsed": false
   },
   "outputs": [
    {
     "data": {
      "text/plain": [
       "('Bob', 'Dylan')"
      ]
     },
     "execution_count": 19,
     "metadata": {},
     "output_type": "execute_result"
    }
   ],
   "source": [
    "x.first_name, x.last_name"
   ]
  },
  {
   "cell_type": "markdown",
   "metadata": {
    "collapsed": true
   },
   "source": [
    "### Methods\n",
    "A **method** is a `function` defined within a `class`. Note that methods aren't actually unique to `class` instances; `list` objects, for example, have methods called `append`, `insert`, `remove`, `sort`, and so on.\n",
    "\n",
    "In our examples, `x.f` is a valid method reference, since `MyClass.f` is a `function` within `MyClass`. However, `x.i` is not a valid method reference, since `MyClass.i` is not. That's actually a data attribute. But note also that `x.f` is not the same thing as `MyClass.f` — the former is a method object while the latter is a `function` object:"
   ]
  },
  {
   "cell_type": "code",
   "execution_count": 279,
   "metadata": {
    "collapsed": false
   },
   "outputs": [
    {
     "data": {
      "text/plain": [
       "<function __main__.MyClass.f>"
      ]
     },
     "execution_count": 279,
     "metadata": {},
     "output_type": "execute_result"
    }
   ],
   "source": [
    "MyClass.f"
   ]
  },
  {
   "cell_type": "code",
   "execution_count": 280,
   "metadata": {
    "collapsed": false
   },
   "outputs": [
    {
     "data": {
      "text/plain": [
       "<bound method MyClass.f of <__main__.MyClass object at 0x11973f668>>"
      ]
     },
     "execution_count": 280,
     "metadata": {},
     "output_type": "execute_result"
    }
   ],
   "source": [
    "x = MyClass()\n",
    "x.f"
   ]
  },
  {
   "cell_type": "markdown",
   "metadata": {},
   "source": [
    "And here's how we call a method:"
   ]
  },
  {
   "cell_type": "code",
   "execution_count": 281,
   "metadata": {
    "collapsed": false
   },
   "outputs": [
    {
     "data": {
      "text/plain": [
       "'hello world'"
      ]
     },
     "execution_count": 281,
     "metadata": {},
     "output_type": "execute_result"
    }
   ],
   "source": [
    "x.f()"
   ]
  },
  {
   "cell_type": "markdown",
   "metadata": {},
   "source": [
    "As you can see, `x.f()` returned the string `'hello world'`. However, it is not necessary to call a method right away. Since `x.f` is a method object, it can be stored and then called later. For example:"
   ]
  },
  {
   "cell_type": "code",
   "execution_count": 282,
   "metadata": {
    "collapsed": false
   },
   "outputs": [
    {
     "name": "stdout",
     "output_type": "stream",
     "text": [
      "hello world\n",
      "hello world\n",
      "hello world\n",
      "hello world\n",
      "hello world\n",
      "hello world\n",
      "hello world\n",
      "hello world\n",
      "hello world\n",
      "hello world\n"
     ]
    }
   ],
   "source": [
    "xf = x.f\n",
    "for i in range(10):\n",
    "    print(xf())"
   ]
  },
  {
   "cell_type": "markdown",
   "metadata": {
    "collapsed": true
   },
   "source": [
    "So what exactly happens when a method is called? You may have noticed that `x.f()` was called without an argument above, even though the function definition for `f()` within `MyClass` specified an argument:  `self`. How is that possible? Well, remember when we said that the first argument of every class method, including `__init__`, must be a reference to the current instance of the class? That's what happened there! \n",
    "\n",
    "Generally speaking, this means that if you define a class method with $n$ arguments (including `self`), then you can call that method with $n-1$ arguments:"
   ]
  },
  {
   "cell_type": "code",
   "execution_count": 283,
   "metadata": {
    "collapsed": true
   },
   "outputs": [],
   "source": [
    "class MyClass:\n",
    "    \"\"\"A simple example class\"\"\"\n",
    "    def __init__(self):\n",
    "        self.data = []\n",
    "    \n",
    "    i = 12345\n",
    "\n",
    "    def f(self,punctuation):               #defined with 2 arguments\n",
    "        return 'hello world'+punctuation"
   ]
  },
  {
   "cell_type": "code",
   "execution_count": 284,
   "metadata": {
    "collapsed": false
   },
   "outputs": [
    {
     "data": {
      "text/plain": [
       "'hello world!'"
      ]
     },
     "execution_count": 284,
     "metadata": {},
     "output_type": "execute_result"
    }
   ],
   "source": [
    "x = MyClass()\n",
    "x.f(\"!\")                                   #called with 1 arugment"
   ]
  },
  {
   "cell_type": "markdown",
   "metadata": {},
   "source": [
    "<a id='classInstanceVariables'></a>\n",
    "## Class and Instance Variables\n",
    "Generally speaking, **instance variables** are for data unique to each instance while **class variables** are for attributes and methods shared by all instances of the class:"
   ]
  },
  {
   "cell_type": "code",
   "execution_count": 285,
   "metadata": {
    "collapsed": true
   },
   "outputs": [],
   "source": [
    "class Dog:\n",
    "\n",
    "    genus = 'canine'            # class variable that will be shared by all instances\n",
    "\n",
    "    def __init__(self, name):\n",
    "        self.name = name        # instance variable unique to each instance\n",
    "        \n",
    "d = Dog(\"Fido\")\n",
    "e = Dog(\"Buddy\")"
   ]
  },
  {
   "cell_type": "code",
   "execution_count": 286,
   "metadata": {
    "collapsed": false
   },
   "outputs": [
    {
     "data": {
      "text/plain": [
       "'canine'"
      ]
     },
     "execution_count": 286,
     "metadata": {},
     "output_type": "execute_result"
    }
   ],
   "source": [
    "d.genus  #shared by all dogs"
   ]
  },
  {
   "cell_type": "code",
   "execution_count": 287,
   "metadata": {
    "collapsed": false
   },
   "outputs": [
    {
     "data": {
      "text/plain": [
       "'canine'"
      ]
     },
     "execution_count": 287,
     "metadata": {},
     "output_type": "execute_result"
    }
   ],
   "source": [
    "e.genus  #shared by all dogs"
   ]
  },
  {
   "cell_type": "code",
   "execution_count": 288,
   "metadata": {
    "collapsed": false
   },
   "outputs": [
    {
     "data": {
      "text/plain": [
       "'Fido'"
      ]
     },
     "execution_count": 288,
     "metadata": {},
     "output_type": "execute_result"
    }
   ],
   "source": [
    "d.name  #unique to d"
   ]
  },
  {
   "cell_type": "code",
   "execution_count": 289,
   "metadata": {
    "collapsed": false
   },
   "outputs": [
    {
     "data": {
      "text/plain": [
       "'Buddy'"
      ]
     },
     "execution_count": 289,
     "metadata": {},
     "output_type": "execute_result"
    }
   ],
   "source": [
    "e.name  #unique to e"
   ]
  },
  {
   "cell_type": "markdown",
   "metadata": {},
   "source": [
    "### Be Careful with Mutable Class Variables\n",
    "When dealing with mutable types like lists or dictionaries, class variables can have some unintended effects. For example, the tricks list in the following code should not be used as a class variable because the single list would be shared by all Dog instances:"
   ]
  },
  {
   "cell_type": "code",
   "execution_count": 290,
   "metadata": {
    "collapsed": true
   },
   "outputs": [],
   "source": [
    "class Dog:\n",
    "\n",
    "    tricks = []                       # mistaken use of a class variable\n",
    "\n",
    "    def __init__(self, name):\n",
    "        self.name = name\n",
    "\n",
    "    def add_trick(self, trick):\n",
    "        self.tricks.append(trick)"
   ]
  },
  {
   "cell_type": "code",
   "execution_count": 291,
   "metadata": {
    "collapsed": false
   },
   "outputs": [
    {
     "data": {
      "text/plain": [
       "['roll over', 'play dead']"
      ]
     },
     "execution_count": 291,
     "metadata": {},
     "output_type": "execute_result"
    }
   ],
   "source": [
    "d = Dog(\"Fido\")\n",
    "e = Dog(\"Buddy\")\n",
    "d.add_trick('roll over')\n",
    "e.add_trick('play dead')\n",
    "d.tricks                              # unexpectedly shared by all dogs"
   ]
  },
  {
   "cell_type": "markdown",
   "metadata": {},
   "source": [
    "As you can see, the tricks that we meant to assign to the individual dogs, `Fido` and `Buddy`, ended up being shared by both dogs. Correct design of the class should have used an instance variable instead:"
   ]
  },
  {
   "cell_type": "code",
   "execution_count": 292,
   "metadata": {
    "collapsed": true
   },
   "outputs": [],
   "source": [
    "class Dog:\n",
    "\n",
    "    def __init__(self, name):\n",
    "        self.name = name\n",
    "        self.tricks = []    # creates a new empty list for each dog\n",
    "\n",
    "    def add_trick(self, trick):\n",
    "        self.tricks.append(trick)\n",
    "        \n",
    "d = Dog(\"Fido\")\n",
    "e = Dog(\"Buddy\")\n",
    "d.add_trick('roll over')\n",
    "e.add_trick('play dead')"
   ]
  },
  {
   "cell_type": "code",
   "execution_count": 293,
   "metadata": {
    "collapsed": false
   },
   "outputs": [
    {
     "data": {
      "text/plain": [
       "['roll over']"
      ]
     },
     "execution_count": 293,
     "metadata": {},
     "output_type": "execute_result"
    }
   ],
   "source": [
    "d.tricks"
   ]
  },
  {
   "cell_type": "code",
   "execution_count": 294,
   "metadata": {
    "collapsed": false
   },
   "outputs": [
    {
     "data": {
      "text/plain": [
       "['play dead']"
      ]
     },
     "execution_count": 294,
     "metadata": {},
     "output_type": "execute_result"
    }
   ],
   "source": [
    "e.tricks"
   ]
  },
  {
   "cell_type": "markdown",
   "metadata": {
    "collapsed": true
   },
   "source": [
    "### A Note on Naming Conventions \n",
    "Data attributes override method attributes with the same name. To avoid accidental name conflicts, which may cause hard-to-find bugs in large programs, it is wise to use some kind of convention that minimizes the chance of conflicts. Possible conventions include capitalizing method names, prefixing data attribute names with a small unique string, or using verbs for methods and nouns for data attributes."
   ]
  },
  {
   "cell_type": "markdown",
   "metadata": {},
   "source": [
    "### Methods Calling Other Methods\n",
    "Methods can call other Methods by using method attributes of the self argument:"
   ]
  },
  {
   "cell_type": "code",
   "execution_count": 34,
   "metadata": {
    "collapsed": true
   },
   "outputs": [],
   "source": [
    "class Bag:\n",
    "    def __init__(self):\n",
    "        self.data = []\n",
    "\n",
    "    def add(self, x):\n",
    "        self.data.append(x)\n",
    "\n",
    "    def add_twice(self, x):\n",
    "        self.add(x)\n",
    "        self.add(x)"
   ]
  },
  {
   "cell_type": "code",
   "execution_count": 35,
   "metadata": {
    "collapsed": false
   },
   "outputs": [
    {
     "data": {
      "text/plain": [
       "['orange']"
      ]
     },
     "execution_count": 35,
     "metadata": {},
     "output_type": "execute_result"
    }
   ],
   "source": [
    "a = Bag()\n",
    "b = Bag()\n",
    "\n",
    "a.add(\"orange\")\n",
    "b.add_twice(\"appple\")\n",
    "\n",
    "a.data"
   ]
  },
  {
   "cell_type": "code",
   "execution_count": 36,
   "metadata": {
    "collapsed": false
   },
   "outputs": [
    {
     "data": {
      "text/plain": [
       "['appple', 'appple']"
      ]
     },
     "execution_count": 36,
     "metadata": {},
     "output_type": "execute_result"
    }
   ],
   "source": [
    "b.data"
   ]
  },
  {
   "cell_type": "markdown",
   "metadata": {},
   "source": [
    "<a id='pillars'></a>\n",
    "# The Four Pillars of Object-Oriented Programming\n",
    "Now that we understand classes, let's dive into some programming theory to understand why they're useful. There are four key concepts that define object-oriented programming:  \n",
    " - Encapsulation\n",
    " - Abstraction\n",
    " - Inheritance\n",
    " - Polymorphism\n",
    " \n",
    "Each of these is at play when we create and use classes."
   ]
  },
  {
   "cell_type": "markdown",
   "metadata": {},
   "source": [
    "<a id='encapsulation'> </a>\n",
    "## Encapsulation\n",
    "Encapsulation is the grouping of variables (data values) and their methods (the things you can do to the data) into a single object. If you recall the concept of a program's [state](https://en.wikipedia.org/wiki/State_(computer_science), a more general way of defining encapsulation is a program's ability to group its state and the methods we'd use to alter its state within a single unit, i.e. an object.\n",
    "\n",
    "Let's see how a Python `class` enacts encapsulation:"
   ]
  },
  {
   "cell_type": "code",
   "execution_count": 295,
   "metadata": {
    "collapsed": false
   },
   "outputs": [],
   "source": [
    "class Circle():\n",
    "    from scipy import pi\n",
    "    \n",
    "    def __init__(self, r):\n",
    "        self.r = r\n",
    "        \n",
    "    def get_area(self):\n",
    "        return (self.r**2) * pi"
   ]
  },
  {
   "cell_type": "code",
   "execution_count": 296,
   "metadata": {
    "collapsed": false
   },
   "outputs": [
    {
     "data": {
      "text/plain": [
       "12.56"
      ]
     },
     "execution_count": 296,
     "metadata": {},
     "output_type": "execute_result"
    }
   ],
   "source": [
    "c = Circle(2)\n",
    "c.get_area()"
   ]
  },
  {
   "cell_type": "markdown",
   "metadata": {},
   "source": [
    "Above, our `Circle` class contains within it an instance variable, `r`, that will hold an object's state, i.e. a data value for a circle object's radius. But we also defined a method, `get_area`, that will use this instance variable to return the area of the circle. By defining a method alongside the data it uses within the same class object, we've enacted encapsulation."
   ]
  },
  {
   "cell_type": "markdown",
   "metadata": {},
   "source": [
    "<a id='abstraction'> </a>\n",
    "## Abstraction\n",
    "How to define abstraction? Let's start with the dictionary definition of abstract as a verb:\n",
    "> `to consider as a general quality or characteristic apart from specific objects or instances`\n",
    "\n",
    "How does this apply to programming? Well, whenever you create a class to model something, you have to leave out some of the extraneous details. Take the `Dog` class from above. We defined the `genus` of dog as canine. But why did we stop there? Why didn't we fully flesh out our object's biological taxonomy as it should be:\n",
    "\n",
    "> `Domain- Eukarya`<br>\n",
    "&nbsp;&nbsp;&nbsp;&nbsp;&nbsp;&nbsp;&nbsp;&nbsp;`Kingdom- Animalia`<br>\n",
    "&nbsp;&nbsp;&nbsp;&nbsp;&nbsp;&nbsp;&nbsp;&nbsp;&nbsp;&nbsp;&nbsp;&nbsp;&nbsp;&nbsp;&nbsp;&nbsp;`Phylum- Chordata`<br>\n",
    "&nbsp;&nbsp;&nbsp;&nbsp;&nbsp;&nbsp;&nbsp;&nbsp;&nbsp;&nbsp;&nbsp;&nbsp;&nbsp;&nbsp;&nbsp;&nbsp;&nbsp;&nbsp;&nbsp;&nbsp;&nbsp;&nbsp;&nbsp;&nbsp;`Subphylum- Vertebrata`<br>\n",
    "&nbsp;&nbsp;&nbsp;&nbsp;&nbsp;&nbsp;&nbsp;&nbsp;&nbsp;&nbsp;&nbsp;&nbsp;&nbsp;&nbsp;&nbsp;&nbsp;&nbsp;&nbsp;&nbsp;&nbsp;&nbsp;&nbsp;&nbsp;&nbsp;&nbsp;&nbsp;&nbsp;&nbsp;&nbsp;&nbsp;&nbsp;&nbsp;`Class- Mammalia`<br>\n",
    "&nbsp;&nbsp;&nbsp;&nbsp;&nbsp;&nbsp;&nbsp;&nbsp;&nbsp;&nbsp;&nbsp;&nbsp;&nbsp;&nbsp;&nbsp;&nbsp;&nbsp;&nbsp;&nbsp;&nbsp;&nbsp;&nbsp;&nbsp;&nbsp;&nbsp;&nbsp;&nbsp;&nbsp;&nbsp;&nbsp;&nbsp;&nbsp;&nbsp;&nbsp;&nbsp;&nbsp;&nbsp;&nbsp;&nbsp;&nbsp;`Order- Carnivora`<br>\n",
    "&nbsp;&nbsp;&nbsp;&nbsp;&nbsp;&nbsp;&nbsp;&nbsp;&nbsp;&nbsp;&nbsp;&nbsp;&nbsp;&nbsp;&nbsp;&nbsp;&nbsp;&nbsp;&nbsp;&nbsp;&nbsp;&nbsp;&nbsp;&nbsp;&nbsp;&nbsp;&nbsp;&nbsp;&nbsp;&nbsp;&nbsp;&nbsp;&nbsp;&nbsp;&nbsp;&nbsp;&nbsp;&nbsp;&nbsp;&nbsp;&nbsp;&nbsp;&nbsp;&nbsp;&nbsp;&nbsp;&nbsp;&nbsp;`Family- Canidae`<br>\n",
    "&nbsp;&nbsp;&nbsp;&nbsp;&nbsp;&nbsp;&nbsp;&nbsp;&nbsp;&nbsp;&nbsp;&nbsp;&nbsp;&nbsp;&nbsp;&nbsp;&nbsp;&nbsp;&nbsp;&nbsp;&nbsp;&nbsp;&nbsp;&nbsp;&nbsp;&nbsp;&nbsp;&nbsp;&nbsp;&nbsp;&nbsp;&nbsp;&nbsp;&nbsp;&nbsp;&nbsp;&nbsp;&nbsp;&nbsp;&nbsp;&nbsp;&nbsp;&nbsp;&nbsp;&nbsp;&nbsp;&nbsp;&nbsp;&nbsp;&nbsp;&nbsp;&nbsp;&nbsp;&nbsp;&nbsp;&nbsp;`Genus- Canis`<br>\n",
    "&nbsp;&nbsp;&nbsp;&nbsp;&nbsp;&nbsp;&nbsp;&nbsp;&nbsp;&nbsp;&nbsp;&nbsp;&nbsp;&nbsp;&nbsp;&nbsp;&nbsp;&nbsp;&nbsp;&nbsp;&nbsp;&nbsp;&nbsp;&nbsp;&nbsp;&nbsp;&nbsp;&nbsp;&nbsp;&nbsp;&nbsp;&nbsp;&nbsp;&nbsp;&nbsp;&nbsp;&nbsp;&nbsp;&nbsp;&nbsp;&nbsp;&nbsp;&nbsp;&nbsp;&nbsp;&nbsp;&nbsp;&nbsp;&nbsp;&nbsp;&nbsp;&nbsp;&nbsp;&nbsp;&nbsp;&nbsp;&nbsp;&nbsp;&nbsp;&nbsp;&nbsp;&nbsp;&nbsp;&nbsp;`Species- Canis lupus`<br>\n",
    "&nbsp;&nbsp;&nbsp;&nbsp;&nbsp;&nbsp;&nbsp;&nbsp;&nbsp;&nbsp;&nbsp;&nbsp;&nbsp;&nbsp;&nbsp;&nbsp;&nbsp;&nbsp;&nbsp;&nbsp;&nbsp;&nbsp;&nbsp;&nbsp;&nbsp;&nbsp;&nbsp;&nbsp;&nbsp;&nbsp;&nbsp;&nbsp;&nbsp;&nbsp;&nbsp;&nbsp;&nbsp;&nbsp;&nbsp;&nbsp;&nbsp;&nbsp;&nbsp;&nbsp;&nbsp;&nbsp;&nbsp;&nbsp;&nbsp;&nbsp;&nbsp;&nbsp;&nbsp;&nbsp;&nbsp;&nbsp;&nbsp;&nbsp;&nbsp;&nbsp;&nbsp;&nbsp;&nbsp;&nbsp;&nbsp;&nbsp;&nbsp;&nbsp;&nbsp;&nbsp;&nbsp;&nbsp;`Subspecies- Canis lupus familiaris`<br>\n",
    "\n",
    "Obviously we didn't model all of that because it was unecessary for our purpose. Abstraction in object-oriented programming allows you - or perhaps requires you - to strip out the unnecessary details and focus on the task at hand. "
   ]
  },
  {
   "cell_type": "markdown",
   "metadata": {
    "collapsed": true
   },
   "source": [
    "<a id='inheritance'> </a>\n",
    "## Inheritance\n",
    "In Python, as well as other object-oriented languages, a class can inherit attributes and methods from another class. The class from which something is inherited is called the *superclass* or *parent class* while the class that's doing the inheriting is called the *subclass* or *child class*.\n",
    "\n",
    "The syntax for a *subclass */ *child class* definition looks like this:\n",
    "\n",
    "> `class SubClassName(SuperClassName):`<br>\n",
    "&nbsp;&nbsp;&nbsp;&nbsp;&nbsp;&nbsp;&nbsp;&nbsp;`<statement-1>`<br>\n",
    "&nbsp;&nbsp;&nbsp;&nbsp;&nbsp;&nbsp;&nbsp;&nbsp;`.`<br>\n",
    "&nbsp;&nbsp;&nbsp;&nbsp;&nbsp;&nbsp;&nbsp;&nbsp;`.`<br>\n",
    "&nbsp;&nbsp;&nbsp;&nbsp;&nbsp;&nbsp;&nbsp;&nbsp;`.`<br>\n",
    "&nbsp;&nbsp;&nbsp;&nbsp;&nbsp;&nbsp;&nbsp;&nbsp;`<statement-N>`<br>"
   ]
  },
  {
   "cell_type": "markdown",
   "metadata": {},
   "source": [
    "So why would we want to use inheritance in our programs? Put simply, because it makes classes better able to model relationships that we know from real life. \n",
    "\n",
    "Consider a program that helps a Human Resources specialist keep track of both their business's employees and customers. Their program might look something like this, using a superclass to model a `Person` in the abstract and then more specific subclasses to model an `Employee` versus a `Customer`."
   ]
  },
  {
   "cell_type": "code",
   "execution_count": 2,
   "metadata": {
    "collapsed": false
   },
   "outputs": [
    {
     "name": "stdout",
     "output_type": "stream",
     "text": [
      "Bugs Bunny\n",
      "Daffy Duck, 101\n",
      "Hi, Wile E. Coyote! Seems like you like dynamite. Would you like to order some more?\n"
     ]
    }
   ],
   "source": [
    "class Person:\n",
    "\n",
    "    def __init__(self, firstName, lastName):\n",
    "        self.firstName = firstName\n",
    "        self.lastName = lastName\n",
    "\n",
    "    def name(self):\n",
    "        return self.firstName + \" \" + self.lastName\n",
    "    \n",
    "\n",
    "class Employee(Person):\n",
    "\n",
    "    def __init__(self, firstName, lastName, staffNumber):\n",
    "        Person.__init__(self, firstName, lastName)\n",
    "        self.staffNumber = staffNumber\n",
    "\n",
    "    def get_employee(self):\n",
    "        return self.name() + \", \" +  self.staffNumber\n",
    "    \n",
    "\n",
    "class Customer(Person):\n",
    "\n",
    "    def __init__(self, firstName, lastName, customerNumber, orderHistory):\n",
    "        Person.__init__(self, firstName, lastName)\n",
    "        self.customerNumber = customerNumber\n",
    "        self.orderHistory = orderHistory\n",
    "    \n",
    "    def get_most_ordered(self):\n",
    "        \"\"\"Returns the most common item from  a list.\n",
    "        \"\"\"\n",
    "        self.most_ordered = max(set(self.orderHistory), key=self.orderHistory.count)\n",
    "        return \"Hi, {}! Seems like you like {}. Would you like to order some more?\".format(self.name(),self.most_ordered)\n",
    "\n",
    "\n",
    "\n",
    "p = Person(\"Bugs\", \"Bunny\")\n",
    "e = Employee(\"Daffy\", \"Duck\", \"101\")\n",
    "c = Customer(\"Wile E.\",\"Coyote\",\"2001\",[\"dynamite\", \"bird food\", \"dynamite\", \"traps\"])\n",
    "\n",
    "print(p.name())\n",
    "print(e.get_employee())\n",
    "print(c.get_most_ordered())"
   ]
  },
  {
   "cell_type": "markdown",
   "metadata": {
    "collapsed": true
   },
   "source": [
    "Above, we made the `Employee` and `Customer` classes inherit the attributes and method from `Person`. You can see this most clearly when we called `c.get_most_ordered()`. Although we never defined the `name()` method within `Customer`, we were still able to call that method on `self` because the `Customer` class inherited it from `Person`.\n",
    "\n",
    "### Inheritance and Scope \n",
    "Your superclass must be defined in the same scope as the subclass definition. So what do you do when the superclass is defined in another module? Well, you can do this!\n",
    "\n",
    "`class DerivedClassName(modname.BaseClassName):`<br>\n",
    "&nbsp;&nbsp;&nbsp;&nbsp;&nbsp;&nbsp;&nbsp;&nbsp;`<statement-1>`<br>\n",
    "&nbsp;&nbsp;&nbsp;&nbsp;&nbsp;&nbsp;&nbsp;&nbsp;`.`<br>\n",
    "&nbsp;&nbsp;&nbsp;&nbsp;&nbsp;&nbsp;&nbsp;&nbsp;`.`<br>\n",
    "&nbsp;&nbsp;&nbsp;&nbsp;&nbsp;&nbsp;&nbsp;&nbsp;`.`<br>\n",
    "&nbsp;&nbsp;&nbsp;&nbsp;&nbsp;&nbsp;&nbsp;&nbsp;`<statement-N>`<br>"
   ]
  },
  {
   "cell_type": "markdown",
   "metadata": {},
   "source": [
    "### Built-in Functions to Work with Inheritance\n",
    "Python has two built-in functions to help you check inherited class relationships.\n",
    "\n",
    "**`isinstance()`**<br>\n",
    "> This will check an instance’s `type`. For example, `isinstance(obj, int)` will be True only if `obj.__class__` is `int` or some class derived from int."
   ]
  },
  {
   "cell_type": "code",
   "execution_count": 299,
   "metadata": {
    "collapsed": false
   },
   "outputs": [
    {
     "data": {
      "text/plain": [
       "True"
      ]
     },
     "execution_count": 299,
     "metadata": {},
     "output_type": "execute_result"
    }
   ],
   "source": [
    "integer = 1\n",
    "isinstance(integer, int)"
   ]
  },
  {
   "cell_type": "markdown",
   "metadata": {},
   "source": [
    "**`issubclass()`** <br>\n",
    "> This will check class inheritance. For example, `issubclass(bool, int)` is True since `bool` is a subclass of `int`. "
   ]
  },
  {
   "cell_type": "code",
   "execution_count": 1,
   "metadata": {
    "collapsed": false
   },
   "outputs": [
    {
     "data": {
      "text/plain": [
       "True"
      ]
     },
     "execution_count": 1,
     "metadata": {},
     "output_type": "execute_result"
    }
   ],
   "source": [
    "issubclass(bool, int)"
   ]
  },
  {
   "cell_type": "code",
   "execution_count": 3,
   "metadata": {
    "collapsed": false
   },
   "outputs": [
    {
     "data": {
      "text/plain": [
       "True"
      ]
     },
     "execution_count": 3,
     "metadata": {},
     "output_type": "execute_result"
    }
   ],
   "source": [
    "issubclass(Customer, Person)"
   ]
  },
  {
   "cell_type": "markdown",
   "metadata": {
    "collapsed": true
   },
   "source": [
    "### Multiple Inheritance\n",
    "A class can inherit from multiple classes. A class definition with multiple superclasses looks like this:\n",
    "\n",
    "> &nbsp;&nbsp;&nbsp;&nbsp;&nbsp;&nbsp;&nbsp;&nbsp;`class SuperClassName(SubClass1, SubClass2, SubClass3):`<br>\n",
    "&nbsp;&nbsp;&nbsp;&nbsp;&nbsp;&nbsp;&nbsp;&nbsp;&nbsp;&nbsp;&nbsp;&nbsp;&nbsp;&nbsp;&nbsp;&nbsp;`<statement-1>`<br>\n",
    "&nbsp;&nbsp;&nbsp;&nbsp;&nbsp;&nbsp;&nbsp;&nbsp;&nbsp;&nbsp;&nbsp;&nbsp;&nbsp;&nbsp;&nbsp;&nbsp;`.`<br>\n",
    "&nbsp;&nbsp;&nbsp;&nbsp;&nbsp;&nbsp;&nbsp;&nbsp;&nbsp;&nbsp;&nbsp;&nbsp;&nbsp;&nbsp;&nbsp;&nbsp;`.`<br>\n",
    "&nbsp;&nbsp;&nbsp;&nbsp;&nbsp;&nbsp;&nbsp;&nbsp;&nbsp;&nbsp;&nbsp;&nbsp;&nbsp;&nbsp;&nbsp;&nbsp;`.`<br>\n",
    "&nbsp;&nbsp;&nbsp;&nbsp;&nbsp;&nbsp;&nbsp;&nbsp;&nbsp;&nbsp;&nbsp;&nbsp;&nbsp;&nbsp;&nbsp;&nbsp;`<statement-N>`"
   ]
  },
  {
   "cell_type": "markdown",
   "metadata": {
    "collapsed": true
   },
   "source": [
    "As you can imagine, namespace searches with multiple inheritance can get a little complicated, especially when two classes, `B` and `C`, inherit from a superclass `A` and then there's a class `D` that inherits from both `B` and `C`. This is called the \"diamond problem\" because of the shape of the class inheritance diagram. In this case, class `A` is at the top, both `B` and `C` sit separately beneath it, and `D` joins the two together at the bottom to form a diamond shape:\n",
    "\n",
    "<img src=\"assets/diamond_class.png\" height = 150 width = 150>\n",
    "\n",
    "The problem arises if there is a method in `A` that `B` and `C` have overridden but that is not overrideen in `D`. In such a case, which version of the method does `D` inherit: that of `B` or that of `C`?\n",
    "\n",
    "Python deals with this by creating a list of classes using the [C3 linearization](https://en.wikipedia.org/wiki/C3_linearization) algorithm. This algorithm enforces a particular Method Resolution Order (MRO), which follows two constraints: \n",
    "1. Children precede their parents\n",
    "2. If a class inherits from multiple classes, it's kept in the order specified in the tuple of base classes. \n",
    "\n",
    "In our diagram above, name resolution will therefore follow the order `D`, `B`, `C`, `A`. We can test that ourselves by looking at the MRO of this class structure using the `mro()` method."
   ]
  },
  {
   "cell_type": "code",
   "execution_count": 4,
   "metadata": {
    "collapsed": false
   },
   "outputs": [
    {
     "name": "stdout",
     "output_type": "stream",
     "text": [
      "[<class '__main__.D'>, <class '__main__.B'>, <class '__main__.C'>, <class '__main__.A'>, <class 'object'>]\n"
     ]
    }
   ],
   "source": [
    "class A(): \n",
    "    pass\n",
    "\n",
    "class B(A): \n",
    "    pass\n",
    "class C(A): \n",
    "    pass\n",
    "\n",
    "class D(B,C): \n",
    "    pass\n",
    "\n",
    "print(D.mro())"
   ]
  },
  {
   "cell_type": "markdown",
   "metadata": {},
   "source": [
    "As you can see, the order is `D`, `B`, `C` and then `A`."
   ]
  },
  {
   "cell_type": "markdown",
   "metadata": {},
   "source": [
    "> *If you really want to read more about this algorithm in Python, see [this](https://www.python.org/download/releases/2.3/mro/).*"
   ]
  },
  {
   "cell_type": "markdown",
   "metadata": {},
   "source": [
    "<a id='polymorphism'> </a>\n",
    "## Polymorphism\n",
    "Polymorphism is the ability of functions or methods to act on different underlying data types. This means that functions and methods can use objects of different types at different times without us having to specify every nitty-gritty detail.\n",
    "\n",
    "To get an idea of why this is valuable, consider the built-in `print` function:"
   ]
  },
  {
   "cell_type": "code",
   "execution_count": 101,
   "metadata": {
    "collapsed": false
   },
   "outputs": [
    {
     "name": "stdout",
     "output_type": "stream",
     "text": [
      "one\n",
      "1\n",
      "1.0\n"
     ]
    }
   ],
   "source": [
    "print('one')\n",
    "print(1)\n",
    "print(1.0)"
   ]
  },
  {
   "cell_type": "markdown",
   "metadata": {},
   "source": [
    "Although we passed three different data types (`str`, `int`, and `float`) to the `print` function, the function still knew what to do. In other words, we didn't have to use separate functions - like `print_str`, `print_int`, or `print_float` - for each parameter. This behaviour is useful when creating more complex programs. Take, for example, a program that prints a list of objects. Without polymorphism, you'd have to check the type of each object to determine the correct `print` function to use. This would make the program harder to write, read, and edit. \n",
    "\n",
    "To make use of polymorphism ourselves, we’re going to create two classes that we'll then use with two separate instance objects. Polymorphism will allow these separate classes to have a common interface, i.e. they'll have methods that are distinct but that share the same name.\n",
    "\n",
    "First, we'll create a `Dog` class and a `Cat` class. In each of these classes, we'll define methods for `run()`, `play()`, and `speak()`. Although these method names will be the same, the things they do will be slightly different."
   ]
  },
  {
   "cell_type": "code",
   "execution_count": 5,
   "metadata": {
    "collapsed": false
   },
   "outputs": [],
   "source": [
    "class Dog:\n",
    "    def run(self):\n",
    "        print(\"The dog is running.\")\n",
    "\n",
    "    def play(self):\n",
    "        print(\"This dog loves to play, so he's playing.\")\n",
    "\n",
    "    def speak(self):\n",
    "        print(\"wuff, ruff, arf, au au, borf, bow-wow, yip-yip, etc....\")\n",
    "        \n",
    "        \n",
    "class Cat:\n",
    "    def run(self):\n",
    "        print(\"The cat is running.\")\n",
    "\n",
    "    def play(self):\n",
    "        print(\"This cat does nothing, eyes you contemptuously...\")\n",
    "\n",
    "    def speak(self):\n",
    "        print(\"This cat does nothing, until you turn your back to him, and then he bites you.\")"
   ]
  },
  {
   "cell_type": "markdown",
   "metadata": {},
   "source": [
    "Above, both `Dog` and `Cat` have three methods of the same name. However, each method does something somewhat different. To see this, let's instantiate each class."
   ]
  },
  {
   "cell_type": "code",
   "execution_count": 6,
   "metadata": {
    "collapsed": true
   },
   "outputs": [],
   "source": [
    "odie = Dog()\n",
    "garfield = Cat()"
   ]
  },
  {
   "cell_type": "markdown",
   "metadata": {},
   "source": [
    "Now that we have an instance of each class, let's call the `run()` method to see that each object behaves as intended:"
   ]
  },
  {
   "cell_type": "code",
   "execution_count": 7,
   "metadata": {
    "collapsed": false
   },
   "outputs": [
    {
     "name": "stdout",
     "output_type": "stream",
     "text": [
      "The dog is running.\n"
     ]
    }
   ],
   "source": [
    "odie.run()"
   ]
  },
  {
   "cell_type": "code",
   "execution_count": 8,
   "metadata": {
    "collapsed": false
   },
   "outputs": [
    {
     "name": "stdout",
     "output_type": "stream",
     "text": [
      "The cat is running.\n"
     ]
    }
   ],
   "source": [
    "garfield.run()"
   ]
  },
  {
   "cell_type": "markdown",
   "metadata": {},
   "source": [
    "Since both of these objects have a `run()` method - as well as `play()` and `speak()` methods -  we can say that they're making use of a common interface. In Python, this means we can use the two objects in the same way regardless of the class differences. To prove this, we'll iterate through a tuple of these objects, calling each of the three methods with each iteration."
   ]
  },
  {
   "cell_type": "code",
   "execution_count": 9,
   "metadata": {
    "collapsed": false
   },
   "outputs": [
    {
     "name": "stdout",
     "output_type": "stream",
     "text": [
      "The dog is running.\n",
      "This dog loves to play, so he's playing.\n",
      "wuff, ruff, arf, au au, borf, bow-wow, yip-yip, etc....\n",
      "\n",
      "\n",
      "The cat is running.\n",
      "This cat does nothing, eyes you contemptuously...\n",
      "This cat does nothing, until you turn your back to him, and then he bites you.\n",
      "\n",
      "\n"
     ]
    }
   ],
   "source": [
    "for animal in (odie, garfield):\n",
    "    animal.run()\n",
    "    animal.play()\n",
    "    animal.speak()\n",
    "    print(\"\\n\")"
   ]
  },
  {
   "cell_type": "markdown",
   "metadata": {},
   "source": [
    "The `for` loop iterated through the tuple, using first the `odie` instance of the `Dog` class and then the `garfield` instance of the `Cat` class. Polymorhpism is being exhibited here because we used the same methods on each object without specifying the class type of each object."
   ]
  },
  {
   "cell_type": "markdown",
   "metadata": {},
   "source": [
    "### Polymorphism with a Function\n",
    "It's also possible to create functions that can accept any object.\n",
    "\n",
    "To see this, we'll create a function called `on_a_leash()` that accepts as an argument a class instance."
   ]
  },
  {
   "cell_type": "code",
   "execution_count": 10,
   "metadata": {
    "collapsed": true
   },
   "outputs": [],
   "source": [
    "def on_a_leash(pet):     #we're calling this pet, but it could be anything really\n",
    "    pet.run()            #we'll call the run() method since this is defined in both the Dog \n",
    "                        #and Cat classes"
   ]
  },
  {
   "cell_type": "markdown",
   "metadata": {},
   "source": [
    "Now we’ll recreate instances of `Dog` and `Cat`. We'll then pass those objects into our `on_a_leash()` function."
   ]
  },
  {
   "cell_type": "code",
   "execution_count": 11,
   "metadata": {
    "collapsed": false
   },
   "outputs": [
    {
     "name": "stdout",
     "output_type": "stream",
     "text": [
      "The dog is running.\n",
      "The cat is running.\n"
     ]
    }
   ],
   "source": [
    "odie = Dog()\n",
    "garfield = Cat()\n",
    "\n",
    "on_a_leash(odie)\n",
    "on_a_leash(garfield)"
   ]
  },
  {
   "cell_type": "markdown",
   "metadata": {},
   "source": [
    "Above, we passed intances of our two class objects into the function `on_a_leash()`. Since both objecst had `run()` methods defined in their class definitions, the function was able to access those without any type checking."
   ]
  },
  {
   "cell_type": "markdown",
   "metadata": {},
   "source": [
    "### Polymorphism and Inheritance\n",
    "These two concepts are closely related in object-oriented programming. When you have superclasses and subclasses, polymorphism allows a subclass to override a method of the superclass. This means that a method of a class can do different things within different subclasses. \n",
    "\n",
    "As an example, let's make `Dog` and `Cat` subclasses of an `Animal` class that also has a `speak()` method. We'll also give `Animal` a unique method called `sleep()`."
   ]
  },
  {
   "cell_type": "code",
   "execution_count": 309,
   "metadata": {
    "collapsed": true
   },
   "outputs": [],
   "source": [
    "class Animal:\n",
    "    \n",
    "    def speak(self):\n",
    "        print(\"ROAR!!\")\n",
    "        \n",
    "    def sleep(self):\n",
    "        print(\"zzzzzz\")\n",
    "\n",
    "        \n",
    "class Dog(Animal):\n",
    "    \n",
    "    def run(self):\n",
    "        print(\"The dog is running.\")\n",
    "\n",
    "    def play(self):\n",
    "        print(\"This dog loves to play, so he's playing.\")\n",
    "\n",
    "    def speak(self):\n",
    "        print(\"wuff, ruff, arf, au au, borf, bow-wow, yip-yip, etc....\")\n",
    "        \n",
    "        \n",
    "class Cat(Animal):\n",
    "    \n",
    "    def run(self):\n",
    "        print(\"The cat is running.\")\n",
    "\n",
    "    def play(self):\n",
    "        print(\"This cat does nothing, eyes you contemptuously...\")\n",
    "\n",
    "    def speak(self):\n",
    "        print(\"This cat does nothing, until you turn your back to him, and then he bites you.\")"
   ]
  },
  {
   "cell_type": "markdown",
   "metadata": {},
   "source": [
    "Now let's see how the `speak()` method of the subclass `Dog()` can override the `speak()` method of the superclass `Animal`:"
   ]
  },
  {
   "cell_type": "code",
   "execution_count": 310,
   "metadata": {
    "collapsed": false
   },
   "outputs": [],
   "source": [
    "snuffaluffagus = Animal()\n",
    "lassie = Dog()"
   ]
  },
  {
   "cell_type": "code",
   "execution_count": 311,
   "metadata": {
    "collapsed": false
   },
   "outputs": [
    {
     "name": "stdout",
     "output_type": "stream",
     "text": [
      "ROAR!!\n",
      "wuff, ruff, arf, au au, borf, bow-wow, yip-yip, etc....\n"
     ]
    }
   ],
   "source": [
    "snuffaluffagus.speak()\n",
    "lassie.speak()"
   ]
  },
  {
   "cell_type": "markdown",
   "metadata": {},
   "source": [
    "And there you have it! We'll see later how you can supress this behavior, too, by the way.\n",
    "\n",
    "But for now, let's also show that `lassie` inheirted the `sleep()` method from its `Animal` superclass:"
   ]
  },
  {
   "cell_type": "code",
   "execution_count": 312,
   "metadata": {
    "collapsed": false
   },
   "outputs": [
    {
     "name": "stdout",
     "output_type": "stream",
     "text": [
      "zzzzzz\n"
     ]
    }
   ],
   "source": [
    "lassie.sleep()"
   ]
  },
  {
   "cell_type": "markdown",
   "metadata": {},
   "source": [
    "Phew!"
   ]
  },
  {
   "cell_type": "markdown",
   "metadata": {},
   "source": [
    "<a id='dynamically'> </a>\n",
    "# Dynamically Typed vs. Statically Typed\n",
    "Python is a **dynamically typed** language. This is the opposite of a **statically typed** language. \n",
    "\n",
    "In a **statically typed** language, every variable name is generally bound to both its object and its object type. This is done at compile time. So once a variable name is bound to a type through a declaration, like `String s = \"This is a string\"`, only string values can be rebound to the variable name `s`. Any attempt to bind the name to an object of another type, like `int`, would raise a type error.\n",
    "\n",
    "In a **dynamically typed** language like Python, every variable is just a *name*. It is only bound to its object and not its type. Consider this code, which would be illegal in a statically typed language:"
   ]
  },
  {
   "cell_type": "code",
   "execution_count": 313,
   "metadata": {
    "collapsed": true
   },
   "outputs": [],
   "source": [
    "var = 123\n",
    "var = \"abc\""
   ]
  },
  {
   "cell_type": "markdown",
   "metadata": {},
   "source": [
    "> In the first statement, we created an `int` object with the value `123` and then bound the name `var` to it. In the second statement, we created a `str` object with the value `\"abc\"` and then rebound the name `var` to it. Python can bind a name to objects of different types throughout the execution of the program because variable names in **dynamically typed** languages are bound to their objects at execution (as opposed to compile) time."
   ]
  },
  {
   "cell_type": "markdown",
   "metadata": {},
   "source": [
    "<a id='strong'> </a>\n",
    "# Strongly Typed vs. Weakly Typed\n",
    "Python is a **strongly typed** langauge. This is the opposite of a **weakly typed** language.\n",
    "\n",
    "In a **weakly typed** language, variables of unrelated types can be implicitly coerced to the same type. Most languages allow for a small degree of this type coercion, like when you add an integer and a float. But weakly typed langauges take this one step further, like when you try to add a number to a string. Thus a statement like this is perfectly legal:\n",
    "\n",
    ">`a  = 1`<br>\n",
    "`b = \"1\"`<br>\n",
    "`c = concatenate(a, b)  # this will return \"11\"`<br>\n",
    "`d = add(a, b)          # this will return 2`<br>\n",
    "\n",
    "In a **strongly typed** language, the last two statements above would have raised type errors:"
   ]
  },
  {
   "cell_type": "code",
   "execution_count": 314,
   "metadata": {
    "collapsed": false
   },
   "outputs": [
    {
     "ename": "TypeError",
     "evalue": "unsupported operand type(s) for +: 'int' and 'str'",
     "output_type": "error",
     "traceback": [
      "\u001b[0;31m---------------------------------------------------------------------------\u001b[0m",
      "\u001b[0;31mTypeError\u001b[0m                                 Traceback (most recent call last)",
      "\u001b[0;32m<ipython-input-314-d3f19fc1f118>\u001b[0m in \u001b[0;36m<module>\u001b[0;34m()\u001b[0m\n\u001b[1;32m      1\u001b[0m \u001b[0ma\u001b[0m \u001b[0;34m=\u001b[0m \u001b[0;36m1\u001b[0m\u001b[0;34m\u001b[0m\u001b[0m\n\u001b[1;32m      2\u001b[0m \u001b[0mb\u001b[0m \u001b[0;34m=\u001b[0m \u001b[0;34m\"1\"\u001b[0m\u001b[0;34m\u001b[0m\u001b[0m\n\u001b[0;32m----> 3\u001b[0;31m \u001b[0mc\u001b[0m \u001b[0;34m=\u001b[0m \u001b[0ma\u001b[0m \u001b[0;34m+\u001b[0m \u001b[0mb\u001b[0m\u001b[0;34m\u001b[0m\u001b[0m\n\u001b[0m",
      "\u001b[0;31mTypeError\u001b[0m: unsupported operand type(s) for +: 'int' and 'str'"
     ]
    }
   ],
   "source": [
    "a = 1\n",
    "b = \"1\"\n",
    "c = a + b"
   ]
  },
  {
   "cell_type": "markdown",
   "metadata": {},
   "source": [
    "We avoid these errors in a strongly typed language like Python through explicit type conversions:"
   ]
  },
  {
   "cell_type": "code",
   "execution_count": 184,
   "metadata": {
    "collapsed": false
   },
   "outputs": [
    {
     "data": {
      "text/plain": [
       "'11'"
      ]
     },
     "execution_count": 184,
     "metadata": {},
     "output_type": "execute_result"
    }
   ],
   "source": [
    "a = 1\n",
    "b = \"1\"\n",
    "c = str(a) + b\n",
    "c"
   ]
  },
  {
   "cell_type": "code",
   "execution_count": 185,
   "metadata": {
    "collapsed": false
   },
   "outputs": [
    {
     "data": {
      "text/plain": [
       "2"
      ]
     },
     "execution_count": 185,
     "metadata": {},
     "output_type": "execute_result"
    }
   ],
   "source": [
    "a = 1\n",
    "b = \"1\"\n",
    "c = a + int(b)\n",
    "c"
   ]
  },
  {
   "cell_type": "markdown",
   "metadata": {},
   "source": [
    "<a id='duck'> </a>\n",
    "# Duck Typing\n",
    "A concept closely related to Polymorphism, but that shouldn't be conlfated with it, is **duck typing**. You've probably heard the expression:\n",
    "\n",
    "<img src = 'assets/duck_typing.jpg' height = 250 width = 250>\n",
    "\n",
    "In Python, think of duck typing as a style or feature of dynamic typing that is closely related to polymorphism thanks to concepts known as [late binding](https://en.wikipedia.org/wiki/Late_binding) and [dynamic dispatch](https://en.wikipedia.org/wiki/Dynamic_dispatch). \n",
    "\n",
    "With duck typing, the set of methods and attributes defined within a class determine what we can do with that class. This means that it doesn't really matter what type of data you have so long as the method you're trying to use on it exists. \n",
    "\n",
    "To see it action, let's look at how we access items in lists and dictionaries."
   ]
  },
  {
   "cell_type": "markdown",
   "metadata": {},
   "source": [
    "> A lot of Python is [syntactic sugar](https://en.wikipedia.org/wiki/Syntactic_sugar) for underlying methods. For example, the `__getitem__()` method is called whenever you access members of a `list` or `dict` type object using square brackets:"
   ]
  },
  {
   "cell_type": "code",
   "execution_count": 315,
   "metadata": {
    "collapsed": false
   },
   "outputs": [
    {
     "name": "stdout",
     "output_type": "stream",
     "text": [
      "0\n",
      "0\n"
     ]
    }
   ],
   "source": [
    "l = [0, 1, 2, 3, 4, 5]\n",
    "print(l[0])\n",
    "d = {'a': 0, 'b': 1, 'c': 2}\n",
    "print(d['a'])"
   ]
  },
  {
   "cell_type": "code",
   "execution_count": 316,
   "metadata": {
    "collapsed": false
   },
   "outputs": [
    {
     "name": "stdout",
     "output_type": "stream",
     "text": [
      "0\n",
      "0\n"
     ]
    }
   ],
   "source": [
    "print(list.__getitem__(l, 0))\n",
    "print(dict.__getitem__(d, 'a'))"
   ]
  },
  {
   "cell_type": "markdown",
   "metadata": {},
   "source": [
    "We just saw an example of duck typing because when we do `d['a']` Python doesn't care whether `d` is an instance of `dict` or `list`. All Python cares about is whether or not `d` has the `__getitem__()` method.\n",
    "\n",
    "When creating your own classes, duck typing means that any object can be used in any context, up until it is used in a way that it does not support. See this modified example from the Wikipeida page on [duck typing](https://en.wikipedia.org/wiki/Duck_typing):"
   ]
  },
  {
   "cell_type": "code",
   "execution_count": 12,
   "metadata": {
    "collapsed": false,
    "scrolled": true
   },
   "outputs": [
    {
     "name": "stdout",
     "output_type": "stream",
     "text": [
      "Parrot flying\n",
      "Airplane flying\n",
      "Whales can't fly!\n"
     ]
    }
   ],
   "source": [
    "class Parrot:\n",
    "    def fly(self):\n",
    "        print(\"Parrot flying\")\n",
    "\n",
    "class Airplane:\n",
    "    def fly(self):\n",
    "        print(\"Airplane flying\")\n",
    "\n",
    "class Whale:\n",
    "    def swim(self):\n",
    "        print(\"Whale swimming\")\n",
    "\n",
    "def lift_off(entity):\n",
    "    entity.fly()\n",
    "\n",
    "parrot = Parrot()\n",
    "airplane = Airplane()\n",
    "whale = Whale()\n",
    "\n",
    "\n",
    "for o in (parrot, airplane, whale):\n",
    "    try:\n",
    "        lift_off(o)                   \n",
    "    except AttributeError:\n",
    "        print(\"Whales can't fly!\")"
   ]
  },
  {
   "cell_type": "markdown",
   "metadata": {},
   "source": [
    "<a id='private'> </a>\n",
    "# Private vs. Public Variables\n",
    "In some object-oriented languages, it's possible to create “private” instance variables that cannot be accessed except from inside the object. This is sometimes desireable because you might have class variables that are incidental to the program's functioning and therefore subject to change without notice. In other words, you don't want people to rely on the continued existence of these variables. Consider this example, where we define a simple class with a single attribute that is then changed outside of the class."
   ]
  },
  {
   "cell_type": "code",
   "execution_count": 13,
   "metadata": {
    "collapsed": true
   },
   "outputs": [],
   "source": [
    "class Simple:\n",
    "    \n",
    "    def __init__(self, s):\n",
    "        self.s = s                     #define our single attribute\n",
    "\n",
    "    def show_s(self):                  #create a function that just returns our string\n",
    "        return self.s \n",
    "        \n",
    "    def show_message(self):            #create another function that uses the function (and attributes) above\n",
    "        print(\"Message:\", self.show_s())"
   ]
  },
  {
   "cell_type": "markdown",
   "metadata": {},
   "source": [
    "Now that we've defined the class, let's pretend that someone else - let's call him Bob - is using this class as a part of a much larger program. They've come to know and rely upon that `s` attribute of `Simple` and occasionally like to change its value. Here's how bob uses the class to do that:"
   ]
  },
  {
   "cell_type": "code",
   "execution_count": 319,
   "metadata": {
    "collapsed": false
   },
   "outputs": [
    {
     "name": "stdout",
     "output_type": "stream",
     "text": [
      "Message: new_string\n"
     ]
    }
   ],
   "source": [
    "example = Simple(\"initial_string\")     #instantiate class objet with an initial value for s\n",
    "example.s = \"new_string\"               #then changes the value of s\n",
    "example.show_message()                 #then do something that will use that new value of s"
   ]
  },
  {
   "cell_type": "markdown",
   "metadata": {},
   "source": [
    "But then one day we come back to our program and make a little change. We change the name of `s` to the onomatopoeic `ess`."
   ]
  },
  {
   "cell_type": "code",
   "execution_count": 322,
   "metadata": {
    "collapsed": true
   },
   "outputs": [],
   "source": [
    "class Simple:\n",
    "    \n",
    "    def __init__(self, ess):\n",
    "        self.ess = ess                   #define our single attribute\n",
    "\n",
    "    def show_ess(self):                  #create a function that just returns our string\n",
    "        return self.ess \n",
    "        \n",
    "    def show_message(self):              #create another function that uses the function (and attribute ess) above\n",
    "        print(\"Message:\", self.show_ess())"
   ]
  },
  {
   "cell_type": "markdown",
   "metadata": {},
   "source": [
    "Now, when Bob returns to his program, he all of a sudden can't get the `show_message()` method of `example` to print `\"new_string\"`. His attempt to assign `\"new_string\"` to `example.s` isn't working! It's actually just creating a new attribute for that instance of the class object."
   ]
  },
  {
   "cell_type": "code",
   "execution_count": 321,
   "metadata": {
    "collapsed": false
   },
   "outputs": [
    {
     "name": "stdout",
     "output_type": "stream",
     "text": [
      "Message: initial_string\n"
     ]
    }
   ],
   "source": [
    "example = Simple(\"initial_string\")     \n",
    "example.s = \"new_string\"               \n",
    "example.show_message()            #this will print \"initial_string\" :("
   ]
  },
  {
   "cell_type": "markdown",
   "metadata": {},
   "source": [
    "In another programming language, like Java, we could have prevented this with the use of public/private/protected variables. But in Python, it's generally known that you don't write to other classes' instance or class variables. In other words, Bob shouldn't have ever been doing `example.s = \"new_string\"`.\n",
    "\n",
    "But if you did want to emulate private variables, Python allows you to use the double-underscore (`__`) prefix. When you use that prefix, Python will [mangle](https://en.wikipedia.org/wiki/Name_mangling) the name of the variable so that they're not easily visible to code outside the class that contains them.\n",
    "\n",
    "By the same convention, the single-underscore (`_`) prefix tells people to stay away from using that variable. In short, you don't mess around with another class's variables that look like `__foo` or `_bar`. So we could have helped Bob out by defining our `Simple` class like this from the get-go:"
   ]
  },
  {
   "cell_type": "code",
   "execution_count": 323,
   "metadata": {
    "collapsed": true
   },
   "outputs": [],
   "source": [
    "class Simple:\n",
    "    \n",
    "    def __init__(self, _s):\n",
    "        self._s = _s                      #define our single attribute\n",
    "\n",
    "    def show_s(self):                     #create a function that just returns our string (this would be more compled IRL)\n",
    "        return self._s \n",
    "        \n",
    "    def show_message(self):               #create another function that uses the function (and attribute s) above\n",
    "        print(\"Message:\", self.show_s())"
   ]
  },
  {
   "cell_type": "markdown",
   "metadata": {},
   "source": [
    "And then Bob would know to just initialzie this class with `\"new_string\"` instead of `\"initial_string\"`."
   ]
  },
  {
   "cell_type": "code",
   "execution_count": 324,
   "metadata": {
    "collapsed": false
   },
   "outputs": [
    {
     "name": "stdout",
     "output_type": "stream",
     "text": [
      "Message: new_string\n"
     ]
    }
   ],
   "source": [
    "example = Simple(\"new_string\")\n",
    "example.show_message()                 "
   ]
  },
  {
   "cell_type": "markdown",
   "metadata": {
    "collapsed": true
   },
   "source": [
    "## Name Mangling\n",
    "A valid use-case for name mangling is to ensure that a subclass doesn't override the private methods and attributes of their superclass. Consider this first codeblock, which doesn't use name mangling:"
   ]
  },
  {
   "cell_type": "code",
   "execution_count": 241,
   "metadata": {
    "collapsed": false
   },
   "outputs": [
    {
     "name": "stdout",
     "output_type": "stream",
     "text": [
      "bar\n",
      "bar\n"
     ]
    }
   ],
   "source": [
    "class Foo():\n",
    "    \n",
    "    def __init__(self):\n",
    "        self.baz = \"baz\"\n",
    "    \n",
    "    def foo(self):\n",
    "        print(self.baz)\n",
    "        \n",
    "        \n",
    "class Bar(Foo):\n",
    "    \n",
    "    def __init__(self):\n",
    "        Foo.__init__(self)\n",
    "        self.baz = \"bar\"\n",
    "    \n",
    "    def bar(self):\n",
    "        print(self.baz)\n",
    "\n",
    "x = Bar()\n",
    "x.foo() #will print bar, although we might have expected baz\n",
    "x.bar() #will also print bar"
   ]
  },
  {
   "cell_type": "markdown",
   "metadata": {},
   "source": [
    "When we name mangle with two leading underscores, we can prevent the subclass `Bar` from overriding `Foo`."
   ]
  },
  {
   "cell_type": "code",
   "execution_count": 250,
   "metadata": {
    "collapsed": false
   },
   "outputs": [
    {
     "name": "stdout",
     "output_type": "stream",
     "text": [
      "baz\n",
      "bar\n"
     ]
    }
   ],
   "source": [
    "class Foo():\n",
    "    \n",
    "    def __init__(self):\n",
    "        self.__baz = \"baz\"\n",
    "    \n",
    "    def foo(self):\n",
    "        print(self.__baz)\n",
    "        \n",
    "        \n",
    "class Bar(Foo):\n",
    "    \n",
    "    def __init__(self):\n",
    "        Foo.__init__(self)\n",
    "        self.__baz = \"bar\"\n",
    "    \n",
    "    def bar(self):\n",
    "        print(self.__baz)\n",
    "\n",
    "x = Bar()\n",
    "x.foo() #this will print baz\n",
    "x.bar() #this will print bar"
   ]
  },
  {
   "cell_type": "markdown",
   "metadata": {
    "collapsed": true
   },
   "source": [
    "Note, however, it's still possible to access and/or modify these \"private\" variables."
   ]
  },
  {
   "cell_type": "code",
   "execution_count": 251,
   "metadata": {
    "collapsed": false
   },
   "outputs": [
    {
     "name": "stdout",
     "output_type": "stream",
     "text": [
      "{'_Foo__baz': 'baz', '_Bar__baz': 'bar'}\n"
     ]
    }
   ],
   "source": [
    "print(x.__dict__) #this will let us access the variables"
   ]
  },
  {
   "cell_type": "code",
   "execution_count": 252,
   "metadata": {
    "collapsed": false
   },
   "outputs": [
    {
     "data": {
      "text/plain": [
       "'baz'"
      ]
     },
     "execution_count": 252,
     "metadata": {},
     "output_type": "execute_result"
    }
   ],
   "source": [
    "x._Foo__baz    #there it is!"
   ]
  },
  {
   "cell_type": "code",
   "execution_count": 253,
   "metadata": {
    "collapsed": false
   },
   "outputs": [
    {
     "name": "stdout",
     "output_type": "stream",
     "text": [
      "foobaz\n"
     ]
    }
   ],
   "source": [
    "x._Foo__baz = 'foobaz'  #and let's modify it (a big No-No!)\n",
    "x.foo()"
   ]
  },
  {
   "cell_type": "code",
   "execution_count": 254,
   "metadata": {
    "collapsed": false
   },
   "outputs": [
    {
     "name": "stdout",
     "output_type": "stream",
     "text": [
      "barbaz\n"
     ]
    }
   ],
   "source": [
    "x._Bar__baz = \"barbaz\"\n",
    "x.bar()"
   ]
  },
  {
   "cell_type": "markdown",
   "metadata": {},
   "source": [
    "<a id='takeways'> </a>\n",
    "# Takeaways\n",
    "This was a long lesson, so let's recap what we've covered:\n",
    "- Namespaces and scope hierarchies\n",
    "- How to create classes to represent our own abstract data types\n",
    "- How to apply the four pillars of object-oriented programming\n",
    "- The difference between dynamically and statically typed languages\n",
    "- The difference between strongly and weakly typed languages\n",
    "- Duck typing (quack!)\n",
    "- How to implement name mangling as well as private as opposed to public variables"
   ]
  }
 ],
 "metadata": {
  "kernelspec": {
   "display_name": "Python 3",
   "language": "python",
   "name": "python3"
  },
  "language_info": {
   "codemirror_mode": {
    "name": "ipython",
    "version": 3
   },
   "file_extension": ".py",
   "mimetype": "text/x-python",
   "name": "python",
   "nbconvert_exporter": "python",
   "pygments_lexer": "ipython3",
   "version": "3.6.0"
  }
 },
 "nbformat": 4,
 "nbformat_minor": 2
}
