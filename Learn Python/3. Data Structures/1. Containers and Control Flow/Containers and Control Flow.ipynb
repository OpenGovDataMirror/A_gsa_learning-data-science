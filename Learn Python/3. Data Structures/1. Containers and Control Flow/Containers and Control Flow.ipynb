{
 "cells": [
  {
   "cell_type": "markdown",
   "metadata": {},
   "source": [
    "# Containers and Control Flow\n",
    "\n",
    "This lesson will introduce you to Python's most common data stuctures, i.e. **containers**. As the name implies, containers are objects for holding collections of other objects.\n",
    "\n",
    "As we learn about containers, we'll also encounter some new techniques that help us better control code execution. These techniques fall under the umbrella term **control flow** and include concepts like iteration, conditional statements, functions, and error handling."
   ]
  },
  {
   "cell_type": "markdown",
   "metadata": {},
   "source": [
    "## Lesson Objectives\n",
    "By the end of this lesson, you will be able to:\n",
    "- Construct some common container types, including lists, sets, dictionaries, and tuples\n",
    "- Iterate through these containers\n",
    "- Write functions to utilize code in more than one place in a program\n",
    "- Understand errors and handle exceptions"
   ]
  },
  {
   "cell_type": "markdown",
   "metadata": {},
   "source": [
    "## Table of Contents\n",
    " - [Containers](#containers)\n",
    "     - [Lists](#list)\n",
    "     - [Sets](#set)\n",
    "     - [Tuples](#tuple)\n",
    "     - [Dictionaries](#dict)\n",
    " - [Functions](#functions)\n",
    " - [Errors and Exceptions](#errors)\n",
    " - [What's Next](#next)\n",
    " - [The Star Wars API:  Parsing JSON Using Lists & Dictionaries](#starwars)"
   ]
  },
  {
   "cell_type": "markdown",
   "metadata": {},
   "source": [
    "<a id='containers'></a>\n",
    "## Containers\n",
    "You've already worked with one type of container:  strings. This may not be readily apparent until you think of a word, like `spam`, as nothing more than a container for the letters `s`, `p`, `a`, and `m`:"
   ]
  },
  {
   "cell_type": "code",
   "execution_count": 2,
   "metadata": {
    "collapsed": false
   },
   "outputs": [
    {
     "data": {
      "text/plain": [
       "'spam'"
      ]
     },
     "execution_count": 2,
     "metadata": {},
     "output_type": "execute_result"
    }
   ],
   "source": [
    "spam = 's' + 'p' + 'a' + 'm'\n",
    "spam"
   ]
  },
  {
   "cell_type": "markdown",
   "metadata": {},
   "source": [
    "Just like the string above, containers are objects that hold *sequences* of other objects. Think of them as data structures that live in memory and also (typically) hold their values in memory. Since containers hold objects that live in memory, containers support membership tests with the keywords `in` and `not in`:"
   ]
  },
  {
   "cell_type": "code",
   "execution_count": 4,
   "metadata": {
    "collapsed": false
   },
   "outputs": [
    {
     "data": {
      "text/plain": [
       "True"
      ]
     },
     "execution_count": 4,
     "metadata": {},
     "output_type": "execute_result"
    }
   ],
   "source": [
    "'s' in spam"
   ]
  },
  {
   "cell_type": "code",
   "execution_count": 7,
   "metadata": {
    "collapsed": false
   },
   "outputs": [
    {
     "data": {
      "text/plain": [
       "True"
      ]
     },
     "execution_count": 7,
     "metadata": {},
     "output_type": "execute_result"
    }
   ],
   "source": [
    "'ham' not in spam"
   ]
  },
  {
   "cell_type": "markdown",
   "metadata": {},
   "source": [
    "In this lesson, we'll explore Python's principal built-in containers:\n",
    "- `list`\n",
    "- `set`\n",
    "- `tuple`\n",
    "- `dict`\n",
    "\n",
    "These can hold all sorts of objects, including instances of themselves!"
   ]
  },
  {
   "cell_type": "markdown",
   "metadata": {},
   "source": [
    "<a id='list'></a>\n",
    "### Lists\n",
    "Lists are a built-in Python data structure for grouping a collection of objects. You can create a list using square brackets `[ ]` or the built-in `list()` function"
   ]
  },
  {
   "cell_type": "code",
   "execution_count": 91,
   "metadata": {
    "collapsed": false
   },
   "outputs": [
    {
     "data": {
      "text/plain": [
       "list"
      ]
     },
     "execution_count": 91,
     "metadata": {},
     "output_type": "execute_result"
    }
   ],
   "source": [
    "a_list = [1, 'apple', True, None, 1.0] #see how a list can hold heterogeneous data\n",
    "type(a_list)"
   ]
  },
  {
   "cell_type": "code",
   "execution_count": 92,
   "metadata": {
    "collapsed": false
   },
   "outputs": [
    {
     "data": {
      "text/plain": [
       "list"
      ]
     },
     "execution_count": 92,
     "metadata": {},
     "output_type": "execute_result"
    }
   ],
   "source": [
    "another_list = list((2, 'banana', False, None, 2.0))\n",
    "type(another_list)"
   ]
  },
  {
   "cell_type": "code",
   "execution_count": 402,
   "metadata": {
    "collapsed": false
   },
   "outputs": [
    {
     "data": {
      "text/plain": [
       "True"
      ]
     },
     "execution_count": 402,
     "metadata": {},
     "output_type": "execute_result"
    }
   ],
   "source": [
    "2 in another_list #membership test using in"
   ]
  },
  {
   "cell_type": "markdown",
   "metadata": {},
   "source": [
    "#### Indexing and Slicing\n",
    "> <br>You can index and slice lists the same way you did with strings."
   ]
  },
  {
   "cell_type": "code",
   "execution_count": 8,
   "metadata": {
    "collapsed": false
   },
   "outputs": [
    {
     "data": {
      "text/plain": [
       "'a'"
      ]
     },
     "execution_count": 8,
     "metadata": {},
     "output_type": "execute_result"
    }
   ],
   "source": [
    "yet_another_list = ['a','b','c','d','e']\n",
    "\n",
    "yet_another_list[0] #return the first element in the list"
   ]
  },
  {
   "cell_type": "code",
   "execution_count": 10,
   "metadata": {
    "collapsed": false
   },
   "outputs": [
    {
     "data": {
      "text/plain": [
       "['e', 'd', 'c', 'b', 'a']"
      ]
     },
     "execution_count": 10,
     "metadata": {},
     "output_type": "execute_result"
    }
   ],
   "source": [
    "yet_another_list[::-1] #return the list in reverse order"
   ]
  },
  {
   "cell_type": "markdown",
   "metadata": {},
   "source": [
    ">But unlike strings, lists are **mutable**. This means they support item assignment. One way to do this is with indexing and slicing:"
   ]
  },
  {
   "cell_type": "code",
   "execution_count": 32,
   "metadata": {
    "collapsed": false
   },
   "outputs": [
    {
     "data": {
      "text/plain": [
       "['a', 'x', 'y', 'd', 'e']"
      ]
     },
     "execution_count": 32,
     "metadata": {},
     "output_type": "execute_result"
    }
   ],
   "source": [
    "yet_another_list[1:3] = ['x', 'y'] #replace the second and third elements with an x an y\n",
    "yet_another_list"
   ]
  },
  {
   "cell_type": "markdown",
   "metadata": {},
   "source": [
    "> You can also remove elements from a list:"
   ]
  },
  {
   "cell_type": "code",
   "execution_count": 33,
   "metadata": {
    "collapsed": false
   },
   "outputs": [
    {
     "data": {
      "text/plain": [
       "['a', 'd', 'e']"
      ]
     },
     "execution_count": 33,
     "metadata": {},
     "output_type": "execute_result"
    }
   ],
   "source": [
    "yet_another_list[1:3] = []   #remove the elements by assigning an empty list\n",
    "yet_another_list"
   ]
  },
  {
   "cell_type": "markdown",
   "metadata": {},
   "source": [
    "> But be careful if you're working with copies of a list. Sice lists are mutable, changing hte copy will also change the original."
   ]
  },
  {
   "cell_type": "code",
   "execution_count": 1,
   "metadata": {
    "collapsed": false
   },
   "outputs": [
    {
     "data": {
      "text/plain": [
       "['a', 2, 3]"
      ]
     },
     "execution_count": 1,
     "metadata": {},
     "output_type": "execute_result"
    }
   ],
   "source": [
    "first_list = [1,2,3]\n",
    "first_list_copy = first_list\n",
    "\n",
    "first_list_copy[0] = 'a'\n",
    "first_list"
   ]
  },
  {
   "cell_type": "markdown",
   "metadata": {},
   "source": [
    "#### List Methods\n",
    "There are also a lot of helpful list methods. You can find a full list [here](https://docs.python.org/3/tutorial/datastructures.html#more-on-lists), but these are two of the most useful ones:"
   ]
  },
  {
   "cell_type": "markdown",
   "metadata": {},
   "source": [
    "#### `list.append()`\n",
    "> <br>Add an item to the end of the list. Equivalent to `a[len(a):] = [x]`"
   ]
  },
  {
   "cell_type": "code",
   "execution_count": 11,
   "metadata": {
    "collapsed": false
   },
   "outputs": [
    {
     "data": {
      "text/plain": [
       "['a', 'b', 'c', 'd', 'e', 2]"
      ]
     },
     "execution_count": 11,
     "metadata": {},
     "output_type": "execute_result"
    }
   ],
   "source": [
    "yet_another_list.append(2) #add 2 to the end of the list\n",
    "\n",
    "yet_another_list #return the list to verify that the 2 has been added to the end"
   ]
  },
  {
   "cell_type": "markdown",
   "metadata": {},
   "source": [
    "#### `list.pop([i])`\n",
    "> <br>Remove the item at the given position in the list, and return it. If no index is specified, `.pop()` removes and returns the last item in the list. (The square brackets `[]` around the `i` in the method denote that the parameter is optional, not that you should type square brackets at that position.)"
   ]
  },
  {
   "cell_type": "code",
   "execution_count": 12,
   "metadata": {
    "collapsed": false
   },
   "outputs": [
    {
     "data": {
      "text/plain": [
       "2"
      ]
     },
     "execution_count": 12,
     "metadata": {},
     "output_type": "execute_result"
    }
   ],
   "source": [
    "yet_another_list.pop() #take away and return that two we appended"
   ]
  },
  {
   "cell_type": "code",
   "execution_count": 13,
   "metadata": {
    "collapsed": false
   },
   "outputs": [
    {
     "data": {
      "text/plain": [
       "['a', 'b', 'c', 'd', 'e']"
      ]
     },
     "execution_count": 13,
     "metadata": {},
     "output_type": "execute_result"
    }
   ],
   "source": [
    "yet_another_list #now yet_another_list no longer has the 2 that we popped"
   ]
  },
  {
   "cell_type": "markdown",
   "metadata": {},
   "source": [
    "#### List Concatenation\n",
    "You can also use the `+` operator to concatenate lists"
   ]
  },
  {
   "cell_type": "code",
   "execution_count": 38,
   "metadata": {
    "collapsed": false
   },
   "outputs": [
    {
     "data": {
      "text/plain": [
       "['a', 'b', 'c', 'x', 'y', 'z']"
      ]
     },
     "execution_count": 38,
     "metadata": {},
     "output_type": "execute_result"
    }
   ],
   "source": [
    "abc = ['a','b','c']\n",
    "xyz = ['x','y','z']\n",
    "\n",
    "abcxyz = abc + xyz\n",
    "abcxyz"
   ]
  },
  {
   "cell_type": "markdown",
   "metadata": {},
   "source": [
    "#### Nested Lists\n",
    "> You can have lists inside of lists inside of lists inside of lists....\n",
    "> <br>These are called nested lists and their elements can be accessed via indexing and slicing."
   ]
  },
  {
   "cell_type": "code",
   "execution_count": 4,
   "metadata": {
    "collapsed": false
   },
   "outputs": [
    {
     "data": {
      "text/plain": [
       "[['a', 'b', 'c'], [1, 2, 3], [1.0, 2.0, 3.0]]"
      ]
     },
     "execution_count": 4,
     "metadata": {},
     "output_type": "execute_result"
    }
   ],
   "source": [
    "nested_list = [['a','b','c'], [1,2,3], [1.0,2.0,3.0]]\n",
    "nested_list #let's see what this looks like"
   ]
  },
  {
   "cell_type": "code",
   "execution_count": 405,
   "metadata": {
    "collapsed": false
   },
   "outputs": [
    {
     "data": {
      "text/plain": [
       "['a', 'b', 'c']"
      ]
     },
     "execution_count": 405,
     "metadata": {},
     "output_type": "execute_result"
    }
   ],
   "source": [
    "nested_list[0]"
   ]
  },
  {
   "cell_type": "code",
   "execution_count": 406,
   "metadata": {
    "collapsed": false
   },
   "outputs": [
    {
     "data": {
      "text/plain": [
       "[1, 2, 3]"
      ]
     },
     "execution_count": 406,
     "metadata": {},
     "output_type": "execute_result"
    }
   ],
   "source": [
    "nested_list[1]"
   ]
  },
  {
   "cell_type": "code",
   "execution_count": 407,
   "metadata": {
    "collapsed": false
   },
   "outputs": [
    {
     "data": {
      "text/plain": [
       "3.0"
      ]
     },
     "execution_count": 407,
     "metadata": {},
     "output_type": "execute_result"
    }
   ],
   "source": [
    "nested_list[2][2]"
   ]
  },
  {
   "cell_type": "code",
   "execution_count": 408,
   "metadata": {
    "collapsed": false
   },
   "outputs": [
    {
     "data": {
      "text/plain": [
       "[[1, 2, 3], [1.0, 2.0, 3.0]]"
      ]
     },
     "execution_count": 408,
     "metadata": {},
     "output_type": "execute_result"
    }
   ],
   "source": [
    "nested_list[1:]"
   ]
  },
  {
   "cell_type": "markdown",
   "metadata": {},
   "source": [
    "#### Iterating Through Lists\n",
    "> Lists, like strings, are sequences. This means you can iterate through each element of a list. One of the easiest ways to do this is with a `for` loop."
   ]
  },
  {
   "cell_type": "code",
   "execution_count": 5,
   "metadata": {
    "collapsed": false
   },
   "outputs": [
    {
     "name": "stdout",
     "output_type": "stream",
     "text": [
      "Mercury\n",
      "Venus\n",
      "Earth\n",
      "Mars\n",
      "Jupiter\n",
      "Saturn\n",
      "Uranus\n",
      "Neptune\n",
      "AND PLUTO!\n"
     ]
    }
   ],
   "source": [
    "planets = [\"Mercury\", \"Venus\", \"Earth\", \"Mars\", \"Jupiter\", \"Saturn\", \"Uranus\", \"Neptune\", \"AND PLUTO!\"]\n",
    "for planet in planets:\n",
    "    print(planet)"
   ]
  },
  {
   "cell_type": "markdown",
   "metadata": {},
   "source": [
    "#### List Comprehensions\n",
    "> List comprehensions provide a concise way to create and iterate through lists. Common applications are to make new lists where each element is the result of some operation(s) applied to each member of another sequence, or to create a subsequence of those elements that satisfy a certain condition.\n",
    "\n",
    "> For example, say we wanted to create a list of the squares of the numbers 0-9. \n",
    "\n",
    "> We could use a `for` loop:"
   ]
  },
  {
   "cell_type": "code",
   "execution_count": 6,
   "metadata": {
    "collapsed": false
   },
   "outputs": [
    {
     "data": {
      "text/plain": [
       "[0, 1, 4, 9, 16, 25, 36, 49, 64, 81]"
      ]
     },
     "execution_count": 6,
     "metadata": {},
     "output_type": "execute_result"
    }
   ],
   "source": [
    "squares = [] #first, we create an empty list that we'll fill during the for loop\n",
    "\n",
    "for x in range(10):\n",
    "    squares.append(x**2)\n",
    "    \n",
    "squares"
   ]
  },
  {
   "cell_type": "markdown",
   "metadata": {},
   "source": [
    "> Or we could use a `while` loop:"
   ]
  },
  {
   "cell_type": "code",
   "execution_count": 7,
   "metadata": {
    "collapsed": false
   },
   "outputs": [
    {
     "data": {
      "text/plain": [
       "[0, 1, 4, 9, 16, 25, 36, 49, 64, 81]"
      ]
     },
     "execution_count": 7,
     "metadata": {},
     "output_type": "execute_result"
    }
   ],
   "source": [
    "squares = []\n",
    "x = -1\n",
    "while len(squares) < 10:  \n",
    "    x += 1\n",
    "    squares.append(x**2)\n",
    "\n",
    "squares"
   ]
  },
  {
   "cell_type": "markdown",
   "metadata": {},
   "source": [
    "> The downside to those `for` and `while` loop methods, besides being verbose, is that they both create (or overwrite) a variable named `x`.\n",
    "\n",
    "> The much more elegant list comprehension won't have that [side effect](https://softwareengineering.stackexchange.com/questions/40297/what-is-a-side-effect):"
   ]
  },
  {
   "cell_type": "code",
   "execution_count": 409,
   "metadata": {
    "collapsed": false
   },
   "outputs": [
    {
     "data": {
      "text/plain": [
       "[0, 1, 4, 9, 16, 25, 36, 49, 64, 81]"
      ]
     },
     "execution_count": 409,
     "metadata": {},
     "output_type": "execute_result"
    }
   ],
   "source": [
    "squares = [x**2 for x in range(10)]\n",
    "squares"
   ]
  },
  {
   "cell_type": "markdown",
   "metadata": {},
   "source": [
    "> And here's an example of a list comprehension that creates a subsequence, taking the elements of squares that are divisible by 3."
   ]
  },
  {
   "cell_type": "code",
   "execution_count": 8,
   "metadata": {
    "collapsed": false
   },
   "outputs": [
    {
     "data": {
      "text/plain": [
       "[0, 9, 36, 81]"
      ]
     },
     "execution_count": 8,
     "metadata": {},
     "output_type": "execute_result"
    }
   ],
   "source": [
    "[x for x in squares if x%3 ==0]  #see how you can use conditional statements inside!"
   ]
  },
  {
   "cell_type": "markdown",
   "metadata": {},
   "source": [
    "> As you might have guessed, a list comprehension consists of brackets `[]` containing an expression followed by a `for` clause, then zero or more `for` or `if` clauses. The result will be a new list resulting from evaluating the expression in the context of the `for` and/or `if` clauses which followed it.\n",
    "\n",
    "> For example, this list comprehension combines the elements of two lists if they are not equal:"
   ]
  },
  {
   "cell_type": "code",
   "execution_count": 9,
   "metadata": {
    "collapsed": false
   },
   "outputs": [
    {
     "data": {
      "text/plain": [
       "[[1, 3], [1, 4], [2, 3], [2, 1], [2, 4], [3, 1], [3, 4]]"
      ]
     },
     "execution_count": 9,
     "metadata": {},
     "output_type": "execute_result"
    }
   ],
   "source": [
    "combined = [[x, y] for x in [1,2,3] for y in [3,1,4] if x != y]\n",
    "combined"
   ]
  },
  {
   "cell_type": "markdown",
   "metadata": {},
   "source": [
    "> The result is a nested list since our expression above `[x, y]` evaluates to a list. We could *flatten* this nested list with another list comprehension:"
   ]
  },
  {
   "cell_type": "code",
   "execution_count": 10,
   "metadata": {
    "collapsed": false
   },
   "outputs": [
    {
     "data": {
      "text/plain": [
       "[1, 3, 1, 4, 2, 3, 2, 1, 2, 4, 3, 1, 3, 4]"
      ]
     },
     "execution_count": 10,
     "metadata": {},
     "output_type": "execute_result"
    }
   ],
   "source": [
    "[element for sublist in combined for element in sublist]"
   ]
  },
  {
   "cell_type": "markdown",
   "metadata": {},
   "source": [
    "> Of course, we could have used a `for` loop to flatten `combined`:"
   ]
  },
  {
   "cell_type": "code",
   "execution_count": 11,
   "metadata": {
    "collapsed": false
   },
   "outputs": [
    {
     "data": {
      "text/plain": [
       "[1, 3, 1, 4, 2, 3, 2, 1, 2, 4, 3, 1, 3, 4]"
      ]
     },
     "execution_count": 11,
     "metadata": {},
     "output_type": "execute_result"
    }
   ],
   "source": [
    "flattened = []\n",
    "for sublist in combined:\n",
    "    for element in sublist:\n",
    "        flattened.append(element)\n",
    "        \n",
    "flattened"
   ]
  },
  {
   "cell_type": "markdown",
   "metadata": {},
   "source": [
    "#### Nested List Comprehensions. \n",
    "\n",
    "> Consider the following matrix 3x4 matrix, which is a list of 3 lists of length 4:"
   ]
  },
  {
   "cell_type": "code",
   "execution_count": 12,
   "metadata": {
    "collapsed": false
   },
   "outputs": [
    {
     "data": {
      "text/plain": [
       "[[1, 2, 3, 4], [5, 6, 7, 8], [9, 10, 11, 12]]"
      ]
     },
     "execution_count": 12,
     "metadata": {},
     "output_type": "execute_result"
    }
   ],
   "source": [
    "matrix = [\n",
    "        [1, 2, 3, 4],\n",
    "        [5, 6, 7, 8],\n",
    "        [9, 10, 11, 12]\n",
    "        ]\n",
    "matrix"
   ]
  },
  {
   "cell_type": "markdown",
   "metadata": {},
   "source": [
    "> The following will transpose rows and columns:"
   ]
  },
  {
   "cell_type": "code",
   "execution_count": 13,
   "metadata": {
    "collapsed": false
   },
   "outputs": [
    {
     "data": {
      "text/plain": [
       "[[1, 5, 9], [2, 6, 10], [3, 7, 11], [4, 8, 12]]"
      ]
     },
     "execution_count": 13,
     "metadata": {},
     "output_type": "execute_result"
    }
   ],
   "source": [
    "[[row[i] for row in matrix] for i in range(4)]"
   ]
  },
  {
   "cell_type": "markdown",
   "metadata": {},
   "source": [
    "> As you can imagine, nested list comprehensions - or their `for`/`while` loop equivalents - can quickly become hard to read. When possible, you should lean on built-in functions, like [`zip()`](https://docs.python.org/3.6/library/functions.html#zip):"
   ]
  },
  {
   "cell_type": "code",
   "execution_count": 14,
   "metadata": {
    "collapsed": false
   },
   "outputs": [
    {
     "data": {
      "text/plain": [
       "[(1, 5, 9), (2, 6, 10), (3, 7, 11), (4, 8, 12)]"
      ]
     },
     "execution_count": 14,
     "metadata": {},
     "output_type": "execute_result"
    }
   ],
   "source": [
    "list(zip(*matrix))"
   ]
  },
  {
   "cell_type": "markdown",
   "metadata": {},
   "source": [
    "#### Exercises"
   ]
  },
  {
   "cell_type": "markdown",
   "metadata": {},
   "source": [
    "> 1) Create an empty list `tenpeat` and fill it with the string \"repeat\" 10 times using a `for` loop that utilizes `range()`."
   ]
  },
  {
   "cell_type": "code",
   "execution_count": null,
   "metadata": {
    "collapsed": true
   },
   "outputs": [],
   "source": []
  },
  {
   "cell_type": "markdown",
   "metadata": {},
   "source": [
    "> 2) Use a `for` loop with `range()`, where range accepts `len()` as the stop parameter, to `print()` each element of the list `planets`."
   ]
  },
  {
   "cell_type": "code",
   "execution_count": null,
   "metadata": {
    "collapsed": true
   },
   "outputs": [],
   "source": []
  },
  {
   "cell_type": "markdown",
   "metadata": {},
   "source": [
    "> 3) Use a list comprehension to print each element from `planets`."
   ]
  },
  {
   "cell_type": "code",
   "execution_count": null,
   "metadata": {
    "collapsed": false
   },
   "outputs": [],
   "source": []
  },
  {
   "cell_type": "markdown",
   "metadata": {},
   "source": [
    "> 4) Reverse the order of all of the elements in the list below. "
   ]
  },
  {
   "cell_type": "code",
   "execution_count": 15,
   "metadata": {
    "collapsed": true
   },
   "outputs": [],
   "source": [
    "reverse_this_list = [0,1,2,3,4,5,6,7,8,9,10]"
   ]
  },
  {
   "cell_type": "markdown",
   "metadata": {},
   "source": [
    "> 5) Use a nested `for` loop to print each element from `nested_list` above."
   ]
  },
  {
   "cell_type": "code",
   "execution_count": null,
   "metadata": {
    "collapsed": true
   },
   "outputs": [],
   "source": []
  },
  {
   "cell_type": "markdown",
   "metadata": {},
   "source": [
    "> 6) Use a nested list comprehension to print each element from `nested_list`."
   ]
  },
  {
   "cell_type": "code",
   "execution_count": null,
   "metadata": {
    "collapsed": true
   },
   "outputs": [],
   "source": []
  },
  {
   "cell_type": "markdown",
   "metadata": {},
   "source": [
    "<a id='set'></a>\n",
    "### Sets\n",
    "A `set` is an unordered collection with no duplicate elements. Basic uses include membership testing and eliminating duplicate entries. Set objects also support mathematical operations like union, intersection, difference, and symmetric difference.\n",
    "\n",
    "To create a set, you can use curly braces `{}` or the `set()` function. But to create an empty set, you have to use set(), not {}; the latter creates an empty dictionary, a data structure that we will discuss in the next section."
   ]
  },
  {
   "cell_type": "code",
   "execution_count": 18,
   "metadata": {
    "collapsed": false
   },
   "outputs": [
    {
     "data": {
      "text/plain": [
       "{'apples', 'bananas', 'bread', 'cookies'}"
      ]
     },
     "execution_count": 18,
     "metadata": {},
     "output_type": "execute_result"
    }
   ],
   "source": [
    "grocery_list = ['apples', 'cookies', 'bananas', 'cookies', 'cookies', 'cookies', 'bread']\n",
    "seta = set(grocery_list)\n",
    "seta"
   ]
  },
  {
   "cell_type": "markdown",
   "metadata": {},
   "source": [
    "Above, we used `set()` to remove duplicates from `grocery_list` (obviously I wanted lots of cookies)."
   ]
  },
  {
   "cell_type": "markdown",
   "metadata": {},
   "source": [
    "#### Common Set Operations\n",
    "Common set operations include union (`|`), intersection (`&`), difference (`-`), and symmetric difference (`^`). In addition to using those operators, there are also built-in set methods that do the same. To understand how these work, check out this visual:\n",
    "<img src='assets/set_ops.png' height = 400 width = 400>"
   ]
  },
  {
   "cell_type": "markdown",
   "metadata": {},
   "source": [
    "#### `set.intersection()`\n",
    "#### corresponding operator:  `&`\n",
    "> <br>Return a new set with elements that are common to all sets.\n",
    "> <br><br>If we had other grocery lists and had to determine the set of items shared between the sets, we could use this method:"
   ]
  },
  {
   "cell_type": "code",
   "execution_count": 23,
   "metadata": {
    "collapsed": false
   },
   "outputs": [
    {
     "data": {
      "text/plain": [
       "{'apples', 'bread'}"
      ]
     },
     "execution_count": 23,
     "metadata": {},
     "output_type": "execute_result"
    }
   ],
   "source": [
    "setb = {'apples','bread','shampoo','ice cream'}\n",
    "setb.intersection(seta)"
   ]
  },
  {
   "cell_type": "code",
   "execution_count": 24,
   "metadata": {
    "collapsed": false
   },
   "outputs": [
    {
     "data": {
      "text/plain": [
       "{'apples', 'bread'}"
      ]
     },
     "execution_count": 24,
     "metadata": {},
     "output_type": "execute_result"
    }
   ],
   "source": [
    "seta & setb"
   ]
  },
  {
   "cell_type": "markdown",
   "metadata": {},
   "source": [
    "#### `set.difference()`\n",
    "#### corresponding operator:  `-`\n",
    "> <br>The difference of sets A and B is a set of elements that exists only in set A but not in B"
   ]
  },
  {
   "cell_type": "code",
   "execution_count": 25,
   "metadata": {
    "collapsed": false
   },
   "outputs": [
    {
     "data": {
      "text/plain": [
       "{'bananas', 'cookies'}"
      ]
     },
     "execution_count": 25,
     "metadata": {},
     "output_type": "execute_result"
    }
   ],
   "source": [
    "seta.difference(setb)"
   ]
  },
  {
   "cell_type": "code",
   "execution_count": 26,
   "metadata": {
    "collapsed": false
   },
   "outputs": [
    {
     "data": {
      "text/plain": [
       "{'bananas', 'cookies'}"
      ]
     },
     "execution_count": 26,
     "metadata": {},
     "output_type": "execute_result"
    }
   ],
   "source": [
    "seta - setb"
   ]
  },
  {
   "cell_type": "markdown",
   "metadata": {},
   "source": [
    "#### `set.union()`\n",
    "#### corresponding operator:  `|`\n",
    "> <br>The union of sets A and B is a set with all of the elements from both sets."
   ]
  },
  {
   "cell_type": "code",
   "execution_count": 27,
   "metadata": {
    "collapsed": false
   },
   "outputs": [
    {
     "data": {
      "text/plain": [
       "{'apples', 'bananas', 'bread', 'cookies', 'ice cream', 'shampoo'}"
      ]
     },
     "execution_count": 27,
     "metadata": {},
     "output_type": "execute_result"
    }
   ],
   "source": [
    "seta.union(setb)"
   ]
  },
  {
   "cell_type": "code",
   "execution_count": 28,
   "metadata": {
    "collapsed": false
   },
   "outputs": [
    {
     "data": {
      "text/plain": [
       "{'apples', 'bananas', 'bread', 'cookies', 'ice cream', 'shampoo'}"
      ]
     },
     "execution_count": 28,
     "metadata": {},
     "output_type": "execute_result"
    }
   ],
   "source": [
    "seta | setb"
   ]
  },
  {
   "cell_type": "markdown",
   "metadata": {},
   "source": [
    "#### `set.symmetric_difference()`\n",
    "#### corresponding operator:  `^`\n",
    "> <br>The symmetric difference of sets A and B is a set that has elements which are unique to each set."
   ]
  },
  {
   "cell_type": "code",
   "execution_count": 29,
   "metadata": {
    "collapsed": false
   },
   "outputs": [
    {
     "data": {
      "text/plain": [
       "{'bananas', 'cookies', 'ice cream', 'shampoo'}"
      ]
     },
     "execution_count": 29,
     "metadata": {},
     "output_type": "execute_result"
    }
   ],
   "source": [
    "seta.symmetric_difference(setb)"
   ]
  },
  {
   "cell_type": "code",
   "execution_count": 30,
   "metadata": {
    "collapsed": false
   },
   "outputs": [
    {
     "data": {
      "text/plain": [
       "{'bananas', 'cookies', 'ice cream', 'shampoo'}"
      ]
     },
     "execution_count": 30,
     "metadata": {},
     "output_type": "execute_result"
    }
   ],
   "source": [
    "seta ^ setb"
   ]
  },
  {
   "cell_type": "markdown",
   "metadata": {},
   "source": [
    "#### Sets and Venn Diagrams\n",
    "> Sets naturally lend themselves to venn diagrams in Python. Here's an example of a venn diagram. You might need to install the `matplotlib_venn` package. See [this](https://pypi.python.org/pypi/matplotlib-venn)."
   ]
  },
  {
   "cell_type": "code",
   "execution_count": 17,
   "metadata": {
    "collapsed": false
   },
   "outputs": [
    {
     "data": {
      "image/png": "[encoded data removed]",
      "text/plain": [
       "<matplotlib.figure.Figure at 0x1130a1c50>"
      ]
     },
     "metadata": {},
     "output_type": "display_data"
    }
   ],
   "source": [
    "from matplotlib import pyplot as plt\n",
    "import numpy as np\n",
    "from matplotlib_venn import venn3, venn3_circles\n",
    "plt.figure(figsize=(4,4))\n",
    "v = venn3(subsets=(1, 1, 1, 1, 1, 1, 1), set_labels = ('A', 'B', 'C'))\n",
    "v.get_patch_by_id('100').set_alpha(1.0)\n",
    "v.get_patch_by_id('100').set_color('white')\n",
    "v.get_label_by_id('100').set_text('Unknown')\n",
    "v.get_label_by_id('A').set_text('Set \"A\"')\n",
    "c = venn3_circles(subsets=(1, 1, 1, 1, 1, 1, 1), linestyle='dashed')\n",
    "c[0].set_lw(1.0)\n",
    "c[0].set_ls('dotted')\n",
    "plt.title(\"Sample Venn diagram\")\n",
    "plt.annotate('Unknown set', xy=v.get_label_by_id('100').get_position() - np.array([0, 0.05]), xytext=(-70,-70),\n",
    "             ha='center', textcoords='offset points', bbox=dict(boxstyle='round,pad=0.5', fc='gray', alpha=0.1),\n",
    "             arrowprops=dict(arrowstyle='->', connectionstyle='arc3,rad=0.5',color='gray'))\n",
    "plt.show()"
   ]
  },
  {
   "cell_type": "markdown",
   "metadata": {},
   "source": [
    "#### Sets are mutable"
   ]
  },
  {
   "cell_type": "code",
   "execution_count": 24,
   "metadata": {
    "collapsed": false
   },
   "outputs": [
    {
     "name": "stdout",
     "output_type": "stream",
     "text": [
      "{1, 2, 3, 4, 5, 6}\n",
      "{1, 2, 3, 4, 5, 6}\n"
     ]
    }
   ],
   "source": [
    "set_x = set([1, 2, 3])\n",
    "set_y = set_x\n",
    "set_y |= set([4, 5, 6])  # | is the bitwise-OR operation. So |= is to | as += is to +.\n",
    "print(set_x)\n",
    "print(set_y)"
   ]
  },
  {
   "cell_type": "markdown",
   "metadata": {},
   "source": [
    "But you *can* make a set immutable by using [frozenset](https://docs.python.org/3.6/library/stdtypes.html#frozenset)."
   ]
  },
  {
   "cell_type": "markdown",
   "metadata": {},
   "source": [
    "<a id='tuple'></a>\n",
    "### Tuples\n",
    "A tuple consists of a number of values separated by commas, for instance:"
   ]
  },
  {
   "cell_type": "code",
   "execution_count": 26,
   "metadata": {
    "collapsed": false
   },
   "outputs": [
    {
     "data": {
      "text/plain": [
       "(1, 2, 'meow!')"
      ]
     },
     "execution_count": 26,
     "metadata": {},
     "output_type": "execute_result"
    }
   ],
   "source": [
    "t = 1, 2, 'meow!'\n",
    "t"
   ]
  },
  {
   "cell_type": "markdown",
   "metadata": {},
   "source": [
    "On output tuples are always enclosed in parentheses, so that nested tuples are interpreted correctly."
   ]
  },
  {
   "cell_type": "code",
   "execution_count": 27,
   "metadata": {
    "collapsed": false
   },
   "outputs": [
    {
     "data": {
      "text/plain": [
       "((1, 2, 'meow!'), ['list', 'inside', 'a', 'tuple'])"
      ]
     },
     "execution_count": 27,
     "metadata": {},
     "output_type": "execute_result"
    }
   ],
   "source": [
    "tup = t, ['list', 'inside', 'a', 'tuple'] #add a list to the tuple\n",
    "tup"
   ]
  },
  {
   "cell_type": "markdown",
   "metadata": {},
   "source": [
    "#### Creating empty tuples and singletons\n",
    "> A special problem is the construction of tuples containing 0 or 1 items. There's special syntax for this. \n",
    "\n",
    "> Empty tuples are constructed by an empty pair of parentheses"
   ]
  },
  {
   "cell_type": "code",
   "execution_count": 28,
   "metadata": {
    "collapsed": false
   },
   "outputs": [
    {
     "data": {
      "text/plain": [
       "()"
      ]
     },
     "execution_count": 28,
     "metadata": {},
     "output_type": "execute_result"
    }
   ],
   "source": [
    "empty_tup = ()\n",
    "empty_tup"
   ]
  },
  {
   "cell_type": "markdown",
   "metadata": {},
   "source": [
    "> A tuple with one item is constructed by following a value with a comma:"
   ]
  },
  {
   "cell_type": "code",
   "execution_count": 29,
   "metadata": {
    "collapsed": false
   },
   "outputs": [
    {
     "data": {
      "text/plain": [
       "(1,)"
      ]
     },
     "execution_count": 29,
     "metadata": {},
     "output_type": "execute_result"
    }
   ],
   "source": [
    "singleton = 1,\n",
    "singleton"
   ]
  },
  {
   "cell_type": "markdown",
   "metadata": {},
   "source": [
    "#### Tuples are immutable\n",
    "> Tuples may seem similar to lists, but they are often used for different purposes. That's because tuples are **immutable** and usually contain a heterogeneous sequence of elements. Since tuples are immutable, they are often manipulated more quickly than lists."
   ]
  },
  {
   "cell_type": "code",
   "execution_count": 31,
   "metadata": {
    "collapsed": false
   },
   "outputs": [
    {
     "ename": "TypeError",
     "evalue": "'tuple' object does not support item assignment",
     "output_type": "error",
     "traceback": [
      "\u001b[0;31m---------------------------------------------------------------------------\u001b[0m",
      "\u001b[0;31mTypeError\u001b[0m                                 Traceback (most recent call last)",
      "\u001b[0;32m<ipython-input-31-42f2decf696f>\u001b[0m in \u001b[0;36m<module>\u001b[0;34m()\u001b[0m\n\u001b[0;32m----> 1\u001b[0;31m \u001b[0mtup\u001b[0m\u001b[0;34m[\u001b[0m\u001b[0;36m1\u001b[0m\u001b[0;34m]\u001b[0m \u001b[0;34m=\u001b[0m \u001b[0;36m123\u001b[0m \u001b[0;31m#tuples are immutable so you can't assign to them.\u001b[0m\u001b[0;34m\u001b[0m\u001b[0m\n\u001b[0m",
      "\u001b[0;31mTypeError\u001b[0m: 'tuple' object does not support item assignment"
     ]
    }
   ],
   "source": [
    "tup[1] = 123 #tuples are immutable so you can't assign to them."
   ]
  },
  {
   "cell_type": "markdown",
   "metadata": {},
   "source": [
    "> Although tuples are immutable, they can contain mutable objects just like lists. So if a value within a tuple is mutable, you can change it:"
   ]
  },
  {
   "cell_type": "code",
   "execution_count": 32,
   "metadata": {
    "collapsed": false
   },
   "outputs": [
    {
     "data": {
      "text/plain": [
       "('a', 'b', ['C', 'd'])"
      ]
     },
     "execution_count": 32,
     "metadata": {},
     "output_type": "execute_result"
    }
   ],
   "source": [
    "t = ('a', 'b', ['c', 'd'])\n",
    "t[2][0] = 'C'\n",
    "t"
   ]
  },
  {
   "cell_type": "markdown",
   "metadata": {},
   "source": [
    "#### Tuple Unpacking\n",
    "> <br>You can do the reverse of `t = 1, 2, 'meow!'` like so:"
   ]
  },
  {
   "cell_type": "code",
   "execution_count": 34,
   "metadata": {
    "collapsed": true
   },
   "outputs": [],
   "source": [
    "t = 1, 2, 'meow!'"
   ]
  },
  {
   "cell_type": "code",
   "execution_count": 35,
   "metadata": {
    "collapsed": false
   },
   "outputs": [
    {
     "name": "stdout",
     "output_type": "stream",
     "text": [
      "x is 1, y is 2, and z is meow!\n"
     ]
    }
   ],
   "source": [
    "x, y, z = t #unpack the tuple and store each of its 3 values in 3 variables\n",
    "print(\"x is {}, y is {}, and z is {}\".format(x,y,z))"
   ]
  },
  {
   "cell_type": "markdown",
   "metadata": {},
   "source": [
    "#### Tuple Methods\n",
    "> There are just 2 tuple methods: `count()` and `index()`."
   ]
  },
  {
   "cell_type": "code",
   "execution_count": 126,
   "metadata": {
    "collapsed": false
   },
   "outputs": [
    {
     "data": {
      "text/plain": [
       "1"
      ]
     },
     "execution_count": 126,
     "metadata": {},
     "output_type": "execute_result"
    }
   ],
   "source": [
    "tupple = (0,1,2,3,4,5,6,7,8,9)\n",
    "tupple.count(1)"
   ]
  },
  {
   "cell_type": "code",
   "execution_count": 127,
   "metadata": {
    "collapsed": false
   },
   "outputs": [
    {
     "data": {
      "text/plain": [
       "1"
      ]
     },
     "execution_count": 127,
     "metadata": {},
     "output_type": "execute_result"
    }
   ],
   "source": [
    "tupple.index(1)"
   ]
  },
  {
   "cell_type": "markdown",
   "metadata": {},
   "source": [
    "#### Other Tuple Operations\n",
    "A lot of other built-in functions and operations can be applied to tuples:\n",
    "> len()"
   ]
  },
  {
   "cell_type": "code",
   "execution_count": null,
   "metadata": {
    "collapsed": true
   },
   "outputs": [],
   "source": []
  },
  {
   "cell_type": "code",
   "execution_count": 128,
   "metadata": {
    "collapsed": false
   },
   "outputs": [
    {
     "data": {
      "text/plain": [
       "10"
      ]
     },
     "execution_count": 128,
     "metadata": {},
     "output_type": "execute_result"
    }
   ],
   "source": [
    "len(tupple)"
   ]
  },
  {
   "cell_type": "markdown",
   "metadata": {},
   "source": [
    "> max(), min()"
   ]
  },
  {
   "cell_type": "code",
   "execution_count": 129,
   "metadata": {
    "collapsed": false
   },
   "outputs": [
    {
     "data": {
      "text/plain": [
       "9"
      ]
     },
     "execution_count": 129,
     "metadata": {},
     "output_type": "execute_result"
    }
   ],
   "source": [
    "max(tupple)"
   ]
  },
  {
   "cell_type": "code",
   "execution_count": 130,
   "metadata": {
    "collapsed": false
   },
   "outputs": [
    {
     "data": {
      "text/plain": [
       "0"
      ]
     },
     "execution_count": 130,
     "metadata": {},
     "output_type": "execute_result"
    }
   ],
   "source": [
    "min(tupple)"
   ]
  },
  {
   "cell_type": "markdown",
   "metadata": {},
   "source": [
    "> Slicing"
   ]
  },
  {
   "cell_type": "code",
   "execution_count": 131,
   "metadata": {
    "collapsed": false
   },
   "outputs": [
    {
     "data": {
      "text/plain": [
       "(0, 1, 2)"
      ]
     },
     "execution_count": 131,
     "metadata": {},
     "output_type": "execute_result"
    }
   ],
   "source": [
    "tupple[:3]"
   ]
  },
  {
   "cell_type": "markdown",
   "metadata": {},
   "source": [
    "<a id='dict'></a>\n",
    "### Dictionaries\n",
    "As the name implies, dictionaries map *keys* to *values* so that you can look up *values* with a *key*. Unlike sequences, which are indexed by a range of numbers, dictionaries are indexed by keys, which can be any immutable type, like tuples, strings, integers or floats. The values that map to these keys can be of any type, including another dictionary.\n",
    "\n",
    "Note that the `key : value` pairs of a dictionary are unordered. Note also that keys are unique within a dictionary.\n",
    "\n",
    "A pair of braces creates an empty dictionary: `{}`. Placing a comma-separated list of `key:value` pairs within the braces adds a `key:value` pair to the dictionary."
   ]
  },
  {
   "cell_type": "code",
   "execution_count": 37,
   "metadata": {
    "collapsed": true
   },
   "outputs": [],
   "source": [
    "drink_dict = {\"water\" : \"yes\", \"gatorade\" : \"yes\", \"syrup\" : \"no\" }"
   ]
  },
  {
   "cell_type": "markdown",
   "metadata": {},
   "source": [
    "The main dictionary operation is to extract a value given the key:"
   ]
  },
  {
   "cell_type": "code",
   "execution_count": 38,
   "metadata": {
    "collapsed": false
   },
   "outputs": [
    {
     "data": {
      "text/plain": [
       "'yes'"
      ]
     },
     "execution_count": 38,
     "metadata": {},
     "output_type": "execute_result"
    }
   ],
   "source": [
    "drink_dict['water']"
   ]
  },
  {
   "cell_type": "markdown",
   "metadata": {},
   "source": [
    "#### `dict()` \n",
    "> The `dict()` constructor builds dictionaries directly from sequences of key-value pairs. Below, we pass a list of tuples to `dict()`:"
   ]
  },
  {
   "cell_type": "code",
   "execution_count": 134,
   "metadata": {
    "collapsed": false
   },
   "outputs": [
    {
     "data": {
      "text/plain": [
       "{'gatorade': 'yes', 'syrup': 'no', 'water': 'yes'}"
      ]
     },
     "execution_count": 134,
     "metadata": {},
     "output_type": "execute_result"
    }
   ],
   "source": [
    "dict([(\"water\" , \"yes\"),(\"gatorade\" , \"yes\"), (\"syrup\" , \"no\")]) "
   ]
  },
  {
   "cell_type": "markdown",
   "metadata": {},
   "source": [
    "> When the keys are short strings, it is sometimes easier to specify `key:value` pairs using keyword arguments:"
   ]
  },
  {
   "cell_type": "code",
   "execution_count": 135,
   "metadata": {
    "collapsed": false
   },
   "outputs": [
    {
     "data": {
      "text/plain": [
       "{'gatorade': 'yes', 'syrup': 'no', 'water': 'yes'}"
      ]
     },
     "execution_count": 135,
     "metadata": {},
     "output_type": "execute_result"
    }
   ],
   "source": [
    "dict(water='yes',gatorade='yes',syrup='no')"
   ]
  },
  {
   "cell_type": "markdown",
   "metadata": {},
   "source": [
    "#### `d.keys())`\n",
    "> This will return a dictionary's keys in arbitrary order. You can use `list()` to make the output a list."
   ]
  },
  {
   "cell_type": "code",
   "execution_count": 136,
   "metadata": {
    "collapsed": false
   },
   "outputs": [
    {
     "data": {
      "text/plain": [
       "['water', 'gatorade', 'syrup']"
      ]
     },
     "execution_count": 136,
     "metadata": {},
     "output_type": "execute_result"
    }
   ],
   "source": [
    "list(drink_dict.keys())"
   ]
  },
  {
   "cell_type": "markdown",
   "metadata": {},
   "source": [
    "> If you want the keys sorted, just use `sorted(d.keys())` instead:"
   ]
  },
  {
   "cell_type": "code",
   "execution_count": 137,
   "metadata": {
    "collapsed": false
   },
   "outputs": [
    {
     "data": {
      "text/plain": [
       "['gatorade', 'syrup', 'water']"
      ]
     },
     "execution_count": 137,
     "metadata": {},
     "output_type": "execute_result"
    }
   ],
   "source": [
    "sorted(drink_dict.keys())"
   ]
  },
  {
   "cell_type": "markdown",
   "metadata": {},
   "source": [
    "#### Key Membership\n",
    "> To check whether a single key is in the dictionary, use the `in` keyword:"
   ]
  },
  {
   "cell_type": "code",
   "execution_count": 138,
   "metadata": {
    "collapsed": false
   },
   "outputs": [
    {
     "data": {
      "text/plain": [
       "True"
      ]
     },
     "execution_count": 138,
     "metadata": {},
     "output_type": "execute_result"
    }
   ],
   "source": [
    "'gatorade' in drink_dict"
   ]
  },
  {
   "cell_type": "markdown",
   "metadata": {},
   "source": [
    "#### Dictionary Comprehension\n",
    "> dict comprehensions can be used to create dictionaries from arbitrary key and value expressions:"
   ]
  },
  {
   "cell_type": "code",
   "execution_count": 39,
   "metadata": {
    "collapsed": false
   },
   "outputs": [
    {
     "data": {
      "text/plain": [
       "{'bird': 'bird-dog', 'cat': 'cat-dog', 'lizard': 'lizard-dog'}"
      ]
     },
     "execution_count": 39,
     "metadata": {},
     "output_type": "execute_result"
    }
   ],
   "source": [
    "{animal: animal+'-dog' for animal in ('cat', 'bird', 'lizard')}"
   ]
  },
  {
   "cell_type": "markdown",
   "metadata": {},
   "source": [
    "#### Looping through dictionaries\n",
    "> When looping through a dictionary, the keys are accessed by default:"
   ]
  },
  {
   "cell_type": "code",
   "execution_count": 140,
   "metadata": {
    "collapsed": false
   },
   "outputs": [
    {
     "name": "stdout",
     "output_type": "stream",
     "text": [
      "water\n",
      "gatorade\n",
      "syrup\n"
     ]
    }
   ],
   "source": [
    "for key in drink_dict:\n",
    "    print(key)"
   ]
  },
  {
   "cell_type": "markdown",
   "metadata": {},
   "source": [
    "> The key and corresponding value can be retrieved at the same time using the `items()` method:"
   ]
  },
  {
   "cell_type": "code",
   "execution_count": 141,
   "metadata": {
    "collapsed": false
   },
   "outputs": [
    {
     "name": "stdout",
     "output_type": "stream",
     "text": [
      "water yes\n",
      "gatorade yes\n",
      "syrup no\n"
     ]
    }
   ],
   "source": [
    "for key, value in drink_dict.items():\n",
    "    print(key, value)"
   ]
  },
  {
   "cell_type": "markdown",
   "metadata": {},
   "source": [
    "#### `enumerate()`\n",
    "> When looping through a dictionary - or any sequence for that matter - the index and corresponding value can be retrieved at the same time using the `enumerate()` function."
   ]
  },
  {
   "cell_type": "code",
   "execution_count": 40,
   "metadata": {
    "collapsed": false
   },
   "outputs": [
    {
     "name": "stdout",
     "output_type": "stream",
     "text": [
      "0 water\n",
      "1 gatorade\n",
      "2 syrup\n"
     ]
    }
   ],
   "source": [
    "for index, key in enumerate(drink_dict):\n",
    "    print(index, key)"
   ]
  },
  {
   "cell_type": "markdown",
   "metadata": {
    "collapsed": true
   },
   "source": [
    "<a id='functions'></a>\n",
    "## Functions\n",
    "You've already seen many examples of function calls. Here's an example:"
   ]
  },
  {
   "cell_type": "code",
   "execution_count": 145,
   "metadata": {
    "collapsed": false
   },
   "outputs": [
    {
     "data": {
      "text/plain": [
       "3"
      ]
     },
     "execution_count": 145,
     "metadata": {},
     "output_type": "execute_result"
    }
   ],
   "source": [
    "len('123')"
   ]
  },
  {
   "cell_type": "markdown",
   "metadata": {},
   "source": [
    "Above, the function *name* is `len` and it accepted one *argument*: `'123'`.\n",
    "\n",
    "When you *executed* or *called* the function, it returned the length of its argument:  3. This is often called the *return value*.\n",
    "\n",
    "So far, you've been using either Python's built-in functions - like `len()` - or functions imported from modules - like `math.sqrt()`. But you can also *define* your own functions. This allows you to utilize code in more than one place."
   ]
  },
  {
   "cell_type": "markdown",
   "metadata": {},
   "source": [
    "### Defining a Function\n",
    "> How to define a function:\n",
    "<ol>\n",
    "  <li>Declare the function using the keyword `def` followed by the function name.</li>\n",
    "  <t> - [Function names](https://www.python.org/dev/peps/pep-0008/#function-names) should be lowercase, with words separated by underscores as necessary to improve readability</t>\n",
    "  <li>Write the arguments inside the opening and closing parentheses of the function, and end the `def` declaration with a colon `:`.</li>\n",
    "  <li>Write a [docstring](https://www.python.org/dev/peps/pep-0257/) using triple quotes (not mandatory, but helpful and good practice)</li>\n",
    "  <li>Write program statements</li>\n",
    "  <li>End the function with `return` a statement (there are other statements that will exit the function as well, but we'll leave that to you and Google to figure out)</li>\n",
    "</ol>\n",
    "\n",
    "> Here's an example:"
   ]
  },
  {
   "cell_type": "code",
   "execution_count": 42,
   "metadata": {
    "collapsed": true
   },
   "outputs": [],
   "source": [
    "def incrementer(number):\n",
    "    \"\"\"Increment a number by 1\n",
    "    \n",
    "    Arguments:\n",
    "    number -- any numeric type, such as int, float, bool or complex\n",
    "    \"\"\"\n",
    "    \n",
    "    n = number\n",
    "    result = n + 1\n",
    "    return result"
   ]
  },
  {
   "cell_type": "code",
   "execution_count": 43,
   "metadata": {
    "collapsed": false
   },
   "outputs": [
    {
     "data": {
      "text/plain": [
       "2"
      ]
     },
     "execution_count": 43,
     "metadata": {},
     "output_type": "execute_result"
    }
   ],
   "source": [
    "incrementer(1) # let's call the function by passing it the value 1"
   ]
  },
  {
   "cell_type": "markdown",
   "metadata": {},
   "source": [
    "> Above, we defined a function named `incrementer` that accepts one **argument**:  `number`. Then we ended the `def` declaration with a colon `:`.\n",
    "\n",
    "> Next we wrote our **docstring**. The first line of the docstring explains what this function does. Then we describe the function's one argument by noting the types we intended for it.\n",
    "\n",
    "> Then we created a **parameter** called `n` that takes the value of `number` from the function's argument. This step was optional.\n",
    "\n",
    "> Then we created a **variable** called `result` and assigned to it the value of `n + 1`.\n",
    "\n",
    "> Finally, there's a `return` statement, which returns the value of `result`."
   ]
  },
  {
   "cell_type": "markdown",
   "metadata": {},
   "source": [
    "### Arguments\n",
    "> When defining a function, you can define your argument(s) either implicitly (by position) or explicitly (by name).\n",
    "\n",
    "> #### Positional Arguments\n",
    "> A positional argument is a name that is not followed by an equal sign (=) and default value. When you call a function with positional arguments, the order of the arguments you pass into the function call matters."
   ]
  },
  {
   "cell_type": "code",
   "execution_count": 1,
   "metadata": {
    "collapsed": true
   },
   "outputs": [],
   "source": [
    "def print_position(first, second):  #two positional arguments\n",
    "    print(first)\n",
    "    print(second)"
   ]
  },
  {
   "cell_type": "code",
   "execution_count": 4,
   "metadata": {
    "collapsed": false
   },
   "outputs": [
    {
     "name": "stdout",
     "output_type": "stream",
     "text": [
      "first\n",
      "second\n"
     ]
    }
   ],
   "source": [
    "print_position('first','second')"
   ]
  },
  {
   "cell_type": "code",
   "execution_count": 5,
   "metadata": {
    "collapsed": false
   },
   "outputs": [
    {
     "name": "stdout",
     "output_type": "stream",
     "text": [
      "second\n",
      "first\n"
     ]
    }
   ],
   "source": [
    "print_position('second','first') "
   ]
  },
  {
   "cell_type": "markdown",
   "metadata": {},
   "source": [
    "> #### Keyword Arguments\n",
    ">A keyword argument is followed by an equal sign and an expression that gives its default value. When you call a function with keyword arguments, the default value will be used if you don't specify the keyword argument in the function call."
   ]
  },
  {
   "cell_type": "code",
   "execution_count": 44,
   "metadata": {
    "collapsed": true
   },
   "outputs": [],
   "source": [
    "def print_keyword(first = 'first'): #with default values\n",
    "    print(first)"
   ]
  },
  {
   "cell_type": "code",
   "execution_count": 45,
   "metadata": {
    "collapsed": false
   },
   "outputs": [
    {
     "name": "stdout",
     "output_type": "stream",
     "text": [
      "second?!\n"
     ]
    }
   ],
   "source": [
    "print_keyword(first = 'second?!') #pass a value into the keyword argument"
   ]
  },
  {
   "cell_type": "code",
   "execution_count": 46,
   "metadata": {
    "collapsed": false
   },
   "outputs": [
    {
     "name": "stdout",
     "output_type": "stream",
     "text": [
      "first\n"
     ]
    }
   ],
   "source": [
    "print_keyword() #or rely on the default value and don't pass anything into the function call"
   ]
  },
  {
   "cell_type": "markdown",
   "metadata": {},
   "source": [
    "> #### Positional Arguments with Keyword Arguments\n",
    "> If you want to use positional arguments with keyword arguments, you must define the positional arguments before the keyword arguments, otherwise you'll get a `SyntaxError`."
   ]
  },
  {
   "cell_type": "code",
   "execution_count": 48,
   "metadata": {
    "collapsed": true
   },
   "outputs": [],
   "source": [
    "def print_both_args(first, second = \"second\"):\n",
    "    print(first)\n",
    "    print(second)"
   ]
  },
  {
   "cell_type": "code",
   "execution_count": 49,
   "metadata": {
    "collapsed": false
   },
   "outputs": [
    {
     "name": "stdout",
     "output_type": "stream",
     "text": [
      "first\n",
      "second\n"
     ]
    }
   ],
   "source": [
    "print_both_args(\"first\")"
   ]
  },
  {
   "cell_type": "code",
   "execution_count": 50,
   "metadata": {
    "collapsed": false
   },
   "outputs": [
    {
     "ename": "SyntaxError",
     "evalue": "non-default argument follows default argument (<ipython-input-50-84ce2d860223>, line 1)",
     "output_type": "error",
     "traceback": [
      "\u001b[0;36m  File \u001b[0;32m\"<ipython-input-50-84ce2d860223>\"\u001b[0;36m, line \u001b[0;32m1\u001b[0m\n\u001b[0;31m    def print_both_args2(first = \"first\", second):\u001b[0m\n\u001b[0m                        ^\u001b[0m\n\u001b[0;31mSyntaxError\u001b[0m\u001b[0;31m:\u001b[0m non-default argument follows default argument\n"
     ]
    }
   ],
   "source": [
    "# this won't work\n",
    "def print_both_args2(first = \"first\", second):\n",
    "    print(first)\n",
    "    print(second)"
   ]
  },
  {
   "cell_type": "markdown",
   "metadata": {},
   "source": [
    "> But you can pass a positional argument after a keyword argument if you treat it as a keyword argument:"
   ]
  },
  {
   "cell_type": "code",
   "execution_count": 51,
   "metadata": {
    "collapsed": false
   },
   "outputs": [
    {
     "name": "stdout",
     "output_type": "stream",
     "text": [
      "first\n",
      "second\n"
     ]
    }
   ],
   "source": [
    "print_both_args(second = \"second\", first = \"first\")"
   ]
  },
  {
   "cell_type": "markdown",
   "metadata": {},
   "source": [
    "> #### Argument Collections\n",
    "> Functions can also accept two types of argument collections.\n",
    "\n",
    "> The first is a named `tuple` that contains any additional positional arguments. This special argument is defined by using a single asterisk (*) as a prefix.\n",
    "\n",
    "> The second is a `dictionary` containing any additional keyword arguments. This special argument is defined with two asterisks (**).\n",
    "\n",
    "> The convetion is to name these `args` and `kwargs`, respectively."
   ]
  },
  {
   "cell_type": "code",
   "execution_count": 52,
   "metadata": {
    "collapsed": true
   },
   "outputs": [],
   "source": [
    "def arg_collection(*args, **kwargs):\n",
    "    print('args:', args)\n",
    "    print('kwargs:', kwargs)"
   ]
  },
  {
   "cell_type": "code",
   "execution_count": 53,
   "metadata": {
    "collapsed": false
   },
   "outputs": [
    {
     "name": "stdout",
     "output_type": "stream",
     "text": [
      "args: ('arg',)\n",
      "kwargs: {}\n"
     ]
    }
   ],
   "source": [
    "arg_collection('arg')"
   ]
  },
  {
   "cell_type": "code",
   "execution_count": 54,
   "metadata": {
    "collapsed": false
   },
   "outputs": [
    {
     "name": "stdout",
     "output_type": "stream",
     "text": [
      "args: ()\n",
      "kwargs: {'foo': 'kwargs'}\n"
     ]
    }
   ],
   "source": [
    "arg_collection(foo='kwargs')"
   ]
  },
  {
   "cell_type": "code",
   "execution_count": 55,
   "metadata": {
    "collapsed": true
   },
   "outputs": [],
   "source": [
    "def all_together(a, b, c=None, *args, **kwargs):\n",
    "    print('(a, b, c):', (a, b, c))\n",
    "    print('args:', args)\n",
    "    print('kwargs:', kwargs)"
   ]
  },
  {
   "cell_type": "code",
   "execution_count": 56,
   "metadata": {
    "collapsed": false
   },
   "outputs": [
    {
     "name": "stdout",
     "output_type": "stream",
     "text": [
      "(a, b, c): ('a', 'b', 'c')\n",
      "args: ('d', 'e')\n",
      "kwargs: {'f': 'f', 'g': 'g'}\n"
     ]
    }
   ],
   "source": [
    "all_together('a', 'b', 'c', 'd', 'e', f='f', g='g')"
   ]
  },
  {
   "cell_type": "markdown",
   "metadata": {},
   "source": [
    "> #### Unpacking Argument Collections\n",
    "You can also create a list of arguments and pass them into a function.\n",
    "\n",
    "> For positional arguments, you insert them into a `tuple` or `list` and then prepend that object with an asterisk (`*`) in the function call."
   ]
  },
  {
   "cell_type": "code",
   "execution_count": 57,
   "metadata": {
    "collapsed": false
   },
   "outputs": [],
   "source": [
    "def print_stuff(a, b, c=0, d=None):\n",
    "    print('a: {0}, b: {1}, c: {2}, d: {3}'.format(a, b, c, d))"
   ]
  },
  {
   "cell_type": "code",
   "execution_count": 58,
   "metadata": {
    "collapsed": true
   },
   "outputs": [],
   "source": [
    "positional_args = (1, 2)  #using a tuple\n",
    "keyword_args = {'c': 3, 'd': 4} #using a dictionary"
   ]
  },
  {
   "cell_type": "code",
   "execution_count": 59,
   "metadata": {
    "collapsed": false
   },
   "outputs": [
    {
     "name": "stdout",
     "output_type": "stream",
     "text": [
      "a: 1, b: 2, c: 3, d: 4\n"
     ]
    }
   ],
   "source": [
    "print_stuff(*positional_args, **keyword_args)"
   ]
  },
  {
   "cell_type": "markdown",
   "metadata": {},
   "source": [
    "> Note that the function will still print even if we didn't use the asterisks. This can produce some unintended consequences. That's why `docstrings` are super helpful! "
   ]
  },
  {
   "cell_type": "code",
   "execution_count": 60,
   "metadata": {
    "collapsed": false
   },
   "outputs": [
    {
     "name": "stdout",
     "output_type": "stream",
     "text": [
      "a: (1, 2), b: {'c': 3, 'd': 4}, c: 0, d: None\n"
     ]
    }
   ],
   "source": [
    "print_stuff(positional_args,keyword_args)"
   ]
  },
  {
   "cell_type": "markdown",
   "metadata": {},
   "source": [
    "### Docstrings\n",
    "> A docstring is a string literal that occurs as the first statement in a module, function, class, or method definition. A docstring becomes the `__doc__` special attribute of that object."
   ]
  },
  {
   "cell_type": "code",
   "execution_count": 62,
   "metadata": {
    "collapsed": false
   },
   "outputs": [
    {
     "name": "stdout",
     "output_type": "stream",
     "text": [
      "Increment a number by 1\n",
      "    \n",
      "    Arguments:\n",
      "    number -- any numeric type, such as int, float, bool or complex\n",
      "    \n"
     ]
    }
   ],
   "source": [
    "print(incrementer.__doc__)        #print our function's docstring"
   ]
  },
  {
   "cell_type": "code",
   "execution_count": 63,
   "metadata": {
    "collapsed": false
   },
   "outputs": [
    {
     "name": "stdout",
     "output_type": "stream",
     "text": [
      "Help on function incrementer in module __main__:\n",
      "\n",
      "incrementer(number)\n",
      "    Increment a number by 1\n",
      "    \n",
      "    Arguments:\n",
      "    number -- any numeric type, such as int, float, bool or complex\n",
      "\n"
     ]
    }
   ],
   "source": [
    "help(incrementer) # you can also use the built-in help function"
   ]
  },
  {
   "cell_type": "markdown",
   "metadata": {},
   "source": [
    "> You can also access docstrings by typing shift + tab while your cursor is within the parentheses of a function. Try that below:"
   ]
  },
  {
   "cell_type": "code",
   "execution_count": null,
   "metadata": {
    "collapsed": true
   },
   "outputs": [],
   "source": [
    "np.array()"
   ]
  },
  {
   "cell_type": "markdown",
   "metadata": {},
   "source": [
    "### Value-Returning vs. Void Functions\n",
    "> In Python, you can define a function without a return statement. These are called **void functions** because they return `None`, a special Python type that represents \"nothing\". Let's see this in action:"
   ]
  },
  {
   "cell_type": "code",
   "execution_count": 64,
   "metadata": {
    "collapsed": false
   },
   "outputs": [],
   "source": [
    "def void_function():\n",
    "    print(\"Howdy! I'm a void function!\")\n",
    "\n",
    "def value_function():\n",
    "    return \"Howdy! I'm a value-returning function!\""
   ]
  },
  {
   "cell_type": "markdown",
   "metadata": {},
   "source": [
    "> Let's see what happens when we call each function:"
   ]
  },
  {
   "cell_type": "code",
   "execution_count": 65,
   "metadata": {
    "collapsed": false
   },
   "outputs": [
    {
     "name": "stdout",
     "output_type": "stream",
     "text": [
      "Howdy! I'm a void function!\n"
     ]
    }
   ],
   "source": [
    "void_function()"
   ]
  },
  {
   "cell_type": "code",
   "execution_count": 66,
   "metadata": {
    "collapsed": false
   },
   "outputs": [
    {
     "data": {
      "text/plain": [
       "\"Howdy! I'm a value-returning function!\""
      ]
     },
     "execution_count": 66,
     "metadata": {},
     "output_type": "execute_result"
    }
   ],
   "source": [
    "value_function()"
   ]
  },
  {
   "cell_type": "markdown",
   "metadata": {},
   "source": [
    "> Note the subtle difference: `void_function()` printed our message while `value_function()` returned a `str` object (as indicated by the quotation marks). \n",
    "\n",
    "> To verify that `void_function()` returns `None` and that `value_function()` returns our message, let's try assigning these functions to some variables"
   ]
  },
  {
   "cell_type": "code",
   "execution_count": 67,
   "metadata": {
    "collapsed": false
   },
   "outputs": [
    {
     "name": "stdout",
     "output_type": "stream",
     "text": [
      "Howdy! I'm a void function!\n"
     ]
    }
   ],
   "source": [
    "void = void_function() #void_function will still print"
   ]
  },
  {
   "cell_type": "code",
   "execution_count": 68,
   "metadata": {
    "collapsed": false
   },
   "outputs": [
    {
     "data": {
      "text/plain": [
       "True"
      ]
     },
     "execution_count": 68,
     "metadata": {},
     "output_type": "execute_result"
    }
   ],
   "source": [
    "void == None #but the variable void holds None instead of the message"
   ]
  },
  {
   "cell_type": "code",
   "execution_count": 69,
   "metadata": {
    "collapsed": false
   },
   "outputs": [
    {
     "data": {
      "text/plain": [
       "\"Howdy! I'm a value-returning function!\""
      ]
     },
     "execution_count": 69,
     "metadata": {},
     "output_type": "execute_result"
    }
   ],
   "source": [
    "value = value_function()\n",
    "value #the variable value holds the str object returned by value_function()"
   ]
  },
  {
   "cell_type": "markdown",
   "metadata": {},
   "source": [
    "### Generalization\n",
    "> You can make a function more versatile by adding additional arguments. Let's generalize `incrementer` by adding an argument that lets us determine how much we want to increment."
   ]
  },
  {
   "cell_type": "code",
   "execution_count": 70,
   "metadata": {
    "collapsed": true
   },
   "outputs": [],
   "source": [
    "def incrementer(number, increment):\n",
    "    \"\"\"Increment a number by an increment, positive or negative\n",
    "    \n",
    "    Arguments:\n",
    "    number -- any numeric type, such as int, float, bool or complex\n",
    "    \n",
    "    increment -- any numeric type, such as int, float, bool or complex\n",
    "    \"\"\"\n",
    "    \n",
    "    n = number\n",
    "    result = n + increment\n",
    "    return result"
   ]
  },
  {
   "cell_type": "code",
   "execution_count": 71,
   "metadata": {
    "collapsed": false
   },
   "outputs": [
    {
     "data": {
      "text/plain": [
       "0.0"
      ]
     },
     "execution_count": 71,
     "metadata": {},
     "output_type": "execute_result"
    }
   ],
   "source": [
    "incrementer(1.0,-1)"
   ]
  },
  {
   "cell_type": "markdown",
   "metadata": {},
   "source": [
    "### Parameters and Variables are \"Local\""
   ]
  },
  {
   "cell_type": "markdown",
   "metadata": {},
   "source": [
    "> Parameters and variables only exist within their functions. In Python, this is the concept of **namespace** and **scope**, two subjects we'll treat in a [later lesson](https://github.com/csmcallister/learning-data-science/blob/master/Learn%20Python/3.%20Data%20Structures/5.%20Classes/Classes.ipynb).\n",
    "\n",
    "> For now, note that we created parameter `n` and variable `result` within the scope of our `incrementer` function. \n",
    "\n",
    "> Let's execute `incrementer` again to see how `n` and `result` are destroyed when the function terminates."
   ]
  },
  {
   "cell_type": "code",
   "execution_count": 72,
   "metadata": {
    "collapsed": false
   },
   "outputs": [
    {
     "data": {
      "text/plain": [
       "2"
      ]
     },
     "execution_count": 72,
     "metadata": {},
     "output_type": "execute_result"
    }
   ],
   "source": [
    "incrementer(1,1)"
   ]
  },
  {
   "cell_type": "code",
   "execution_count": 73,
   "metadata": {
    "collapsed": false
   },
   "outputs": [
    {
     "ename": "NameError",
     "evalue": "name 'n' is not defined",
     "output_type": "error",
     "traceback": [
      "\u001b[0;31m---------------------------------------------------------------------------\u001b[0m",
      "\u001b[0;31mNameError\u001b[0m                                 Traceback (most recent call last)",
      "\u001b[0;32m<ipython-input-73-fe13119fb084>\u001b[0m in \u001b[0;36m<module>\u001b[0;34m()\u001b[0m\n\u001b[0;32m----> 1\u001b[0;31m \u001b[0mn\u001b[0m\u001b[0;34m\u001b[0m\u001b[0m\n\u001b[0m",
      "\u001b[0;31mNameError\u001b[0m: name 'n' is not defined"
     ]
    }
   ],
   "source": [
    "n"
   ]
  },
  {
   "cell_type": "code",
   "execution_count": 74,
   "metadata": {
    "collapsed": false
   },
   "outputs": [
    {
     "ename": "NameError",
     "evalue": "name 'result' is not defined",
     "output_type": "error",
     "traceback": [
      "\u001b[0;31m---------------------------------------------------------------------------\u001b[0m",
      "\u001b[0;31mNameError\u001b[0m                                 Traceback (most recent call last)",
      "\u001b[0;32m<ipython-input-74-a5b1e83cd027>\u001b[0m in \u001b[0;36m<module>\u001b[0;34m()\u001b[0m\n\u001b[0;32m----> 1\u001b[0;31m \u001b[0mresult\u001b[0m\u001b[0;34m\u001b[0m\u001b[0m\n\u001b[0m",
      "\u001b[0;31mNameError\u001b[0m: name 'result' is not defined"
     ]
    }
   ],
   "source": [
    "result"
   ]
  },
  {
   "cell_type": "markdown",
   "metadata": {},
   "source": [
    "### Enclosing Functions\n",
    "> Python allows you to nest functions so that you can pass variables from one function to another. Also called a **closure**, this allows an inner function to have access to the outer (enclosing) function's variables.\n",
    "\n",
    "> In the example below, `outer_function` passes off `a` to its enclosed `inner_function`:"
   ]
  },
  {
   "cell_type": "code",
   "execution_count": 76,
   "metadata": {
    "collapsed": false
   },
   "outputs": [],
   "source": [
    "def outer_function():\n",
    "    a=1\n",
    "    def inner_function():\n",
    "        print(a)\n",
    "    inner_function()"
   ]
  },
  {
   "cell_type": "code",
   "execution_count": 77,
   "metadata": {
    "collapsed": false
   },
   "outputs": [
    {
     "name": "stdout",
     "output_type": "stream",
     "text": [
      "1\n"
     ]
    }
   ],
   "source": [
    "outer_function()        #when you call outer_function, \n",
    "                        #note how the print function of inner_function is actually executed"
   ]
  },
  {
   "cell_type": "markdown",
   "metadata": {},
   "source": [
    "> So why are enclosing functions important? \n",
    "\n",
    ">Consider the case when `a=1` is a computationally expensive operation that you'd like `inner_function` to have access to. Consider also that, instead of one `inner_function`, you have many. Instead of having to repeatedly type this verbose operation in each separate `inner_function` - and then having it computed on every function call - you could wrap the operation in a **closure** and have it precomputed for all of your `inner_functions`!"
   ]
  },
  {
   "cell_type": "markdown",
   "metadata": {},
   "source": [
    "### Refactoring\n",
    "> Code [refactoring](https://en.wikipedia.org/wiki/Code_refactoring) is the process of restructuring computer code to improve code readability without changing external behavior. Consider a simple program that needs to be able to calculate the following:\n",
    " - The mean of a list of $n$ numbers\n",
    "$${\\bar{x} = \\frac {1}{n}}\\sum _{i=1}^{n}x_{i}$$\n",
    " - The sum of the square root of the squared deviations from the mean of each value within a list of numbers\n",
    "$$\\sum _{i=1}^{n}\\sqrt{(x_i - \\bar{x})^2}$$"
   ]
  },
  {
   "cell_type": "code",
   "execution_count": 6,
   "metadata": {
    "collapsed": true
   },
   "outputs": [],
   "source": [
    "def mean(num_list):\n",
    "    return sum(num_list) / len(num_list)\n",
    "\n",
    "def sum_deviations(num_list):\n",
    "    deviations = []\n",
    "    num_list_mean = sum(num_list) / len(num_list)                #line 6\n",
    "    for n in num_list:\n",
    "        deviations.append(((n - num_list_mean)**2)**(1/2))       #line 8\n",
    "    return sum(deviations)"
   ]
  },
  {
   "cell_type": "markdown",
   "metadata": {},
   "source": [
    "> Some of the code above is repetitive. Check lines 6 and 8, where we calculate the mean inside the `deviations` function. Since we already wrote code to calculate the mean of a list of numbers in the `mean` function, we could simplify `sum_deviations` by making calls to the `mean` function. Here's the refactoring:"
   ]
  },
  {
   "cell_type": "code",
   "execution_count": 12,
   "metadata": {
    "collapsed": false
   },
   "outputs": [],
   "source": [
    "def mean(num_list):\n",
    "    return sum(num_list) / len(num_list)\n",
    "\n",
    "def sum_deviations(num_list):\n",
    "    deviations = []\n",
    "    #num_list_mean = sum(num_list) / len(num_list) ## <-- this whole line of code can be nixed\n",
    "    for n in num_list:\n",
    "        deviations.append(((n - mean(num_list))**2)**(1/2)) ## <-- and here's the call to the mean function\n",
    "    return sum(deviations)"
   ]
  },
  {
   "cell_type": "markdown",
   "metadata": {},
   "source": [
    "> Of course this is a simplified example, but such refactoring can make a huge difference in code readability once you begin writing larger programs."
   ]
  },
  {
   "cell_type": "markdown",
   "metadata": {},
   "source": [
    "### Recursion\n",
    "> Recursion is the process of defining something in terms of itself. Consider this form of visual recursion, called the [Droste Effect](https://en.wikipedia.org/wiki/Droste_effect):\n",
    "<img src=\"assets/droste.JPG\" height = 200 width = 200>\n",
    "The woman is holding an object that contains a smaller image of her holding an identical object, which in turn contains a smaller image of herself holding an identical object, and so forth.\n",
    "\n",
    "> In computer science, recursion is a method where the solution to a problem depends on solutions to smaller instances of the same problem. \n",
    "\n",
    "> A **recursive function** is a function that calls itself over and over until some sort of condition - called a **base case** - is met. \n",
    "\n",
    "> Consider a [factorial](https://en.wikipedia.org/wiki/Factorial). In mathematics, the factorial of a non-negative integer $n$, denoted by $n!$, is the product of all positive integers less than or equal to $n$. For example:\n",
    "\n",
    "> $$5!=5\\times 4\\times 3\\times 2\\times 1=120$$\n",
    "\n",
    "> This is recursive because you're multiplying a number by itself minus one over and over again until you reach the base case of zero.\n",
    "\n",
    "> The recursive definition of a factorial is then the equations: $$0! = 1$$  $$n > 0, n! = n(n − 1)!$$\n",
    "Here it is in Python:"
   ]
  },
  {
   "cell_type": "code",
   "execution_count": 78,
   "metadata": {
    "collapsed": true
   },
   "outputs": [],
   "source": [
    "def factorial(n):\n",
    "    if n < 1:         #set a condition that will catch the base case before you hit Python's recursion limit\n",
    "        return 1      #return 1 since 0! = 1\n",
    "    else:\n",
    "        answer = n * factorial(n - 1) #create a variable called answer that is the product of n and the recursive call\n",
    "        #print(str(n)+'! = ',answer)   #this print statement can help you understand what's going on\n",
    "    return answer"
   ]
  },
  {
   "cell_type": "code",
   "execution_count": 79,
   "metadata": {
    "collapsed": false
   },
   "outputs": [
    {
     "data": {
      "text/plain": [
       "120"
      ]
     },
     "execution_count": 79,
     "metadata": {},
     "output_type": "execute_result"
    }
   ],
   "source": [
    "factorial(5)"
   ]
  },
  {
   "cell_type": "markdown",
   "metadata": {},
   "source": [
    "> Of course, you could also calculate a factorial without recursion using iteration:"
   ]
  },
  {
   "cell_type": "code",
   "execution_count": 82,
   "metadata": {
    "collapsed": false
   },
   "outputs": [
    {
     "data": {
      "text/plain": [
       "120"
      ]
     },
     "execution_count": 82,
     "metadata": {},
     "output_type": "execute_result"
    }
   ],
   "source": [
    "def iter_factorial(n):\n",
    "    a = 1\n",
    "    for i in range(2,n+1):\n",
    "        a *= i\n",
    "    return a\n",
    "\n",
    "iter_factorial(5)"
   ]
  },
  {
   "cell_type": "markdown",
   "metadata": {},
   "source": [
    "#### Advantages of Recursion\n",
    "> - Since recursion often gels with mathematics, recursive functions can make code more elegant.\n",
    "- Recursion can also make it easier to break down a complex task into simpler sub-tasks.\n",
    "\n",
    "#### Disadvantages of Recursion\n",
    "> - Recursive logic can quickly become tough to folow; this can make recursive functions tough to debug\n",
    "- Recursive calls are inefficient as they take up a lot of memory and time (play with the function below to see this in action)"
   ]
  },
  {
   "cell_type": "code",
   "execution_count": 89,
   "metadata": {
    "collapsed": false
   },
   "outputs": [],
   "source": [
    "import timeit\n",
    "def time_tester(i):\n",
    "    \"\"\"Print how long recursion and iteration took for calculating a factorial.\n",
    "    \n",
    "    Arguments\n",
    "    i - an integer for calculating i! (don't make this number too big!)\n",
    "    \"\"\"\n",
    "    r_time = timeit.timeit('factorial('+str(i)+')', globals=globals())\n",
    "    i_time = timeit.timeit('iter_factorial('+str(i)+')', globals=globals())\n",
    "    print(\"Recursion for {}! took approximately {:.2f} seconds\".format(i, r_time))\n",
    "    print(\"Iteration for {}! took approximately {:.2f} seconds\".format(i,i_time,))\n",
    "    print(\"Iteration was {:.1f} times faster than recursion\".format(r_time/i_time))"
   ]
  },
  {
   "cell_type": "code",
   "execution_count": 90,
   "metadata": {
    "collapsed": false
   },
   "outputs": [
    {
     "name": "stdout",
     "output_type": "stream",
     "text": [
      "Recursion for 10! took approximately 2.72 seconds\n",
      "Iteration for 10! took approximately 1.20 seconds\n",
      "Iteration was 2.3 times faster than recursion\n"
     ]
    }
   ],
   "source": [
    "time_tester(10)  #enter an integer to see the time difference"
   ]
  },
  {
   "cell_type": "markdown",
   "metadata": {},
   "source": [
    "### Exercises"
   ]
  },
  {
   "cell_type": "markdown",
   "metadata": {},
   "source": [
    "> 1) Write a function that squares each value in a list, returning the result as a new list."
   ]
  },
  {
   "cell_type": "code",
   "execution_count": null,
   "metadata": {
    "collapsed": true
   },
   "outputs": [],
   "source": []
  },
  {
   "cell_type": "markdown",
   "metadata": {},
   "source": [
    "> 2) Write a function that returns the measure of the interior angle of an n-sided polygon. Here's the formula for calculating the measure of an n-sided polygon's interior angle:\n",
    "$$\\frac{(n-2) \\times 180}{n}$$\n",
    "<img src=\"assets/polygon.gif\" height = 150 width = 150>"
   ]
  },
  {
   "cell_type": "code",
   "execution_count": null,
   "metadata": {
    "collapsed": true
   },
   "outputs": [],
   "source": []
  },
  {
   "cell_type": "markdown",
   "metadata": {},
   "source": [
    "> 3) Write a function that tests if a number is [prime](https://en.wikipedia.org/wiki/Prime_number). Note that you can test if a number is prime by seeing if it is divisible by any number up to its square root."
   ]
  },
  {
   "cell_type": "code",
   "execution_count": null,
   "metadata": {
    "collapsed": true
   },
   "outputs": [],
   "source": []
  },
  {
   "cell_type": "markdown",
   "metadata": {},
   "source": [
    "> 4) A [palindrome](https://en.wikipedia.org/wiki/Palindrome) is a word or phrase that reads the same backward as forward, such as madam, “taco cat”, or racecar. Write a function that tests if its argument, which should be a string, is a palindrome. Hint: this can be solved with or without recursion."
   ]
  },
  {
   "cell_type": "code",
   "execution_count": null,
   "metadata": {
    "collapsed": true
   },
   "outputs": [],
   "source": []
  },
  {
   "cell_type": "markdown",
   "metadata": {},
   "source": [
    "<a id='errors'></a>\n",
    "## Errors and Exceptions"
   ]
  },
  {
   "cell_type": "markdown",
   "metadata": {},
   "source": [
    "Until now, we've encountered error messages without really inspecting them. There are (at least) two distinguishable kinds of errors: **syntax errors** and **exceptions**."
   ]
  },
  {
   "cell_type": "markdown",
   "metadata": {},
   "source": [
    "#### Syntax Errors\n",
    "> Also known as parsing errors, syntax errors are the most common complaint you'll get while learning Python:"
   ]
  },
  {
   "cell_type": "code",
   "execution_count": 327,
   "metadata": {
    "collapsed": false
   },
   "outputs": [
    {
     "ename": "SyntaxError",
     "evalue": "unexpected EOF while parsing (<ipython-input-327-93c40b3a6def>, line 1)",
     "output_type": "error",
     "traceback": [
      "\u001b[0;36m  File \u001b[0;32m\"<ipython-input-327-93c40b3a6def>\"\u001b[0;36m, line \u001b[0;32m1\u001b[0m\n\u001b[0;31m    print('Hello world'\u001b[0m\n\u001b[0m                       ^\u001b[0m\n\u001b[0;31mSyntaxError\u001b[0m\u001b[0;31m:\u001b[0m unexpected EOF while parsing\n"
     ]
    }
   ],
   "source": [
    "print('Hello world'"
   ]
  },
  {
   "cell_type": "markdown",
   "metadata": {},
   "source": [
    "> When there's a syntax error, the parser repeats the offending line and displays a little ‘arrow’ pointing at the earliest point in the line where the error was detected. The error is caused by (or at least detected at) the token preceding the arrow. \n",
    "\n",
    "> In the example above, the error is detected at the end of the function `print()` since it's missing a closing parenthesis `)`. The file name and line number are printed so you know where to look in case the input came from a script."
   ]
  },
  {
   "cell_type": "markdown",
   "metadata": {},
   "source": [
    "#### Exceptions\n",
    "> Even if your code is syntactically correct, it may cause an error upon execution. Errors detected during execution are called **exceptions**. Unlike syntax errors, exceptions are not unconditionally fatal. This means you can write code to handle them. If you don't handle them, then you'll be stuck with errors. Consider the following three errors:"
   ]
  },
  {
   "cell_type": "code",
   "execution_count": 328,
   "metadata": {
    "collapsed": false
   },
   "outputs": [
    {
     "ename": "ZeroDivisionError",
     "evalue": "division by zero",
     "output_type": "error",
     "traceback": [
      "\u001b[0;31m---------------------------------------------------------------------------\u001b[0m",
      "\u001b[0;31mZeroDivisionError\u001b[0m                         Traceback (most recent call last)",
      "\u001b[0;32m<ipython-input-328-b710d87c980c>\u001b[0m in \u001b[0;36m<module>\u001b[0;34m()\u001b[0m\n\u001b[0;32m----> 1\u001b[0;31m \u001b[0;36m1\u001b[0m \u001b[0;34m/\u001b[0m \u001b[0;36m0\u001b[0m\u001b[0;34m\u001b[0m\u001b[0m\n\u001b[0m",
      "\u001b[0;31mZeroDivisionError\u001b[0m: division by zero"
     ]
    }
   ],
   "source": [
    "1 / 0"
   ]
  },
  {
   "cell_type": "code",
   "execution_count": 329,
   "metadata": {
    "collapsed": false
   },
   "outputs": [
    {
     "ename": "NameError",
     "evalue": "name 'foo' is not defined",
     "output_type": "error",
     "traceback": [
      "\u001b[0;31m---------------------------------------------------------------------------\u001b[0m",
      "\u001b[0;31mNameError\u001b[0m                                 Traceback (most recent call last)",
      "\u001b[0;32m<ipython-input-329-7ba0285b9f19>\u001b[0m in \u001b[0;36m<module>\u001b[0;34m()\u001b[0m\n\u001b[0;32m----> 1\u001b[0;31m \u001b[0mfoo\u001b[0m\u001b[0;34m*\u001b[0m\u001b[0;36m2\u001b[0m\u001b[0;34m\u001b[0m\u001b[0m\n\u001b[0m",
      "\u001b[0;31mNameError\u001b[0m: name 'foo' is not defined"
     ]
    }
   ],
   "source": [
    "foo*2"
   ]
  },
  {
   "cell_type": "code",
   "execution_count": 330,
   "metadata": {
    "collapsed": false
   },
   "outputs": [
    {
     "ename": "TypeError",
     "evalue": "must be str, not int",
     "output_type": "error",
     "traceback": [
      "\u001b[0;31m---------------------------------------------------------------------------\u001b[0m",
      "\u001b[0;31mTypeError\u001b[0m                                 Traceback (most recent call last)",
      "\u001b[0;32m<ipython-input-330-2e87809dd063>\u001b[0m in \u001b[0;36m<module>\u001b[0;34m()\u001b[0m\n\u001b[0;32m----> 1\u001b[0;31m \u001b[0;34m'1'\u001b[0m \u001b[0;34m+\u001b[0m \u001b[0;36m1\u001b[0m\u001b[0;34m\u001b[0m\u001b[0m\n\u001b[0m",
      "\u001b[0;31mTypeError\u001b[0m: must be str, not int"
     ]
    }
   ],
   "source": [
    "'1' + 1"
   ]
  },
  {
   "cell_type": "markdown",
   "metadata": {},
   "source": [
    "> Each of the above demonstrates a [built-in exception](https://docs.python.org/3/library/exceptions.html#bltin-exceptions), although it is possible to create your own user-defined exceptions.\n",
    "\n",
    "> Exceptions come in different types, and the type is printed as a part of that message. Above we see `ZeroDivisionError`, `NameError` and `TypeError` types. The rest of the message provides details on the type of exception and what caused it."
   ]
  },
  {
   "cell_type": "markdown",
   "metadata": {},
   "source": [
    "#### Handling Exceptions\n",
    "> It is possible to write programs that handle selected exceptions. Look at the following example, which asks the user for input until a valid integer has been entered:"
   ]
  },
  {
   "cell_type": "code",
   "execution_count": 92,
   "metadata": {
    "collapsed": false
   },
   "outputs": [
    {
     "name": "stdout",
     "output_type": "stream",
     "text": [
      "Please enter a number: a\n",
      "Oops!  That was no valid number.  Try again...\n",
      "Please enter a number: b\n",
      "Oops!  That was no valid number.  Try again...\n",
      "Please enter a number: c\n",
      "Oops!  That was no valid number.  Try again...\n",
      "Please enter a number: 1\n"
     ]
    }
   ],
   "source": [
    "while True:\n",
    "    try:\n",
    "        x = int(input(\"Please enter a number: \"))\n",
    "        break\n",
    "    except ValueError:\n",
    "        print(\"Oops!  That was no valid number.  Try again...\")"
   ]
  },
  {
   "cell_type": "markdown",
   "metadata": {},
   "source": [
    "> Here's how the `try` statement works:\n",
    "- First, the `try` clause (the statements between the `try` and `except` keywords) is executed.\n",
    "- If no exception occurs, the `except` clause is skipped and execution of the `try` statement is finished.\n",
    "- If an exception occurs during execution of the `try` clause, the rest of the clause is skipped. Then if its type matches the exception named after the `except` keyword, the `except` clause is executed, and then execution continues after the `try` statement.\n",
    "- If an exception occurs which does not match the exception named in the `except` clause, it is passed on to outer `try` statements; if no handler is found, it is an unhandled exception and execution stops with an error message."
   ]
  },
  {
   "cell_type": "markdown",
   "metadata": {},
   "source": [
    "#### Why Handle Exceptions?\n",
    "> In Python, you're meant to use exceptions for control flow. For example, the iterator protocol, which is how `for` loops work, handles a `StopIteration` error to signal loop termination. Since exception handling is a part of the language, using it can help you avoid unforseen problems. \n",
    "\n",
    "> Consider the task of reading a data file without knowing whether the file is going to be JSON or YAML:"
   ]
  },
  {
   "cell_type": "code",
   "execution_count": 93,
   "metadata": {
    "collapsed": true
   },
   "outputs": [],
   "source": [
    "import json\n",
    " \n",
    "import yaml\n",
    "\n",
    "\n",
    "def parse_file(filename):\n",
    "    try:\n",
    "        return json.load(open(filename))\n",
    "    except json.JSONDecodeError:\n",
    "        return yaml.load(open(filename))"
   ]
  },
  {
   "cell_type": "code",
   "execution_count": 94,
   "metadata": {
    "collapsed": false
   },
   "outputs": [
    {
     "data": {
      "text/plain": [
       "{'climate': 'temperate, tropical',\n",
       " 'created': '2014-12-10T11:37:19.144000Z',\n",
       " 'diameter': '10200',\n",
       " 'edited': '2014-12-20T20:58:18.421000Z',\n",
       " 'films': ['https://swapi.co/api/films/1/'],\n",
       " 'gravity': '1 standard',\n",
       " 'name': 'Yavin IV',\n",
       " 'orbital_period': '4818',\n",
       " 'population': '1000',\n",
       " 'residents': [],\n",
       " 'rotation_period': '24',\n",
       " 'surface_water': '8',\n",
       " 'terrain': 'jungle, rainforests',\n",
       " 'url': 'https://swapi.co/api/planets/3/'}"
      ]
     },
     "execution_count": 94,
     "metadata": {},
     "output_type": "execute_result"
    }
   ],
   "source": [
    "parse_file(\"assets/yavin4.json\") #parse some json"
   ]
  },
  {
   "cell_type": "code",
   "execution_count": 95,
   "metadata": {
    "collapsed": false
   },
   "outputs": [
    {
     "data": {
      "text/plain": [
       "{'bill-to': {'address': {'city': 'Palm Beach Gardens',\n",
       "   'lines': '123 Happy Dr.\\nSuite #1\\n',\n",
       "   'postal': 33410,\n",
       "   'state': 'FL'},\n",
       "  'family': 'Dylan',\n",
       "  'given': 'Bob'},\n",
       " 'comments': 'Buzz at gate. Beware of dog Call @ 555-5555.\\n',\n",
       " 'date': datetime.date(2017, 1, 1),\n",
       " 'invoice': 34843,\n",
       " 'product': [{'description': 'Widget',\n",
       "   'price': 100.0,\n",
       "   'quantity': 9,\n",
       "   'sku': 'BL232D'},\n",
       "  {'description': 'Wodget', 'price': 1250.0, 'quantity': 1, 'sku': 'BL232E'}],\n",
       " 'ship-to': {'address': {'city': 'Palm Beach Gardens',\n",
       "   'lines': '123 Happy Dr.\\nSuite #1\\n',\n",
       "   'postal': 33410,\n",
       "   'state': 'FL'},\n",
       "  'family': 'Dylan',\n",
       "  'given': 'Bob'},\n",
       " 'tax': 391.51,\n",
       " 'total': 1741.51}"
      ]
     },
     "execution_count": 95,
     "metadata": {},
     "output_type": "execute_result"
    }
   ],
   "source": [
    "parse_file(\"assets/invoice.yaml\") #parse some yaml"
   ]
  },
  {
   "cell_type": "code",
   "execution_count": 96,
   "metadata": {
    "collapsed": false
   },
   "outputs": [
    {
     "ename": "FileNotFoundError",
     "evalue": "[Errno 2] No such file or directory: \"this file doesn't exist.yaml\"",
     "output_type": "error",
     "traceback": [
      "\u001b[0;31m---------------------------------------------------------------------------\u001b[0m",
      "\u001b[0;31mFileNotFoundError\u001b[0m                         Traceback (most recent call last)",
      "\u001b[0;32m<ipython-input-96-2f3f3bc1ff23>\u001b[0m in \u001b[0;36m<module>\u001b[0;34m()\u001b[0m\n\u001b[0;32m----> 1\u001b[0;31m \u001b[0mparse_file\u001b[0m\u001b[0;34m(\u001b[0m\u001b[0;34m\"this file doesn't exist.yaml\"\u001b[0m\u001b[0;34m)\u001b[0m\u001b[0;34m\u001b[0m\u001b[0m\n\u001b[0m",
      "\u001b[0;32m<ipython-input-93-7c329c54a79f>\u001b[0m in \u001b[0;36mparse_file\u001b[0;34m(filename)\u001b[0m\n\u001b[1;32m      6\u001b[0m \u001b[0;32mdef\u001b[0m \u001b[0mparse_file\u001b[0m\u001b[0;34m(\u001b[0m\u001b[0mfilename\u001b[0m\u001b[0;34m)\u001b[0m\u001b[0;34m:\u001b[0m\u001b[0;34m\u001b[0m\u001b[0m\n\u001b[1;32m      7\u001b[0m     \u001b[0;32mtry\u001b[0m\u001b[0;34m:\u001b[0m\u001b[0;34m\u001b[0m\u001b[0m\n\u001b[0;32m----> 8\u001b[0;31m         \u001b[0;32mreturn\u001b[0m \u001b[0mjson\u001b[0m\u001b[0;34m.\u001b[0m\u001b[0mload\u001b[0m\u001b[0;34m(\u001b[0m\u001b[0mopen\u001b[0m\u001b[0;34m(\u001b[0m\u001b[0mfilename\u001b[0m\u001b[0;34m)\u001b[0m\u001b[0;34m)\u001b[0m\u001b[0;34m\u001b[0m\u001b[0m\n\u001b[0m\u001b[1;32m      9\u001b[0m     \u001b[0;32mexcept\u001b[0m \u001b[0mjson\u001b[0m\u001b[0;34m.\u001b[0m\u001b[0mJSONDecodeError\u001b[0m\u001b[0;34m:\u001b[0m\u001b[0;34m\u001b[0m\u001b[0m\n\u001b[1;32m     10\u001b[0m         \u001b[0;32mreturn\u001b[0m \u001b[0myaml\u001b[0m\u001b[0;34m.\u001b[0m\u001b[0mload\u001b[0m\u001b[0;34m(\u001b[0m\u001b[0mopen\u001b[0m\u001b[0;34m(\u001b[0m\u001b[0mfilename\u001b[0m\u001b[0;34m)\u001b[0m\u001b[0;34m)\u001b[0m\u001b[0;34m\u001b[0m\u001b[0m\n",
      "\u001b[0;31mFileNotFoundError\u001b[0m: [Errno 2] No such file or directory: \"this file doesn't exist.yaml\""
     ]
    }
   ],
   "source": [
    "parse_file(\"this file doesn't exist.yaml\")"
   ]
  },
  {
   "cell_type": "markdown",
   "metadata": {},
   "source": [
    "> Our function was able to parse both JSON and YAML thanks to exception handling. But it still let us know when it encountered another exception (i.e. `FileNotFoundError`). This is good in case you had wanted to try YAML parsing if and only if JSON parsing had failed due to `JSONDecodeError`.\n",
    "\n",
    "> There's a lot more to exception handling. You can read more about it [here](https://docs.python.org/3/tutorial/errors.html)."
   ]
  },
  {
   "cell_type": "markdown",
   "metadata": {},
   "source": [
    "<a id='next'></a>\n",
    "## What's Next"
   ]
  },
  {
   "cell_type": "markdown",
   "metadata": {},
   "source": [
    "> Next up we'll treat a specialized data structure: the `array`. There's a module called `numpy`, which is the core library for scientific computing in Python, that allows us to create and work with arrays. After arrays, we'll be ready for the `pandas` module, which will allow us to work with multidimensional, structured data sets (aka **pan**el **da**ta **s**tructures)."
   ]
  },
  {
   "cell_type": "markdown",
   "metadata": {},
   "source": [
    "<a id='starwars'></a>\n",
    "## The Star Wars API:  Parsing JSON Using Lists & Dictionaries\n",
    "The [Star Wars API](https://swapi.co/) is the world's first quantified and programmatically-formatted set of Star Wars data. With Python, we can make *requests* from this dataset and then work with it."
   ]
  },
  {
   "cell_type": "markdown",
   "metadata": {},
   "source": [
    "#### JSON\n",
    "> JavaScript Object Notation, or [JSON](https://en.wikipedia.org/wiki/JSON), is an open-standard file format for transmitting data on the web. Popular alternatives to JSON are [YAML](https://en.wikipedia.org/wiki/YAML) and [XML](https://en.wikipedia.org/wiki/XML).\n",
    "\n",
    "> Like many other APIs, The Star Wars API uses JSON. Fortunately for us, JSON is remarkably similiar to a Python dictionary and the `json` module provides a quick and easy way to convert JSON to a dictionary."
   ]
  },
  {
   "cell_type": "code",
   "execution_count": 97,
   "metadata": {
    "collapsed": false
   },
   "outputs": [
    {
     "data": {
      "text/plain": [
       "dict_keys(['title', 'episode_id', 'opening_crawl', 'director', 'producer', 'release_date', 'characters', 'planets', 'starships', 'vehicles', 'species', 'created', 'edited', 'url'])"
      ]
     },
     "execution_count": 97,
     "metadata": {},
     "output_type": "execute_result"
    }
   ],
   "source": [
    "import requests, json                           #the requests module is used to get the data from the API\n",
    "r = requests.get('http://swapi.co/api/films/1') #get the json from the API\n",
    "a_new_hope = r.json()                           #convert the json to a dictionary\n",
    "a_new_hope.keys()                               #return all of the keys from the dictionary"
   ]
  },
  {
   "cell_type": "markdown",
   "metadata": {},
   "source": [
    "> If we pass the `'opening_crawl'` key to the dictionary, we can access the value:"
   ]
  },
  {
   "cell_type": "code",
   "execution_count": 98,
   "metadata": {
    "collapsed": false
   },
   "outputs": [
    {
     "name": "stdout",
     "output_type": "stream",
     "text": [
      "It is a period of civil war.\r\n",
      "Rebel spaceships, striking\r\n",
      "from a hidden base, have won\r\n",
      "their first victory against\r\n",
      "the evil Galactic Empire.\r\n",
      "\r\n",
      "During the battle, Rebel\r\n",
      "spies managed to steal secret\r\n",
      "plans to the Empire's\r\n",
      "ultimate weapon, the DEATH\r\n",
      "STAR, an armored space\r\n",
      "station with enough power\r\n",
      "to destroy an entire planet.\r\n",
      "\r\n",
      "Pursued by the Empire's\r\n",
      "sinister agents, Princess\r\n",
      "Leia races home aboard her\r\n",
      "starship, custodian of the\r\n",
      "stolen plans that can save her\r\n",
      "people and restore\r\n",
      "freedom to the galaxy....\n"
     ]
    }
   ],
   "source": [
    "print(a_new_hope['opening_crawl'])"
   ]
  },
  {
   "cell_type": "markdown",
   "metadata": {},
   "source": [
    "> Let's check out the characters in the movie:"
   ]
  },
  {
   "cell_type": "code",
   "execution_count": 99,
   "metadata": {
    "collapsed": false
   },
   "outputs": [
    {
     "data": {
      "text/plain": [
       "['https://swapi.co/api/people/1/',\n",
       " 'https://swapi.co/api/people/2/',\n",
       " 'https://swapi.co/api/people/3/',\n",
       " 'https://swapi.co/api/people/4/',\n",
       " 'https://swapi.co/api/people/5/',\n",
       " 'https://swapi.co/api/people/6/',\n",
       " 'https://swapi.co/api/people/7/',\n",
       " 'https://swapi.co/api/people/8/',\n",
       " 'https://swapi.co/api/people/9/',\n",
       " 'https://swapi.co/api/people/10/',\n",
       " 'https://swapi.co/api/people/12/',\n",
       " 'https://swapi.co/api/people/13/',\n",
       " 'https://swapi.co/api/people/14/',\n",
       " 'https://swapi.co/api/people/15/',\n",
       " 'https://swapi.co/api/people/16/',\n",
       " 'https://swapi.co/api/people/18/',\n",
       " 'https://swapi.co/api/people/19/',\n",
       " 'https://swapi.co/api/people/81/']"
      ]
     },
     "execution_count": 99,
     "metadata": {},
     "output_type": "execute_result"
    }
   ],
   "source": [
    "a_new_hope['characters']"
   ]
  },
  {
   "cell_type": "markdown",
   "metadata": {},
   "source": [
    "> The value corresponding to the `characters` key in `a_new_hope` is a `list` of urls. We can use a loop to:\n",
    "1. pass each of these urls in another `requests.get()` call\n",
    "2. convert each JSON response to a dictionary\n",
    "3. append each dictionary to a list"
   ]
  },
  {
   "cell_type": "code",
   "execution_count": 100,
   "metadata": {
    "collapsed": false
   },
   "outputs": [
    {
     "data": {
      "text/plain": [
       "{'birth_year': '19BBY',\n",
       " 'created': '2014-12-09T13:50:51.644000Z',\n",
       " 'edited': '2014-12-20T21:17:56.891000Z',\n",
       " 'eye_color': 'blue',\n",
       " 'films': ['https://swapi.co/api/films/2/',\n",
       "  'https://swapi.co/api/films/6/',\n",
       "  'https://swapi.co/api/films/3/',\n",
       "  'https://swapi.co/api/films/1/',\n",
       "  'https://swapi.co/api/films/7/'],\n",
       " 'gender': 'male',\n",
       " 'hair_color': 'blond',\n",
       " 'height': '172',\n",
       " 'homeworld': 'https://swapi.co/api/planets/1/',\n",
       " 'mass': '77',\n",
       " 'name': 'Luke Skywalker',\n",
       " 'skin_color': 'fair',\n",
       " 'species': ['https://swapi.co/api/species/1/'],\n",
       " 'starships': ['https://swapi.co/api/starships/12/',\n",
       "  'https://swapi.co/api/starships/22/'],\n",
       " 'url': 'https://swapi.co/api/people/1/',\n",
       " 'vehicles': ['https://swapi.co/api/vehicles/14/',\n",
       "  'https://swapi.co/api/vehicles/30/']}"
      ]
     },
     "execution_count": 100,
     "metadata": {},
     "output_type": "execute_result"
    }
   ],
   "source": [
    "char_list = [] #instantiate an empty list\n",
    "\n",
    "for url in a_new_hope['characters']:\n",
    "    r = requests.get(url) #pass each url into a requests.get() call\n",
    "    char_list.append(r.json()) #convert each JSON response to a dictionary and append it to the list\n",
    "\n",
    "char_list[0] #inspect the first character in our list of dictionaries"
   ]
  },
  {
   "cell_type": "markdown",
   "metadata": {},
   "source": [
    "> Looks like we found Luke. What if we wanted to get a list of all the male characters from A New Hope?"
   ]
  },
  {
   "cell_type": "code",
   "execution_count": 101,
   "metadata": {
    "collapsed": false
   },
   "outputs": [
    {
     "data": {
      "text/plain": [
       "['Luke Skywalker',\n",
       " 'Darth Vader',\n",
       " 'Owen Lars',\n",
       " 'Biggs Darklighter',\n",
       " 'Obi-Wan Kenobi',\n",
       " 'Wilhuff Tarkin',\n",
       " 'Chewbacca',\n",
       " 'Han Solo',\n",
       " 'Greedo',\n",
       " 'Wedge Antilles',\n",
       " 'Jek Tono Porkins',\n",
       " 'Raymus Antilles']"
      ]
     },
     "execution_count": 101,
     "metadata": {},
     "output_type": "execute_result"
    }
   ],
   "source": [
    "[x['name'] for x in char_list if x['gender'] == 'male']"
   ]
  },
  {
   "cell_type": "markdown",
   "metadata": {},
   "source": [
    "> Now what if we wanted to plot the mass and height of each male character from A New Hope?"
   ]
  },
  {
   "cell_type": "code",
   "execution_count": 102,
   "metadata": {
    "collapsed": false
   },
   "outputs": [
    {
     "data": {
      "text/plain": [
       "<seaborn.axisgrid.FacetGrid at 0x11b3cd7b8>"
      ]
     },
     "execution_count": 102,
     "metadata": {},
     "output_type": "execute_result"
    },
    {
     "data": {
      "image/png": "[encoded data removed]",
      "text/plain": [
       "<matplotlib.figure.Figure at 0x11b3dfc18>"
      ]
     },
     "metadata": {},
     "output_type": "display_data"
    }
   ],
   "source": [
    "import pandas as pd\n",
    "import matplotlib.pyplot as plt\n",
    "import seaborn as sns\n",
    "%matplotlib inline\n",
    "\n",
    "data = [(x['name'],x['mass'],x['height']) for x in char_list if x['gender'] == 'male'] #create list of tuples for chars\n",
    "df = pd.DataFrame(data) #convert data to dataframe object\n",
    "df.columns = ['Name','Mass','Height'] #rename columns\n",
    "df['Height'] = pd.to_numeric(df['Height'], errors = 'coerce') #set datatype\n",
    "df['Mass'] = pd.to_numeric(df['Mass'], errors = 'coerce') #set datatype\n",
    "\n",
    "sns.lmplot(\"Height\", \"Mass\", data=df, hue='Name', fit_reg=False) #plot Mass against Height"
   ]
  }
 ],
 "metadata": {
  "kernelspec": {
   "display_name": "Python 3",
   "language": "python",
   "name": "python3"
  },
  "language_info": {
   "codemirror_mode": {
    "name": "ipython",
    "version": 3
   },
   "file_extension": ".py",
   "mimetype": "text/x-python",
   "name": "python",
   "nbconvert_exporter": "python",
   "pygments_lexer": "ipython3",
   "version": "3.6.0"
  }
 },
 "nbformat": 4,
 "nbformat_minor": 2
}
