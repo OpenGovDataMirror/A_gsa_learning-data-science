{
 "cells": [
  {
   "cell_type": "markdown",
   "metadata": {},
   "source": [
    "# Programming 101"
   ]
  },
  {
   "cell_type": "markdown",
   "metadata": {},
   "source": [
    " - [Programming Paradigms](#Part1)\n",
    " - [Variables](#Part2)\n",
    " - [Python's Built-In Data Types](#Part3)\n",
    " - [What's Next](#next)"
   ]
  },
  {
   "cell_type": "markdown",
   "metadata": {},
   "source": [
    "## Lesson Objectives\n",
    "By the end of this lesson, you'll be able to:\n",
    "- Understand differences between major programming paradigms \n",
    "- Create and understand variables\n",
    "- Understand the key differences between Python's most common built-in data types"
   ]
  },
  {
   "cell_type": "markdown",
   "metadata": {},
   "source": [
    "<a id=\"Part1\"></a>\n",
    "## Programming Paradigms"
   ]
  },
  {
   "cell_type": "markdown",
   "metadata": {},
   "source": [
    "There are a lot of programming languaes out there. To make sense of them, it's covenient to categorize them according to certain criteria. One of those criteria is how the language handles **state**. \n",
    "\n",
    "What is state? The simplest example is to consider th two possible states of a single logic gate from the last lesson:\n",
    "<img src=\"assets/switch.png\" height = 500 width = 500>\n",
    "With such a simple switch, the state of our circuit is either on or off. If we think of our circuit as a variable, it's state can be either 1 or 0.\n",
    "\n",
    "Similarly, computer programs store data in variables. These variables actually point to storage locations in the computer's memory. The content of these memory locations, at any given point in the program's execution, is called the program's state.\n",
    "\n",
    "In short, a program's state is the value of its variables while it is running."
   ]
  },
  {
   "cell_type": "markdown",
   "metadata": {},
   "source": [
    "### The Procedural Paradigm\n",
    "In [procedural programming](https://en.wikipedia.org/wiki/Procedural_programming), your program starts with some input and then executes a series of logical steps until a desired output is achieved. As the values of the program's variables change with each successive step, the program's state also changes. Here's a simple example of procedural programming in action:"
   ]
  },
  {
   "cell_type": "code",
   "execution_count": 2,
   "metadata": {
    "collapsed": false
   },
   "outputs": [
    {
     "data": {
      "text/plain": [
       "6"
      ]
     },
     "execution_count": 2,
     "metadata": {},
     "output_type": "execute_result"
    }
   ],
   "source": [
    "a = 1\n",
    "b = 2\n",
    "c = 3\n",
    "abc = a + b + c\n",
    "abc"
   ]
  },
  {
   "cell_type": "markdown",
   "metadata": {},
   "source": [
    "Above, we started the program by defining the variable `a` with the value of `1`. This was the first change to our program's state. The program's state is then changed with each successive line until we achieve our desired output.\n",
    "\n",
    "When we program procedurally like this, we're storing all of our data in a **global** state. It's called global because each an every variable we create can be accessed at any time. \n",
    "\n",
    "Having everything in a global state is fine when you're building small programs, but can quickly become complicated and cumbersome when you start building larger programs with more and more variables. As the number of global variables increases, you can loose track of the variable names you've used. This means that you might start changing the value of variables by accident. This problem led to the development of two additional programming paradigms:  functional programming and object-oriented programming."
   ]
  },
  {
   "cell_type": "markdown",
   "metadata": {},
   "source": [
    "### The Functional Paradigm\n",
    "[Functional programming](https://en.wikipedia.org/wiki/Functional_programming) started in the 1930s with Alonzo Church's [lambda calculus](https://en.wikipedia.org/wiki/Lambda_calculus). Rooted in mathematics, functional programming eliminates global state all together by relying on functions that pass their output to other functions until a desired output is achieved. Since there is no global state with global variables, the program never relies on or changes data that exists outside the current function. But that doesn't mean there is no state. The state is within the functions."
   ]
  },
  {
   "cell_type": "markdown",
   "metadata": {},
   "source": [
    "### Object-Oriented Programming\n",
    "[Object-Oriented Programming (OOP)](https://en.wikipedia.org/wiki/Object-oriented_programming) stores state in objects. What are objects? In essence, they're **classes** of data that contain within them the logic and operations that can be applied to them. In other words, OOP is about programming the objects we want to manipulate rather than the logic required to manipulate them. \n",
    "\n",
    "To make this concrete, consider fruit. Yes, fruit. Apples, oranges, pineapples. Fruit.\n",
    "\n",
    "Say we have a box of fruit. Each piece of fruit would be an object. In the language of OOP, each piece of fruit would be an **instance** of the fruit **class**. All fruit share some attributes, like weight and color, but each particular instance of fruit could contain a different value for any particular attribute. If we were to program fruit, we could define a fruit class that allows us to create several fruit instances, each with various values for the commonly shared attributes like weight and color.   \n",
    "\n",
    "This means that data (also knows as **attributes**) and their **methods** (the things you can do with the data) are bundled together into **instances** of a **class**. Thus every object contains within it the ruleset for what can and cannot be done to the data therein.\n",
    "\n",
    "> `We'll learn how to create our own classes in a later lesson ;)`"
   ]
  },
  {
   "cell_type": "markdown",
   "metadata": {},
   "source": [
    "### Why OOP?\n",
    "OOP helps programmers recognize and exploit common data structures.\n",
    "\n",
    "For example, consider your desktop. It's got a bunch of windows running, each with its own individualized data, but each window shares some common functionality, such as minimizing, maximizing, and closing. In OOP, these individual windows would be created as separate instanaces of a `window` type object. The common functionalities of closing, minimizing, and maximizing could then be implemented as methods of this `window` type."
   ]
  },
  {
   "cell_type": "markdown",
   "metadata": {},
   "source": [
    "<a id='Part2'></a>\n",
    "## Variables\n",
    "As the name implies, a variable is something that can change. \n",
    "\n",
    "In programming, a variable is really a reference to a memory address. \n",
    "\n",
    "In the language of OOP, a variable is an instance of an object. And in Python, everything is an object. \n",
    "\n",
    "The variable name is therefore a symbolic name for the physical address of an object instance. \n",
    "\n",
    "When you assign a value, such as the integer 1, to a variable, you're placing that value - and all of the constraints inherited by its object type - at a particular address. Let's see that in action:"
   ]
  },
  {
   "cell_type": "code",
   "execution_count": 24,
   "metadata": {
    "collapsed": true
   },
   "outputs": [],
   "source": [
    "x = 1"
   ]
  },
  {
   "cell_type": "markdown",
   "metadata": {},
   "source": [
    "Our variable `x` can be seen as a container for the value `1`. \n",
    "\n",
    "In the language of OOP, `x` is an instance of the `int` class containing the value 1 as an attribute. We'll delve into the `int` class and other built-in Python data types in the next lesson.\n",
    "\n",
    "For now, note that, while our program is running, we can access and even change the value of this `x`: "
   ]
  },
  {
   "cell_type": "code",
   "execution_count": 25,
   "metadata": {
    "collapsed": false
   },
   "outputs": [
    {
     "data": {
      "text/plain": [
       "1"
      ]
     },
     "execution_count": 25,
     "metadata": {},
     "output_type": "execute_result"
    }
   ],
   "source": [
    "x #access the value"
   ]
  },
  {
   "cell_type": "code",
   "execution_count": 26,
   "metadata": {
    "collapsed": false
   },
   "outputs": [
    {
     "data": {
      "text/plain": [
       "2"
      ]
     },
     "execution_count": 26,
     "metadata": {},
     "output_type": "execute_result"
    }
   ],
   "source": [
    "x = 2 #change the value\n",
    "x #access again to verify the change"
   ]
  },
  {
   "cell_type": "markdown",
   "metadata": {},
   "source": [
    "When naming a variable in Python, we have to follow a few rules:\n",
    " - Names must start with an underscore \"_\" or a letter (Variable names with a leading underscore have a [special meaning](https://docs.python.org/3/tutorial/classes.html#private-variables) in Python)\n",
    " - Subsequent letters can be an underscore, letter, or digit\n",
    " - Names are case-sensitive\n",
    " - Names cannot be any of the Python keywords (see code below)"
   ]
  },
  {
   "cell_type": "code",
   "execution_count": 1,
   "metadata": {
    "collapsed": false
   },
   "outputs": [
    {
     "name": "stdout",
     "output_type": "stream",
     "text": [
      "['False', 'None', 'True', 'and', 'as', 'assert', 'break', 'class', 'continue', 'def', 'del', 'elif', 'else', 'except', 'finally', 'for', 'from', 'global', 'if', 'import', 'in', 'is', 'lambda', 'nonlocal', 'not', 'or', 'pass', 'raise', 'return', 'try', 'while', 'with', 'yield']\n"
     ]
    }
   ],
   "source": [
    "import keyword\n",
    "print(keyword.kwlist) #print the list of Python keywords"
   ]
  },
  {
   "cell_type": "markdown",
   "metadata": {},
   "source": [
    "So what's actually happening when we assign a value to a variable? Let's run through the following code:"
   ]
  },
  {
   "cell_type": "code",
   "execution_count": null,
   "metadata": {
    "collapsed": true
   },
   "outputs": [],
   "source": [
    "x = 1\n",
    "y = x\n",
    "y = 2"
   ]
  },
  {
   "cell_type": "markdown",
   "metadata": {},
   "source": [
    "`x = 1`\n",
    "<br>Python chooses a memory location for x and stores the integer value 1 there. \n",
    "\n",
    "`y = x`\n",
    "<br>You might be tempted to think that Python will choose a new memory location and store the integer value 1 there. But since both variables have the same value after assignment, Python points `y` to the memory location of `x`.\n",
    "\n",
    "`y = 2`\n",
    "<br>`y` will be set to the integer value 2. Since `x` and `y` no longer share the same value, `y` gets its own memory address, containing 2, while `x` retains the 1.\n",
    "\n",
    "If you want to prove this to yourself, you can use the built-in `id()` function. This function returns the memory location of an object:"
   ]
  },
  {
   "cell_type": "code",
   "execution_count": 7,
   "metadata": {
    "collapsed": false
   },
   "outputs": [
    {
     "name": "stdout",
     "output_type": "stream",
     "text": [
      "when x=1, x is located at 4550178640\n",
      "when y=x, y is also located at 4550178640\n",
      "when y=2, y is now located at 4550178672\n",
      "when y=2, x is still located at 4550178640\n"
     ]
    }
   ],
   "source": [
    "x = 1\n",
    "print(\"when x=1, x is located at\",id(x))\n",
    "\n",
    "y = x\n",
    "print(\"when y=x, y is also located at\",id(y))\n",
    "\n",
    "y = 2\n",
    "print(\"when y=2, y is now located at\",id(y))\n",
    "\n",
    "print(\"when y=2, x is still located at\",id(x))"
   ]
  },
  {
   "cell_type": "markdown",
   "metadata": {},
   "source": [
    "As you can see, the new memory address isn't used until the third assigment, `y = 2`"
   ]
  },
  {
   "cell_type": "markdown",
   "metadata": {},
   "source": [
    "<a id='Part3'></a>\n",
    "## Python's Built-In Data Types\n",
    "Now that you know that variables are just instances of objects, it's time to learn about Python's main object types.\n",
    "\n",
    "The table provides an overview of the most frequently used built-in data types:\n",
    "\n",
    "<table>\n",
    "<tr class=\"row-odd\"><th class=\"head\">Type</th>\n",
    "<th class=\"head\">Example</th>\n",
    "<th class=\"head\">Usage comment</th>\n",
    "</tr>\n",
    "<tbody valign=\"top\">\n",
    "<tr class=\"row-even\"><td><tt class=\"docutils literal\"><span class=\"pre\">bool</span></tt></td>\n",
    "<td><tt class=\"docutils literal\"><span class=\"pre\">sky_is_blue</span> <span class=\"pre\">=</span> <span class=\"pre\">True</span></tt></td>\n",
    "<td>True & False values</td>\n",
    "</tr>\n",
    "<tr class=\"row-odd\"><td><tt class=\"docutils literal\"><span class=\"pre\">int</span></tt> <tt class=\"docutils literal\">\n",
    "<td><tt class=\"docutils literal\"><span class=\"pre\">year</span> <span class=\"pre\">=</span> <span class=\"pre\">2018</span></tt></td>\n",
    "<td>integers</td>\n",
    "</tr>\n",
    "<tr class=\"row-even\"><td><tt class=\"docutils literal\"><span class=\"pre\">float</span></tt></td>\n",
    "<td><tt class=\"docutils literal\"><span class=\"pre\">pi</span> <span class=\"pre\">=</span> <span class=\"pre\">3.14159265359</span></tt></td>\n",
    "<td>numbers with decimals</td>\n",
    "</tr>\n",
    "<tr class=\"row-odd\"><td><tt class=\"docutils literal\"><span class=\"pre\">str</span></tt></td>\n",
    "<td><tt class=\"docutils literal\"><span class=\"pre\">foo</span> <span class=\"pre\">=</span> <span class=\"pre\">&quot;bar&quot;</span></tt></td>\n",
    "<td>any text (note the quotations)</td>\n",
    "</tr>\n",
    "<tr class=\"row-even\"><td><tt class=\"docutils literal\"><span class=\"pre\">None</span></tt></td>\n",
    "<td><tt class=\"docutils literal\"><span class=\"pre\">limits</span> <span class=\"pre\">=</span> <span class=\"pre\">None</span></tt></td>\n",
    "<td>empty variable without any meaningful value</td>\n",
    "</tr>\n",
    "</tbody>\n",
    "</table>"
   ]
  },
  {
   "cell_type": "markdown",
   "metadata": {},
   "source": [
    "<a id='next'></a>\n",
    "## What's Next\n",
    "In this lesson, you've learned how to:\n",
    "- Differentiate between the major programming paradigms.\n",
    "- Create your own variables\n",
    "- Differentiate between Python's most common built-in data types\n",
    "\n",
    "Before exploring each of these types in turn, the next lesson will discuss why we're choosing Python as our programming language."
   ]
  }
 ],
 "metadata": {
  "kernelspec": {
   "display_name": "Python 3",
   "language": "python",
   "name": "python3"
  },
  "language_info": {
   "codemirror_mode": {
    "name": "ipython",
    "version": 3
   },
   "file_extension": ".py",
   "mimetype": "text/x-python",
   "name": "python",
   "nbconvert_exporter": "python",
   "pygments_lexer": "ipython3",
   "version": "3.6.0"
  }
 },
 "nbformat": 4,
 "nbformat_minor": 2
}
