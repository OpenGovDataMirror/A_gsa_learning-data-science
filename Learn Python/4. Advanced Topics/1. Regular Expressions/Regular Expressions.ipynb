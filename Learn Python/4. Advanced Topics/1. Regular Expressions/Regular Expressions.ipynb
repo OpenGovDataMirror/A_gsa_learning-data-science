{
 "cells": [
  {
   "cell_type": "markdown",
   "metadata": {},
   "source": [
    "# Regular Expressions"
   ]
  },
  {
   "cell_type": "markdown",
   "metadata": {},
   "source": [
    "## Lesson Objectives\n",
    "By the end of this lesson, you will be able to:\n",
    "- Understand the relationship between regular expressions and Python\n",
    "- Compile regular expressions using the `re` module\n",
    "- Use regular expressions to find pattern matches in strings\n",
    "- Use regular expressions to transform strings based on pattern matches"
   ]
  },
  {
   "cell_type": "markdown",
   "metadata": {},
   "source": [
    "## Table of Contents\n",
    " - [Regular Expressions](#regular expressions)\n",
    " - [The `re` Module](#re)\n",
    " - [Compiling Patterns and Querying Match Objects](#compiling)\n",
    " - [The Regular Expression Syntax](#syntax)\n",
    "     - [Special Metacharacters](#meta)\n",
    "     - [Special Sequences](#special)\n",
    "     - [Quantifiers](#quant)\n",
    " - [Modifying Strings](#mod)\n",
    " - [Takeaways](#takeaways)\n",
    " - [Applications](#applications)"
   ]
  },
  {
   "cell_type": "markdown",
   "metadata": {},
   "source": [
    "<a id='regular expressions' ></a>\n",
    "## Regular Expressions\n",
    "Regular expressions are a powerful language for matching text patterns. They provide a lot of flexibility to help you find and/or replace a sequence of characters. Mastering regular expressions is a stepping stone to [Natural Language Processing](https://en.wikipedia.org/wiki/Natural-language_processing). \n",
    "\n",
    "This lesson will introduce you to regular expressions as well as the Python `re` module, which provides regular expression support.\n",
    "\n",
    "I also want to quickly point you to https://pythex.org/, a quick and easy way to test your Python regular expressions."
   ]
  },
  {
   "cell_type": "markdown",
   "metadata": {},
   "source": [
    "<a id='re' ></a>\n",
    "## The `re` Module\n",
    "Regular expressions are made available through the `re` module in Python. Think of the module as access to another language through Python. \n",
    "\n",
    "You use regular expressions to specify patterns that you want to find within a string. Your pattern can be just about anything, like proper names or e-mail addresses, and the `re` module has a lot of tools that will let you find these patterns and even modify strings based on these patterns.\n",
    "\n",
    "> Behind the scenes, regular expression patterns are compiled into a series of bytecodes and then executed in C. These details won't be covered in this lesson (but maybe in a future one!)."
   ]
  },
  {
   "cell_type": "markdown",
   "metadata": {},
   "source": [
    "<a id='compiling' ></a>\n",
    "## Compiling Patterns and Querying Match Objects\n",
    "Before we dive into the regular expression language, we need to see how the `re` module works. We'll see here how to compile some basic patterns and then query the *match objects* that they return after searching a string."
   ]
  },
  {
   "cell_type": "code",
   "execution_count": 1,
   "metadata": {
    "collapsed": true
   },
   "outputs": [],
   "source": [
    "import re"
   ]
  },
  {
   "cell_type": "markdown",
   "metadata": {},
   "source": [
    "### Compiling Regular Expressions\n",
    "The `re` module is an interface to the regular expression language. Since regular expressions aren't baked into Python's syntax, you often have to use the `compile()` method to compile regular expressions into *pattern objects*. These objects then have methods for various operations, such as searching for matches or performing string substitutions.\n",
    "\n",
    "Here's how we compile a pattern for a simple character match (looking for the single character `\"a\"`):"
   ]
  },
  {
   "cell_type": "code",
   "execution_count": 2,
   "metadata": {
    "collapsed": false
   },
   "outputs": [
    {
     "data": {
      "text/plain": [
       "re.compile(r'a', re.UNICODE)"
      ]
     },
     "execution_count": 2,
     "metadata": {},
     "output_type": "execute_result"
    }
   ],
   "source": [
    "a = re.compile('a')  #the single character `a` is our pattern\n",
    "a"
   ]
  },
  {
   "cell_type": "markdown",
   "metadata": {},
   "source": [
    "Above, we passed our regular expression (the single character `\"a\"`) to `re.compile()` as a string. We had to pass our regular expression as a string because regular expressions aren’t a part of the core Python language. This keeps the Python language simpler for all other purposes, but creates a little headache when it comes to compiling the backslash character.\n",
    "\n",
    "#### A quick note on escape characters and Python's raw string notation\n",
    "> Regular expressions use the backslash character (`\\`) to indicate special forms or to escape special characters. This collides with Python’s usage of the same character for the same purpose in string literals. For example, to match a literal backslash with a regular expression, one would have to write `\\\\\\\\` as the pattern string, because the regular expression must be `\\\\`, and each backslash must be expressed as `\\\\` inside a regular Python string literal.\n",
    "\n",
    "> The solution is to use Python’s raw string notation for regular expression patterns; backslashes are not handled in any special way in a string literal prefixed with `'r'`. So `r\"\\n\"` is a two-character string containing `'\\'` and `'n'`, while `\"\\n\"` is a one-character string containing a newline. **Thus it's best to type regular expression patterns  using this raw string notation.**\n",
    "\n",
    "So let's re-compile our character using Python's raw string notation."
   ]
  },
  {
   "cell_type": "code",
   "execution_count": 3,
   "metadata": {
    "collapsed": false
   },
   "outputs": [
    {
     "data": {
      "text/plain": [
       "re.compile(r'a', re.UNICODE)"
      ]
     },
     "execution_count": 3,
     "metadata": {},
     "output_type": "execute_result"
    }
   ],
   "source": [
    "a = re.compile(r'a')  # Good practice to use the raw string notation\n",
    "a"
   ]
  },
  {
   "cell_type": "markdown",
   "metadata": {},
   "source": [
    "### Finding Matches\n",
    "Now that we have an object representing a *compiled* regular expression, there's an array of object methods and attributes at our disposal. Here we'll cover just the most common/useful ones:\n",
    "\n",
    "<table border=\"1\">\n",
    "<colgroup>\n",
    "<col width=\"28%\" />\n",
    "<col width=\"72%\" />\n",
    "</colgroup>\n",
    "<thead valign=\"bottom\">\n",
    "<tr class=\"row-odd\"><th>Method</th>\n",
    "<th class=\"head\">Purpose</th>\n",
    "</tr>\n",
    "</thead>\n",
    "<tbody valign=\"top\">\n",
    "<tr><td><code><span>match()</span></code></td>\n",
    "<td>Determines if the regular expression matches at the beginning\n",
    "of the string, returning a match object.</td>\n",
    "</tr>\n",
    "<tr><td><code><span>search()</span></code></td>\n",
    "<td>Scans through a string, looking for any\n",
    "location where the regular expression matches.</td>\n",
    "</tr>\n",
    "<tr><td><code><span>findall()</span></code></td>\n",
    "<td>Finds all substrings where the regular expression matches,\n",
    "returning them as a list.</td>\n",
    "</tr>\n",
    "<tr><td><code><span>finditer()</span></code></td>\n",
    "<td>Finds all substrings where the regular expression matches,\n",
    "returniing them as an <a href=\"https://docs.python.org/3.4/glossary.html#term-iterator\"><span>iterator</span></a>.</td>\n",
    "</tr>\n",
    "</tbody>\n",
    "</table>"
   ]
  },
  {
   "cell_type": "markdown",
   "metadata": {},
   "source": [
    "#### `match()`\n",
    "> Determines if the regular expression matches at *the beginning of the string*, returning a `match object`."
   ]
  },
  {
   "cell_type": "code",
   "execution_count": 4,
   "metadata": {
    "collapsed": false
   },
   "outputs": [],
   "source": [
    "apple = a.match('apple')\n",
    "banana = a.match('banana')"
   ]
  },
  {
   "cell_type": "code",
   "execution_count": 5,
   "metadata": {
    "collapsed": false
   },
   "outputs": [
    {
     "data": {
      "text/plain": [
       "_sre.SRE_Match"
      ]
     },
     "execution_count": 5,
     "metadata": {},
     "output_type": "execute_result"
    }
   ],
   "source": [
    "type(apple)"
   ]
  },
  {
   "cell_type": "code",
   "execution_count": 6,
   "metadata": {
    "collapsed": false
   },
   "outputs": [
    {
     "data": {
      "text/plain": [
       "NoneType"
      ]
     },
     "execution_count": 6,
     "metadata": {},
     "output_type": "execute_result"
    }
   ],
   "source": [
    "type(banana)"
   ]
  },
  {
   "cell_type": "markdown",
   "metadata": {
    "collapsed": true
   },
   "source": [
    "> #### Match Objects return `None` if there's no match.\n",
    "> Since the `match()` method didn't find an `\"a\"` at the beginning of `\"banana\"`, it returned `None`. This is handy for conditional tests, as `None` always evaluates to the boolean `False`:"
   ]
  },
  {
   "cell_type": "code",
   "execution_count": 7,
   "metadata": {
    "collapsed": false
   },
   "outputs": [
    {
     "name": "stdout",
     "output_type": "stream",
     "text": [
      "no banana :(\n"
     ]
    }
   ],
   "source": [
    "if banana:\n",
    "    print(\"banana!\")\n",
    "else:\n",
    "    print(\"no banana :(\")"
   ]
  },
  {
   "cell_type": "markdown",
   "metadata": {},
   "source": [
    "> Above, we used `match()` to search the strings `apple` and `banana` using the single character `\"a\"` as our regular expression. We assigned the results to two match objects, one of which (`apple`) actually contained a match. We can now query that match object using some methods. A few of the most common ones are:\n",
    "\n",
    "<table border=\"1\">\n",
    "<colgroup>\n",
    "<col width=\"29%\" />\n",
    "<col width=\"71%\" />\n",
    "</colgroup>\n",
    "<thead valign=\"bottom\">\n",
    "<tr><th>Method/Attribute</th>\n",
    "<th>Purpose</th>\n",
    "</tr>\n",
    "</thead>\n",
    "<tbody>\n",
    "<tr><td><code><span>group()</span></code></td>\n",
    "<td>Return the string matched by the RE</td>\n",
    "</tr>\n",
    "<tr><td><code><span>start()</span></code></td>\n",
    "<td>Return the starting position of the match</td>\n",
    "</tr>\n",
    "<tr><td><code><span>end()</span></code></td>\n",
    "<td>Return the ending position of the match</td>\n",
    "</tr>\n",
    "<tr><td><code><span>span()</span></code></td>\n",
    "<td>Return a tuple containing the (start, end)\n",
    "positions  of the match</td>\n",
    "</tr>\n",
    "</tbody>\n",
    "</table>\n",
    "\n",
    "Let's try these out!"
   ]
  },
  {
   "cell_type": "code",
   "execution_count": 8,
   "metadata": {
    "collapsed": false
   },
   "outputs": [
    {
     "data": {
      "text/plain": [
       "'a'"
      ]
     },
     "execution_count": 8,
     "metadata": {},
     "output_type": "execute_result"
    }
   ],
   "source": [
    "apple.group()"
   ]
  },
  {
   "cell_type": "code",
   "execution_count": 9,
   "metadata": {
    "collapsed": false
   },
   "outputs": [
    {
     "data": {
      "text/plain": [
       "0"
      ]
     },
     "execution_count": 9,
     "metadata": {},
     "output_type": "execute_result"
    }
   ],
   "source": [
    "apple.start()"
   ]
  },
  {
   "cell_type": "code",
   "execution_count": 10,
   "metadata": {
    "collapsed": false
   },
   "outputs": [
    {
     "data": {
      "text/plain": [
       "1"
      ]
     },
     "execution_count": 10,
     "metadata": {},
     "output_type": "execute_result"
    }
   ],
   "source": [
    "apple.end()"
   ]
  },
  {
   "cell_type": "code",
   "execution_count": 11,
   "metadata": {
    "collapsed": false
   },
   "outputs": [
    {
     "data": {
      "text/plain": [
       "(0, 1)"
      ]
     },
     "execution_count": 11,
     "metadata": {},
     "output_type": "execute_result"
    }
   ],
   "source": [
    "apple.span()"
   ]
  },
  {
   "cell_type": "markdown",
   "metadata": {},
   "source": [
    "<a id='syntax' ></a>\n",
    "## The Regular Expression Syntax\n",
    "Regular Expression Syntax can be roughly divided into 3 categories:\n",
    "1. Special Metacharacters\n",
    "2. Special Sequences\n",
    "3. Quantifiers\n",
    "\n",
    "We'll run through several, but not all, techniques within each of these categories. Full documentation can be found [here](https://docs.python.org/3.4/library/re.html#regular-expression-syntax)."
   ]
  },
  {
   "cell_type": "markdown",
   "metadata": {
    "collapsed": true
   },
   "source": [
    "<a id='meta' ></a>\n",
    "### Special Metacharacters\n",
    "As we saw with the letter `\"a\"` above, most letters and characters match themselves. Naturally, however, there are exceptions to this rule. Some characters are **special metacharacters** and so they don’t match themselves. Instead, they signal that something special should happen.\n",
    "\n",
    "Here's a table listing some of the most common special metacharacters.\n",
    "<table>\n",
    "<tr><th>Special Metacharacters</th>\n",
    "<th>Purpose</th>\n",
    "</tr>\n",
    "  <tr>\n",
    "    <td><code>[ ]</code></td>\n",
    "    <td>matches any chars placed within the brackets</td>\n",
    "  </tr>\n",
    "  <tr>\n",
    "    <td ><code>\\</code></td>\n",
    "    <td>escape special characters</td>\n",
    "  </tr>\n",
    "  <tr>\n",
    "    <td><code>.</code></td>\n",
    "    <td>matches any character</td>\n",
    "  </tr>\n",
    "  <tr>\n",
    "    <td><code>^</code></td>\n",
    "    <td>matches beginning of string</td>\n",
    "  </tr>\n",
    "  <tr>\n",
    "    <td><code>$</code></td>\n",
    "    <td>matches end of string</td>\n",
    "  </tr>\n",
    "  <tr>\n",
    "    <td><code>|</code></td>\n",
    "    <td>the OR operator matches either the left or right operand</td>\n",
    "  </tr>\n",
    "  <tr>\n",
    "    <td><code>()</code></td>\n",
    "    <td>creates capture groups and indicates precedence</td>\n",
    "  </tr>\n",
    "</table>"
   ]
  },
  {
   "cell_type": "markdown",
   "metadata": {},
   "source": [
    "#### Character Classes:  [  ] \n",
    "> Square brackets are used to specify a *character class*, which is a set of characters that you wish to match. "
   ]
  },
  {
   "cell_type": "code",
   "execution_count": 20,
   "metadata": {
    "collapsed": false
   },
   "outputs": [
    {
     "name": "stdout",
     "output_type": "stream",
     "text": [
      "a\n"
     ]
    }
   ],
   "source": [
    "a = re.compile(r'[a]')\n",
    "apple = a.match('apple')\n",
    "\n",
    "# Using a conditional check to reinforce this practice\n",
    "if apple:\n",
    "    print(apple.group())\n",
    "else:\n",
    "    print(\"No match.\")"
   ]
  },
  {
   "cell_type": "markdown",
   "metadata": {},
   "source": [
    "> Inside the class, you can either list characters individually or specify a range of characters using a dash (`'-'`). For example, `[abc]` will match any of the characters `a`, `b`, or `c`. If you were to to use the range approach, you would have typed `[a-c]`. These character classes are case sensitive, so if you wanted to match only uppercase letters, your regular expression would be [A-Z]."
   ]
  },
  {
   "cell_type": "code",
   "execution_count": 14,
   "metadata": {
    "collapsed": false
   },
   "outputs": [
    {
     "name": "stdout",
     "output_type": "stream",
     "text": [
      "w\n"
     ]
    }
   ],
   "source": [
    "az = re.compile(r'[a-z]') #any lowercase letters\n",
    "alpha_num = az.search('01234w56789')\n",
    "\n",
    "if alpha_num:\n",
    "    print(alpha_num.group())\n",
    "else:\n",
    "    print(\"No match.\")"
   ]
  },
  {
   "cell_type": "markdown",
   "metadata": {},
   "source": [
    "> The special metacharacters - except the caret ('^') - do not work inside classes. For example, `[abc*]` will match any of the characters `'a'`, `'b'`, `'c'`, or `'*'`."
   ]
  },
  {
   "cell_type": "code",
   "execution_count": 15,
   "metadata": {
    "collapsed": false
   },
   "outputs": [
    {
     "name": "stdout",
     "output_type": "stream",
     "text": [
      "*\n"
     ]
    }
   ],
   "source": [
    "abc_star = re.compile(r'[abc*]')\n",
    "star = abc_star.search('01234*56789')\n",
    "\n",
    "if star:\n",
    "    print(star.group())\n",
    "else:\n",
    "    print(\"No match.\")"
   ]
  },
  {
   "cell_type": "markdown",
   "metadata": {},
   "source": [
    "#### The Escape Character:  `\\`\n",
    "> As with Python string literals, the backslash escapes special characters (including itself!)."
   ]
  },
  {
   "cell_type": "code",
   "execution_count": 17,
   "metadata": {
    "collapsed": false
   },
   "outputs": [
    {
     "name": "stdout",
     "output_type": "stream",
     "text": [
      "\\\n"
     ]
    }
   ],
   "source": [
    "slash = re.compile(r'\\\\') #the first backslash is to escape the second backslash, which itself is a metacharacter\n",
    "slash_match = slash.search(r\"....path\\file\")\n",
    "\n",
    "if slash_match:\n",
    "    print(slash_match.group())\n",
    "else:\n",
    "    print(\"No match.\")"
   ]
  },
  {
   "cell_type": "markdown",
   "metadata": {},
   "source": [
    "#### The Wildcard:   `.`\n",
    "> Another useful metacharacter is the dot (`.`). It'll match anything except a newline character, unless you use the `re.DOTALL` flag, in which case it will also match a newline."
   ]
  },
  {
   "cell_type": "code",
   "execution_count": 27,
   "metadata": {
    "collapsed": false
   },
   "outputs": [
    {
     "name": "stdout",
     "output_type": "stream",
     "text": [
      "-b\n"
     ]
    }
   ],
   "source": [
    "after_dash = re.compile(r'[-].') \n",
    "after_dash_match = after_dash.search(r\"a-b\")\n",
    "\n",
    "if after_dash_match:\n",
    "    print(after_dash_match.group())\n",
    "else:\n",
    "    print(\"No match.\")"
   ]
  },
  {
   "cell_type": "markdown",
   "metadata": {},
   "source": [
    "#### The Complementing Caret:   `^` \n",
    "> You can match the characters *not* listed within a character class by complementing the set with the caret character (`^`) as the first character of the class. For example, `[^a]` will match any character *except* 'a'."
   ]
  },
  {
   "cell_type": "code",
   "execution_count": 28,
   "metadata": {
    "collapsed": false
   },
   "outputs": [
    {
     "name": "stdout",
     "output_type": "stream",
     "text": [
      "b\n"
     ]
    }
   ],
   "source": [
    "not_a = re.compile(r'[^a]')\n",
    "non_a = not_a.search('aaaabaaaaa')\n",
    "\n",
    "if non_a :\n",
    "    print(non_a.group())\n",
    "else:\n",
    "    print(\"No match.\")"
   ]
  },
  {
   "cell_type": "markdown",
   "metadata": {},
   "source": [
    "> When `^` is inside `[]` but not at the start, it means the actual `^` character. When it's escaped with the backslash (`\\^`), it also means the actual `^` character."
   ]
  },
  {
   "cell_type": "code",
   "execution_count": 30,
   "metadata": {
    "collapsed": false
   },
   "outputs": [
    {
     "name": "stdout",
     "output_type": "stream",
     "text": [
      "^\n"
     ]
    }
   ],
   "source": [
    "caret = re.compile(r'[\\^]')\n",
    "c = caret.search('aaaa^aaaaa')\n",
    "\n",
    "if c :\n",
    "    print(c.group())\n",
    "else:\n",
    "    print(\"No match.\")"
   ]
  },
  {
   "cell_type": "markdown",
   "metadata": {},
   "source": [
    "> In all other cases, the caret `'^'` matches the start of the string. If your string spans multiple lines, you can use the `MULTILINE` flag, which also matches immediately after each newline, which the `match()` method doesn't do (we'll see this further down). "
   ]
  },
  {
   "cell_type": "code",
   "execution_count": 31,
   "metadata": {
    "collapsed": false
   },
   "outputs": [
    {
     "name": "stdout",
     "output_type": "stream",
     "text": [
      "<_sre.SRE_Match object; span=(0, 4), match='Kate'>\n"
     ]
    }
   ],
   "source": [
    "s1 = \"Kate is the most common spelling of that name\"\n",
    "s2 = \"Another spelling is Cate, but that's rarer.\"\n",
    "print(re.search(r\"^[CK]ate\", s1))"
   ]
  },
  {
   "cell_type": "code",
   "execution_count": 32,
   "metadata": {
    "collapsed": false
   },
   "outputs": [
    {
     "name": "stdout",
     "output_type": "stream",
     "text": [
      "None\n"
     ]
    }
   ],
   "source": [
    "print(re.search(r\"^[CK]ate\", s2)) #this will return None because Cate isn't at the \n",
    "                                  #beginning of the string"
   ]
  },
  {
   "cell_type": "markdown",
   "metadata": {},
   "source": [
    "> If we concatenate the two strings `s2` and `s1`, the resulting string won't start with `Kate` or `Cate`. But, the name will be following a newline character. In this case, we can use the `re.MULTILINE` flag."
   ]
  },
  {
   "cell_type": "code",
   "execution_count": 33,
   "metadata": {
    "collapsed": false
   },
   "outputs": [
    {
     "name": "stdout",
     "output_type": "stream",
     "text": [
      "<_sre.SRE_Match object; span=(44, 48), match='Kate'>\n"
     ]
    }
   ],
   "source": [
    "s = s2 + \"\\n\" + s1\n",
    "print(re.search(r\"^[CK]ate\", s, re.MULTILINE))"
   ]
  },
  {
   "cell_type": "code",
   "execution_count": 34,
   "metadata": {
    "collapsed": false
   },
   "outputs": [
    {
     "name": "stdout",
     "output_type": "stream",
     "text": [
      "None\n"
     ]
    }
   ],
   "source": [
    "print(re.match(r\"^[CK]ate\", s, re.MULTILINE))"
   ]
  },
  {
   "cell_type": "markdown",
   "metadata": {},
   "source": [
    "> The last example using `match()` shows that the MULTILINE flag doesn't work with the `match()` method since `match()` only checks the beginning of a string for a match."
   ]
  },
  {
   "cell_type": "markdown",
   "metadata": {},
   "source": [
    "#### The Dollar Sign:  `$`\n",
    "> The dollar sign ($) matches at the end of a line, which is defined as either the end of the string, or any location followed by a newline character.\n",
    "\n",
    "> Here's it in action:"
   ]
  },
  {
   "cell_type": "code",
   "execution_count": 13,
   "metadata": {
    "collapsed": false
   },
   "outputs": [
    {
     "data": {
      "text/plain": [
       "'!'"
      ]
     },
     "execution_count": 13,
     "metadata": {},
     "output_type": "execute_result"
    }
   ],
   "source": [
    "endsWithExclamation = re.compile(r'!$')\n",
    "m = endsWithExclamation.search(\"Find the end of this sentence!\")\n",
    "m.group()"
   ]
  },
  {
   "cell_type": "markdown",
   "metadata": {},
   "source": [
    "> And note how it won't find the exclamation point that's in the middle of a word."
   ]
  },
  {
   "cell_type": "code",
   "execution_count": 14,
   "metadata": {
    "collapsed": false
   },
   "outputs": [
    {
     "ename": "AttributeError",
     "evalue": "'NoneType' object has no attribute 'group'",
     "output_type": "error",
     "traceback": [
      "\u001b[0;31m---------------------------------------------------------------------------\u001b[0m",
      "\u001b[0;31mAttributeError\u001b[0m                            Traceback (most recent call last)",
      "\u001b[0;32m<ipython-input-14-0ccc6af5c2ed>\u001b[0m in \u001b[0;36m<module>\u001b[0;34m()\u001b[0m\n\u001b[1;32m      1\u001b[0m \u001b[0mendsWithExclamation\u001b[0m \u001b[0;34m=\u001b[0m \u001b[0mre\u001b[0m\u001b[0;34m.\u001b[0m\u001b[0mcompile\u001b[0m\u001b[0;34m(\u001b[0m\u001b[0;34mr'!$'\u001b[0m\u001b[0;34m)\u001b[0m\u001b[0;34m\u001b[0m\u001b[0m\n\u001b[1;32m      2\u001b[0m \u001b[0mm\u001b[0m \u001b[0;34m=\u001b[0m \u001b[0mendsWithExclamation\u001b[0m\u001b[0;34m.\u001b[0m\u001b[0msearch\u001b[0m\u001b[0;34m(\u001b[0m\u001b[0;34m\"Find the end of this sent!ence\"\u001b[0m\u001b[0;34m)\u001b[0m\u001b[0;34m\u001b[0m\u001b[0m\n\u001b[0;32m----> 3\u001b[0;31m \u001b[0mm\u001b[0m\u001b[0;34m.\u001b[0m\u001b[0mgroup\u001b[0m\u001b[0;34m(\u001b[0m\u001b[0;34m)\u001b[0m\u001b[0;34m\u001b[0m\u001b[0m\n\u001b[0m",
      "\u001b[0;31mAttributeError\u001b[0m: 'NoneType' object has no attribute 'group'"
     ]
    }
   ],
   "source": [
    "endsWithExclamation = re.compile(r'!$')\n",
    "m = endsWithExclamation.search(\"Find the end of this sent!ence\")\n",
    "m.group()"
   ]
  },
  {
   "cell_type": "markdown",
   "metadata": {},
   "source": [
    "> You can use the `^` and `$` together to indicate that the entire string must match the regex:"
   ]
  },
  {
   "cell_type": "code",
   "execution_count": 17,
   "metadata": {
    "collapsed": false
   },
   "outputs": [
    {
     "data": {
      "text/plain": [
       "'1234567890'"
      ]
     },
     "execution_count": 17,
     "metadata": {},
     "output_type": "execute_result"
    }
   ],
   "source": [
    "number = re.compile(r'^\\d+$')\n",
    "n = number.search('1234567890')\n",
    "n.group()"
   ]
  },
  {
   "cell_type": "code",
   "execution_count": 19,
   "metadata": {
    "collapsed": false
   },
   "outputs": [
    {
     "ename": "AttributeError",
     "evalue": "'NoneType' object has no attribute 'group'",
     "output_type": "error",
     "traceback": [
      "\u001b[0;31m---------------------------------------------------------------------------\u001b[0m",
      "\u001b[0;31mAttributeError\u001b[0m                            Traceback (most recent call last)",
      "\u001b[0;32m<ipython-input-19-5fe6190e5692>\u001b[0m in \u001b[0;36m<module>\u001b[0;34m()\u001b[0m\n\u001b[1;32m      2\u001b[0m \u001b[0mnumber\u001b[0m \u001b[0;34m=\u001b[0m \u001b[0mre\u001b[0m\u001b[0;34m.\u001b[0m\u001b[0mcompile\u001b[0m\u001b[0;34m(\u001b[0m\u001b[0;34mr'^\\d+$'\u001b[0m\u001b[0;34m)\u001b[0m\u001b[0;34m\u001b[0m\u001b[0m\n\u001b[1;32m      3\u001b[0m \u001b[0mn\u001b[0m \u001b[0;34m=\u001b[0m \u001b[0mnumber\u001b[0m\u001b[0;34m.\u001b[0m\u001b[0msearch\u001b[0m\u001b[0;34m(\u001b[0m\u001b[0;34m'1234a567890'\u001b[0m\u001b[0;34m)\u001b[0m\u001b[0;34m\u001b[0m\u001b[0m\n\u001b[0;32m----> 4\u001b[0;31m \u001b[0mn\u001b[0m\u001b[0;34m.\u001b[0m\u001b[0mgroup\u001b[0m\u001b[0;34m(\u001b[0m\u001b[0;34m)\u001b[0m\u001b[0;34m\u001b[0m\u001b[0m\n\u001b[0m",
      "\u001b[0;31mAttributeError\u001b[0m: 'NoneType' object has no attribute 'group'"
     ]
    }
   ],
   "source": [
    "#this won't work!\n",
    "number = re.compile(r'^\\d+$')\n",
    "n = number.search('1234a567890')\n",
    "n.group()"
   ]
  },
  {
   "cell_type": "markdown",
   "metadata": {},
   "source": [
    "#### The Pipe:  `|`\n",
    "> You use the pipe character when you want to match one of many expressions. For example, if your expression is `A|B`, where `A` and `B` are regular experessions themselves, you'll have a regular expression that will match either `A` or `B`. The regular expressions separated by `'|'` are tried from left to right. When one of the patterns completely matches, that pattern is accepted and the search is over. This means that once `A` matches, `B` will not be tested further, even if it would produce a longer overall match (although you can use the `findall()` method to circumvent this). Practically speaking, this means the `'|'` operator is never *greedy*, which is a concept we'll cover later."
   ]
  },
  {
   "cell_type": "code",
   "execution_count": 2,
   "metadata": {
    "collapsed": false
   },
   "outputs": [
    {
     "data": {
      "text/plain": [
       "'America'"
      ]
     },
     "execution_count": 2,
     "metadata": {},
     "output_type": "execute_result"
    }
   ],
   "source": [
    "country = re.compile (r'America|France')\n",
    "m = country.search('America and France are both countries.')\n",
    "m.group()"
   ]
  },
  {
   "cell_type": "code",
   "execution_count": 21,
   "metadata": {
    "collapsed": false
   },
   "outputs": [
    {
     "data": {
      "text/plain": [
       "['America', 'France']"
      ]
     },
     "execution_count": 21,
     "metadata": {},
     "output_type": "execute_result"
    }
   ],
   "source": [
    "m_all = country.findall('America and France are both countries.')\n",
    "m_all"
   ]
  },
  {
   "cell_type": "markdown",
   "metadata": {},
   "source": [
    "#### Grouping with Parentheses:  `( )`\n",
    "> Regular expressions are useful for dissecting strings into several subgroups based on whether or not they match different regular expressions. Adding parentheses to your regex will create *groups* in the expression, which then allow you to use the `group()` and `groups()` match object methods to return the matches from just one group or all of the groups."
   ]
  },
  {
   "cell_type": "code",
   "execution_count": 56,
   "metadata": {
    "collapsed": false
   },
   "outputs": [
    {
     "data": {
      "text/plain": [
       "('ab', 'cd')"
      ]
     },
     "execution_count": 56,
     "metadata": {},
     "output_type": "execute_result"
    }
   ],
   "source": [
    "g = re.compile(r'(ab)-(cd)')\n",
    "g.match('ab-cd').groups()          #return all the groups as a tuple"
   ]
  },
  {
   "cell_type": "markdown",
   "metadata": {},
   "source": [
    "> By passing integers to `group()`, you can return different groups of the match. Passing 0 or nothing to `group()` returns the whole match as a single string."
   ]
  },
  {
   "cell_type": "code",
   "execution_count": 57,
   "metadata": {
    "collapsed": false
   },
   "outputs": [
    {
     "name": "stdout",
     "output_type": "stream",
     "text": [
      "ab-cd\n",
      "ab\n",
      "cd\n"
     ]
    }
   ],
   "source": [
    "g = re.compile(r'(ab)-(cd)')\n",
    "\n",
    "for i in range(3):\n",
    "    print(g.match('ab-cd').group(i))"
   ]
  },
  {
   "cell_type": "markdown",
   "metadata": {},
   "source": [
    "<a id='special' ></a>\n",
    "### Special Sequences\n",
    "As we saw above, the backslash escapes special characters. But it can also be followed by certain characters to signal a special sequence. These special sequences represent some pretty useful predefined sets of characters, such as the set of digits, the set of letters, or the set of anything that isn’t whitespace.\n",
    "\n",
    "Here's a list of some of the special sequences:\n",
    "\n",
    "<table>\n",
    "<tr><th>Special Sequence</th>\n",
    "<th>Purpose</th>\n",
    "</tr>\n",
    "<tbody>\n",
    "<tr><td><code><span>\\d</span></code></td>\n",
    "<td>Matches any decimal digit; this is equivalent to the class [0-9]</td>\n",
    "</tr>\n",
    "<tr><td><code><span>\\D</span></code></td>\n",
    "<td>Matches any non-digit character; this is equivalent to the class [^0-9]</td>\n",
    "</tr>\n",
    "<tr><td><code><span>\\s</span></code></td>\n",
    "<td>Matches any whitespace character; this is equivalent to the class [ \\t\\n\\r\\f\\v]</td>\n",
    "</tr>\n",
    "<tr><td><code><span>\\S</span></code></td>\n",
    "<td>Matches any non-whitespace character; this is equivalent to the class [^ \\t\\n\\r\\f\\v]</td>\n",
    "</tr>\n",
    "<tr><td><code><span>\\w</span></code></td>\n",
    "<td>Matches any alphanumeric character; this is equivalent to the class [a-zA-Z0-9]</td>\n",
    "</tr>\n",
    "<tr><td><code><span>\\W</span></code></td>\n",
    "<td>Matches any non-alphanumeric character; this is equivalent to the class [^a-zA-Z0-9]</td>\n",
    "</tr>\n",
    "</tbody>\n",
    "</table>\n",
    "\n",
    "Additionally, these special sequences can be included inside a character class. For example, `[\\s,.]` is a character class that will match any whitespace character, or ',' or '.'."
   ]
  },
  {
   "cell_type": "markdown",
   "metadata": {
    "collapsed": true
   },
   "source": [
    "<a id='quant' ></a>\n",
    "### Quantifiers\n",
    "\n",
    "<table>\n",
    "<tr><th>Quantifiers</th>\n",
    "<th>Purpose</th>\n",
    "</tr>\n",
    "  <tr>\n",
    "    <td><code>*</code></td>\n",
    "    <td>0 or more (append <code>?</code> for non-greedy)</td>\n",
    "  </tr>\n",
    "  <tr>\n",
    "    <td><code>+</code></td>\n",
    "    <td>1 or more (append <code>?</code> for non-greedy)</td>\n",
    "  </tr>\n",
    "  <tr>\n",
    "    <td><code>?</code></td>\n",
    "    <td>0 or 1; i.e. to mark something as being optional (append <code>?</code> for non-greedy)</td>\n",
    "  </tr>\n",
    "  <tr>\n",
    "    <td><code>{m}</code></td>\n",
    "    <td>exactly <code>m</code> occurrences</td>\n",
    "  </tr>\n",
    "  <tr>\n",
    "    <td><code>{m, n}</code></td>\n",
    "    <td>from <code>m</code> to <code>n</code>. <code>m</code> defaults to 0, <code>n</code> to infinity</td>\n",
    "  </tr>\n",
    "  <tr>\n",
    "    <td><code>{m, n}?</code></td>\n",
    "    <td>from <code>m</code> to <code>n</code>, as few as possible</td>\n",
    "  </tr>\n",
    "</table>"
   ]
  },
  {
   "cell_type": "markdown",
   "metadata": {
    "collapsed": true
   },
   "source": [
    "#### Matching Zero or More with `*`\n",
    "> The group that precedes an asterisk will match a regex zero or more times."
   ]
  },
  {
   "cell_type": "code",
   "execution_count": 59,
   "metadata": {
    "collapsed": false
   },
   "outputs": [
    {
     "data": {
      "text/plain": [
       "'abababababababababababababababababababababababababababab'"
      ]
     },
     "execution_count": 59,
     "metadata": {},
     "output_type": "execute_result"
    }
   ],
   "source": [
    "ab_infinite = re.compile(r'(ab)*')\n",
    "m = ab_infinite.search('abababababababababababababababababababababababababababab')\n",
    "m.group()"
   ]
  },
  {
   "cell_type": "markdown",
   "metadata": {},
   "source": [
    "#### Optional Matching with `?`\n",
    "> The question mark indicates that the group that precedes it is an optional part of the pattern."
   ]
  },
  {
   "cell_type": "code",
   "execution_count": 61,
   "metadata": {
    "collapsed": false
   },
   "outputs": [
    {
     "data": {
      "text/plain": [
       "'man'"
      ]
     },
     "execution_count": 61,
     "metadata": {},
     "output_type": "execute_result"
    }
   ],
   "source": [
    "person = re.compile(r'(wo)?man')\n",
    "m = person.search('man')\n",
    "m.group()"
   ]
  },
  {
   "cell_type": "code",
   "execution_count": 62,
   "metadata": {
    "collapsed": false
   },
   "outputs": [
    {
     "data": {
      "text/plain": [
       "'woman'"
      ]
     },
     "execution_count": 62,
     "metadata": {},
     "output_type": "execute_result"
    }
   ],
   "source": [
    "person = re.compile(r'(wo)?man')\n",
    "m = person.search('woman')\n",
    "m.group()"
   ]
  },
  {
   "cell_type": "markdown",
   "metadata": {},
   "source": [
    "#### Matching One or More with `+`\n",
    "> Unlike the asterisk, which does not require its group to appear in the matched string, the group preceding a plus must appear at least once. "
   ]
  },
  {
   "cell_type": "code",
   "execution_count": 68,
   "metadata": {
    "collapsed": false
   },
   "outputs": [
    {
     "data": {
      "text/plain": [
       "'woman'"
      ]
     },
     "execution_count": 68,
     "metadata": {},
     "output_type": "execute_result"
    }
   ],
   "source": [
    "person = re.compile(r'(wo)+man')\n",
    "m = person.search('woman')\n",
    "m.group()"
   ]
  },
  {
   "cell_type": "code",
   "execution_count": 69,
   "metadata": {
    "collapsed": false
   },
   "outputs": [
    {
     "ename": "AttributeError",
     "evalue": "'NoneType' object has no attribute 'group'",
     "output_type": "error",
     "traceback": [
      "\u001b[0;31m---------------------------------------------------------------------------\u001b[0m",
      "\u001b[0;31mAttributeError\u001b[0m                            Traceback (most recent call last)",
      "\u001b[0;32m<ipython-input-69-ea4577e795d9>\u001b[0m in \u001b[0;36m<module>\u001b[0;34m()\u001b[0m\n\u001b[1;32m      1\u001b[0m \u001b[0mperson\u001b[0m \u001b[0;34m=\u001b[0m \u001b[0mre\u001b[0m\u001b[0;34m.\u001b[0m\u001b[0mcompile\u001b[0m\u001b[0;34m(\u001b[0m\u001b[0;34mr'(wo)+man'\u001b[0m\u001b[0;34m)\u001b[0m\u001b[0;34m\u001b[0m\u001b[0m\n\u001b[1;32m      2\u001b[0m \u001b[0mm\u001b[0m \u001b[0;34m=\u001b[0m \u001b[0mperson\u001b[0m\u001b[0;34m.\u001b[0m\u001b[0msearch\u001b[0m\u001b[0;34m(\u001b[0m\u001b[0;34m'man'\u001b[0m\u001b[0;34m)\u001b[0m\u001b[0;34m\u001b[0m\u001b[0m\n\u001b[0;32m----> 3\u001b[0;31m \u001b[0mm\u001b[0m\u001b[0;34m.\u001b[0m\u001b[0mgroup\u001b[0m\u001b[0;34m(\u001b[0m\u001b[0;34m)\u001b[0m\u001b[0;34m\u001b[0m\u001b[0m\n\u001b[0m",
      "\u001b[0;31mAttributeError\u001b[0m: 'NoneType' object has no attribute 'group'"
     ]
    }
   ],
   "source": [
    "person = re.compile(r'(wo)+man')\n",
    "m = person.search('man')\n",
    "m.group()"
   ]
  },
  {
   "cell_type": "markdown",
   "metadata": {},
   "source": [
    "#### Matching Specific Repetitions with {}\n",
    "> If you have a group that you want to repeat a specific number of times, you can append the group in your regex with a number in curly brackets. For example, the regex `(ab){2}` will match the string `'abab'` and nothing else since it has only two repetitions of the `(ab)` group."
   ]
  },
  {
   "cell_type": "code",
   "execution_count": 74,
   "metadata": {
    "collapsed": false
   },
   "outputs": [
    {
     "data": {
      "text/plain": [
       "'abab'"
      ]
     },
     "execution_count": 74,
     "metadata": {},
     "output_type": "execute_result"
    }
   ],
   "source": [
    "two_matches = re.compile(r'(ab){2}')\n",
    "m = two_matches.search('abababababababababababab')\n",
    "m.group()"
   ]
  },
  {
   "cell_type": "markdown",
   "metadata": {},
   "source": [
    "> You can also specify a range by placing a minimum and maximum within the curly brackets. For example, the `(ab){2,5}` will match `'abab'`, `'ababab'`, `'abababab'`, and `'ababababab'`."
   ]
  },
  {
   "cell_type": "code",
   "execution_count": 79,
   "metadata": {
    "collapsed": false
   },
   "outputs": [
    {
     "data": {
      "text/plain": [
       "'ababababab'"
      ]
     },
     "execution_count": 79,
     "metadata": {},
     "output_type": "execute_result"
    }
   ],
   "source": [
    "two_matches = re.compile(r'(ab){2,5}')\n",
    "m = two_matches.search('abababababababababababab')\n",
    "m.group()"
   ]
  },
  {
   "cell_type": "markdown",
   "metadata": {},
   "source": [
    "> You can also leave out the first or second number to make the minimum or maximum unbounded. The following example will find at least two but up to infinite repetitions of `'ab'`."
   ]
  },
  {
   "cell_type": "code",
   "execution_count": 81,
   "metadata": {
    "collapsed": false
   },
   "outputs": [
    {
     "data": {
      "text/plain": [
       "'abababababababababababab'"
      ]
     },
     "execution_count": 81,
     "metadata": {},
     "output_type": "execute_result"
    }
   ],
   "source": [
    "two_matches = re.compile(r'(ab){2,}')\n",
    "m = two_matches.search('abababababababababababab')\n",
    "m.group()"
   ]
  },
  {
   "cell_type": "markdown",
   "metadata": {},
   "source": [
    "#### Greedy vs Nongreedy Matching\n",
    "Above, we saw how `(ab){2,5}` could match two, three, four, or five instances of `'ab'`. But then why did `group()` return `'ababababab'` - the maximum match -  instead of all of the shorter matches?\n",
    "\n",
    "This happened because Python’s regular expressions are **greedy** by default. This means  regex patterns involving repetition will match the longest string possible. To make patterns non-greedy - i.e. to match the shortest string possible - you can append a question mark."
   ]
  },
  {
   "cell_type": "code",
   "execution_count": 82,
   "metadata": {
    "collapsed": false
   },
   "outputs": [
    {
     "data": {
      "text/plain": [
       "'abab'"
      ]
     },
     "execution_count": 82,
     "metadata": {},
     "output_type": "execute_result"
    }
   ],
   "source": [
    "two_matches = re.compile(r'(ab){2,5}?')\n",
    "m = two_matches.search('abababababababababababab')\n",
    "m.group()"
   ]
  },
  {
   "cell_type": "markdown",
   "metadata": {},
   "source": [
    "<a id='mod' ></a>\n",
    "## Modifying Strings\n",
    "So far we’ve just been searching for patterns in a string. But we can also use regular expressions to modify strings. Here's a few methods that'll help us with this:\n",
    "\n",
    "<table>\n",
    "<colgroup>\n",
    "<col width=\"28%\" />\n",
    "<col width=\"72%\" />\n",
    "</colgroup>\n",
    "<thead valign=\"bottom\">\n",
    "<tr><th>Method/Attribute</th>\n",
    "<th>Purpose</th>\n",
    "</tr>\n",
    "</thead>\n",
    "<tbody valign=\"top\">\n",
    "<tr><td><code><span>split()</span></code></td>\n",
    "<td>Split the string into a list, splitting it\n",
    "wherever the RE matches</td>\n",
    "</tr>\n",
    "<tr><td><code><span>sub()</span></code></td>\n",
    "<td>Find all substrings where the RE matches, and\n",
    "replace them with a different string</td>\n",
    "</tr>\n",
    "<tr><td><code><span>subn()</span></code></td>\n",
    "<td>Does the same thing as <code><span>sub()</span></code>,  but\n",
    "returns the new string and the number of\n",
    "replacements</td>\n",
    "</tr>\n",
    "</tbody>\n",
    "</table>"
   ]
  },
  {
   "cell_type": "markdown",
   "metadata": {},
   "source": [
    "#### Splitting Strings\n",
    "> `split(string[, maxsplit=0])`\n",
    "\n",
    "> Split string by the matches of the regular expression. If capturing parentheses are used in the regex, then their contents will also be returned as part of the resulting list. If maxsplit is nonzero, at most maxsplit splits are performed."
   ]
  },
  {
   "cell_type": "code",
   "execution_count": 83,
   "metadata": {
    "collapsed": false
   },
   "outputs": [
    {
     "data": {
      "text/plain": [
       "['This', 'is', 'a', 'test', 'short', 'and', 'sweet', 'of', 'split', '']"
      ]
     },
     "execution_count": 83,
     "metadata": {},
     "output_type": "execute_result"
    }
   ],
   "source": [
    "p = re.compile(r'\\W+')\n",
    "p.split('This is a test, short and sweet, of split().')"
   ]
  },
  {
   "cell_type": "code",
   "execution_count": 84,
   "metadata": {
    "collapsed": false
   },
   "outputs": [
    {
     "data": {
      "text/plain": [
       "['This', 'is', 'a', 'test, short and sweet, of split().']"
      ]
     },
     "execution_count": 84,
     "metadata": {},
     "output_type": "execute_result"
    }
   ],
   "source": [
    "p.split('This is a test, short and sweet, of split().', 3)\n",
    "['This', 'is', 'a', 'test, short and sweet, of split().']"
   ]
  },
  {
   "cell_type": "markdown",
   "metadata": {},
   "source": [
    "#### Search and Replace\n",
    "Another common task is to find all the matches for a pattern, and replace them with a different string. The `sub()` method takes a replacement value, which can be either a string or a function, and the string to be processed.\n",
    "> `sub(replacement, string[, count=0])`\n",
    "\n",
    ">Returns the string obtained by replacing the leftmost non-overlapping occurrences of the regex in `string` by the replacement `replacement`. If the pattern isn’t found, `string` is returned unchanged.\n",
    "\n",
    ">The optional argument `count` is the maximum number of pattern occurrences to be replaced; `count` must be a non-negative integer. The default value of 0 means to replace all occurrences.\n",
    "\n",
    ">Here’s a simple example of using the `sub()` method. It replaces colour names with the word colour:"
   ]
  },
  {
   "cell_type": "code",
   "execution_count": 86,
   "metadata": {
    "collapsed": false
   },
   "outputs": [
    {
     "name": "stdout",
     "output_type": "stream",
     "text": [
      "colour socks, colour shoes, and colour pants\n",
      "colour socks, red shoes, and white pants\n",
      "colour socks, colour shoes, and white pants\n"
     ]
    }
   ],
   "source": [
    "p = re.compile('(blue|white|red)')\n",
    "\n",
    "for i in range(3):\n",
    "    print(p.sub('colour', 'blue socks, red shoes, and white pants', count = i))"
   ]
  },
  {
   "cell_type": "markdown",
   "metadata": {},
   "source": [
    "<a id='takeaways' ></a>\n",
    "## Takeaways\n",
    "Regular expressions let you specify and find character patterns. They're super helpful in Python but are also ubiquitous across and beyond programming languages. For example, Google Sheets has a regular exression find-and-replace feature that allows you to search using regular expressions:\n",
    "<img src=\"assets/gs_regex.png\">\n",
    "You can read more about regular expressions in general [here](http://www.regular-expressions.info/)."
   ]
  },
  {
   "cell_type": "markdown",
   "metadata": {},
   "source": [
    "<a id='applications' ></a>\n",
    "## Applications\n",
    "[Phone Number Extractor](https://stackoverflow.com/questions/16699007/regular-expression-to-match-standard-10-digit-phone-number)\n",
    "\n",
    "[Email Address Extractor](http://www.regular-expressions.info/email.html)"
   ]
  }
 ],
 "metadata": {
  "kernelspec": {
   "display_name": "Python 3",
   "language": "python",
   "name": "python3"
  },
  "language_info": {
   "codemirror_mode": {
    "name": "ipython",
    "version": 3
   },
   "file_extension": ".py",
   "mimetype": "text/x-python",
   "name": "python",
   "nbconvert_exporter": "python",
   "pygments_lexer": "ipython3",
   "version": "3.6.0"
  }
 },
 "nbformat": 4,
 "nbformat_minor": 2
}
