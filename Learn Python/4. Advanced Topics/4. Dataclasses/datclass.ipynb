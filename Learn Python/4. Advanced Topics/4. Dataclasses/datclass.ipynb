{
 "cells": [
  {
   "cell_type": "markdown",
   "metadata": {},
   "source": [
    "# A Data Class for DataClasses\n",
    "what the **s.str.startswith('f')** is a dataclass "
   ]
  },
  {
   "cell_type": "markdown",
   "metadata": {},
   "source": [
    "\n",
    "## The Old Way\n",
    "Notice how many times we repeat ourselves, its not sexy to read this either"
   ]
  },
  {
   "cell_type": "code",
   "execution_count": null,
   "metadata": {},
   "outputs": [],
   "source": [
    "class sandwhich:\n",
    "  def __init__(self,name,cost):\n",
    "    self.name = name\n",
    "    self.cost = cost\n",
    "\n",
    "reuben = sandwhich('reuben stubbard',12.02)\n",
    "\n"
   ]
  },
  {
   "cell_type": "code",
   "execution_count": null,
   "metadata": {
    "scrolled": true
   },
   "outputs": [],
   "source": [
    "reuben.name "
   ]
  },
  {
   "cell_type": "code",
   "execution_count": null,
   "metadata": {},
   "outputs": [],
   "source": [
    "reuben.cost"
   ]
  },
  {
   "cell_type": "markdown",
   "metadata": {},
   "source": [
    "\n",
    "## Welcome the dataclass \n",
    "Python 3.7 provides a decorator dataclass that is used to convert a class into a dataclass."
   ]
  },
  {
   "cell_type": "code",
   "execution_count": null,
   "metadata": {},
   "outputs": [],
   "source": [
    "from dataclasses import dataclass\n",
    "\n",
    "@dataclass\n",
    "class sandwhich:\n",
    "    name: str\n",
    "    cost: float"
   ]
  },
  {
   "cell_type": "code",
   "execution_count": null,
   "metadata": {},
   "outputs": [],
   "source": [
    "turkey = sandwhich(\"turkey club\",12)"
   ]
  },
  {
   "cell_type": "code",
   "execution_count": null,
   "metadata": {},
   "outputs": [],
   "source": [
    "turkey.cost"
   ]
  },
  {
   "cell_type": "markdown",
   "metadata": {},
   "source": [
    "## WTF is a post_init "
   ]
  },
  {
   "cell_type": "code",
   "execution_count": null,
   "metadata": {},
   "outputs": [],
   "source": [
    "from dataclasses import dataclass\n",
    "\n",
    "@dataclass()\n",
    "class sandwhich:\n",
    "    name: str\n",
    "    cost: float\n",
    "        \n",
    "    def __post_init__(self):\n",
    "        self.cost = self.cost + 1\n",
    "        \n",
    "    def add_coupon(self):\n",
    "        self.cost = self.cost-2"
   ]
  },
  {
   "cell_type": "code",
   "execution_count": null,
   "metadata": {},
   "outputs": [],
   "source": [
    "turkey = sandwhich(\"club\",10)"
   ]
  },
  {
   "cell_type": "code",
   "execution_count": null,
   "metadata": {},
   "outputs": [],
   "source": [
    "turkey.cost"
   ]
  },
  {
   "cell_type": "code",
   "execution_count": null,
   "metadata": {},
   "outputs": [],
   "source": [
    "turkey.add_coupon()\n",
    "turkey.cost\n"
   ]
  },
  {
   "cell_type": "markdown",
   "metadata": {},
   "source": [
    "## Frozen:\n",
    "Let it go, let it go"
   ]
  },
  {
   "cell_type": "code",
   "execution_count": null,
   "metadata": {},
   "outputs": [],
   "source": [
    "from dataclasses import dataclass\n",
    "\n",
    "@dataclass(frozen=True)\n",
    "class sandwhich:\n",
    "    name: str\n",
    "    cost: float\n",
    "        \n",
    "    def add_coupon(self):\n",
    "        self.cost = self.cost-2"
   ]
  },
  {
   "cell_type": "code",
   "execution_count": null,
   "metadata": {},
   "outputs": [],
   "source": [
    "blt = sandwhich(\"bacon lettuce tomato\",8)\n"
   ]
  },
  {
   "cell_type": "code",
   "execution_count": null,
   "metadata": {},
   "outputs": [],
   "source": [
    "blt.cost"
   ]
  },
  {
   "cell_type": "markdown",
   "metadata": {},
   "source": [
    "**Can anyone guess what will happen when we apply the coupon?**"
   ]
  },
  {
   "cell_type": "code",
   "execution_count": null,
   "metadata": {},
   "outputs": [],
   "source": [
    "blt.add_coupon()"
   ]
  },
  {
   "cell_type": "markdown",
   "metadata": {},
   "source": [
    "## Field Theory ; repr ; and order"
   ]
  },
  {
   "cell_type": "code",
   "execution_count": null,
   "metadata": {},
   "outputs": [],
   "source": [
    "from dataclasses import dataclass, field, asdict, astuple\n",
    "\n",
    "def get_description():\n",
    "    return \"this is a bad sandwhich\"\n",
    "\n",
    "@dataclass(repr=False,order=True)\n",
    "class sandwhich:\n",
    "    name: str\n",
    "    cost: float\n",
    "    tax: int = field(repr=False, default=1)\n",
    "    description: int = field(default_factory=get_description)\n",
    "        \n",
    "    def add_coupon(self):\n",
    "        self.cost = self.cost-2\n",
    "            \n",
    "tuna = sandwhich(\"Big Tuna\",10)"
   ]
  },
  {
   "cell_type": "code",
   "execution_count": null,
   "metadata": {},
   "outputs": [],
   "source": [
    "astuple(tuna)"
   ]
  },
  {
   "cell_type": "code",
   "execution_count": null,
   "metadata": {},
   "outputs": [],
   "source": [
    "asdict(tuna)"
   ]
  },
  {
   "cell_type": "code",
   "execution_count": null,
   "metadata": {},
   "outputs": [],
   "source": [
    "tuna"
   ]
  },
  {
   "cell_type": "code",
   "execution_count": null,
   "metadata": {},
   "outputs": [],
   "source": [
    "turkey = sandwhich('club',5)"
   ]
  },
  {
   "cell_type": "markdown",
   "metadata": {},
   "source": [
    "**Is turkey greater than tuna?**"
   ]
  },
  {
   "cell_type": "code",
   "execution_count": null,
   "metadata": {},
   "outputs": [],
   "source": [
    "turkey > tuna"
   ]
  },
  {
   "cell_type": "markdown",
   "metadata": {},
   "source": [
    "## Inheritance"
   ]
  },
  {
   "cell_type": "code",
   "execution_count": null,
   "metadata": {},
   "outputs": [],
   "source": [
    "from dataclasses import dataclass, field, asdict, astuple, InitVar\n",
    "\n",
    "def get_description():\n",
    "    return \"this is a bad sandwhich\"\n",
    "\n",
    "        \n",
    "@dataclass(repr=False,order=True)\n",
    "class sandwhich:\n",
    "    name: str\n",
    "    cost: float\n",
    "    tax: int = field(repr=False, default=1)\n",
    "    description: int = field(default_factory=get_description)\n",
    "\n",
    "\n",
    "@dataclass()\n",
    "class toppings(sandwhich):\n",
    "    tomato: bool = True\n",
    "    extra_meat: bool = False\n",
    "    \n",
    "        \n",
    "    def __post_init__(self):\n",
    "        if self.extra_meat:\n",
    "            self.cost = self.cost + 2\n",
    "        \n",
    "\n",
    "ham= sandwhich(\"ham\",13)            \n",
    "turkey_toppings = toppings('turkey',12,tomato=False,extra_meat=True)\n"
   ]
  },
  {
   "cell_type": "code",
   "execution_count": null,
   "metadata": {},
   "outputs": [],
   "source": [
    "asdict(ham)"
   ]
  },
  {
   "cell_type": "code",
   "execution_count": null,
   "metadata": {},
   "outputs": [],
   "source": [
    "toppings(ham.name,ham.cost,extra_meat=True)"
   ]
  },
  {
   "cell_type": "code",
   "execution_count": null,
   "metadata": {},
   "outputs": [],
   "source": [
    "asdict(a)"
   ]
  },
  {
   "cell_type": "markdown",
   "metadata": {},
   "source": [
    "Question Time:\n",
    "Write a dataclass where a paramter from the dataclass pulls from a database (write a pretend function) and uses that to populate another paramter?\n"
   ]
  },
  {
   "cell_type": "code",
   "execution_count": null,
   "metadata": {},
   "outputs": [],
   "source": []
  }
 ],
 "metadata": {
  "kernelspec": {
   "display_name": "Python 3",
   "language": "python",
   "name": "python3"
  },
  "language_info": {
   "codemirror_mode": {
    "name": "ipython",
    "version": 3
   },
   "file_extension": ".py",
   "mimetype": "text/x-python",
   "name": "python",
   "nbconvert_exporter": "python",
   "pygments_lexer": "ipython3",
   "version": "3.6.6"
  }
 },
 "nbformat": 4,
 "nbformat_minor": 2
}
