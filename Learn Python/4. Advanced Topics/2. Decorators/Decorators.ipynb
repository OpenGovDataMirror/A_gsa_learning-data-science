{
 "cells": [
  {
   "cell_type": "markdown",
   "metadata": {},
   "source": [
    "# Outline\n",
    "\n",
    "1: First-class functions\n",
    "\n",
    "2: Closures\n",
    "\n",
    "3: Decorators"
   ]
  },
  {
   "cell_type": "markdown",
   "metadata": {},
   "source": [
    "# First-class functions and Closures\n",
    "\n",
    "Allows for functions to be passed as arguments to other functions, returned, and assigned to variables.  "
   ]
  },
  {
   "cell_type": "markdown",
   "metadata": {},
   "source": [
    "### funtion variable assignment"
   ]
  },
  {
   "cell_type": "code",
   "execution_count": 2,
   "metadata": {},
   "outputs": [
    {
     "name": "stdout",
     "output_type": "stream",
     "text": [
      "<function square at 0x10f3cfae8>\n",
      "25\n"
     ]
    }
   ],
   "source": [
    "def square (x):\n",
    "    return x * x\n",
    "\n",
    "f = square(5)\n",
    "\n",
    "# create instance of square, can now \n",
    "#f = square\n",
    "\n",
    "# refers to the function instance, did not invoke square\n",
    "print (square)\n",
    "print (f)\n",
    "#print(f(5))"
   ]
  },
  {
   "cell_type": "markdown",
   "metadata": {},
   "source": [
    "### passing functions as arguments"
   ]
  },
  {
   "cell_type": "code",
   "execution_count": 6,
   "metadata": {},
   "outputs": [
    {
     "name": "stdout",
     "output_type": "stream",
     "text": [
      "[1, 4, 9, 16]\n"
     ]
    }
   ],
   "source": [
    "def my_map(func,my_list):\n",
    "    results = []\n",
    "    for i in my_list:\n",
    "        results.append(func(i))\n",
    "        \n",
    "    return results\n",
    "\n",
    "squares = my_map(square,[1,2,3,4])\n",
    "\n",
    "print (squares)"
   ]
  },
  {
   "cell_type": "markdown",
   "metadata": {},
   "source": [
    "### functions that return functions\n",
    "\n",
    "this brings us to the next topic - closures.  These are a type of first-class functions that include a nested function.  Below is a simple example"
   ]
  },
  {
   "cell_type": "code",
   "execution_count": 9,
   "metadata": {},
   "outputs": [
    {
     "name": "stdout",
     "output_type": "stream",
     "text": [
      "Log:  Hi\n"
     ]
    }
   ],
   "source": [
    "def logger (msg):\n",
    "    \n",
    "    def log_message():\n",
    "        print('Log: ',msg)\n",
    "    return log_message\n",
    "\n",
    "log_hi=logger('Hi')\n",
    "log_hi()"
   ]
  },
  {
   "cell_type": "markdown",
   "metadata": {},
   "source": [
    "The novel thing about closures is that they remember the namespace of the encapsulating function"
   ]
  },
  {
   "cell_type": "code",
   "execution_count": 12,
   "metadata": {},
   "outputs": [
    {
     "name": "stdout",
     "output_type": "stream",
     "text": [
      "<function html_tag.<locals>.wrap_text at 0x10f588840>\n",
      "<h1>Test Headline<h1>\n",
      "<h1>Another Headline<h1>\n",
      "<p>para stuff<p>\n"
     ]
    }
   ],
   "source": [
    "def html_tag(tag):\n",
    "    \n",
    "    def wrap_text(msg):\n",
    "        print('<{0}>{1}<{0}>'.format(tag,msg))\n",
    "    \n",
    "    # notice no () being returned\n",
    "    return wrap_text\n",
    "\n",
    "# print_h1 now equals returned fucntion\n",
    "print_h1 = html_tag('h1')\n",
    "print(print_h1)\n",
    "print_h1 ('Test Headline')\n",
    "print_h1 ('Another Headline')\n",
    "\n",
    "print_p = html_tag('p')\n",
    "print_p('para stuff')"
   ]
  },
  {
   "cell_type": "code",
   "execution_count": 30,
   "metadata": {},
   "outputs": [
    {
     "name": "stdout",
     "output_type": "stream",
     "text": [
      "7\n",
      "3\n"
     ]
    }
   ],
   "source": [
    "import logging\n",
    "\n",
    "logging.basicConfig(filename='example.log',level=logging.INFO)\n",
    "\n",
    "def logger(func):\n",
    "    def log_func(*args):\n",
    "        logging.info('Running {} with arguments {}'.format(func.__name__,args))\n",
    "        print(func(*args))\n",
    "    return log_func\n",
    "\n",
    "def add(x,y):\n",
    "    return x+y\n",
    "\n",
    "def sub (x,y):\n",
    "    return x-y\n",
    "\n",
    "add_logger = logger(add)\n",
    "sub_logger = logger(sub)\n",
    "\n",
    "add_logger(3,4)\n",
    "sub_logger(5,2)"
   ]
  },
  {
   "cell_type": "markdown",
   "metadata": {},
   "source": [
    "You may be thinking to yourself, \"that's useful but seems tedious\" and you'd be corrent. Thankfully python provides us a more straight forward way to dynamically change functions. \n",
    "\n",
    "let's take examples from to the closers section and instead of returning a function we return a function call.  In this example we can change display by adding code into the decorator_function"
   ]
  },
  {
   "cell_type": "code",
   "execution_count": 34,
   "metadata": {},
   "outputs": [
    {
     "name": "stdout",
     "output_type": "stream",
     "text": [
      "executed before display\n",
      "display function ran\n"
     ]
    }
   ],
   "source": [
    "def decorator_function(original_function):\n",
    "    \n",
    "    def wrapper_function():\n",
    "        #print('executed before {}'.format(original_function.__name__))\n",
    "        return original_function()\n",
    "    \n",
    "    return wrapper_function\n",
    "\n",
    "def display():\n",
    "    print('display function ran')\n",
    "    \n",
    "decorated_display = decorator_function(display)\n",
    "\n",
    "decorated_display()"
   ]
  },
  {
   "cell_type": "markdown",
   "metadata": {},
   "source": [
    "Those of you familiar with decoarators may be wondering where the '@' symbol is. The below code is functionally the same as above but uses a cleaner and more readable syntax."
   ]
  },
  {
   "cell_type": "code",
   "execution_count": 43,
   "metadata": {},
   "outputs": [
    {
     "name": "stdout",
     "output_type": "stream",
     "text": [
      "executed before display\n",
      "display function ran\n"
     ]
    }
   ],
   "source": [
    "def decorator_function(original_function):\n",
    "  \n",
    "    def wrapper_function(*args,**kwargs):\n",
    "        print('executed before {}'.format(original_function.__name__))\n",
    "        return original_function(*args,**kwargs)\n",
    "    \n",
    "    return wrapper_function\n",
    "\n",
    "#can also create decorator classes\n",
    "class decorator_class(object):\n",
    "    def __init__(self,original_function):\n",
    "        self.original_function = original_function\n",
    "        \n",
    "    def __call__(self,*args,**kwargs):\n",
    "        print('executed before {}'.format(self.original_function.__name__))\n",
    "        return self.original_function(*args,**kwargs)\n",
    "\n",
    "@decorator_function\n",
    "#@decorator_class\n",
    "def display():\n",
    "    print('display function ran')\n",
    "\n",
    "display()"
   ]
  },
  {
   "cell_type": "markdown",
   "metadata": {},
   "source": [
    "some practical examples"
   ]
  },
  {
   "cell_type": "code",
   "execution_count": 54,
   "metadata": {},
   "outputs": [
    {
     "name": "stdout",
     "output_type": "stream",
     "text": [
      "display_info ran with arguments scott and 2\n",
      "display_info ran in 5.5789947509765625e-05 sec\n"
     ]
    }
   ],
   "source": [
    "def my_timer(orig_func):\n",
    "    import time\n",
    "    \n",
    "    def wrapper(*args,**kwargs):\n",
    "        t1 = time.time()\n",
    "        results = orig_func(*args,**kwargs)\n",
    "        t2 = time.time()-t1\n",
    "        print('{} ran in {} sec'.format(orig_func.__name__,t2))\n",
    "        return results\n",
    "    return wrapper\n",
    "\n",
    "@my_timer\n",
    "def display_info(name,age):\n",
    "    print ('display_info ran with arguments {} and {}'.format(name,age))\n",
    "    \n",
    "display_info('scott',2)"
   ]
  },
  {
   "cell_type": "markdown",
   "metadata": {},
   "source": [
    "What if you wanted to use multiple decorators at once? You have to use a decorator on the wrapper functions inside of your decorator."
   ]
  },
  {
   "cell_type": "code",
   "execution_count": 56,
   "metadata": {},
   "outputs": [
    {
     "name": "stdout",
     "output_type": "stream",
     "text": [
      "display_info ran with arguments scott and 2\n",
      "None\n",
      "display_info ran in 0.0002617835998535156 sec\n"
     ]
    }
   ],
   "source": [
    "from functools import wraps\n",
    "\n",
    "def my_timer(orig_func):\n",
    "    import time\n",
    "    \n",
    "    @wraps(orig_func)\n",
    "    def wrapper(*args,**kwargs):\n",
    "        t1 = time.time()\n",
    "        results = orig_func(*args,**kwargs)\n",
    "        t2 = time.time()-t1\n",
    "        print('{} ran in {} sec'.format(orig_func.__name__,t2))\n",
    "        return results\n",
    "    return wrapper\n",
    "\n",
    "def my_logger(func,**kwargs):\n",
    "    \n",
    "    logging.basicConfig(filename='{}.log'.format(func.__name__),level=logging.INFO)\n",
    "    \n",
    "    @wraps(func)\n",
    "    def wrapper(*args,**kwargs):\n",
    "        logging.info('Running {} with arguments {}'.format(func.__name__,args))\n",
    "        print(func(*args,**kwargs))\n",
    "    return wrapper\n",
    "\n",
    "\n",
    "@my_timer\n",
    "@my_logger\n",
    "def display_info(name,age):\n",
    "    print ('display_info ran with arguments {} and {}'.format(name,age))\n",
    "    \n",
    "display_info('scott',2)"
   ]
  },
  {
   "cell_type": "markdown",
   "metadata": {},
   "source": [
    "You can also create decorators that accept arguments"
   ]
  },
  {
   "cell_type": "code",
   "execution_count": 57,
   "metadata": {},
   "outputs": [
    {
     "name": "stdout",
     "output_type": "stream",
     "text": [
      "PREF:  Executed before display_info\n",
      "display_info ran with scott 8\n",
      "PREF:  Executed after display_info \n",
      "\n"
     ]
    }
   ],
   "source": [
    "def prefix_decorator(prefix):\n",
    "    def decorator_function(original_function):\n",
    "        def wrapper_function(*args,**kwargs):\n",
    "            print(prefix,'Executed before',original_function.__name__)\n",
    "            result=original_function(*args,**kwargs)\n",
    "            print(prefix,'Executed after',original_function.__name__, '\\n')\n",
    "            return result\n",
    "        return wrapper_function\n",
    "    return decorator_function\n",
    "\n",
    "@prefix_decorator('PREF: ')\n",
    "def display_info(name,age):\n",
    "    print('display_info ran with {} {}'.format(name,age))\n",
    "    \n",
    "display_info('scott',8)"
   ]
  },
  {
   "cell_type": "markdown",
   "metadata": {},
   "source": [
    "# Static/Class/Property decorators\n",
    "\n",
    "Those familiar with python classes may have come accross decorators used.  Stat methods and class methods are similar but a little out of scope for this guide.  They should be covered during some OOP tutorial.\n"
   ]
  },
  {
   "cell_type": "markdown",
   "metadata": {},
   "source": [
    "property decorators allow us to access methods as if they were attributes"
   ]
  },
  {
   "cell_type": "code",
   "execution_count": 65,
   "metadata": {},
   "outputs": [
    {
     "name": "stdout",
     "output_type": "stream",
     "text": [
      "Scott.Christ@company.com\n"
     ]
    }
   ],
   "source": [
    "class Employee():\n",
    "    def __init__(self,first,last):\n",
    "        self.first = first\n",
    "        self.last = last\n",
    "        \n",
    "    @property\n",
    "    def email(self):\n",
    "        return ('{}.{}@company.com'.format(self.first,self.last))\n",
    "    \n",
    "    def full_name(self):\n",
    "        return (\"{} {}\".format(self.first,self.last))\n",
    "    \n",
    "emp_1 = Employee('Scott','Christ')\n",
    "\n",
    "print(emp_1.email)"
   ]
  },
  {
   "cell_type": "markdown",
   "metadata": {},
   "source": [
    "If the property decorator allows you to access methods as attributes, then you should be able to change their values aswell.  The setter decorator accomplishes this."
   ]
  },
  {
   "cell_type": "code",
   "execution_count": 71,
   "metadata": {},
   "outputs": [
    {
     "name": "stdout",
     "output_type": "stream",
     "text": [
      "Scott\n"
     ]
    }
   ],
   "source": [
    "class Employee():\n",
    "    def __init__(self,first,last):\n",
    "        self.first = first\n",
    "        self.last = last\n",
    "        \n",
    "    @property\n",
    "    def email(self):\n",
    "        return ('{}.{}@company.com'.format(self.first,self.last))\n",
    "    \n",
    "    @property\n",
    "    def full_name(self):\n",
    "        return (\"{} {}\".format(self.first,self.last))\n",
    "    \n",
    "    @full_name.setter\n",
    "    def full_name(self,name):\n",
    "        first, last = name.split(' ')\n",
    "        self.first = first\n",
    "        self.last = last\n",
    "\n",
    "emp_2 = Employee('Charles','Christ')\n",
    "emp_2.full_name = 'Scott Christ'\n",
    "\n",
    "print(emp_2.first)"
   ]
  },
  {
   "cell_type": "code",
   "execution_count": null,
   "metadata": {},
   "outputs": [],
   "source": [
    "\n"
   ]
  },
  {
   "cell_type": "code",
   "execution_count": null,
   "metadata": {},
   "outputs": [],
   "source": []
  }
 ],
 "metadata": {
  "kernelspec": {
   "display_name": "Python 3",
   "language": "python",
   "name": "python3"
  },
  "language_info": {
   "codemirror_mode": {
    "name": "ipython",
    "version": 3
   },
   "file_extension": ".py",
   "mimetype": "text/x-python",
   "name": "python",
   "nbconvert_exporter": "python",
   "pygments_lexer": "ipython3",
   "version": "3.6.6"
  }
 },
 "nbformat": 4,
 "nbformat_minor": 2
}
