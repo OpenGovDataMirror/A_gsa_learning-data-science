{
 "cells": [
  {
   "cell_type": "code",
   "execution_count": 1,
   "metadata": {
    "collapsed": true
   },
   "outputs": [],
   "source": [
    "import numpy as np\n",
    "import matplotlib.pyplot as plt\n",
    "import seaborn as sns"
   ]
  },
  {
   "cell_type": "code",
   "execution_count": 2,
   "metadata": {
    "collapsed": false
   },
   "outputs": [
    {
     "name": "stdout",
     "output_type": "stream",
     "text": [
      "Populating the interactive namespace from numpy and matplotlib\n"
     ]
    }
   ],
   "source": [
    "# Plot parameters\n",
    "sns.set()\n",
    "%pylab inline\n",
    "pylab.rcParams['figure.figsize'] = (4, 4)\n",
    "plt.rcParams['xtick.major.size'] = 0\n",
    "plt.rcParams['ytick.major.size'] = 0\n",
    "# Avoid inaccurate floating values (for inverse matrices in dot product for instance)\n",
    "# See https://stackoverflow.com/questions/24537791/numpy-matrix-inversion-rounding-errors\n",
    "np.set_printoptions(suppress=True)"
   ]
  },
  {
   "cell_type": "code",
   "execution_count": 3,
   "metadata": {
    "collapsed": false
   },
   "outputs": [
    {
     "data": {
      "text/html": [
       "<style>\n",
       ".pquote {\n",
       "  text-align: left;\n",
       "  margin: 40px 0 40px auto;\n",
       "  width: 70%;\n",
       "  font-size: 1.5em;\n",
       "  font-style: italic;\n",
       "  display: block;\n",
       "  line-height: 1.3em;\n",
       "  color: #5a75a7;\n",
       "  font-weight: 600;\n",
       "  border-left: 5px solid rgba(90, 117, 167, .1);\n",
       "  padding-left: 6px;\n",
       "}\n",
       ".notes {\n",
       "  font-style: italic;\n",
       "  display: block;\n",
       "  margin: 40px 10%;\n",
       "}\n",
       "img + em {\n",
       "  text-align: center;\n",
       "  display: block;\n",
       "  color: gray;\n",
       "  font-size: 0.9em;\n",
       "  font-weight: 600;\n",
       "}\n",
       "</style>"
      ],
      "text/plain": [
       "<IPython.core.display.HTML object>"
      ]
     },
     "metadata": {},
     "output_type": "display_data"
    }
   ],
   "source": [
    "%%html\n",
    "<style>\n",
    ".pquote {\n",
    "  text-align: left;\n",
    "  margin: 40px 0 40px auto;\n",
    "  width: 70%;\n",
    "  font-size: 1.5em;\n",
    "  font-style: italic;\n",
    "  display: block;\n",
    "  line-height: 1.3em;\n",
    "  color: #5a75a7;\n",
    "  font-weight: 600;\n",
    "  border-left: 5px solid rgba(90, 117, 167, .1);\n",
    "  padding-left: 6px;\n",
    "}\n",
    ".notes {\n",
    "  font-style: italic;\n",
    "  display: block;\n",
    "  margin: 40px 10%;\n",
    "}\n",
    "img + em {\n",
    "  text-align: center;\n",
    "  display: block;\n",
    "  color: gray;\n",
    "  font-size: 0.9em;\n",
    "  font-weight: 600;\n",
    "}\n",
    "</style>"
   ]
  },
  {
   "cell_type": "markdown",
   "metadata": {},
   "source": [
    "$$\n",
    "\\newcommand\\bs[1]{\\boldsymbol{#1}}\n",
    "$$"
   ]
  },
  {
   "cell_type": "markdown",
   "metadata": {},
   "source": [
    "# Introduction\n",
    "\n",
    "We've already seen two special kinds of matrices:  the inverse and identify matrices. In this lesson, we'll introduce ourselves to some other special types of vectors and matrices."
   ]
  },
  {
   "cell_type": "markdown",
   "metadata": {},
   "source": [
    "# 3.6 Special Kinds of Matrices and Vectors\n",
    "\n",
    "<img src=\"images/diagonal-and-symmetric-matrices.png\" width=\"400\" alt=\"Diagonal and symmetric matrices\" title=\"Diagonal and symmetric matrices\">\n",
    "<em>Example of diagonal and symmetric matrices</em>\n",
    "\n",
    "\n",
    "# Diagonal matrices"
   ]
  },
  {
   "cell_type": "markdown",
   "metadata": {},
   "source": [
    "<img src=\"images/diagonal-matrix.png\" width=\"150\" alt=\"Example of a diagonal matrix\" title=\"Diagonal matrix\">\n",
    "<em>Example of a diagonal matrix</em>\n",
    "\n",
    "A matrix $\\bs{A}_{i,j}$ is diagonal if its entries are all zeros except on the diagonal (when $i=j$).\n",
    "\n",
    "### Example 1.\n",
    "\n",
    "$$\n",
    "\\bs{D}=\n",
    "\\begin{bmatrix}\n",
    "    2 & 0 & 0 & 0\\\\\\\\\n",
    "    0 & 4 & 0 & 0\\\\\\\\\n",
    "    0 & 0 & 3 & 0\\\\\\\\\n",
    "    0 & 0 & 0 & 1\n",
    "\\end{bmatrix}\n",
    "$$\n",
    "\n",
    "In this case, the matrix is also a square matrix. But there can be non-square diagonal matrices.\n",
    "\n",
    "### Example 2.\n",
    "\n",
    "$$\n",
    "\\bs{D}=\n",
    "\\begin{bmatrix}\n",
    "    2 & 0 & 0\\\\\\\\\n",
    "    0 & 4 & 0\\\\\\\\\n",
    "    0 & 0 & 3\\\\\\\\\n",
    "    0 & 0 & 0\n",
    "\\end{bmatrix}\n",
    "$$\n",
    "\n",
    "Or\n",
    "\n",
    "$$\n",
    "\\bs{D}=\n",
    "\\begin{bmatrix}\n",
    "    2 & 0 & 0 & 0\\\\\\\\\n",
    "    0 & 4 & 0 & 0\\\\\\\\\n",
    "    0 & 0 & 3 & 0\n",
    "\\end{bmatrix}\n",
    "$$\n",
    "\n",
    "The diagonal matrix can be denoted $diag(\\bs{v})$ where $\\bs{v}$ is the vector containing the diagonal values.\n",
    "\n",
    "### Example 3.\n",
    "\n",
    "$$\n",
    "\\bs{D}=\n",
    "\\begin{bmatrix}\n",
    "    2 & 0 & 0 & 0\\\\\\\\\n",
    "    0 & 4 & 0 & 0\\\\\\\\\n",
    "    0 & 0 & 3 & 0\\\\\\\\\n",
    "    0 & 0 & 0 & 1\n",
    "\\end{bmatrix}\n",
    "$$\n",
    "\n",
    "In this matrix, $\\bs{v}$ is the following vector:\n",
    "\n",
    "$$\n",
    "\\bs{v}=\n",
    "\\begin{bmatrix}\n",
    "    2\\\\\\\\\n",
    "    4\\\\\\\\\n",
    "    3\\\\\\\\\n",
    "    1\n",
    "\\end{bmatrix}\n",
    "$$\n",
    "\n",
    "With numpy, you can use `diag()` to create square diagonal matrices:"
   ]
  },
  {
   "cell_type": "code",
   "execution_count": 4,
   "metadata": {
    "collapsed": false
   },
   "outputs": [
    {
     "data": {
      "text/plain": [
       "array([[2, 0, 0, 0],\n",
       "       [0, 4, 0, 0],\n",
       "       [0, 0, 3, 0],\n",
       "       [0, 0, 0, 1]])"
      ]
     },
     "execution_count": 4,
     "metadata": {},
     "output_type": "execute_result"
    }
   ],
   "source": [
    "v = np.array([2, 4, 3, 1])\n",
    "np.diag(v)"
   ]
  },
  {
   "cell_type": "markdown",
   "metadata": {},
   "source": [
    "If you multiply a diagonal matrix by a vector, you're simply weighting each element of the vector by $v$:\n",
    "\n",
    "### Example 4.\n",
    "\n",
    "$$\n",
    "\\bs{D}=\n",
    "\\begin{bmatrix}\n",
    "    2 & 0 & 0 & 0\\\\\\\\\n",
    "    0 & 4 & 0 & 0\\\\\\\\\n",
    "    0 & 0 & 3 & 0\\\\\\\\\n",
    "    0 & 0 & 0 & 1\n",
    "\\end{bmatrix}\n",
    "$$\n",
    "\n",
    "and\n",
    "\n",
    "$$\n",
    "\\bs{x}=\n",
    "\\begin{bmatrix}\n",
    "    3\\\\\\\\\n",
    "    2\\\\\\\\\n",
    "    2\\\\\\\\\n",
    "    7\n",
    "\\end{bmatrix}\n",
    "$$\n",
    "\n",
    "$$\n",
    "\\begin{align*}\n",
    "&\\bs{Dx}=\n",
    "\\begin{bmatrix}\n",
    "    2 & 0 & 0 & 0\\\\\\\\\n",
    "    0 & 4 & 0 & 0\\\\\\\\\n",
    "    0 & 0 & 3 & 0\\\\\\\\\n",
    "    0 & 0 & 0 & 1\n",
    "\\end{bmatrix} \\times\n",
    "\\begin{bmatrix}\n",
    "    3\\\\\\\\\n",
    "    2\\\\\\\\\n",
    "    2\\\\\\\\\n",
    "    7\n",
    "\\end{bmatrix}\\\\\\\\\n",
    "&=\\begin{bmatrix}\n",
    "    2\\times3 + 0\\times2 + 0\\times2 + 0\\times7\\\\\\\\\n",
    "    0\\times3 + 4\\times2 + 0\\times2 + 0\\times7\\\\\\\\\n",
    "    0\\times3 + 0\\times2 + 3\\times2 + 0\\times7\\\\\\\\\n",
    "    0\\times3 + 0\\times2 + 0\\times2 + 1\\times7\n",
    "\\end{bmatrix}\\\\\\\\\n",
    "&=\n",
    "\\begin{bmatrix}\n",
    "    2\\times3\\\\\\\\\n",
    "    4\\times2\\\\\\\\\n",
    "    3\\times2\\\\\\\\\n",
    "    1\\times7\n",
    "\\end{bmatrix}\n",
    "\\end{align*}\n",
    "$$"
   ]
  },
  {
   "cell_type": "markdown",
   "metadata": {},
   "source": [
    "Non square matrices have the same properties:\n",
    "\n",
    "### Example 5.\n",
    "\n",
    "$$\n",
    "\\bs{D}=\n",
    "\\begin{bmatrix}\n",
    "    2 & 0 & 0\\\\\\\\\n",
    "    0 & 4 & 0\\\\\\\\\n",
    "    0 & 0 & 3\\\\\\\\\n",
    "    0 & 0 & 0\n",
    "\\end{bmatrix}\n",
    "$$\n",
    "\n",
    "and\n",
    "\n",
    "$$\n",
    "\\bs{x}=\n",
    "\\begin{bmatrix}\n",
    "    3\\\\\\\\\n",
    "    2\\\\\\\\\n",
    "    2\n",
    "\\end{bmatrix}\n",
    "$$\n",
    "\n",
    "$$\n",
    "\\bs{Dx}=\n",
    "\\begin{bmatrix}\n",
    "    2 & 0 & 0\\\\\\\\\n",
    "    0 & 4 & 0\\\\\\\\\n",
    "    0 & 0 & 3\\\\\\\\\n",
    "    0 & 0 & 0\n",
    "\\end{bmatrix}\n",
    "\\times\n",
    "\\begin{bmatrix}\n",
    "    3\\\\\\\\\n",
    "    2\\\\\\\\\n",
    "    2\n",
    "\\end{bmatrix}\n",
    "=\n",
    "\\begin{bmatrix}\n",
    "    2\\times3\\\\\\\\\n",
    "    4\\times2\\\\\\\\\n",
    "    3\\times2\\\\\\\\\n",
    "    0\n",
    "\\end{bmatrix}\n",
    "$$"
   ]
  },
  {
   "cell_type": "markdown",
   "metadata": {},
   "source": [
    "## Inverse of a diagonal matrix\n",
    "The inverse of a *square* diagonal matrix exists if all the entries of the diagonal ($\\bs{v}$) are non-zero. Note that the inverse doesn't exist if the matrix is non-square.\n",
    "\n",
    "$$\n",
    "\\bs{D}=\n",
    "\\begin{bmatrix}\n",
    "    2 & 0 & 0 & 0\\\\\\\\\n",
    "    0 & 4 & 0 & 0\\\\\\\\\n",
    "    0 & 0 & 3 & 0\\\\\\\\\n",
    "    0 & 0 & 0 & 1\n",
    "\\end{bmatrix}\n",
    "$$\n",
    "\n",
    "$$\n",
    "\\bs{D}^{-1}=\n",
    "\\begin{bmatrix}\n",
    "    \\frac{1}{2} & 0 & 0 & 0\\\\\\\\\n",
    "    0 & \\frac{1}{4} & 0 & 0\\\\\\\\\n",
    "    0 & 0 & \\frac{1}{3} & 0\\\\\\\\\n",
    "    0 & 0 & 0 & \\frac{1}{1}\n",
    "\\end{bmatrix}\n",
    "$$\n",
    "\n",
    "And remember that the multiplication of a matrix with its inverse gives us the identity matrix:\n",
    "\n",
    "$$\n",
    "\\bs{D}=\n",
    "\\begin{bmatrix}\n",
    "    2 & 0 & 0 & 0\\\\\\\\\n",
    "    0 & 4 & 0 & 0\\\\\\\\\n",
    "    0 & 0 & 3 & 0\\\\\\\\\n",
    "    0 & 0 & 0 & 1\n",
    "\\end{bmatrix}\n",
    "\\begin{bmatrix}\n",
    "    \\frac{1}{2} & 0 & 0 & 0\\\\\\\\\n",
    "    0 & \\frac{1}{4} & 0 & 0\\\\\\\\\n",
    "    0 & 0 & \\frac{1}{3} & 0\\\\\\\\\n",
    "    0 & 0 & 0 & \\frac{1}{1}\n",
    "\\end{bmatrix}=\n",
    "\\begin{bmatrix}\n",
    "    1 & 0 & 0 & 0\\\\\\\\\n",
    "    0 & 1 & 0 & 0\\\\\\\\\n",
    "    0 & 0 & 1 & 0\\\\\\\\\n",
    "    0 & 0 & 0 & 1\n",
    "\\end{bmatrix}\n",
    "$$\n",
    "\n",
    "Let's check this with numpy."
   ]
  },
  {
   "cell_type": "code",
   "execution_count": 5,
   "metadata": {
    "collapsed": false
   },
   "outputs": [
    {
     "data": {
      "text/plain": [
       "array([[2, 0, 0, 0],\n",
       "       [0, 4, 0, 0],\n",
       "       [0, 0, 3, 0],\n",
       "       [0, 0, 0, 1]])"
      ]
     },
     "execution_count": 5,
     "metadata": {},
     "output_type": "execute_result"
    }
   ],
   "source": [
    "A = np.array([[2, 0, 0, 0], [0, 4, 0, 0], [0, 0, 3, 0], [0, 0, 0, 1]])\n",
    "A"
   ]
  },
  {
   "cell_type": "code",
   "execution_count": 6,
   "metadata": {
    "collapsed": false
   },
   "outputs": [
    {
     "data": {
      "text/plain": [
       "array([[ 0.5       ,  0.        ,  0.        ,  0.        ],\n",
       "       [ 0.        ,  0.25      ,  0.        ,  0.        ],\n",
       "       [ 0.        ,  0.        ,  0.33333333,  0.        ],\n",
       "       [ 0.        ,  0.        ,  0.        ,  1.        ]])"
      ]
     },
     "execution_count": 6,
     "metadata": {},
     "output_type": "execute_result"
    }
   ],
   "source": [
    "A_inv = np.array([[1/2., 0, 0, 0], [0, 1/4., 0, 0], [0, 0, 1/3., 0], [0, 0, 0, 1/1.]])\n",
    "A_inv"
   ]
  },
  {
   "cell_type": "code",
   "execution_count": 7,
   "metadata": {
    "collapsed": false
   },
   "outputs": [
    {
     "data": {
      "text/plain": [
       "array([[ 1.,  0.,  0.,  0.],\n",
       "       [ 0.,  1.,  0.,  0.],\n",
       "       [ 0.,  0.,  1.,  0.],\n",
       "       [ 0.,  0.,  0.,  1.]])"
      ]
     },
     "execution_count": 7,
     "metadata": {},
     "output_type": "execute_result"
    }
   ],
   "source": [
    "A.dot(A_inv)"
   ]
  },
  {
   "cell_type": "markdown",
   "metadata": {},
   "source": [
    "Great! That gave use the identity matrix."
   ]
  },
  {
   "cell_type": "markdown",
   "metadata": {},
   "source": [
    "# Symmetric matrices"
   ]
  },
  {
   "cell_type": "markdown",
   "metadata": {},
   "source": [
    "<img src=\"images/symmetric-matrix.png\" width=\"150\" alt=\"Illustration of a symmetric matrix\" title=\"Symmetric matrix\">\n",
    "<em>Illustration of a symmetric matrix</em>\n",
    "\n",
    "Only square matrices can by symmetric. And a square matirx is only symmetric it is equal to its transpose:\n",
    "    \n",
    "$$\n",
    "\\bs{A} = \\bs{A}^\\text{T}\n",
    "$$\n",
    "\n",
    "\n",
    "### Example 6.\n",
    "\n",
    "$$\n",
    "\\bs{A}=\n",
    "\\begin{bmatrix}\n",
    "    2 & 4 & -1\\\\\\\\\n",
    "    4 & -8 & 0\\\\\\\\\n",
    "    -1 & 0 & 3\n",
    "\\end{bmatrix}\n",
    "$$"
   ]
  },
  {
   "cell_type": "code",
   "execution_count": 8,
   "metadata": {
    "collapsed": false
   },
   "outputs": [
    {
     "data": {
      "text/plain": [
       "array([[ 2,  4, -1],\n",
       "       [ 4, -8,  0],\n",
       "       [-1,  0,  3]])"
      ]
     },
     "execution_count": 8,
     "metadata": {},
     "output_type": "execute_result"
    }
   ],
   "source": [
    "A = np.array([[2, 4, -1], [4, -8, 0], [-1, 0, 3]])\n",
    "A"
   ]
  },
  {
   "cell_type": "code",
   "execution_count": 9,
   "metadata": {
    "collapsed": false
   },
   "outputs": [
    {
     "data": {
      "text/plain": [
       "array([[ 2,  4, -1],\n",
       "       [ 4, -8,  0],\n",
       "       [-1,  0,  3]])"
      ]
     },
     "execution_count": 9,
     "metadata": {},
     "output_type": "execute_result"
    }
   ],
   "source": [
    "A.T"
   ]
  },
  {
   "cell_type": "markdown",
   "metadata": {},
   "source": [
    "# Unit vectors\n",
    "\n",
    "A unit vector is a vector with a length ($L^2$ norm) equal to 1. It can be denoted by a letter with a hat: $\\hat{u}$"
   ]
  },
  {
   "cell_type": "markdown",
   "metadata": {},
   "source": [
    "# Orthogonal vectors\n",
    "Orthogonal is a fancy word for things that involve right angles or perpendiculars. For example, the line segments $AB$ and $CD$ are orthogonal to each other:\n",
    "\n",
    "<img src='images/orthogonal_lines.png' height = 300 width = 300 img>\n",
    "\n",
    "Thus two vectors are orthogonal if they are separated by a 90° angle. This also means that the dot product of two orthogonal vectors gives 0.\n",
    "\n",
    "### Example 7."
   ]
  },
  {
   "cell_type": "code",
   "execution_count": 11,
   "metadata": {
    "collapsed": false
   },
   "outputs": [
    {
     "data": {
      "text/plain": [
       "<matplotlib.text.Text at 0x1144356d8>"
      ]
     },
     "execution_count": 11,
     "metadata": {},
     "output_type": "execute_result"
    },
    {
     "data": {
      "image/png": "[encoded data removed]",
      "text/plain": [
       "<matplotlib.figure.Figure at 0x1143d3400>"
      ]
     },
     "metadata": {},
     "output_type": "display_data"
    }
   ],
   "source": [
    "x = [0,0,2,2]\n",
    "y = [0,0,2,-2]\n",
    "\n",
    "plt.quiver([x[0], y[0]],\n",
    "           [x[1], y[1]],\n",
    "           [x[2], y[2]],\n",
    "           [x[3], y[3]],\n",
    "           angles='xy', scale_units='xy', scale=1)\n",
    "\n",
    "plt.xlim(-2, 4)\n",
    "plt.ylim(-3, 3)\n",
    "plt.axvline(x=0, color='grey')\n",
    "plt.axhline(y=0, color='grey')\n",
    "\n",
    "plt.text(1, 1.5, r'$\\vec{u}$', size=18)\n",
    "plt.text(1.5, -1, r'$\\vec{v}$', size=18)"
   ]
  },
  {
   "cell_type": "markdown",
   "metadata": {},
   "source": [
    "$$\n",
    "\\bs{u}= \n",
    "\\begin{bmatrix}\n",
    "    2\\\\\\\\\n",
    "    2\n",
    "\\end{bmatrix}\n",
    "$$\n",
    "\n",
    "and\n",
    "\n",
    "$$\n",
    "\\bs{v}=\n",
    "\\begin{bmatrix}\n",
    "    2\\\\\\\\\n",
    "    -2\n",
    "\\end{bmatrix}\n",
    "$$\n",
    "\n",
    "$$\n",
    "\\bs{u^\\text{T}v}=\n",
    "\\begin{bmatrix}\n",
    "    2 & 2\n",
    "\\end{bmatrix}\n",
    "\\begin{bmatrix}\n",
    "    2\\\\\\\\\n",
    "    -2\n",
    "\\end{bmatrix}=\n",
    "\\begin{bmatrix}\n",
    "    2\\times2 + 2\\times-2\n",
    "\\end{bmatrix}=0\n",
    "$$\n",
    "\n",
    "In addition, when the norm of orthogonal vectors is the unit norm they are called **orthonormal**."
   ]
  },
  {
   "cell_type": "markdown",
   "metadata": {},
   "source": [
    "As a rule, it is impossible to have more than $n$ vectors mutually orthogonal in $\\mathbb{R}^n$. For instance try to draw 3 vectors in a 2-dimensional space ($\\mathbb{R}^2$) that are mutually orthogonal...\n"
   ]
  },
  {
   "cell_type": "markdown",
   "metadata": {},
   "source": [
    "# Orthogonal matrices\n",
    "\n",
    "Orthogonal matrices are important because they have some interesting properties that make a lot of linear transformations, such as reflections and permutations, computationally cheap. \n",
    "\n",
    "#### Definition\n",
    "A matrix is orthogonal if columns are mutually orthogonal and have a unit norm (orthonormal) and rows are mutually orthonormal and have unit norm. \n",
    "\n",
    "\n",
    "<img src=\"images/orthogonal-matrix.png\" width=\"300\" alt=\"Under the hood of an orthogonal matrix\" title=\"Under the hood of an orthogonal matrix\">\n",
    "<em>Under the hood of an orthogonal matrix</em>\n",
    "\n",
    "$$\n",
    "\\bs{A}= \n",
    "\\begin{bmatrix}\n",
    "    A_{1,1} & A_{1,2}\\\\\\\\\n",
    "    A_{2,1} & A_{2,2}\n",
    "\\end{bmatrix}\n",
    "$$\n",
    "\n",
    "This means that \n",
    "\n",
    "$$\n",
    "\\begin{bmatrix}\n",
    "    A_{1,1}\\\\\\\\\n",
    "    A_{2,1}\n",
    "\\end{bmatrix}\n",
    "$$\n",
    "\n",
    "and \n",
    "\n",
    "$$\n",
    "\\begin{bmatrix}\n",
    "    A_{1,2}\\\\\\\\\n",
    "    A_{2,2}\n",
    "\\end{bmatrix}\n",
    "$$\n",
    "\n",
    "are orthogonal vectors and also that the rows\n",
    "\n",
    "$$\n",
    "\\begin{bmatrix}\n",
    "    A_{1,1} & A_{1,2}\n",
    "\\end{bmatrix}\n",
    "$$\n",
    "\n",
    "and\n",
    "\n",
    "$$\n",
    "\\begin{bmatrix}\n",
    "    A_{2,1} & A_{2,2}\n",
    "\\end{bmatrix}\n",
    "$$\n",
    "\n",
    "are orthogonal vectors."
   ]
  },
  {
   "cell_type": "markdown",
   "metadata": {},
   "source": [
    "## Orthogonal matrix property 1: $\\bs{A^\\text{T}A}=\\bs{I}$\n",
    "\n",
    "\n",
    "An orthogonal matrix has this property:\n",
    "\n",
    "$$\n",
    "\\bs{A^\\text{T}A}=\\bs{AA^\\text{T}}=\\bs{I}\n",
    "$$\n",
    "\n",
    "We can see that this statement is true with the following reasoning:\n",
    "\n",
    "Let's have the following matrix:\n",
    "\n",
    "$$\n",
    "\\bs{A}=\\begin{bmatrix}\n",
    "    a & b\\\\\\\\\n",
    "    c & d\n",
    "\\end{bmatrix}\n",
    "$$\n",
    "\n",
    "and thus\n",
    "\n",
    "$$\n",
    "\\bs{A}^\\text{T}=\\begin{bmatrix}\n",
    "    a & c\\\\\\\\\n",
    "    b & d\n",
    "\\end{bmatrix}\n",
    "$$\n",
    "\n",
    "Let's do the product:\n",
    "\n",
    "$$\n",
    "\\begin{align*}\n",
    "&\\bs{A^\\text{T}A}=\\begin{bmatrix}\n",
    "    a & c\\\\\\\\\n",
    "    b & d\n",
    "\\end{bmatrix}\n",
    "\\begin{bmatrix}\n",
    "    a & b\\\\\\\\\n",
    "    c & d\n",
    "\\end{bmatrix}\n",
    "=\n",
    "\\begin{bmatrix}\n",
    "    aa + cc & ab + cd\\\\\\\\\n",
    "    ab + cd & bb + dd\n",
    "\\end{bmatrix}\\\\\\\\\n",
    "&=\n",
    "\\begin{bmatrix}\n",
    "    a^2 + c^2 & ab + cd\\\\\\\\\n",
    "    ab + cd & b^2 + d^2\n",
    "\\end{bmatrix}\n",
    "\\end{align*}\n",
    "$$\n",
    "\n",
    "We saw in the last lesson on vector norms that the norm of the vector $\\begin{bmatrix}\n",
    "    a & c\n",
    "\\end{bmatrix}$ is equal to $a^2+c^2$. In addtion, we saw that the rows of $\\bs{A}$ have a unit norm because $\\bs{A}$ is orthogonal. This means that $a^2+c^2=1$ and $b^2+d^2=1$. So we now have:\n",
    "\n",
    "$$\n",
    "\\bs{A^\\text{T}A}=\n",
    "\\begin{bmatrix}\n",
    "    1 & ab + cd\\\\\\\\\n",
    "    ab + cd & 1\n",
    "\\end{bmatrix}\n",
    "$$\n",
    "\n",
    "Also, $ab+cd$ corresponds to the product of $\\begin{bmatrix}\n",
    "    a & c\n",
    "\\end{bmatrix} and \\begin{bmatrix}\n",
    "    b & d\n",
    "\\end{bmatrix}$:\n",
    "\n",
    "$$\n",
    "\\begin{bmatrix}\n",
    "    a & c\n",
    "\\end{bmatrix}\n",
    "\\begin{bmatrix}\n",
    "    b\\\\\\\\\n",
    "    d\n",
    "\\end{bmatrix}\n",
    "=\n",
    "ab+cd\n",
    "$$\n",
    "\n",
    "And we know that the columns are orthogonal which means that:\n",
    "\n",
    "$$\n",
    "\\begin{bmatrix}\n",
    "    a & c\n",
    "\\end{bmatrix}\n",
    "\\begin{bmatrix}\n",
    "    b\\\\\\\\\n",
    "    d\n",
    "\\end{bmatrix}=0\n",
    "$$\n",
    "\n",
    "We thus have the identity matrix:\n",
    "\n",
    "$$\n",
    "\\bs{A^\\text{T}A}=\\begin{bmatrix}\n",
    "    1 & 0\\\\\\\\\n",
    "    0 & 1\n",
    "\\end{bmatrix}\n",
    "$$"
   ]
  },
  {
   "cell_type": "markdown",
   "metadata": {},
   "source": [
    "## Orthogonal matrix property 2: $\\bs{A}^\\text{T}=\\bs{A}^{-1}$\n",
    "\n",
    "If we can show that if $\\bs{A^\\text{T}A}=\\bs{I}$,then we can also show that matrix $A$ is orthogonal if its transpose is equal to its inverse:\n",
    "\n",
    "$$\n",
    "\\bs{A}^\\text{T}=\\bs{A}^{-1}$$\n",
    "\n",
    "If we multiply each side of the equation $\\bs{A^\\text{T}A}=\\bs{I}$ by $\\bs{A}^{-1}$ we have:\n",
    "\n",
    "$$\n",
    "(\\bs{A^\\text{T}A})\\bs{A}^{-1}=\\bs{I}\\bs{A}^{-1}\n",
    "$$\n",
    "\n",
    "Recall from our lesson on identity and inverse matrices that a matrix or vector doesn't change when it is multiplied by the identity matrix. So we have:\n",
    "\n",
    "$$\n",
    "(\\bs{A^\\text{T}A})\\bs{A}^{-1}=\\bs{A}^{-1}\n",
    "$$\n",
    "\n",
    "And in lesson 2 we saw that matrix multiplication is associative. This means we can remove the parenthesis:\n",
    "\n",
    "$$\n",
    "\\bs{A^\\text{T}A}\\bs{A}^{-1}=\\bs{A}^{-1}\n",
    "$$\n",
    "\n",
    "We also saw in lesson 3 that $\\bs{A}\\bs{A}^{-1}=\\bs{I}$. So we can substitute:\n",
    "\n",
    "$$\n",
    "\\bs{A^\\text{T}}\\bs{I}=\\bs{A}^{-1}\n",
    "$$\n",
    "\n",
    "This shows that\n",
    "\n",
    "$$\\bs{A}^\\text{T}=\\bs{A}^{-1}$$\n",
    "\n",
    "### Example 8.\n",
    "\n",
    "Sine and cosine are convenient to create orthogonal matrices. Let's take the following matrix:\n",
    "\n",
    "$$\n",
    "\\bs{A}= \n",
    "\\begin{bmatrix}\n",
    "    cos(50) & -sin(50)\\\\\\\\\n",
    "    sin(50) & cos(50)\n",
    "\\end{bmatrix}\n",
    "$$"
   ]
  },
  {
   "cell_type": "code",
   "execution_count": 12,
   "metadata": {
    "collapsed": false
   },
   "outputs": [
    {
     "data": {
      "text/plain": [
       "array([[ 0.96496603,  0.26237485],\n",
       "       [-0.26237485,  0.96496603]])"
      ]
     },
     "execution_count": 12,
     "metadata": {},
     "output_type": "execute_result"
    }
   ],
   "source": [
    "A = np.array([[np.cos(50), -np.sin(50)], [np.sin(50), np.cos(50)]])\n",
    "A"
   ]
  },
  {
   "cell_type": "markdown",
   "metadata": {},
   "source": [
    "Now let's get the columns and rows separately as vectors"
   ]
  },
  {
   "cell_type": "code",
   "execution_count": 13,
   "metadata": {
    "collapsed": true
   },
   "outputs": [],
   "source": [
    "col0 = A[:, 0].reshape(A[:, 0].shape[0], 1)\n",
    "col1 = A[:, 1].reshape(A[:, 1].shape[0], 1)\n",
    "row0 = A[0, :].reshape(A[0, :].shape[0], 1)\n",
    "row1 = A[1, :].reshape(A[1, :].shape[0], 1)"
   ]
  },
  {
   "cell_type": "markdown",
   "metadata": {},
   "source": [
    "Let's check that rows and columns are orthogonal:"
   ]
  },
  {
   "cell_type": "code",
   "execution_count": 20,
   "metadata": {
    "collapsed": false
   },
   "outputs": [
    {
     "data": {
      "text/plain": [
       "array([[ 0.]])"
      ]
     },
     "execution_count": 20,
     "metadata": {},
     "output_type": "execute_result"
    }
   ],
   "source": [
    "col0.T.dot(col1)"
   ]
  },
  {
   "cell_type": "code",
   "execution_count": 21,
   "metadata": {
    "collapsed": false
   },
   "outputs": [
    {
     "data": {
      "text/plain": [
       "array([[ 0.]])"
      ]
     },
     "execution_count": 21,
     "metadata": {},
     "output_type": "execute_result"
    }
   ],
   "source": [
    "row0.T.dot(row1)"
   ]
  },
  {
   "cell_type": "markdown",
   "metadata": {},
   "source": [
    "And let's check that\n",
    "\n",
    "$\n",
    "\\bs{A^\\text{T}A}=\\bs{AA^\\text{T}}=\\bs{I}\n",
    "$ and thus $\n",
    "\\bs{A}^\\text{T}=\\bs{A}^{-1}\n",
    "$"
   ]
  },
  {
   "cell_type": "code",
   "execution_count": 22,
   "metadata": {
    "collapsed": false
   },
   "outputs": [
    {
     "data": {
      "text/plain": [
       "array([[ 1.,  0.],\n",
       "       [ 0.,  1.]])"
      ]
     },
     "execution_count": 22,
     "metadata": {},
     "output_type": "execute_result"
    }
   ],
   "source": [
    "A.T.dot(A)"
   ]
  },
  {
   "cell_type": "code",
   "execution_count": 23,
   "metadata": {
    "collapsed": false
   },
   "outputs": [
    {
     "data": {
      "text/plain": [
       "array([[ 0.96496603, -0.26237485],\n",
       "       [ 0.26237485,  0.96496603]])"
      ]
     },
     "execution_count": 23,
     "metadata": {},
     "output_type": "execute_result"
    }
   ],
   "source": [
    "A.T"
   ]
  },
  {
   "cell_type": "code",
   "execution_count": 24,
   "metadata": {
    "collapsed": false
   },
   "outputs": [
    {
     "data": {
      "text/plain": [
       "array([[ 0.96496603, -0.26237485],\n",
       "       [ 0.26237485,  0.96496603]])"
      ]
     },
     "execution_count": 24,
     "metadata": {},
     "output_type": "execute_result"
    }
   ],
   "source": [
    "numpy.linalg.inv(A)"
   ]
  },
  {
   "cell_type": "markdown",
   "metadata": {},
   "source": [
    "Everything is correct!\n",
    "\n",
    "# Conclusion\n",
    "\n",
    "In this lesson, we saw some new special types of vectors and matrices. The main takeaway is that these properties provide shortcuts to some linear algebra calculations. For example, you can get the inverse of an orthogonal matrix by simply taking its transpose. "
   ]
  },
  {
   "cell_type": "markdown",
   "metadata": {},
   "source": [
    "# References\n",
    "\n",
    "## Inverse and transpose of orthogonal matrix\n",
    "\n",
    "- https://math.stackexchange.com/questions/1936020/why-is-the-inverse-of-an-orthogonal-matrix-equal-to-its-transpose\n",
    "\n",
    "- https://dyinglovegrape.wordpress.com/2010/11/30/the-inverse-of-an-orthogonal-matrix-is-its-transpose/"
   ]
  }
 ],
 "metadata": {
  "kernelspec": {
   "display_name": "Python 3",
   "language": "python",
   "name": "python3"
  },
  "language_info": {
   "codemirror_mode": {
    "name": "ipython",
    "version": 3
   },
   "file_extension": ".py",
   "mimetype": "text/x-python",
   "name": "python",
   "nbconvert_exporter": "python",
   "pygments_lexer": "ipython3",
   "version": "3.6.0"
  }
 },
 "nbformat": 4,
 "nbformat_minor": 2
}
