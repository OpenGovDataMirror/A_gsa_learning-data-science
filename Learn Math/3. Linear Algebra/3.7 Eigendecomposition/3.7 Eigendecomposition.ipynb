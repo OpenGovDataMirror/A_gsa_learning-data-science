{
 "cells": [
  {
   "cell_type": "code",
   "execution_count": 1,
   "metadata": {
    "collapsed": true,
    "scrolled": false
   },
   "outputs": [],
   "source": [
    "import numpy as np\n",
    "import matplotlib.pyplot as plt\n",
    "import seaborn as sns"
   ]
  },
  {
   "cell_type": "code",
   "execution_count": 2,
   "metadata": {
    "collapsed": false
   },
   "outputs": [
    {
     "name": "stdout",
     "output_type": "stream",
     "text": [
      "Populating the interactive namespace from numpy and matplotlib\n"
     ]
    }
   ],
   "source": [
    "# Plot style\n",
    "sns.set()\n",
    "%pylab inline\n",
    "pylab.rcParams['figure.figsize'] = (4, 4)\n",
    "# Avoid inaccurate floating values (for inverse matrices in dot product for instance)\n",
    "# See https://stackoverflow.com/questions/24537791/numpy-matrix-inversion-rounding-errors\n",
    "np.set_printoptions(suppress=True)"
   ]
  },
  {
   "cell_type": "code",
   "execution_count": 3,
   "metadata": {
    "collapsed": false
   },
   "outputs": [
    {
     "data": {
      "text/html": [
       "<style>\n",
       ".pquote {\n",
       "  text-align: left;\n",
       "  margin: 40px 0 40px auto;\n",
       "  width: 70%;\n",
       "  font-size: 1.5em;\n",
       "  font-style: italic;\n",
       "  display: block;\n",
       "  line-height: 1.3em;\n",
       "  color: #5a75a7;\n",
       "  font-weight: 600;\n",
       "  border-left: 5px solid rgba(90, 117, 167, .1);\n",
       "  padding-left: 6px;\n",
       "}\n",
       ".notes {\n",
       "  font-style: italic;\n",
       "  display: block;\n",
       "  margin: 40px 10%;\n",
       "}\n",
       "img + em {\n",
       "  text-align: center;\n",
       "  display: block;\n",
       "  color: gray;\n",
       "  font-size: 0.9em;\n",
       "  font-weight: 600;\n",
       "}\n",
       "</style>"
      ],
      "text/plain": [
       "<IPython.core.display.HTML object>"
      ]
     },
     "metadata": {},
     "output_type": "display_data"
    }
   ],
   "source": [
    "%%html\n",
    "<style>\n",
    ".pquote {\n",
    "  text-align: left;\n",
    "  margin: 40px 0 40px auto;\n",
    "  width: 70%;\n",
    "  font-size: 1.5em;\n",
    "  font-style: italic;\n",
    "  display: block;\n",
    "  line-height: 1.3em;\n",
    "  color: #5a75a7;\n",
    "  font-weight: 600;\n",
    "  border-left: 5px solid rgba(90, 117, 167, .1);\n",
    "  padding-left: 6px;\n",
    "}\n",
    ".notes {\n",
    "  font-style: italic;\n",
    "  display: block;\n",
    "  margin: 40px 10%;\n",
    "}\n",
    "img + em {\n",
    "  text-align: center;\n",
    "  display: block;\n",
    "  color: gray;\n",
    "  font-size: 0.9em;\n",
    "  font-weight: 600;\n",
    "}\n",
    "</style>"
   ]
  },
  {
   "cell_type": "code",
   "execution_count": 4,
   "metadata": {
    "collapsed": true
   },
   "outputs": [],
   "source": [
    "def plotVectors(vecs, cols, alpha=1):\n",
    "    \"\"\"\n",
    "    Plot set of vectors.\n",
    "\n",
    "    Parameters\n",
    "    ----------\n",
    "    vecs : array-like\n",
    "        Coordinates of the vectors to plot. Each vectors is in an array. For\n",
    "        instance: [[1, 3], [2, 2]] can be used to plot 2 vectors.\n",
    "    cols : array-like\n",
    "        Colors of the vectors. For instance: ['red', 'blue'] will display the\n",
    "        first vector in red and the second in blue.\n",
    "    alpha : float\n",
    "        Opacity of vectors\n",
    "\n",
    "    Returns:\n",
    "\n",
    "    fig : instance of matplotlib.figure.Figure\n",
    "        The figure of the vectors\n",
    "    \"\"\"\n",
    "    plt.axvline(x=0, color='#A9A9A9', zorder=0)\n",
    "    plt.axhline(y=0, color='#A9A9A9', zorder=0)\n",
    "\n",
    "    for i in range(len(vecs)):\n",
    "        if (isinstance(alpha, list)):\n",
    "            alpha_i = alpha[i]\n",
    "        else:\n",
    "            alpha_i = alpha\n",
    "        x = np.concatenate([[0,0],vecs[i]])\n",
    "        plt.quiver([x[0]],\n",
    "                   [x[1]],\n",
    "                   [x[2]],\n",
    "                   [x[3]],\n",
    "                   angles='xy', scale_units='xy', scale=1, color=cols[i],\n",
    "                  alpha=alpha_i)"
   ]
  },
  {
   "cell_type": "markdown",
   "metadata": {},
   "source": [
    "$$\n",
    "\\newcommand\\bs[1]{\\boldsymbol{#1}}\n",
    "\\newcommand\\norm[1]{\\left\\lVert#1\\right\\rVert}\n",
    "$$"
   ]
  },
  {
   "cell_type": "markdown",
   "metadata": {},
   "source": [
    "# Introduction\n",
    "This lesson will cover some very important concepts in linear algebra. It's dense, so strap yourself in.\n",
    "\n",
    "First, we'll introduce eigenvectors and eigenvalues. Then we will build upon the fact that a matrix can be seen as a linear transformation and that applying a matrix on its eigenvectors gives new vectors with the same direction. Then, we will learn how to express quadratic equations in matrix form. Here we'll see that the eigendecomposition of the matrix corresponding to a quadratic equation can be used to find the minimum and maximum of this function.\n",
    "\n",
    "There's also a bonus section on visualizing linear transformations with python."
   ]
  },
  {
   "cell_type": "markdown",
   "metadata": {},
   "source": [
    "# 3.7 Eigendecomposition"
   ]
  },
  {
   "cell_type": "markdown",
   "metadata": {},
   "source": [
    "The decomposition of a matrix means that we want to find a product of matrices that is equal to the initial matrix. \n",
    "\n",
    "Eigendecomposition is one form of matrix decomposition. \"Eigen\" means \"peculiar to\" or \"characteristic\" in German. Remembering that provides a good mnemonic since, in the case of eigendecomposition, we decompose the initial matrix into the product of its eigenvectors and eigenvalues. But what are eigenvectors and eigenvales?!\n",
    "\n",
    "# Matrices as linear transformations\n",
    "\n",
    "As we have seen with the example of the identity matrix, you can think of matrices as linear transformations. Some matrices will rotate your space while others might rescale it. The identity matrix of course does nothing to your space.\n",
    "\n",
    "So when we apply a matrix to a vector, we end up with a transformed version of the vector. When we say that we \"apply\" the matrix to the vector, we mean that we calculate the dot product of the matrix with the vector. Let's being begin a basic example of this kind of transformation.\n",
    "\n",
    "### Example 1."
   ]
  },
  {
   "cell_type": "code",
   "execution_count": 5,
   "metadata": {
    "collapsed": false
   },
   "outputs": [
    {
     "data": {
      "text/plain": [
       "array([[-1,  3],\n",
       "       [ 2, -2]])"
      ]
     },
     "execution_count": 5,
     "metadata": {},
     "output_type": "execute_result"
    }
   ],
   "source": [
    "A = np.array([[-1, 3], [2, -2]])\n",
    "A"
   ]
  },
  {
   "cell_type": "code",
   "execution_count": 6,
   "metadata": {
    "collapsed": false
   },
   "outputs": [
    {
     "data": {
      "text/plain": [
       "array([[2],\n",
       "       [1]])"
      ]
     },
     "execution_count": 6,
     "metadata": {},
     "output_type": "execute_result"
    }
   ],
   "source": [
    "v = np.array([[2], [1]])\n",
    "v"
   ]
  },
  {
   "cell_type": "markdown",
   "metadata": {},
   "source": [
    "Let's plot this vector:"
   ]
  },
  {
   "cell_type": "code",
   "execution_count": 7,
   "metadata": {
    "collapsed": false
   },
   "outputs": [
    {
     "data": {
      "text/plain": [
       "(-1, 4)"
      ]
     },
     "execution_count": 7,
     "metadata": {},
     "output_type": "execute_result"
    },
    {
     "data": {
      "image/png": "[encoded data removed]",
      "text/plain": [
       "<matplotlib.figure.Figure at 0x10cc30278>"
      ]
     },
     "metadata": {},
     "output_type": "display_data"
    }
   ],
   "source": [
    "plotVectors([v.flatten()], cols=['#1190FF'])\n",
    "plt.ylim(-1, 4)\n",
    "plt.xlim(-1, 4)"
   ]
  },
  {
   "cell_type": "markdown",
   "metadata": {},
   "source": [
    "Now, let's apply matrix $\\bs{A}$ to this vector. We'll plot the original vector in light blue and the new one that's been transformed with the matrix in orange:"
   ]
  },
  {
   "cell_type": "code",
   "execution_count": 9,
   "metadata": {
    "collapsed": false
   },
   "outputs": [
    {
     "name": "stdout",
     "output_type": "stream",
     "text": [
      "[[1]\n",
      " [2]]\n"
     ]
    },
    {
     "data": {
      "text/plain": [
       "(-1, 4)"
      ]
     },
     "execution_count": 9,
     "metadata": {},
     "output_type": "execute_result"
    },
    {
     "data": {
      "image/png": "[encoded data removed]",
      "text/plain": [
       "<matplotlib.figure.Figure at 0x10ff52908>"
      ]
     },
     "metadata": {},
     "output_type": "display_data"
    }
   ],
   "source": [
    "Av = A.dot(v)\n",
    "print(Av)\n",
    "plotVectors([v.flatten(), Av.flatten()], cols=['#1190FF', '#FF9A13'])\n",
    "plt.ylim(-1, 4)\n",
    "plt.xlim(-1, 4)"
   ]
  },
  {
   "cell_type": "markdown",
   "metadata": {},
   "source": [
    "And there's the effect of applying matrix $\\bs{A}$ to vector $\\bs{v}$.\n",
    "\n",
    "Now that you're comfortable thinking of matrices as linear transformation recipes, let's see the case of a very special type of vector: the eigenvector."
   ]
  },
  {
   "cell_type": "markdown",
   "metadata": {},
   "source": [
    "# Eigenvectors and eigenvalues\n",
    "\n",
    "So you just saw an example of a vector transformed by a matrix. Now imagine that the transformation of an initial vector gives us a new vector that has the exact same direction (but not necessarily the same scale) as the initial vector. This special vector is called an eigenvector of the matrix.\n",
    "\n",
    "In more mathematical terms, $\\bs{v}$ is a eigenvector of $\\bs{A}$ if $\\bs{v}$ and $\\bs{Av}$ have the same direction. The output vector of $\\bs{Av}$ is just a scaled version of the input vector $\\bs{v}$. This scalling factor $\\lambda$ is called the **eigenvalue** of $\\bs{A}$. Thus:\n",
    "\n",
    "$$\n",
    "\\bs{Av} = \\lambda\\bs{v}\n",
    "$$\n",
    "\n",
    "In physical terms, this means that eigenvectors are those directions that remain unchanged by the application of $\\bs{A}$ to $\\bs{v}$; and $\\lambda$ describes how distances (scale) are changed in that direction, with negative eigenvalues indicating a reversal of that direction."
   ]
  },
  {
   "cell_type": "markdown",
   "metadata": {},
   "source": [
    "### Example 2.\n",
    "\n",
    "Let's $\\bs{A}$ be the following matrix:\n",
    "\n",
    "$$\n",
    "\\bs{A}=\n",
    "\\begin{bmatrix}\n",
    "    5 & 1\\\\\\\\\n",
    "    3 & 3\n",
    "\\end{bmatrix}\n",
    "$$\n",
    "\n",
    "We know that one eigenvector of A is:\n",
    "\n",
    "$$\n",
    "\\bs{v}=\n",
    "\\begin{bmatrix}\n",
    "    1\\\\\\\\\n",
    "    1\n",
    "\\end{bmatrix}\n",
    "$$\n",
    "\n",
    "We can check that $\\bs{Av} = \\lambda\\bs{v}$:\n",
    "\n",
    "$$\n",
    "\\begin{bmatrix}\n",
    "    5 & 1\\\\\\\\\n",
    "    3 & 3\n",
    "\\end{bmatrix}\n",
    "\\begin{bmatrix}\n",
    "    1\\\\\\\\\n",
    "    1\n",
    "\\end{bmatrix}=\\begin{bmatrix}\n",
    "    6\\\\\\\\\n",
    "    6\n",
    "\\end{bmatrix}\n",
    "$$\n",
    "\n",
    "We can see that:\n",
    "\n",
    "$$\n",
    "6\\times \\begin{bmatrix}\n",
    "    1\\\\\\\\\n",
    "    1\n",
    "\\end{bmatrix} = \\begin{bmatrix}\n",
    "    6\\\\\\\\\n",
    "    6\n",
    "\\end{bmatrix}\n",
    "$$\n",
    "\n",
    "which means that $\\bs{v}$ is an eigenvector of $\\bs{A}$. Also, the corresponding eigenvalue is $\\lambda=6$."
   ]
  },
  {
   "cell_type": "markdown",
   "metadata": {},
   "source": [
    "Let's plot $\\bs{v}$ and $\\bs{Av}$ to check that their directions are the same:"
   ]
  },
  {
   "cell_type": "code",
   "execution_count": 12,
   "metadata": {
    "collapsed": false
   },
   "outputs": [
    {
     "data": {
      "text/plain": [
       "array([[5, 1],\n",
       "       [3, 3]])"
      ]
     },
     "execution_count": 12,
     "metadata": {},
     "output_type": "execute_result"
    }
   ],
   "source": [
    "A = np.array([[5, 1], [3, 3]])\n",
    "A"
   ]
  },
  {
   "cell_type": "code",
   "execution_count": 13,
   "metadata": {
    "collapsed": false
   },
   "outputs": [
    {
     "data": {
      "text/plain": [
       "array([[1],\n",
       "       [1]])"
      ]
     },
     "execution_count": 13,
     "metadata": {},
     "output_type": "execute_result"
    }
   ],
   "source": [
    "v = np.array([[1], [1]])\n",
    "v"
   ]
  },
  {
   "cell_type": "code",
   "execution_count": 14,
   "metadata": {
    "collapsed": false
   },
   "outputs": [
    {
     "data": {
      "text/plain": [
       "(-1, 7)"
      ]
     },
     "execution_count": 14,
     "metadata": {},
     "output_type": "execute_result"
    },
    {
     "data": {
      "image/png": "[encoded data removed]",
      "text/plain": [
       "<matplotlib.figure.Figure at 0x10ff67da0>"
      ]
     },
     "metadata": {},
     "output_type": "display_data"
    }
   ],
   "source": [
    "Av = A.dot(v)\n",
    "\n",
    "orange = '#FF9A13'\n",
    "blue = '#1190FF'\n",
    "\n",
    "plotVectors([Av.flatten(), v.flatten()], cols=[blue, orange])\n",
    "plt.ylim(-1, 7)\n",
    "plt.xlim(-1, 7)"
   ]
  },
  {
   "cell_type": "markdown",
   "metadata": {},
   "source": [
    "We can see that their directions are the same and that the eigenvalue of 6 scaled our vector's distance in that direction."
   ]
  },
  {
   "cell_type": "markdown",
   "metadata": {},
   "source": [
    "Another eigenvector of $\\bs{A}$ is\n",
    "\n",
    "$$\n",
    "\\bs{v}=\n",
    "\\begin{bmatrix}\n",
    "    1\\\\\\\\\n",
    "    -3\n",
    "\\end{bmatrix}\n",
    "$$\n",
    "\n",
    "because\n",
    "\n",
    "$$\n",
    "\\begin{bmatrix}\n",
    "    5 & 1\\\\\\\\\n",
    "    3 & 3\n",
    "\\end{bmatrix}\\begin{bmatrix}\n",
    "    1\\\\\\\\\n",
    "    -3\n",
    "\\end{bmatrix} = \\begin{bmatrix}\n",
    "    2\\\\\\\\\n",
    "    -6\n",
    "\\end{bmatrix}\n",
    "$$\n",
    "\n",
    "and\n",
    "\n",
    "$$\n",
    "2 \\times \\begin{bmatrix}\n",
    "    1\\\\\\\\\n",
    "    -3\n",
    "\\end{bmatrix} =\n",
    "\\begin{bmatrix}\n",
    "    2\\\\\\\\\n",
    "    -6\n",
    "\\end{bmatrix}\n",
    "$$\n",
    "\n",
    "So the corresponding eigenvalue is $\\lambda=2$."
   ]
  },
  {
   "cell_type": "code",
   "execution_count": 15,
   "metadata": {
    "collapsed": false
   },
   "outputs": [
    {
     "data": {
      "text/plain": [
       "array([[ 1],\n",
       "       [-3]])"
      ]
     },
     "execution_count": 15,
     "metadata": {},
     "output_type": "execute_result"
    }
   ],
   "source": [
    "v = np.array([[1], [-3]])\n",
    "v"
   ]
  },
  {
   "cell_type": "code",
   "execution_count": 16,
   "metadata": {
    "collapsed": false
   },
   "outputs": [
    {
     "data": {
      "text/plain": [
       "(-1, 3)"
      ]
     },
     "execution_count": 16,
     "metadata": {},
     "output_type": "execute_result"
    },
    {
     "data": {
      "image/png": "[encoded data removed]",
      "text/plain": [
       "<matplotlib.figure.Figure at 0x11019ac50>"
      ]
     },
     "metadata": {},
     "output_type": "display_data"
    }
   ],
   "source": [
    "Av = A.dot(v)\n",
    "\n",
    "plotVectors([Av.flatten(), v.flatten()], cols=[blue, orange])\n",
    "plt.ylim(-7, 1)\n",
    "plt.xlim(-1, 3)"
   ]
  },
  {
   "cell_type": "markdown",
   "metadata": {},
   "source": [
    "These examples show that eigenvectors $\\bs{v}$ are vectors that change only in scale when we apply the matrix $\\bs{A}$ to them. Here the scales were 6 for the first eigenvector and 2 for the second, meaning $\\lambda$ can take any real (or even complex) value."
   ]
  },
  {
   "cell_type": "markdown",
   "metadata": {},
   "source": [
    "## Find eigenvalues and eigenvectors in Python\n",
    "\n",
    "Numpy provides a function for returning eigenvectors and eigenvalues (the first array corresponds to the eigenvalues and the second to the eigenvectors concatenated in columns):\n",
    "\n",
    "```python\n",
    "(array([ 6.,  2.]), array([[ 0.70710678, -0.31622777],\n",
    "       [ 0.70710678,  0.9486833 ]]))\n",
    "```\n",
    "\n",
    "Here's a demonstration with our preceding example."
   ]
  },
  {
   "cell_type": "code",
   "execution_count": 17,
   "metadata": {
    "collapsed": false
   },
   "outputs": [
    {
     "data": {
      "text/plain": [
       "array([[5, 1],\n",
       "       [3, 3]])"
      ]
     },
     "execution_count": 17,
     "metadata": {},
     "output_type": "execute_result"
    }
   ],
   "source": [
    "A = np.array([[5, 1], [3, 3]])\n",
    "A"
   ]
  },
  {
   "cell_type": "code",
   "execution_count": 18,
   "metadata": {
    "collapsed": false
   },
   "outputs": [
    {
     "data": {
      "text/plain": [
       "(array([ 6.,  2.]), array([[ 0.70710678, -0.31622777],\n",
       "        [ 0.70710678,  0.9486833 ]]))"
      ]
     },
     "execution_count": 18,
     "metadata": {},
     "output_type": "execute_result"
    }
   ],
   "source": [
    "np.linalg.eig(A)"
   ]
  },
  {
   "cell_type": "markdown",
   "metadata": {},
   "source": [
    "We can see that the eigenvalues are the same ones we got before: $6$ and $2$.\n",
    "\n",
    "The eigenvectors correspond to the columns of the second array. This means that the eigenvector corresponding to $\\lambda=6$ is:\n",
    "\n",
    "$$\n",
    "\\begin{bmatrix}\n",
    "    0.70710678\\\\\\\\\n",
    "    0.70710678\n",
    "\\end{bmatrix}\n",
    "$$\n",
    "\n",
    "And the eigenvector corresponding to $\\lambda=2$ is:\n",
    "\n",
    "$$\n",
    "\\begin{bmatrix}\n",
    "    -0.31622777\\\\\\\\\n",
    "    0.9486833\n",
    "\\end{bmatrix}\n",
    "$$\n",
    "\n",
    "The eigenvectors look different because they don't necessarly have the same scaling as the ones we gave in the example. But we can easily see that the first eigenvector corresponds to a scaled down version of our $\\begin{bmatrix}\n",
    "    1\\\\\\\\\n",
    "    1\n",
    "\\end{bmatrix}$.\n",
    "\n",
    "$$\n",
    "\\begin{bmatrix}\n",
    "    5 & 1\\\\\\\\\n",
    "    3 & 3\n",
    "\\end{bmatrix}\n",
    "\\begin{bmatrix}\n",
    "    0.70710678\\\\\\\\\n",
    "    0.70710678\n",
    "\\end{bmatrix}=\n",
    "\\begin{bmatrix}\n",
    "    4.24264069\\\\\\\\\n",
    "    4.24264069\n",
    "\\end{bmatrix}\n",
    "$$\n",
    "\n",
    "Thus we still have $\\bs{Av} = \\lambda\\bs{v}$, with $0.70710678 \\times 6 = 4.24264069$. This indicates that there is an infinite number of eigenvectors corresponding to the eigenvalue $6$. They are all equivalent because it's directions and not the scalings that matter.\n",
    "\n",
    "For the second eigenvector, we can check that it corresponds to a scaled version of $\\begin{bmatrix}\n",
    "    1\\\\\\\\\n",
    "    -3\n",
    "\\end{bmatrix}$. To do so, let's draw these vectors and see if they have the same direction."
   ]
  },
  {
   "cell_type": "code",
   "execution_count": 19,
   "metadata": {
    "collapsed": false
   },
   "outputs": [
    {
     "data": {
      "text/plain": [
       "(-1, 3)"
      ]
     },
     "execution_count": 19,
     "metadata": {},
     "output_type": "execute_result"
    },
    {
     "data": {
      "image/png": "[encoded data removed]",
      "text/plain": [
       "<matplotlib.figure.Figure at 0x1102bec88>"
      ]
     },
     "metadata": {},
     "output_type": "display_data"
    }
   ],
   "source": [
    "v = np.array([[1], [-3]])\n",
    "Av = A.dot(v)\n",
    "v_np = [-0.31622777, 0.9486833]\n",
    "\n",
    "plotVectors([Av.flatten(), v.flatten(), v_np], cols=[blue, orange, 'blue'])\n",
    "plt.ylim(-7, 1)\n",
    "plt.xlim(-1, 3)"
   ]
  },
  {
   "cell_type": "markdown",
   "metadata": {},
   "source": [
    "We can see that the vector found with numpy (in dark blue) is just a scaled version of our preceding $\\begin{bmatrix}\n",
    "    1\\\\\\\\\n",
    "    -3\n",
    "\\end{bmatrix}$."
   ]
  },
  {
   "cell_type": "markdown",
   "metadata": {},
   "source": [
    "## Rescaled vectors\n",
    "\n",
    "As we just saw with numpy, if $\\bs{v}$ is an eigenvector of $\\bs{A}$, then any rescaled vector $s\\bs{v}$ is also an eigenvector of $\\bs{A}$. The eigenvalue of that rescaled vector will be the same.\n",
    "\n",
    "Let's try to rescale $\n",
    "\\bs{v}=\n",
    "\\begin{bmatrix}\n",
    "    1\\\\\\\\\n",
    "    -3\n",
    "\\end{bmatrix}\n",
    "$ from our preceding example. \n",
    "\n",
    "For instance,\n",
    "\n",
    "$$\n",
    "\\bs{3v}=\n",
    "\\begin{bmatrix}\n",
    "    3\\\\\\\\\n",
    "    -9\n",
    "\\end{bmatrix}\n",
    "$$\n",
    "\n",
    "$$\n",
    "\\begin{bmatrix}\n",
    "    5 & 1\\\\\\\\\n",
    "    3 & 3\n",
    "\\end{bmatrix}\n",
    "\\begin{bmatrix}\n",
    "    3\\\\\\\\\n",
    "    -9\n",
    "\\end{bmatrix} =\n",
    "\\begin{bmatrix}\n",
    "    6\\\\\\\\\n",
    "    18\n",
    "\\end{bmatrix} = 2 \\times\n",
    "\\begin{bmatrix}\n",
    "    3\\\\\\\\\n",
    "    -9\n",
    "\\end{bmatrix}\n",
    "$$\n",
    "\n",
    "We have $\\bs{A}\\times 3\\bs{v} = \\lambda\\bs{v}$ and the eigenvalue is still $\\lambda=2$."
   ]
  },
  {
   "cell_type": "markdown",
   "metadata": {},
   "source": [
    "## Concatenating eigenvalues and eigenvectors\n",
    "\n",
    "Now we're going to use eigenvectors and eigenvalues to decompose a matrix. All eigenvectors of a matrix $\\bs{A}$ can be concatenated in a matrix $\\bs{V}$, with each column corresponding to each eigenvector (like in the second array returned by `np.linalg.eig(A)`):\n",
    "\n",
    "$$\n",
    "\\bs{V}=\n",
    "\\begin{bmatrix}\n",
    "    1 & 1\\\\\\\\\n",
    "    1 & -3\n",
    "\\end{bmatrix}\n",
    "$$\n",
    "\n",
    "The first column $\n",
    "\\begin{bmatrix}\n",
    "    1\\\\\\\\\n",
    "    1\n",
    "\\end{bmatrix}\n",
    "$ corresponds to $\\lambda=6$ and the second $\n",
    "\\begin{bmatrix}\n",
    "    1\\\\\\\\\n",
    "    -3\n",
    "\\end{bmatrix}\n",
    "$ to $\\lambda=2$.\n",
    "\n",
    "The vector $\\bs{\\lambda}$ can be created from all eigenvalues:\n",
    "\n",
    "$$\n",
    "\\bs{\\lambda}=\n",
    "\\begin{bmatrix}\n",
    "    6\\\\\\\\\n",
    "    2\n",
    "\\end{bmatrix}\n",
    "$$\n",
    "\n",
    "Then the eigendecomposition is given by\n",
    "\n",
    "$$\n",
    "\\bs{A}=\\bs{V}\\cdot diag(\\bs{\\lambda}) \\cdot \\bs{V}^{-1}\n",
    "$$\n",
    "\n",
    "\n",
    "> Recall from the last lesson that $diag(\\bs{v})$ is a diagonal matrix containing all of the eigenvalues. \n",
    "\n",
    "Continuing with our example we have:\n",
    "\n",
    "$$\n",
    "\\bs{V}=\\begin{bmatrix}\n",
    "    1 & 1\\\\\\\\\n",
    "    1 & -3\n",
    "\\end{bmatrix}\n",
    "$$\n",
    "\n",
    "The diagonal matrix is a matrix having nonzero elements only in the diagonal running from the upper left to the lower right.\n",
    "\n",
    "$$\n",
    "diag(\\bs{\\bs{\\lambda}})=\n",
    "\\begin{bmatrix}\n",
    "    6 & 0\\\\\\\\\n",
    "    0 & 2\n",
    "\\end{bmatrix}\n",
    "$$\n",
    "\n",
    "To calculate $\\bs{V}^{-1}$, we'll use numpy:"
   ]
  },
  {
   "cell_type": "code",
   "execution_count": 20,
   "metadata": {
    "collapsed": false
   },
   "outputs": [
    {
     "data": {
      "text/plain": [
       "array([[ 1,  1],\n",
       "       [ 1, -3]])"
      ]
     },
     "execution_count": 20,
     "metadata": {},
     "output_type": "execute_result"
    }
   ],
   "source": [
    "V = np.array([[1, 1], [1, -3]])\n",
    "V"
   ]
  },
  {
   "cell_type": "code",
   "execution_count": 21,
   "metadata": {
    "collapsed": false
   },
   "outputs": [
    {
     "data": {
      "text/plain": [
       "array([[ 0.75,  0.25],\n",
       "       [ 0.25, -0.25]])"
      ]
     },
     "execution_count": 21,
     "metadata": {},
     "output_type": "execute_result"
    }
   ],
   "source": [
    "V_inv = np.linalg.inv(V)\n",
    "V_inv"
   ]
  },
  {
   "cell_type": "markdown",
   "metadata": {},
   "source": [
    "So let's plug\n",
    "\n",
    "$$\n",
    "\\bs{V}^{-1}=\\begin{bmatrix}\n",
    "    0.75 & 0.25\\\\\\\\\n",
    "    0.25 & -0.25\n",
    "\\end{bmatrix}\n",
    "$$\n",
    "\n",
    "into our equation:\n",
    "\n",
    "$$\n",
    "\\begin{align*}\n",
    "&\\bs{V}\\cdot diag(\\bs{\\lambda}) \\cdot \\bs{V}^{-1}\\\\\\\\\n",
    "&=\n",
    "\\begin{bmatrix}\n",
    "    1 & 1\\\\\\\\\n",
    "    1 & -3\n",
    "\\end{bmatrix}\n",
    "\\begin{bmatrix}\n",
    "    6 & 0\\\\\\\\\n",
    "    0 & 2\n",
    "\\end{bmatrix}\n",
    "\\begin{bmatrix}\n",
    "    0.75 & 0.25\\\\\\\\\n",
    "    0.25 & -0.25\n",
    "\\end{bmatrix}\n",
    "\\end{align*}\n",
    "$$\n",
    "\n",
    "If we do the dot product of the first two matrices we have:\n",
    "\n",
    "$$\n",
    "\\begin{bmatrix}\n",
    "    1 & 1\\\\\\\\\n",
    "    1 & -3\n",
    "\\end{bmatrix}\n",
    "\\begin{bmatrix}\n",
    "    6 & 0\\\\\\\\\n",
    "    0 & 2\n",
    "\\end{bmatrix} =\n",
    "\\begin{bmatrix}\n",
    "    6 & 2\\\\\\\\\n",
    "    6 & -6\n",
    "\\end{bmatrix}\n",
    "$$\n",
    "\n",
    "Substituting that result into our equation:\n",
    "\n",
    "$$\n",
    "\\begin{align*}\n",
    "&\\begin{bmatrix}\n",
    "    6 & 2\\\\\\\\\n",
    "    6 & -6\n",
    "\\end{bmatrix}\n",
    "\\begin{bmatrix}\n",
    "    0.75 & 0.25\\\\\\\\\n",
    "    0.25 & -0.25\n",
    "\\end{bmatrix}\\\\\\\\\n",
    "&=\n",
    "\\begin{bmatrix}\n",
    "    6\\times0.75 + (2\\times0.25) & 6\\times0.25 + (2\\times-0.25)\\\\\\\\\n",
    "    6\\times0.75 + (-6\\times0.25) & 6\\times0.25 + (-6\\times-0.25)\n",
    "\\end{bmatrix}\\\\\\\\\n",
    "&=\n",
    "\\begin{bmatrix}\n",
    "    5 & 1\\\\\\\\\n",
    "    3 & 3\n",
    "\\end{bmatrix}=\n",
    "\\bs{A}\n",
    "\\end{align*}\n",
    "$$\n",
    "\n",
    "Let's check our result with Python:"
   ]
  },
  {
   "cell_type": "code",
   "execution_count": 22,
   "metadata": {
    "collapsed": false
   },
   "outputs": [
    {
     "data": {
      "text/plain": [
       "array([[6, 0],\n",
       "       [0, 2]])"
      ]
     },
     "execution_count": 22,
     "metadata": {},
     "output_type": "execute_result"
    }
   ],
   "source": [
    "lambdas = np.diag([6,2])\n",
    "lambdas"
   ]
  },
  {
   "cell_type": "code",
   "execution_count": 23,
   "metadata": {
    "collapsed": false
   },
   "outputs": [
    {
     "data": {
      "text/plain": [
       "array([[ 5.,  1.],\n",
       "       [ 3.,  3.]])"
      ]
     },
     "execution_count": 23,
     "metadata": {},
     "output_type": "execute_result"
    }
   ],
   "source": [
    "V.dot(lambdas).dot(V_inv)"
   ]
  },
  {
   "cell_type": "markdown",
   "metadata": {},
   "source": [
    "That confirms all of our previous calculations."
   ]
  },
  {
   "cell_type": "markdown",
   "metadata": {},
   "source": [
    "## Real symmetric matrix\n",
    "\n",
    "In the case of real-valued symmetric matrices (these were introduced in the last lesson), eigendecomposition can be expressed as\n",
    "\n",
    "$$\n",
    "\\bs{A} = \\bs{Q}\\Lambda \\bs{Q}^\\text{T}\n",
    "$$\n",
    "\n",
    "where $\\bs{Q}$ is the matrix with eigenvectors as columns and $\\Lambda$ is $diag(\\lambda)$.\n",
    "\n",
    "### Example 3.\n",
    "\n",
    "$$\n",
    "\\bs{A}=\\begin{bmatrix}\n",
    "    6 & 2\\\\\\\\\n",
    "    2 & 3\n",
    "\\end{bmatrix}\n",
    "$$\n",
    "\n",
    "This matrix is symmetric because $\\bs{A}=\\bs{A}^\\text{T}$. Its eigenvectors are:\n",
    "\n",
    "$$\n",
    "\\bs{Q}=\n",
    "\\begin{bmatrix}\n",
    "    0.89442719 & -0.4472136\\\\\\\\\n",
    "    0.4472136 & 0.89442719\n",
    "\\end{bmatrix}\n",
    "$$\n",
    "\n",
    "and if we put its eigenvalues in a diagonal matrix, we get:\n",
    "\n",
    "$$\n",
    "\\bs{\\Lambda}=\n",
    "\\begin{bmatrix}\n",
    "    7 & 0\\\\\\\\\n",
    "    0 & 2\n",
    "\\end{bmatrix}\n",
    "$$\n",
    "\n",
    "So let's calculate $\\bs{Q\\Lambda}$:\n",
    "\n",
    "$$\n",
    "\\begin{align*}\n",
    "\\bs{Q\\Lambda}&=\n",
    "\\begin{bmatrix}\n",
    "    0.89442719 & -0.4472136\\\\\\\\\n",
    "    0.4472136 & 0.89442719\n",
    "\\end{bmatrix}\n",
    "\\begin{bmatrix}\n",
    "    7 & 0\\\\\\\\\n",
    "    0 & 2\n",
    "\\end{bmatrix}\\\\\\\\\n",
    "&=\n",
    "\\begin{bmatrix}\n",
    "    0.89442719 \\times 7 & -0.4472136\\times 2\\\\\\\\\n",
    "    0.4472136 \\times 7 & 0.89442719\\times 2\n",
    "\\end{bmatrix}\\\\\\\\\n",
    "&=\n",
    "\\begin{bmatrix}\n",
    "    6.26099033 & -0.8944272\\\\\\\\\n",
    "    3.1304952 & 1.78885438\n",
    "\\end{bmatrix}\n",
    "\\end{align*}\n",
    "$$\n",
    "\n",
    "with:\n",
    "\n",
    "$$\n",
    "\\bs{Q}^\\text{T}=\n",
    "\\begin{bmatrix}\n",
    "    0.89442719 & 0.4472136\\\\\\\\\n",
    "    -0.4472136 & 0.89442719\n",
    "\\end{bmatrix}\n",
    "$$\n",
    "\n",
    "So we have:\n",
    "\n",
    "$$\n",
    "\\begin{align*}\n",
    "\\bs{Q\\Lambda} \\bs{Q}^\\text{T}&=\n",
    "\\begin{bmatrix}\n",
    "    6.26099033 & -0.8944272\\\\\\\\\n",
    "    3.1304952 & 1.78885438\n",
    "\\end{bmatrix}\n",
    "\\begin{bmatrix}\n",
    "    0.89442719 & 0.4472136\\\\\\\\\n",
    "    -0.4472136 & 0.89442719\n",
    "\\end{bmatrix}\\\\\\\\\n",
    "&=\n",
    "\\begin{bmatrix}\n",
    "    6 & 2\\\\\\\\\n",
    "    2 & 3\n",
    "\\end{bmatrix}\n",
    "\\end{align*}\n",
    "$$\n",
    "\n",
    "This is all to show that symmetric matrices are extremely useful. \n",
    "\n",
    "And to prove the math to ourselves, let's do the work with `linalg` from numpy:"
   ]
  },
  {
   "cell_type": "code",
   "execution_count": 24,
   "metadata": {
    "collapsed": false
   },
   "outputs": [
    {
     "data": {
      "text/plain": [
       "array([[6, 2],\n",
       "       [2, 3]])"
      ]
     },
     "execution_count": 24,
     "metadata": {},
     "output_type": "execute_result"
    }
   ],
   "source": [
    "A = np.array([[6, 2], [2, 3]])\n",
    "A"
   ]
  },
  {
   "cell_type": "code",
   "execution_count": 25,
   "metadata": {
    "collapsed": false
   },
   "outputs": [
    {
     "data": {
      "text/plain": [
       "array([[ 0.89442719, -0.4472136 ],\n",
       "       [ 0.4472136 ,  0.89442719]])"
      ]
     },
     "execution_count": 25,
     "metadata": {},
     "output_type": "execute_result"
    }
   ],
   "source": [
    "eigVals, eigVecs = np.linalg.eig(A)\n",
    "eigVecs"
   ]
  },
  {
   "cell_type": "code",
   "execution_count": 26,
   "metadata": {
    "collapsed": false
   },
   "outputs": [
    {
     "data": {
      "text/plain": [
       "array([[ 7.,  0.],\n",
       "       [ 0.,  2.]])"
      ]
     },
     "execution_count": 26,
     "metadata": {},
     "output_type": "execute_result"
    }
   ],
   "source": [
    "eigVals = np.diag(eigVals)\n",
    "eigVals"
   ]
  },
  {
   "cell_type": "code",
   "execution_count": 147,
   "metadata": {
    "collapsed": false
   },
   "outputs": [
    {
     "data": {
      "text/plain": [
       "array([[ 6.,  2.],\n",
       "       [ 2.,  3.]])"
      ]
     },
     "execution_count": 147,
     "metadata": {},
     "output_type": "execute_result"
    }
   ],
   "source": [
    "eigVecs.dot(eigVals).dot(eigVecs.T)"
   ]
  },
  {
   "cell_type": "markdown",
   "metadata": {},
   "source": [
    "As you can see, the result corresponds to our initial matrix."
   ]
  },
  {
   "cell_type": "markdown",
   "metadata": {},
   "source": [
    "# Quadratic form to matrix form\n",
    "\n",
    "Eigendecomposition can be used to optimize [quadratic functions](https://en.wikipedia.org/wiki/Quadratic_function). We will see that when $\\bs{x}$ takes the values of an eigenvector, $f(\\bs{x})$ takes the value of its corresponding eigenvalue.\n",
    "\n",
    "Say we have the following quadratic equation\n",
    "\n",
    "$$\n",
    "f(\\bs{x}) = ax_1^2 +(b+c)x_1x_2 + dx_2^2\n",
    "$$\n",
    "\n",
    "Just as we saw with simpler linear systems, a quadratic can be represented in matrix form:\n",
    "\n",
    "$$\n",
    "f(\\bs{x})= \\begin{bmatrix}\n",
    "    x_1 & x_2\n",
    "\\end{bmatrix}\\begin{bmatrix}\n",
    "    a & b\\\\\\\\\n",
    "    c & d\n",
    "\\end{bmatrix}\\begin{bmatrix}\n",
    "    x_1\\\\\\\\\n",
    "    x_2\n",
    "\\end{bmatrix} = \\bs{x^\\text{T}Ax}\n",
    "$$\n",
    "\n",
    "with:\n",
    "\n",
    "$$\n",
    "\\bs{x} = \\begin{bmatrix}\n",
    "    x_1\\\\\\\\\n",
    "    x_2\n",
    "\\end{bmatrix}\n",
    "$$\n",
    "\n",
    "and\n",
    "\n",
    "$$\n",
    "\\bs{A}=\\begin{bmatrix}\n",
    "    a & b\\\\\\\\\n",
    "    c & d\n",
    "\\end{bmatrix}\n",
    "$$\n",
    "\n",
    "If you look at the relationship between these forms, you can see that $a$ gives you the number of $x_1^2$, $(b + c)$ the number of $x_1x_2$ and $d$ the number of $x_2^2$. This means that the same quadratic form can be obtained from infinite number of matrices $\\bs{A}$ by changing $b$ and $c$ while preserving their sum.\n",
    "\n",
    "#### But why?\n",
    "Having a quadratic equation in matrix form like this will help us with [constrained optimization](https://en.wikipedia.org/wiki/Constrained_optimization) (as we'll see below)."
   ]
  },
  {
   "cell_type": "markdown",
   "metadata": {},
   "source": [
    "### Example 4.\n",
    "\n",
    "$$\n",
    "\\bs{x} = \\begin{bmatrix}\n",
    "    x_1\\\\\\\\\n",
    "    x_2\n",
    "\\end{bmatrix}\n",
    "$$\n",
    "\n",
    "and\n",
    "\n",
    "$$\n",
    "\\bs{A}=\\begin{bmatrix}\n",
    "    2 & 4\\\\\\\\\n",
    "    2 & 5\n",
    "\\end{bmatrix}\n",
    "$$\n",
    "\n",
    "gives the following quadratic form:\n",
    "\n",
    "$$\n",
    "2x_1^2 + (4+2)x_1x_2 + 5x_2^2\\\\\\\\=2x_1^2 + 6x_1x_2 + 5x_2^2\n",
    "$$\n",
    "\n",
    "but if:\n",
    "\n",
    "$$\n",
    "\\bs{A}=\\begin{bmatrix}\n",
    "    2 & -3\\\\\\\\\n",
    "    9 & 5\n",
    "\\end{bmatrix}\n",
    "$$\n",
    "\n",
    "we still have the quadratic same form:\n",
    "\n",
    "$$\n",
    "2x_1^2 + (-3+9)x_1x_2 + 5x_2^2\\\\\\\\=2x_1^2 + 6x_1x_2 + 5x_2^2\n",
    "$$"
   ]
  },
  {
   "cell_type": "markdown",
   "metadata": {},
   "source": [
    "### Example 5\n",
    "\n",
    "For this example, we will go from the matrix form to the quadratic form using a symmetric matrix $\\bs{A}$. Let's use the matrix from example $3$.\n",
    "\n",
    "$$\n",
    "\\bs{x} = \\begin{bmatrix}\n",
    "    x_1\\\\\\\\\n",
    "    x_2\n",
    "\\end{bmatrix}\n",
    "$$\n",
    "\n",
    "and\n",
    "\n",
    "$$\\bs{A}=\\begin{bmatrix}\n",
    "    6 & 2\\\\\\\\\n",
    "    2 & 3\n",
    "\\end{bmatrix}\n",
    "$$\n",
    "\n",
    "$$\n",
    "\\begin{align*}\n",
    "\\bs{x^\\text{T}Ax}&=\n",
    "\\begin{bmatrix}\n",
    "    x_1 & x_2\n",
    "\\end{bmatrix}\n",
    "\\begin{bmatrix}\n",
    "    6 & 2\\\\\\\\\n",
    "    2 & 3\n",
    "\\end{bmatrix}\n",
    "\\begin{bmatrix}\n",
    "    x_1\\\\\\\\\n",
    "    x_2\n",
    "\\end{bmatrix}\\\\\\\\\n",
    "&=\n",
    "\\begin{bmatrix}\n",
    "    x_1 & x_2\n",
    "\\end{bmatrix}\n",
    "\\begin{bmatrix}\n",
    "    6 x_1 + 2 x_2\\\\\\\\\n",
    "    2 x_1 + 3 x_2\n",
    "\\end{bmatrix}\\\\\\\\\n",
    "&=\n",
    "x_1(6 x_1 + 2 x_2) + x_2(2 x_1 + 3 x_2)\\\\\\\\\n",
    "&=\n",
    "6 x_1^2 + 4 x_1x_2 + 3 x_2^2\n",
    "\\end{align*}\n",
    "$$\n",
    "\n",
    "Our quadratic equation is thus $6 x_1^2 + 4 x_1x_2 + 3 x_2^2$.\n",
    "\n",
    ">### Note\n",
    "\n",
    ">If $\\bs{A}$ is a diagonal matrix (all 0 except the diagonal), the quadratic form of $\\bs{x^\\text{T}Ax}$ will have no cross term. Take the following matrix form:\n",
    "\n",
    ">$$\n",
    "\\bs{A}=\\begin{bmatrix}\n",
    "    a & b\\\\\\\\\n",
    "    c & d\n",
    "\\end{bmatrix}\n",
    "$$\n",
    "\n",
    ">If $\\bs{A}$ is diagonal, then $b$ and $c$ are $0$. This makes $f(\\bs{x}) = ax_1^2 +(b+c)x_1x_2 + dx_2^2$ become $f(\\bs{x}) = ax_1^2 + dx_2^2$ as there is no cross term. A quadratic form without a cross term is called diagonal form since it comes from a diagonal matrix."
   ]
  },
  {
   "cell_type": "markdown",
   "metadata": {},
   "source": [
    "# Change of variable \n",
    "\n",
    "A change of variable (or linear substitution) simply means that we replace a variable with another one. This process can be used to remove the cross terms in our quadratic equation. Without the cross term, it becomes easier to characterize the function and eventually optimize it (i.e finding its maximum or minimum).\n",
    "\n",
    "## With the quadratic form\n",
    "\n",
    "### Example 6.\n",
    "\n",
    "Let's take again our previous quadratic form:\n",
    "\n",
    "$$\n",
    "\\bs{x^\\text{T}Ax} = 6 x_1^2 + 4 x_1x_2 + 3 x_2^2\n",
    "$$\n",
    "\n",
    "The change of variable will concern $x_1$ and $x_2$. The ideas is that we can replace $x_1$ with any combination of $y_1$ and $y_2$ and $x_2$ with any combination $y_1$ and $y_2$. Although this means we'll of course end up with a new equation, the upshot is that this process will help us find a specific substitution that leads to a simplification of our function. Specifically, this process can be used to get rid of the cross term (in our example: $4 x_1x_2$). We will see later why this is interesting.\n",
    "\n",
    "Actually, the right substitution is given by the eigenvectors of the matrix used to generate the quadratic form. There's a lot of math theory behind this assertion, so just take it on faith. For now, recall that the matrix form of our equation is:\n",
    "\n",
    "$$\n",
    "\\bs{x} = \\begin{bmatrix}\n",
    "    x_1\\\\\\\\\n",
    "    x_2\n",
    "\\end{bmatrix}\n",
    "$$\n",
    "\n",
    "and\n",
    "\n",
    "$$\\bs{A}=\\begin{bmatrix}\n",
    "    6 & 2\\\\\\\\\n",
    "    2 & 3\n",
    "\\end{bmatrix}\n",
    "$$\n",
    "\n",
    "and that the eigenvectors of $\\bs{A}$ are:\n",
    "\n",
    "$$\n",
    "\\begin{bmatrix}\n",
    "    0.89442719 & -0.4472136\\\\\\\\\n",
    "    0.4472136 & 0.89442719\n",
    "\\end{bmatrix}\n",
    "$$\n",
    "\n",
    "For the purpose of simplification, we can replace these values with:\n",
    "\n",
    "$$\n",
    "\\begin{bmatrix}\n",
    "    \\frac{2}{\\sqrt{5}} & -\\frac{1}{\\sqrt{5}}\\\\\\\\\n",
    "    \\frac{1}{\\sqrt{5}} & \\frac{2}{\\sqrt{5}}\n",
    "\\end{bmatrix} =\n",
    "\\frac{1}{\\sqrt{5}}\n",
    "\\begin{bmatrix}\n",
    "    2 & -1\\\\\\\\\n",
    "    1 & 2\n",
    "\\end{bmatrix}\n",
    "$$\n",
    "\n",
    "So our first eigenvector is:\n",
    "\n",
    "$$\n",
    "\\frac{1}{\\sqrt{5}}\n",
    "\\begin{bmatrix}\n",
    "    2\\\\\\\\\n",
    "    1\n",
    "\\end{bmatrix}\n",
    "$$\n",
    "\n",
    "and our second eigenvector is:\n",
    "\n",
    "$$\n",
    "\\frac{1}{\\sqrt{5}}\n",
    "\\begin{bmatrix}\n",
    "    -1\\\\\\\\\n",
    "    2\n",
    "\\end{bmatrix}\n",
    "$$\n",
    "\n",
    "The change of variable will lead to:\n",
    "\n",
    "$$\n",
    "\\begin{bmatrix}\n",
    "    x_1\\\\\\\\\n",
    "    x_2\n",
    "\\end{bmatrix} =\n",
    "\\frac{1}{\\sqrt{5}}\n",
    "\\begin{bmatrix}\n",
    "    2 & -1\\\\\\\\\n",
    "    1 & 2\n",
    "\\end{bmatrix}\n",
    "\\begin{bmatrix}\n",
    "    y_1\\\\\\\\\n",
    "    y_2\n",
    "\\end{bmatrix} =\n",
    "\\frac{1}{\\sqrt{5}}\n",
    "\\begin{bmatrix}\n",
    "    2y_1 - y_2\\\\\\\\\n",
    "    y_1 + 2y_2\n",
    "\\end{bmatrix}\n",
    "$$\n",
    "\n",
    "so we have\n",
    "\n",
    "$$\n",
    "\\begin{cases}\n",
    "x_1 = \\frac{1}{\\sqrt{5}}(2y_1 - y_2)\\\\\\\\\n",
    "x_2 = \\frac{1}{\\sqrt{5}}(y_1 + 2y_2)\n",
    "\\end{cases}\n",
    "$$\n",
    "\n",
    "So far so good! Let's replace that in our example:\n",
    "\n",
    "$$\n",
    "\\begin{align*}\n",
    "\\bs{x^\\text{T}Ax}\n",
    "&=\n",
    "6 x_1^2 + 4 x_1x_2 + 3 x_2^2\\\\\\\\\n",
    "&=\n",
    "6 [\\frac{1}{\\sqrt{5}}(2y_1 - y_2)]^2 + 4 [\\frac{1}{\\sqrt{5}}(2y_1 - y_2)\\frac{1}{\\sqrt{5}}(y_1 + 2y_2)] + 3 [\\frac{1}{\\sqrt{5}}(y_1 + 2y_2)]^2\\\\\\\\\n",
    "&=\n",
    "\\frac{1}{5}[6 (2y_1 - y_2)^2 + 4 (2y_1 - y_2)(y_1 + 2y_2) + 3 (y_1 + 2y_2)^2]\\\\\\\\\n",
    "&=\n",
    "\\frac{1}{5}[6 (4y_1^2 - 4y_1y_2 + y_2^2) + 4 (2y_1^2 + 4y_1y_2 - y_1y_2 - 2y_2^2) + 3 (y_1^2 + 4y_1y_2 + 4y_2^2)]\\\\\\\\\n",
    "&=\n",
    "\\frac{1}{5}(24y_1^2 - 24y_1y_2 + 6y_2^2 + 8y_1^2 + 16y_1y_2 - 4y_1y_2 - 8y_2^2 + 3y_1^2 + 12y_1y_2 + 12y_2^2)\\\\\\\\\n",
    "&=\n",
    "\\frac{1}{5}(35y_1^2 + 10y_2^2)\\\\\\\\\n",
    "&=\n",
    "7y_1^2 + 2y_2^2\n",
    "\\end{align*}\n",
    "$$\n",
    "\n",
    "**All of that algebra goes to show that we were able to eliminate the cross term from our equation using the eigenvectors of the matrix used to generate the quadratic form.**"
   ]
  },
  {
   "cell_type": "markdown",
   "metadata": {},
   "source": [
    "## The Principal Axes Theorem\n",
    "I know you probably have a headache right now, so let's look at a simpler way to do the change of variable. We still stay in the matrix form, starting with\n",
    "\n",
    "$$\n",
    "f(\\bs{x})=\\bs{x^\\text{T}Ax}\n",
    "$$\n",
    "\n",
    "Our linear substitution can be written in different terms, where we replace the variables $\\bs{x}$ by $\\bs{y}$ given this relationship:\n",
    "\n",
    "$$\n",
    "\\bs{x}=P\\bs{y}\n",
    "$$\n",
    "\n",
    "We want to find $P$ such as our new equation (after the change of variable) doesn't contain the cross terms.\n",
    "\n",
    "The first step is to make the substitution in the first equation:\n",
    "\n",
    "$$\n",
    "\\begin{align*}\n",
    "\\bs{x^\\text{T}Ax}\n",
    "&=\n",
    "(\\bs{Py})^\\text{T}\\bs{A}(\\bs{Py})\\\\\\\\\n",
    "&=\n",
    "\\bs{y}^\\text{T}(\\bs{P}^\\text{T}\\bs{AP})\\bs{y}\n",
    "\\end{align*}\n",
    "$$\n",
    "\n",
    "We can see that the substitution is done by replacing $\\bs{A}$ with $\\bs{P^\\text{T}AP}$. Remember from example 2 that $\\bs{A} = \\bs{Q\\Lambda} \\bs{Q}^\\text{T}$ ($\\bs{\\Lambda}$ is the eigenvalues of $\\bs{A}$ put in a diagonal matrix):\n",
    "\n",
    "$$\n",
    "\\begin{align*}\n",
    "\\bs{P^\\text{T}AP}\n",
    "&=\n",
    "\\bs{P^\\text{T}Q\\Lambda Q^\\text{T}P}\\\\\\\\\n",
    "&=\n",
    "\\bs{P^\\text{T}PQQ^\\text{T}\\Lambda}\\\\\\\\\n",
    "&=\n",
    "\\bs{\\Lambda}\n",
    "\\end{align*}\n",
    "$$\n",
    "\n",
    "Since $\\bs{P}$ and $\\bs{Q}$ are orthogonal we have removed $\\bs{P^\\text{T}P}$ and $\\bs{QQ^\\text{T}}$. We finally have:\n",
    "\n",
    "$$\n",
    "\\bs{x^\\text{T}Ax}=\\bs{y^\\text{T}\\Lambda y}\n",
    "$$\n",
    "\n",
    "**All of this goes to show that we can use $\\bs{\\Lambda}$ to simplify our quadratic equation and remove the cross terms.** If you remember from example 2, we know that the eigenvalues of $\\bs{A}$ are:\n",
    "\n",
    "$$\n",
    "\\bs{\\Lambda}=\n",
    "\\begin{bmatrix}\n",
    "    7 & 0\\\\\\\\\n",
    "    0 & 2\n",
    "\\end{bmatrix}\n",
    "$$\n",
    "\n",
    "$$\n",
    "\\begin{align*}\n",
    "\\bs{x^\\text{T}Ax}\n",
    "&=\n",
    "\\bs{y^\\text{T}\\Lambda y}\\\\\\\\\n",
    "&=\n",
    "\\bs{y}^\\text{T}\n",
    "\\begin{bmatrix}\n",
    "    7 & 0\\\\\\\\\n",
    "    0 & 2\n",
    "\\end{bmatrix}\n",
    "\\bs{y}\\\\\\\\\n",
    "&=\n",
    "\\begin{bmatrix}\n",
    "    y_1 & y_2\n",
    "\\end{bmatrix}\n",
    "\\begin{bmatrix}\n",
    "    7 & 0\\\\\\\\\n",
    "    0 & 2\n",
    "\\end{bmatrix}\n",
    "\\begin{bmatrix}\n",
    "    y_1\\\\\\\\\n",
    "    y_2\n",
    "\\end{bmatrix}\\\\\\\\\n",
    "&=\n",
    "\\begin{bmatrix}\n",
    "    7y_1 +0y_2 & 0y_1 + 2y_2\n",
    "\\end{bmatrix}\n",
    "\\begin{bmatrix}\n",
    "    y_1\\\\\\\\\n",
    "    y_2\n",
    "\\end{bmatrix}\\\\\\\\\n",
    "&=\n",
    "7y_1^2 + 2y_2^2\n",
    "\\end{align*}\n",
    "$$\n",
    "\n",
    "And we found the same values but in fewer steps!\n",
    "\n",
    "This form (without cross-term) is called the **principal axes form**.\n",
    "\n",
    "### Summary\n",
    "\n",
    "To summarize, the principal axes form can be found with\n",
    "\n",
    "$$\n",
    "\\bs{x^\\text{T}Ax} = \\lambda_1y_1^2 + \\lambda_2y_2^2\n",
    "$$\n",
    "\n",
    "where $\\lambda_1$ is the eigenvalue corresponding to the first eigenvector and $\\lambda_2$ the eigenvalue corresponding to the second eigenvector (second column of $\\bs{x}$)."
   ]
  },
  {
   "cell_type": "markdown",
   "metadata": {},
   "source": [
    "# Finding f(x) with eigendecomposition\n",
    "\n",
    "We will now see that there is a way to find $f(\\bs{x})$ with eigenvectors and eigenvalues when $\\bs{x}$ is a unit vector. \n",
    "\n",
    "Let's start from:\n",
    "\n",
    "$$\n",
    "f(\\bs{x}) =\\bs{x^\\text{T}Ax}\n",
    "$$\n",
    "\n",
    "We know that if $\\bs{x}$ is an eigenvector of $\\bs{A}$ and $\\lambda$ the corresponding eigenvalue, then $\n",
    "\\bs{Ax}=\\lambda \\bs{x}\n",
    "$. By replacing the term in the last equation we have:\n",
    "\n",
    "$$\n",
    "f(\\bs{x}) =\\bs{x^\\text{T}\\lambda x} = \\bs{x^\\text{T}x}\\lambda\n",
    "$$\n",
    "\n",
    "Since $\\bs{x}$ is a unit vector, $\\norm{\\bs{x}}_2=1$ and $\\bs{x^\\text{T}x}=1$. Hence we end up with:\n",
    "\n",
    "$$\n",
    "f(\\bs{x}) = \\lambda\n",
    "$$\n",
    "\n",
    "This is a usefull property. If $\\bs{x}$ is an eigenvector of $\\bs{A}$, $\n",
    "f(\\bs{x}) =\\bs{x^\\text{T}Ax}$ will take the value of the corresponding eigenvalue. We can see that this is working only if the euclidean norm of $\\bs{x}$ is 1 (i.e $\\bs{x}$ is a unit vector).\n",
    "\n",
    "### Example 7\n",
    "\n",
    "This example will show that $f(\\bs{x}) = \\lambda$. Let's take again the last example, the eigenvectors of $\\bs{A}$ were\n",
    "\n",
    "$$\n",
    "\\bs{Q}=\n",
    "\\begin{bmatrix}\n",
    "    0.89442719 & -0.4472136\\\\\\\\\n",
    "    0.4472136 & 0.89442719\n",
    "\\end{bmatrix}\n",
    "$$\n",
    "\n",
    "and the eigenvalues\n",
    "\n",
    "$$\n",
    "\\bs{\\Lambda}=\n",
    "\\begin{bmatrix}\n",
    "    7 & 0\\\\\\\\\n",
    "    0 & 2\n",
    "\\end{bmatrix}\n",
    "$$\n",
    "\n",
    "So if:\n",
    "\n",
    "$$\n",
    "\\bs{x}=\\begin{bmatrix}\n",
    "    0.89442719 & 0.4472136\n",
    "\\end{bmatrix}\n",
    "$$\n",
    "\n",
    "$f(\\bs{x})$ should be equal to 7. Let's check that's true.\n",
    "\n",
    "$$\n",
    "\\begin{align*}\n",
    "f(\\bs{x}) &= 6 x_1^2 + 4 x_1x_2 + 3 x_2^2\\\\\\\\\n",
    "&= 6\\times 0.89442719^2 + 4\\times 0.89442719\\times 0.4472136 + 3 \\times 0.4472136^2\\\\\\\\\n",
    "&= 7\n",
    "\\end{align*}\n",
    "$$\n",
    "\n",
    "In the same way, if $\\bs{x}=\\begin{bmatrix}\n",
    "    -0.4472136 & 0.89442719\n",
    "\\end{bmatrix}$, $f(\\bs{x})$ should be equal to 2.\n",
    "\n",
    "$$\n",
    "\\begin{align*}\n",
    "f(\\bs{x}) &= 6 x_1^2 + 4 x_1x_2 + 3 x_2^2\\\\\\\\\n",
    "&= 6\\times -0.4472136^2 + 4\\times -0.4472136\\times 0.89442719 + 3 \\times 0.89442719^2\\\\\\\\\n",
    "&= 2\n",
    "\\end{align*}\n",
    "$$"
   ]
  },
  {
   "cell_type": "markdown",
   "metadata": {},
   "source": [
    "# Quadratic form optimization\n",
    "\n",
    "Depending on the context, optimizing a function means finding its maximum or its minimum. This process is widely used to minimize the error of cost functions in machine learning.\n",
    "\n",
    "Here we will see how eigendecomposition can be used to optimize quadratic functions and why this can be done easily without cross terms. The difficulty is that we want a constrained optimization, that is to find the minimum or the maximum of the function for $f(\\bs{x})$ being a unit vector.\n",
    "\n",
    "### Example 7.\n",
    "\n",
    "We want to optimize:\n",
    "\n",
    "$$\n",
    "f(\\bs{x}) =\\bs{x^\\text{T}Ax} \\textrm{ subject to }||\\bs{x}||_2= 1\n",
    "$$\n",
    "\n",
    "In our last example we ended up with:\n",
    "\n",
    "$$\n",
    "f(\\bs{x}) = 7y_1^2 + 2y_2^2\n",
    "$$\n",
    "\n",
    "And the constraint of $\\bs{x}$ being a unit vector implies:\n",
    "\n",
    "$$\n",
    "||\\bs{x}||_2 = 1 \\Leftrightarrow x_1^2 + x_2^2 = 1\n",
    "$$\n",
    "\n",
    "We can also show that $\\bs{y}$ has to be a unit vector if it is the case for $\\bs{x}$. Recall first that $\\bs{x}=\\bs{Py}$:\n",
    "\n",
    "$$\n",
    "\\begin{align*}\n",
    "||\\bs{x}||^2 &= \\bs{x^\\text{T}x}\\\\\\\\\n",
    "&= (\\bs{Py})^\\text{T}(\\bs{Py})\\\\\\\\\n",
    "&= \\bs{P^\\text{T}y^\\text{T}Py}\\\\\\\\\n",
    "&= \\bs{PP^\\text{T}y^\\text{T}y}\\\\\\\\\n",
    "&= \\bs{y^\\text{T}y} = ||\\bs{y}||^2\n",
    "\\end{align*}\n",
    "$$\n",
    "\n",
    "So $\\norm{\\bs{x}}^2 = \\norm{\\bs{y}}^2 = 1$ and thus $y_1^2 + y_2^2 = 1$\n",
    "\n",
    "Since $y_1^2$ and $y_2^2$ cannot be negative because they are squared values, we can be sure that $2y_2^2\\leq7y_2^2$. Hence:\n",
    "\n",
    "$$\n",
    "\\begin{align*}\n",
    "f(\\bs{x}) &= 7y_1^2 + 2y_2^2\\\\\\\\\n",
    "&\\leq\n",
    "7y_1^2 + 7y_2^2\\\\\\\\\n",
    "&=\n",
    "7(y_1^2+y_2^2)\\\\\\\\\n",
    "&=\n",
    "7\n",
    "\\end{align*}\n",
    "$$\n",
    "\n",
    "This means that the maximum value of $f(\\bs{x})$ is 7.\n",
    "\n",
    "The same method can help us find the minimum of $f(\\bs{x})$. $7y_1^2\\geq2y_1^2$ and:\n",
    "\n",
    "$$\n",
    "\\begin{align*}\n",
    "f(\\bs{x}) &= 7y_1^2 + 2y_2^2\\\\\\\\\n",
    "&\\geq\n",
    "2y_1^2 + 2y_2^2\\\\\\\\\n",
    "&=\n",
    "2(y_1^2+y_2^2)\\\\\\\\\n",
    "&=\n",
    "2\n",
    "\\end{align*}\n",
    "$$\n",
    "\n",
    "And the minimum of $f(\\bs{x})$ is 2.\n",
    "\n",
    "### Summary\n",
    "\n",
    "The minimum of $f(\\bs{x})$ is the minimum eigenvalue of the corresponding matrix $\\bs{A}$. Another useful fact is that this value is obtained when $\\bs{x}$ takes the value of the corresponding eigenvector. In that way, $f(\\bs{x})=7$ when $\\bs{x}=\\begin{bmatrix}0.89442719 & 0.4472136\\end{bmatrix}$. This shows how useful eigenvalues and eigenvectors are when it comes to constrained optimization."
   ]
  },
  {
   "cell_type": "markdown",
   "metadata": {},
   "source": [
    "## Graphical views\n",
    "\n",
    "We saw that the quadratic functions $f(\\bs{x}) = ax_1^2 +2bx_1x_2 + cx_2^2$ can be represented by the symmetric matrix $\\bs{A}$:\n",
    "\n",
    "$$\n",
    "\\bs{A}=\\begin{bmatrix}\n",
    "    a & b\\\\\\\\\n",
    "    b & c\n",
    "\\end{bmatrix}\n",
    "$$\n",
    "\n",
    "Graphically, these functions can take one of three general shapes (click on the links to go to the Surface Plotter and move the shapes):\n",
    "\n",
    "1.[Positive-definite form](https://academo.org/demos/3d-surface-plotter/?expression=x*x%2By*y&xRange=-50%2C+50&yRange=-50%2C+50&resolution=49) | 2.[Negative-definite form](https://academo.org/demos/3d-surface-plotter/?expression=-x*x-y*y&xRange=-50%2C+50&yRange=-50%2C+50&resolution=25) | 3.[Indefinite form](https://academo.org/demos/3d-surface-plotter/?expression=x*x-y*y&xRange=-50%2C+50&yRange=-50%2C+50&resolution=49)\n",
    ":-------------------------:|:-------------------------:|:-------:\n",
    "<img src=\"images/quadratic-functions-positive-definite-form.png\" alt=\"Quadratic function with a positive definite form\" title=\"Quadratic function with a positive definite form\"> | <img src=\"images/quadratic-functions-negative-definite-form.png\" alt=\"Quadratic function with a negative definite form\" title=\"Quadratic function with a negative definite form\"> | <img src=\"images/quadratic-functions-indefinite-form.png\" alt=\"Quadratic function with a indefinite form\" title=\"Quadratic function with a indefinite form\">\n",
    "\n",
    "With the constraint that $\\bs{x}$ is a unit vector, the minimum of the function $f(\\bs{x})$ corresponds to the smallest eigenvalue and is obtained with its corresponding eigenvector. The maximum corresponds to the biggest eigenvalue and is obtained with its corresponding eigenvector."
   ]
  },
  {
   "cell_type": "markdown",
   "metadata": {},
   "source": [
    "# Conclusion\n",
    "\n",
    "We saw a whole bunch of important and comlex stuff in this lesson. We saw that eigendecomposition can be used to solve a variety of mathematical problems, such as finding the minimum or maximum of a quadratic function. \n",
    "\n",
    "Sadly, we cannot use eigendecomposition for non-square matrices. In the next lesson, we will tackle Singular Value Decomposition (SVD), which is another method for decomposing matrices. The advantage of the SVD is that you can use it with non-square matrices."
   ]
  },
  {
   "cell_type": "markdown",
   "metadata": {},
   "source": [
    "# BONUS: visualizing linear transformations\n",
    "\n",
    "We can use python's plotting functionality to see the effect of eigenvectors and eigenvalues in some common linear transformations like projection and rotation.\n",
    "\n",
    ">Remember, every linear transformations can be thought of as the mapping of a matrix to an input vector. \n",
    "\n",
    "Let's start by drawing the set of unit vectors (they are all vectors with a norm of 1). This is called a [unit circle](https://en.wikipedia.org/wiki/Unit_circle)."
   ]
  },
  {
   "cell_type": "code",
   "execution_count": 28,
   "metadata": {
    "collapsed": false
   },
   "outputs": [
    {
     "data": {
      "text/plain": [
       "(-1.5, 1.5)"
      ]
     },
     "execution_count": 28,
     "metadata": {},
     "output_type": "execute_result"
    },
    {
     "data": {
      "image/png": "[encoded data removed]",
      "text/plain": [
       "<matplotlib.figure.Figure at 0x110530588>"
      ]
     },
     "metadata": {},
     "output_type": "display_data"
    }
   ],
   "source": [
    "t = np.linspace(0, 2*np.pi, 100)\n",
    "x = np.cos(t)\n",
    "y = np.sin(t)\n",
    "\n",
    "plt.figure()\n",
    "plt.plot(x, y)\n",
    "plt.xlim(-1.5, 1.5)\n",
    "plt.ylim(-1.5, 1.5)"
   ]
  },
  {
   "cell_type": "markdown",
   "metadata": {},
   "source": [
    "Let's now transform each of these points by applying a matrix $\\bs{A}$. This is the goal of the function below, which takes a matrix as input then draws:\n",
    "\n",
    "- the origin set of unit vectors\n",
    "- the transformed set of unit vectors\n",
    "- the eigenvectors\n",
    "- the eigenvectors scalled by their eigenvalues"
   ]
  },
  {
   "cell_type": "code",
   "execution_count": 29,
   "metadata": {
    "collapsed": true
   },
   "outputs": [],
   "source": [
    "def linearTransformation(transformMatrix):\n",
    "    orange = '#FF9A13'\n",
    "    blue = '#1190FF'\n",
    "    # Create original set of unit vectors\n",
    "    t = np.linspace(0, 2*np.pi, 100)\n",
    "    x = np.cos(t)\n",
    "    y = np.sin(t)\n",
    "\n",
    "    # Calculate eigenvectors and eigenvalues\n",
    "    eigVecs = np.linalg.eig(transformMatrix)[1]\n",
    "    eigVals = np.diag(np.linalg.eig(transformMatrix)[0])\n",
    "    \n",
    "    # Create vectors of 0 to store new transformed values\n",
    "    newX = np.zeros(len(x))\n",
    "    newY = np.zeros(len(x))\n",
    "    for i in range(len(x)):\n",
    "        unitVector_i = np.array([x[i], y[i]])\n",
    "        # Apply the matrix to the vector\n",
    "        newXY = transformMatrix.dot(unitVector_i)\n",
    "        newX[i] = newXY[0]\n",
    "        newY[i] = newXY[1]\n",
    "    \n",
    "    plotVectors([eigVecs[:,0], eigVecs[:,1]],\n",
    "                cols=[blue, blue])\n",
    "    plt.plot(x, y)\n",
    "\n",
    "    plotVectors([eigVals[0,0]*eigVecs[:,0], eigVals[1,1]*eigVecs[:,1]],\n",
    "                cols=[orange, orange])\n",
    "    plt.plot(newX, newY)\n",
    "    plt.xlim(-5, 5)\n",
    "    plt.ylim(-5, 5)\n",
    "    plt.show()"
   ]
  },
  {
   "cell_type": "code",
   "execution_count": 30,
   "metadata": {
    "collapsed": false
   },
   "outputs": [
    {
     "data": {
      "image/png": "[encoded data removed]",
      "text/plain": [
       "<matplotlib.figure.Figure at 0x110507438>"
      ]
     },
     "metadata": {},
     "output_type": "display_data"
    }
   ],
   "source": [
    "A = np.array([[1,-1], [-1, 4]])\n",
    "linearTransformation(A)"
   ]
  },
  {
   "cell_type": "markdown",
   "metadata": {},
   "source": [
    "We can see the unit circle in dark blue, the non-scaled eigenvectors in light blue, the transformed unit circle in green, and the scaled eigenvectors in orange.\n",
    "\n",
    "It is worth noting that the eigenvectors are orthogonal here because the matrix is symmetric. \n",
    "\n",
    "Let's try with a non-symmetric matrix:"
   ]
  },
  {
   "cell_type": "code",
   "execution_count": 31,
   "metadata": {
    "collapsed": false
   },
   "outputs": [
    {
     "data": {
      "image/png": "[encoded data removed]",
      "text/plain": [
       "<matplotlib.figure.Figure at 0x110619d30>"
      ]
     },
     "metadata": {},
     "output_type": "display_data"
    }
   ],
   "source": [
    "A = np.array([[1,1], [-1, 4]])\n",
    "linearTransformation(A)"
   ]
  },
  {
   "cell_type": "markdown",
   "metadata": {},
   "source": [
    "In this case, the eigenvectors are not orthogonal!"
   ]
  },
  {
   "cell_type": "markdown",
   "metadata": {
    "collapsed": true
   },
   "source": [
    "# References\n",
    "\n",
    "## Videos of Gilbert Strang\n",
    "\n",
    "- [Gilbert Strang, Lec21 MIT - Eigenvalues and eigenvectors](https://www.youtube.com/watch?v=lXNXrLcoerU)\n",
    "\n",
    "- [Gilbert Strang, Lec 21 MIT, Spring 2005](https://www.youtube.com/watch?v=lXNXrLcoerU)\n",
    "\n",
    "## Quadratic forms\n",
    "\n",
    "- [David Lay, University of Colorado, Denver](http://math.ucdenver.edu/~esulliva/LinearAlgebra/SlideShows/07_02.pdf)\n",
    "\n",
    "- [math.stackexchange QA](https://math.stackexchange.com/questions/2207111/eigendecomposition-optimization-of-quadratic-expressions)\n",
    "\n",
    "## Eigenvectors\n",
    "\n",
    "- [Victor Powell and Lewis Lehe - Interactive representation of eigenvectors](http://setosa.io/ev/eigenvectors-and-eigenvalues/)\n",
    "\n",
    "## Linear transformations\n",
    "\n",
    "- [Gilbert Strang - Linear transformation](http://ia802205.us.archive.org/18/items/MIT18.06S05_MP4/30.mp4)\n",
    "\n",
    "- [Linear transformation - demo video](https://www.youtube.com/watch?v=wXCRcnbCsJA)"
   ]
  }
 ],
 "metadata": {
  "kernelspec": {
   "display_name": "Python 3",
   "language": "python",
   "name": "python3"
  },
  "language_info": {
   "codemirror_mode": {
    "name": "ipython",
    "version": 3
   },
   "file_extension": ".py",
   "mimetype": "text/x-python",
   "name": "python",
   "nbconvert_exporter": "python",
   "pygments_lexer": "ipython3",
   "version": "3.6.0"
  }
 },
 "nbformat": 4,
 "nbformat_minor": 2
}
