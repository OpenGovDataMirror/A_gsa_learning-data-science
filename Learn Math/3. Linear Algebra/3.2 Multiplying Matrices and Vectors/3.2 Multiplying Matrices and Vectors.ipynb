{
 "cells": [
  {
   "cell_type": "code",
   "execution_count": 1,
   "metadata": {
    "hideCode": false,
    "hidePrompt": false
   },
   "outputs": [],
   "source": [
    "import numpy as np"
   ]
  },
  {
   "cell_type": "code",
   "execution_count": 2,
   "metadata": {
    "hideCode": false,
    "hidePrompt": false
   },
   "outputs": [],
   "source": [
    "# Avoid misleading representation of floating values (for inverse matrices in dot product \n",
    "# for instance)\n",
    "# See https://stackoverflow.com/questions/24537791/numpy-matrix-inversion-rounding-errors\n",
    "np.set_printoptions(suppress=True)"
   ]
  },
  {
   "cell_type": "code",
   "execution_count": 3,
   "metadata": {},
   "outputs": [
    {
     "data": {
      "text/html": [
       "<style>\n",
       ".pquote {\n",
       "  text-align: left;\n",
       "  margin: 40px 0 40px auto;\n",
       "  width: 70%;\n",
       "  font-size: 1.5em;\n",
       "  font-style: italic;\n",
       "  display: block;\n",
       "  line-height: 1.3em;\n",
       "  color: #5a75a7;\n",
       "  font-weight: 600;\n",
       "  border-left: 5px solid rgba(90, 117, 167, .1);\n",
       "  padding-left: 6px;\n",
       "}\n",
       ".notes {\n",
       "  font-style: italic;\n",
       "  display: block;\n",
       "  margin: 40px 10%;\n",
       "}\n",
       "img + em {\n",
       "  text-align: center;\n",
       "  display: block;\n",
       "  color: gray;\n",
       "  font-size: 0.9em;\n",
       "  font-weight: 600;\n",
       "}\n",
       "</style>"
      ],
      "text/plain": [
       "<IPython.core.display.HTML object>"
      ]
     },
     "metadata": {},
     "output_type": "display_data"
    }
   ],
   "source": [
    "%%html\n",
    "<style>\n",
    ".pquote {\n",
    "  text-align: left;\n",
    "  margin: 40px 0 40px auto;\n",
    "  width: 70%;\n",
    "  font-size: 1.5em;\n",
    "  font-style: italic;\n",
    "  display: block;\n",
    "  line-height: 1.3em;\n",
    "  color: #5a75a7;\n",
    "  font-weight: 600;\n",
    "  border-left: 5px solid rgba(90, 117, 167, .1);\n",
    "  padding-left: 6px;\n",
    "}\n",
    ".notes {\n",
    "  font-style: italic;\n",
    "  display: block;\n",
    "  margin: 40px 10%;\n",
    "}\n",
    "img + em {\n",
    "  text-align: center;\n",
    "  display: block;\n",
    "  color: gray;\n",
    "  font-size: 0.9em;\n",
    "  font-weight: 600;\n",
    "}\n",
    "</style>"
   ]
  },
  {
   "cell_type": "markdown",
   "metadata": {},
   "source": [
    "$$\n",
    "\\newcommand\\bs[1]{\\boldsymbol{#1}}\n",
    "$$"
   ]
  },
  {
   "cell_type": "markdown",
   "metadata": {},
   "source": [
    "# Introduction\n",
    "\n",
    "We will see some very important concepts in this chapter. The dot product is used in every equation explaining data science algorithms so it's worth the effort to understand it. Then we will see some properties of this operation. Finally, we will to get some intuition on the link between matrices and systems of linear equations."
   ]
  },
  {
   "cell_type": "markdown",
   "metadata": {
    "hideCode": false,
    "hidePrompt": false
   },
   "source": [
    "# 2.2 Multiplying Matrices and Vectors\n",
    "\n",
    "The standard way to multiply matrices is not to multiply each element of one with each element of the other (this is called the *element-wise product*), but to calculate the sum of the products between rows and columns. The matrix product, also called **dot product**, is calculated as following:\n",
    "\n",
    "<img src=\"images/dot-product.png\" width=\"400\" alt=\"An example of how to calculate the dot product between a matrix and a vector\" title=\"The dot product between a matrix and a vector\">\n",
    "<em>The dot product between a matrix and a vector</em>\n",
    "\n",
    "The number of columns of the first matrix must be equal to the number of rows of the second matrix. Thus, if the shape of the first matrix is ($m \\times n$), then the second matrix must be of shape ($n \\times x$). The resulting matrix will then have the shape ($m \\times x$)."
   ]
  },
  {
   "cell_type": "markdown",
   "metadata": {},
   "source": [
    "## The dot product of a matrix and a vector.\n",
    "\n",
    "$$\\bs{A} \\times \\bs{b} = \\bs{C}$$\n",
    "\n",
    "with $\n",
    "\\bs{A}=\n",
    "\\begin{bmatrix}\n",
    "    1 & 2\\\\\\\\\n",
    "    3 & 4\\\\\\\\\n",
    "    5 & 6\n",
    "\\end{bmatrix}\n",
    "$ and $\\bs{b}=\\begin{bmatrix}\n",
    "    2\\\\\\\\\n",
    "    4\n",
    "\\end{bmatrix}$. We saw that the formula is the following:\n",
    "\n",
    "$$\n",
    "\\begin{align*}\n",
    "&\\begin{bmatrix}\n",
    "    A_{1,1} & A_{1,2} \\\\\\\\\n",
    "    A_{2,1} & A_{2,2} \\\\\\\\\n",
    "    A_{3,1} & A_{3,2}\n",
    "\\end{bmatrix}\\times\n",
    "\\begin{bmatrix}\n",
    "    B_{1,1} \\\\\\\\\n",
    "    B_{2,1}\n",
    "\\end{bmatrix}=\\\\\\\\\n",
    "&\\begin{bmatrix}\n",
    "    A_{1,1}B_{1,1} + A_{1,2}B_{2,1} \\\\\\\\\n",
    "    A_{2,1}B_{1,1} + A_{2,2}B_{2,1} \\\\\\\\\n",
    "    A_{3,1}B_{1,1} + A_{3,2}B_{2,1}\n",
    "\\end{bmatrix}\n",
    "\\end{align*}\n",
    "$$\n",
    "\n",
    "So we will have:\n",
    "\n",
    "$$\n",
    "\\begin{align*}\n",
    "&\\begin{bmatrix}\n",
    "    1 & 2 \\\\\\\\\n",
    "    3 & 4 \\\\\\\\\n",
    "    5 & 6\n",
    "\\end{bmatrix}\\times\n",
    "\\begin{bmatrix}\n",
    "    2 \\\\\\\\\n",
    "    4\n",
    "\\end{bmatrix}=\\\\\\\\\n",
    "&\\begin{bmatrix}\n",
    "    1 \\times 2 + 2 \\times 4 \\\\\\\\\n",
    "    3 \\times 2 + 4 \\times 4 \\\\\\\\\n",
    "    5 \\times 2 + 6 \\times 4\n",
    "\\end{bmatrix}=\n",
    "\\begin{bmatrix}\n",
    "    10 \\\\\\\\\n",
    "    22 \\\\\\\\\n",
    "    34\n",
    "\\end{bmatrix}\n",
    "\\end{align*}\n",
    "$$\n",
    "\n",
    "To drive the point home, note the shapes of the matrices. We can see in this example that the shape of $\\bs{A}$ is ($3 \\times 2$) and the shape of $\\bs{b}$ is ($2 \\times 1$). So the shape of $\\bs{C}$ must be ($3 \\times 1$)."
   ]
  },
  {
   "cell_type": "markdown",
   "metadata": {
    "hideCode": false,
    "hidePrompt": false
   },
   "source": [
    "### The dot product with numpy\n",
    "The numpy function `dot()` can be used to compute the matrix product (or dot product). Let's reproduce the exemple above:"
   ]
  },
  {
   "cell_type": "code",
   "execution_count": 4,
   "metadata": {
    "hideCode": false,
    "hidePrompt": false
   },
   "outputs": [
    {
     "data": {
      "text/plain": [
       "array([[1, 2],\n",
       "       [3, 4],\n",
       "       [5, 6]])"
      ]
     },
     "execution_count": 4,
     "metadata": {},
     "output_type": "execute_result"
    }
   ],
   "source": [
    "A = np.array([[1, 2], [3, 4], [5, 6]])\n",
    "A"
   ]
  },
  {
   "cell_type": "code",
   "execution_count": 5,
   "metadata": {},
   "outputs": [
    {
     "data": {
      "text/plain": [
       "array([[2],\n",
       "       [4]])"
      ]
     },
     "execution_count": 5,
     "metadata": {},
     "output_type": "execute_result"
    }
   ],
   "source": [
    "B = np.array([[2], [4]])\n",
    "B"
   ]
  },
  {
   "cell_type": "code",
   "execution_count": 6,
   "metadata": {
    "hideCode": false,
    "hidePrompt": false
   },
   "outputs": [
    {
     "data": {
      "text/plain": [
       "array([[10],\n",
       "       [22],\n",
       "       [34]])"
      ]
     },
     "execution_count": 6,
     "metadata": {},
     "output_type": "execute_result"
    }
   ],
   "source": [
    "C = np.dot(A, B)\n",
    "C"
   ]
  },
  {
   "cell_type": "markdown",
   "metadata": {},
   "source": [
    "It is equivalent to use the method `dot()` of Numpy arrays:"
   ]
  },
  {
   "cell_type": "code",
   "execution_count": 7,
   "metadata": {},
   "outputs": [
    {
     "data": {
      "text/plain": [
       "array([[10],\n",
       "       [22],\n",
       "       [34]])"
      ]
     },
     "execution_count": 7,
     "metadata": {},
     "output_type": "execute_result"
    }
   ],
   "source": [
    "C = A.dot(B)\n",
    "C"
   ]
  },
  {
   "cell_type": "markdown",
   "metadata": {
    "hideCode": false,
    "hidePrompt": false
   },
   "source": [
    "## The dot product of two matrices.\n",
    "\n",
    "$$\\bs{A} \\times \\bs{B} = \\bs{C}$$\n",
    "\n",
    "with:\n",
    "\n",
    "$$\\bs{A}=\\begin{bmatrix}\n",
    "    1 & 2 & 3 \\\\\\\\\n",
    "    4 & 5 & 6 \\\\\\\\\n",
    "    7 & 8 & 9 \\\\\\\\\n",
    "    10 & 11 & 12\n",
    "\\end{bmatrix}\n",
    "$$\n",
    "\n",
    "and:\n",
    "\n",
    "$$\\bs{B}=\\begin{bmatrix}\n",
    "    2 & 7 \\\\\\\\\n",
    "    1 & 2 \\\\\\\\\n",
    "    3 & 6\n",
    "\\end{bmatrix}\n",
    "$$\n",
    "\n",
    "So we have:\n",
    "\n",
    "$$\n",
    "\\begin{align*}\n",
    "&\\begin{bmatrix}\n",
    "    1 & 2 & 3 \\\\\\\\\n",
    "    4 & 5 & 6 \\\\\\\\\n",
    "    7 & 8 & 9 \\\\\\\\\n",
    "    10 & 11 & 12\n",
    "\\end{bmatrix}\\times\n",
    "\\begin{bmatrix}\n",
    "    2 & 7 \\\\\\\\\n",
    "    1 & 2 \\\\\\\\\n",
    "    3 & 6\n",
    "\\end{bmatrix}=\\\\\\\\\n",
    "&\\begin{bmatrix}\n",
    "    2 \\times 1 + 1 \\times 2 + 3 \\times 3 & 7 \\times 1 + 2 \\times 2 + 6 \\times 3 \\\\\\\\\n",
    "    2 \\times 4 + 1 \\times 5 + 3 \\times 6 & 7 \\times 4 + 2 \\times 5 + 6 \\times 6 \\\\\\\\\n",
    "    2 \\times 7 + 1 \\times 8 + 3 \\times 9 & 7 \\times 7 + 2 \\times 8 + 6 \\times 9 \\\\\\\\\n",
    "    2 \\times 10 + 1 \\times 11 + 3 \\times 12 & 7 \\times 10 + 2 \\times 11 + 6 \\times 12 \\\\\\\\\n",
    "\\end{bmatrix}\\\\\\\\\n",
    "&=\n",
    "\\begin{bmatrix}\n",
    "    13 & 29 \\\\\\\\\n",
    "    31 & 74 \\\\\\\\\n",
    "    49 & 119 \\\\\\\\\n",
    "    67 & 164\n",
    "\\end{bmatrix}\n",
    "\\end{align*}\n",
    "$$\n",
    "\n",
    "Let's check the result with Numpy:"
   ]
  },
  {
   "cell_type": "code",
   "execution_count": 8,
   "metadata": {
    "hideCode": false,
    "hidePrompt": false
   },
   "outputs": [
    {
     "data": {
      "text/plain": [
       "array([[ 1,  2,  3],\n",
       "       [ 4,  5,  6],\n",
       "       [ 7,  8,  9],\n",
       "       [10, 11, 12]])"
      ]
     },
     "execution_count": 8,
     "metadata": {},
     "output_type": "execute_result"
    }
   ],
   "source": [
    "A = np.array([[1, 2, 3], [4, 5, 6], [7, 8, 9], [10, 11, 12]])\n",
    "A"
   ]
  },
  {
   "cell_type": "code",
   "execution_count": 9,
   "metadata": {},
   "outputs": [
    {
     "data": {
      "text/plain": [
       "array([[2, 7],\n",
       "       [1, 2],\n",
       "       [3, 6]])"
      ]
     },
     "execution_count": 9,
     "metadata": {},
     "output_type": "execute_result"
    }
   ],
   "source": [
    "B = np.array([[2, 7], [1, 2], [3, 6]])\n",
    "B"
   ]
  },
  {
   "cell_type": "code",
   "execution_count": 10,
   "metadata": {
    "hideCode": false,
    "hidePrompt": false
   },
   "outputs": [
    {
     "data": {
      "text/plain": [
       "array([[ 13,  29],\n",
       "       [ 31,  74],\n",
       "       [ 49, 119],\n",
       "       [ 67, 164]])"
      ]
     },
     "execution_count": 10,
     "metadata": {},
     "output_type": "execute_result"
    }
   ],
   "source": [
    "C = A.dot(B)\n",
    "C"
   ]
  },
  {
   "cell_type": "markdown",
   "metadata": {
    "hideCode": false,
    "hidePrompt": false
   },
   "source": [
    "## Formalization of the dot product\n",
    "Algebraically, the dot product is the sum of the products of the corresponding entries of two sequences of numbers.\n",
    "$$\n",
    "C_{i,j} = A_{i,k}B_{k,j} = \\sum_{k}A_{i,k}B_{k,j}\n",
    "$$\n",
    "\n",
    "At this point, your gut might be telling you that the dot product is a convoluted way to multiply two matrices. Your intuition for the best approach probably points toward simple element-wise multiplication (like we did with addition in the last lesson). \n",
    "\n",
    "To show you the value of the dot product, let's look at a real-life example of why we multiply matrices with the dot product method."
   ]
  },
  {
   "cell_type": "markdown",
   "metadata": {},
   "source": [
    "## Exercise:  Calculating Weekly Pie Sales with the Dot Product\n",
    "Say you own a pie shop and sell the following three types of pies:\n",
    " - Apple pies cost 3 dollars each\n",
    " - Cherry pies cost 4 dollars each\n",
    " - Blueberry pies cost 2 dollars each\n",
    "\n",
    "And this table tells you many you've sold in the past 4 days:\n",
    "\n",
    "<img src=\"images/pie_sales.png\">\n",
    "\n",
    "To calculate total sales for Monday, you'd do this:<br>\n",
    ">Apple pie value + Cherry pie value + Blueberry pie value<br>\n",
    ">or, mathematically...<br>\n",
    ">$3 \\times 13 + 4 \\times 8 + 2 \\times 6 = 83$\n",
    "\n",
    "By matching each price to each quantity, multiplying, and then summing all of the results, we can get our total sales. That process is actually the dot product!\n",
    "\n",
    "To prove this, create in the cell below a vector $\\bs{p}$ and a matrix $\\bs{S}$ containing the prices and sales data, respectively. Then, use numpy to calculate the dot product and determine total pie sales for each day. Finally, sum those daily sales to get the total sales."
   ]
  },
  {
   "cell_type": "code",
   "execution_count": 15,
   "metadata": {},
   "outputs": [],
   "source": [
    "# Your code here!!!\n",
    "\n",
    "\n"
   ]
  },
  {
   "cell_type": "markdown",
   "metadata": {
    "hideCode": false,
    "hidePrompt": false
   },
   "source": [
    "# Properties of the dot product\n",
    "\n",
    "We will now see some interesting properties that arise from matrix multiplication. Knowing - or at least accepting - these properties will be useful in coming chapters.\n",
    "\n",
    "## Matrix mutliplication is distributive\n",
    "\n",
    "$$\\bs{A}(\\bs{B}+\\bs{C}) = \\bs{AB}+\\bs{AC}$$\n",
    "\n",
    "### Example\n",
    "\n",
    "$$\n",
    "\\bs{A}=\\begin{bmatrix}\n",
    "    2 & 3 \\\\\\\\\n",
    "    1 & 4 \\\\\\\\\n",
    "    7 & 6\n",
    "\\end{bmatrix}, \n",
    "\\bs{B}=\\begin{bmatrix}\n",
    "    5 \\\\\\\\\n",
    "    2\n",
    "\\end{bmatrix}, \n",
    "\\bs{C}=\\begin{bmatrix}\n",
    "    4 \\\\\\\\\n",
    "    3\n",
    "\\end{bmatrix}\n",
    "$$\n",
    "\n",
    "\n",
    "$$\n",
    "\\begin{align*}\n",
    "\\bs{A}(\\bs{B}+\\bs{C})&=\\begin{bmatrix}\n",
    "    2 & 3 \\\\\\\\\n",
    "    1 & 4 \\\\\\\\\n",
    "    7 & 6\n",
    "\\end{bmatrix}\\times\n",
    "\\left(\\begin{bmatrix}\n",
    "    5 \\\\\\\\\n",
    "    2\n",
    "\\end{bmatrix}+\n",
    "\\begin{bmatrix}\n",
    "    4 \\\\\\\\\n",
    "    3\n",
    "\\end{bmatrix}\\right)=\n",
    "\\begin{bmatrix}\n",
    "    2 & 3 \\\\\\\\\n",
    "    1 & 4 \\\\\\\\\n",
    "    7 & 6\n",
    "\\end{bmatrix}\\times\n",
    "\\begin{bmatrix}\n",
    "    9 \\\\\\\\\n",
    "    5\n",
    "\\end{bmatrix}\\\\\\\\\n",
    "&=\n",
    "\\begin{bmatrix}\n",
    "    2 \\times 9 + 3 \\times 5 \\\\\\\\\n",
    "    1 \\times 9 + 4 \\times 5 \\\\\\\\\n",
    "    7 \\times 9 + 6 \\times 5\n",
    "\\end{bmatrix}=\n",
    "\\begin{bmatrix}\n",
    "    33 \\\\\\\\\n",
    "    29 \\\\\\\\\n",
    "    93\n",
    "\\end{bmatrix}\n",
    "\\end{align*}\n",
    "$$\n",
    "\n",
    "is equivalent to\n",
    "\n",
    "$$\n",
    "\\begin{align*}\n",
    "\\bs{A}\\bs{B}+\\bs{A}\\bs{C} &= \\begin{bmatrix}\n",
    "    2 & 3 \\\\\\\\\n",
    "    1 & 4 \\\\\\\\\n",
    "    7 & 6\n",
    "\\end{bmatrix}\\times\n",
    "\\begin{bmatrix}\n",
    "    5 \\\\\\\\\n",
    "    2\n",
    "\\end{bmatrix}+\n",
    "\\begin{bmatrix}\n",
    "    2 & 3 \\\\\\\\\n",
    "    1 & 4 \\\\\\\\\n",
    "    7 & 6\n",
    "\\end{bmatrix}\\times\n",
    "\\begin{bmatrix}\n",
    "    4 \\\\\\\\\n",
    "    3\n",
    "\\end{bmatrix}\\\\\\\\\n",
    "&=\n",
    "\\begin{bmatrix}\n",
    "    2 \\times 5 + 3 \\times 2 \\\\\\\\\n",
    "    1 \\times 5 + 4 \\times 2 \\\\\\\\\n",
    "    7 \\times 5 + 6 \\times 2\n",
    "\\end{bmatrix}+\n",
    "\\begin{bmatrix}\n",
    "    2 \\times 4 + 3 \\times 3 \\\\\\\\\n",
    "    1 \\times 4 + 4 \\times 3 \\\\\\\\\n",
    "    7 \\times 4 + 6 \\times 3\n",
    "\\end{bmatrix}\\\\\\\\\n",
    "&=\n",
    "\\begin{bmatrix}\n",
    "    16 \\\\\\\\\n",
    "    13 \\\\\\\\\n",
    "    47\n",
    "\\end{bmatrix}+\n",
    "\\begin{bmatrix}\n",
    "    17 \\\\\\\\\n",
    "    16 \\\\\\\\\n",
    "    46\n",
    "\\end{bmatrix}=\n",
    "\\begin{bmatrix}\n",
    "    33 \\\\\\\\\n",
    "    29 \\\\\\\\\n",
    "    93\n",
    "\\end{bmatrix}\n",
    "\\end{align*}\n",
    "$$"
   ]
  },
  {
   "cell_type": "code",
   "execution_count": 13,
   "metadata": {
    "hideCode": false,
    "hidePrompt": false
   },
   "outputs": [
    {
     "data": {
      "text/plain": [
       "array([[2, 3],\n",
       "       [1, 4],\n",
       "       [7, 6]])"
      ]
     },
     "execution_count": 13,
     "metadata": {},
     "output_type": "execute_result"
    }
   ],
   "source": [
    "A = np.array([[2, 3], [1, 4], [7, 6]])\n",
    "A"
   ]
  },
  {
   "cell_type": "code",
   "execution_count": 14,
   "metadata": {},
   "outputs": [
    {
     "data": {
      "text/plain": [
       "array([[5],\n",
       "       [2]])"
      ]
     },
     "execution_count": 14,
     "metadata": {},
     "output_type": "execute_result"
    }
   ],
   "source": [
    "B = np.array([[5], [2]])\n",
    "B"
   ]
  },
  {
   "cell_type": "code",
   "execution_count": 15,
   "metadata": {
    "hideCode": false,
    "hidePrompt": false
   },
   "outputs": [
    {
     "data": {
      "text/plain": [
       "array([[4],\n",
       "       [3]])"
      ]
     },
     "execution_count": 15,
     "metadata": {},
     "output_type": "execute_result"
    }
   ],
   "source": [
    "C = np.array([[4], [3]])\n",
    "C"
   ]
  },
  {
   "cell_type": "markdown",
   "metadata": {},
   "source": [
    "$\\bs{A}(\\bs{B}+\\bs{C})$:"
   ]
  },
  {
   "cell_type": "code",
   "execution_count": 16,
   "metadata": {
    "hideCode": false,
    "hidePrompt": false
   },
   "outputs": [
    {
     "data": {
      "text/plain": [
       "array([[33],\n",
       "       [29],\n",
       "       [93]])"
      ]
     },
     "execution_count": 16,
     "metadata": {},
     "output_type": "execute_result"
    }
   ],
   "source": [
    "D = A.dot(B+C)\n",
    "D"
   ]
  },
  {
   "cell_type": "markdown",
   "metadata": {},
   "source": [
    "is equivalent to $\\bs{AB}+\\bs{AC}$:"
   ]
  },
  {
   "cell_type": "code",
   "execution_count": 17,
   "metadata": {
    "hideCode": false,
    "hidePrompt": false
   },
   "outputs": [
    {
     "data": {
      "text/plain": [
       "array([[33],\n",
       "       [29],\n",
       "       [93]])"
      ]
     },
     "execution_count": 17,
     "metadata": {},
     "output_type": "execute_result"
    }
   ],
   "source": [
    "D = A.dot(B) + A.dot(C)\n",
    "D"
   ]
  },
  {
   "cell_type": "markdown",
   "metadata": {
    "hideCode": false,
    "hidePrompt": false
   },
   "source": [
    "## Matrix mutliplication is associative\n",
    "\n",
    "$$\\bs{A}(\\bs{BC}) = (\\bs{AB})\\bs{C}$$\n"
   ]
  },
  {
   "cell_type": "code",
   "execution_count": 18,
   "metadata": {
    "hideCode": false,
    "hidePrompt": false
   },
   "outputs": [
    {
     "data": {
      "text/plain": [
       "array([[2, 3],\n",
       "       [1, 4],\n",
       "       [7, 6]])"
      ]
     },
     "execution_count": 18,
     "metadata": {},
     "output_type": "execute_result"
    }
   ],
   "source": [
    "A = np.array([[2, 3], [1, 4], [7, 6]])\n",
    "A"
   ]
  },
  {
   "cell_type": "code",
   "execution_count": 19,
   "metadata": {},
   "outputs": [
    {
     "data": {
      "text/plain": [
       "array([[5, 3],\n",
       "       [2, 2]])"
      ]
     },
     "execution_count": 19,
     "metadata": {},
     "output_type": "execute_result"
    }
   ],
   "source": [
    "B = np.array([[5, 3], [2, 2]])\n",
    "B"
   ]
  },
  {
   "cell_type": "markdown",
   "metadata": {},
   "source": [
    "$\\bs{A}(\\bs{BC})$:\n"
   ]
  },
  {
   "cell_type": "code",
   "execution_count": 20,
   "metadata": {
    "hideCode": false,
    "hidePrompt": false
   },
   "outputs": [
    {
     "data": {
      "text/plain": [
       "array([[100],\n",
       "       [ 85],\n",
       "       [287]])"
      ]
     },
     "execution_count": 20,
     "metadata": {},
     "output_type": "execute_result"
    }
   ],
   "source": [
    "D = A.dot(B.dot(C))\n",
    "D"
   ]
  },
  {
   "cell_type": "markdown",
   "metadata": {},
   "source": [
    "is equivalent to $(\\bs{AB})\\bs{C}$:"
   ]
  },
  {
   "cell_type": "code",
   "execution_count": 21,
   "metadata": {
    "hideCode": false,
    "hidePrompt": false
   },
   "outputs": [
    {
     "data": {
      "text/plain": [
       "array([[100],\n",
       "       [ 85],\n",
       "       [287]])"
      ]
     },
     "execution_count": 21,
     "metadata": {},
     "output_type": "execute_result"
    }
   ],
   "source": [
    "D = (A.dot(B)).dot(C)\n",
    "D"
   ]
  },
  {
   "cell_type": "markdown",
   "metadata": {
    "hideCode": false,
    "hidePrompt": false
   },
   "source": [
    "## But matrix multiplication is not necessarily* commutative\n",
    "\n",
    "$$\\bs{AB} \\neq \\bs{BA}$$\n",
    "\n",
    "*<sub>An exception is when one matrix is the Identity Matrix. We'll learn about this in a later lesson.<sub>"
   ]
  },
  {
   "cell_type": "code",
   "execution_count": 22,
   "metadata": {
    "hideCode": false,
    "hidePrompt": false
   },
   "outputs": [
    {
     "data": {
      "text/plain": [
       "array([[2, 3],\n",
       "       [6, 5]])"
      ]
     },
     "execution_count": 22,
     "metadata": {},
     "output_type": "execute_result"
    }
   ],
   "source": [
    "A = np.array([[2, 3], [6, 5]])\n",
    "A"
   ]
  },
  {
   "cell_type": "code",
   "execution_count": 23,
   "metadata": {},
   "outputs": [
    {
     "data": {
      "text/plain": [
       "array([[5, 3],\n",
       "       [2, 2]])"
      ]
     },
     "execution_count": 23,
     "metadata": {},
     "output_type": "execute_result"
    }
   ],
   "source": [
    "B = np.array([[5, 3], [2, 2]])\n",
    "B"
   ]
  },
  {
   "cell_type": "markdown",
   "metadata": {},
   "source": [
    "$\\bs{AB}$:"
   ]
  },
  {
   "cell_type": "code",
   "execution_count": 24,
   "metadata": {
    "hideCode": false,
    "hidePrompt": false
   },
   "outputs": [
    {
     "data": {
      "text/plain": [
       "array([[16, 12],\n",
       "       [40, 28]])"
      ]
     },
     "execution_count": 24,
     "metadata": {},
     "output_type": "execute_result"
    }
   ],
   "source": [
    "AB = np.dot(A, B)\n",
    "AB"
   ]
  },
  {
   "cell_type": "markdown",
   "metadata": {},
   "source": [
    "is different from $\\bs{BA}$:"
   ]
  },
  {
   "cell_type": "code",
   "execution_count": 25,
   "metadata": {
    "hideCode": false,
    "hidePrompt": false
   },
   "outputs": [
    {
     "data": {
      "text/plain": [
       "array([[28, 30],\n",
       "       [16, 16]])"
      ]
     },
     "execution_count": 25,
     "metadata": {},
     "output_type": "execute_result"
    }
   ],
   "source": [
    "BA = np.dot(B, A)\n",
    "BA"
   ]
  },
  {
   "cell_type": "markdown",
   "metadata": {
    "hideCode": false,
    "hidePrompt": false
   },
   "source": [
    "## However vector multiplication is commutative\n",
    "\n",
    "$$\\bs{x^{ \\text{T}}y} = \\bs{y^{\\text{T}}x} $$"
   ]
  },
  {
   "cell_type": "code",
   "execution_count": 32,
   "metadata": {
    "hideCode": false,
    "hidePrompt": false
   },
   "outputs": [
    {
     "data": {
      "text/plain": [
       "array([[2],\n",
       "       [6]])"
      ]
     },
     "execution_count": 32,
     "metadata": {},
     "output_type": "execute_result"
    }
   ],
   "source": [
    "x = np.array([[2], [6]])\n",
    "x"
   ]
  },
  {
   "cell_type": "code",
   "execution_count": 27,
   "metadata": {},
   "outputs": [
    {
     "data": {
      "text/plain": [
       "array([[5],\n",
       "       [2]])"
      ]
     },
     "execution_count": 27,
     "metadata": {},
     "output_type": "execute_result"
    }
   ],
   "source": [
    "y = np.array([[5], [2]])\n",
    "y"
   ]
  },
  {
   "cell_type": "markdown",
   "metadata": {},
   "source": [
    "$\\bs{x^\\text{T}y}$:"
   ]
  },
  {
   "cell_type": "code",
   "execution_count": 28,
   "metadata": {
    "hideCode": false,
    "hidePrompt": false
   },
   "outputs": [
    {
     "data": {
      "text/plain": [
       "array([[22]])"
      ]
     },
     "execution_count": 28,
     "metadata": {},
     "output_type": "execute_result"
    }
   ],
   "source": [
    "x_ty = x.T.dot(y)\n",
    "x_ty"
   ]
  },
  {
   "cell_type": "markdown",
   "metadata": {},
   "source": [
    "is equivalent to $\\bs{y^\\text{T}x}$:"
   ]
  },
  {
   "cell_type": "code",
   "execution_count": 29,
   "metadata": {
    "hideCode": false,
    "hidePrompt": false
   },
   "outputs": [
    {
     "data": {
      "text/plain": [
       "array([[22]])"
      ]
     },
     "execution_count": 29,
     "metadata": {},
     "output_type": "execute_result"
    }
   ],
   "source": [
    "y_tx = y.T.dot(x)\n",
    "y_tx"
   ]
  },
  {
   "cell_type": "markdown",
   "metadata": {
    "hideCode": false,
    "hidePrompt": false
   },
   "source": [
    "## Exercise\n",
    "Use numpy to show that\n",
    "\n",
    "$$(\\bs{AB})^{\\text{T}} = \\bs{B}^\\text{T}\\bs{A}^\\text{T}$$\n",
    "\n",
    "$\\bs{A}$ and $\\bs{B}$ are defined for you below."
   ]
  },
  {
   "cell_type": "code",
   "execution_count": 34,
   "metadata": {
    "hideCode": false,
    "hidePrompt": false
   },
   "outputs": [
    {
     "data": {
      "text/plain": [
       "array([[2, 3],\n",
       "       [1, 4],\n",
       "       [7, 6]])"
      ]
     },
     "execution_count": 34,
     "metadata": {},
     "output_type": "execute_result"
    }
   ],
   "source": [
    "A = np.array([[2, 3], [1, 4], [7, 6]])\n",
    "A"
   ]
  },
  {
   "cell_type": "code",
   "execution_count": 35,
   "metadata": {},
   "outputs": [
    {
     "data": {
      "text/plain": [
       "array([[5, 3],\n",
       "       [2, 2]])"
      ]
     },
     "execution_count": 35,
     "metadata": {},
     "output_type": "execute_result"
    }
   ],
   "source": [
    "B = np.array([[5, 3], [2, 2]])\n",
    "B"
   ]
  },
  {
   "cell_type": "markdown",
   "metadata": {
    "hideCode": false,
    "hidePrompt": false
   },
   "source": [
    "$(\\bs{AB})^{\\text{T}}$:"
   ]
  },
  {
   "cell_type": "code",
   "execution_count": 36,
   "metadata": {
    "hideCode": false,
    "hidePrompt": false
   },
   "outputs": [
    {
     "ename": "SyntaxError",
     "evalue": "invalid syntax (<ipython-input-36-1032b3c0e167>, line 2)",
     "output_type": "error",
     "traceback": [
      "\u001b[0;36m  File \u001b[0;32m\"<ipython-input-36-1032b3c0e167>\"\u001b[0;36m, line \u001b[0;32m2\u001b[0m\n\u001b[0;31m    AB_t =\u001b[0m\n\u001b[0m           ^\u001b[0m\n\u001b[0;31mSyntaxError\u001b[0m\u001b[0;31m:\u001b[0m invalid syntax\n"
     ]
    }
   ],
   "source": [
    "# Complete the code below\n",
    "AB_t = \n",
    "AB_t"
   ]
  },
  {
   "cell_type": "markdown",
   "metadata": {
    "hideCode": false,
    "hidePrompt": false
   },
   "source": [
    "$\\bs{B}^\\text{T}\\bs{A}^\\text{T}$:"
   ]
  },
  {
   "cell_type": "code",
   "execution_count": 37,
   "metadata": {
    "hideCode": false,
    "hidePrompt": false,
    "scrolled": true
   },
   "outputs": [
    {
     "ename": "SyntaxError",
     "evalue": "invalid syntax (<ipython-input-37-9c7737eb3719>, line 2)",
     "output_type": "error",
     "traceback": [
      "\u001b[0;36m  File \u001b[0;32m\"<ipython-input-37-9c7737eb3719>\"\u001b[0;36m, line \u001b[0;32m2\u001b[0m\n\u001b[0;31m    B_tA =\u001b[0m\n\u001b[0m           ^\u001b[0m\n\u001b[0;31mSyntaxError\u001b[0m\u001b[0;31m:\u001b[0m invalid syntax\n"
     ]
    }
   ],
   "source": [
    "# Complete the code below\n",
    "B_tA = \n",
    "B_tA"
   ]
  },
  {
   "cell_type": "markdown",
   "metadata": {
    "hideCode": false,
    "hidePrompt": false
   },
   "source": [
    "# Representing a System of Linear Equations\n",
    "Matrices and the dot product can be used to represent a system of linear equations; and linear algebra can be applied to these matrices to solve the system of linear equations. This fact is part of the reason why linear algebra has so many applications to machine learning.\n",
    "\n",
    "In case your high school algebra is rusty - mine sure is! - a [linear equation](https://en.wikipedia.org/wiki/Linear_equation#Matrix_form) is an algebraic equation in which each term is either a constant or the product of a constant and (the first power of) a single variable (however, different variables may occur in different terms).\n",
    "\n",
    "A [system of linear equations](https://en.wikipedia.org/wiki/System_of_linear_equations) (also called a linear system) is a collection of two or more linear equations involving the same set of variables. For example,\n",
    "\n",
    "$$\n",
    "\\begin{cases}\n",
    "y = -\\frac{1}{2}x + 6 \\\\\\\\\n",
    "y = -\\frac{3}{4}x + \\frac{13}{2}\n",
    "\\end{cases}\n",
    "$$\n",
    "\n",
    "A solution to a linear system is an assignment of values to the variables such that all of the equations are simultaneously satisfied. Above, the solutions are $x = 2$ and $y=5$.\n",
    "\n",
    "Matrices can be used to describe a system of linear equations. But first, we need to [rewrite](https://www.khanacademy.org/math/algebra/two-var-linear-equations/standard-form/v/converting-from-slope-intercept-to-standard-form) those equations in [general (or standard) form](https://en.wikipedia.org/wiki/Linear_equation#Forms_for_two-dimensional_linear_equations). Doing that, we get:\n",
    "\n",
    "$$\n",
    "\\begin{cases}\n",
    "x + 2y = 12 \\\\\\\\\n",
    "3x + 4y = 26\n",
    "\\end{cases}\n",
    "$$\n",
    "\n",
    "Once an equation is in standard form, i.e.:\n",
    "\n",
    "$$Ax + By = C$$\n",
    "\n",
    "it can be slightly rewritten using notation more amenable to matrices:\n",
    "\n",
    "$$A_{1,1}x_{1} + A_{1,2}x_{2} = b_{1}$$\n",
    "\n",
    "Note how the $B$ was replaced by $A_{1,2}$, the $y$ was replaced by $x_2$, and the $C$ was replaced by $b_1$. We did this in order to keep with matrix notation:  the $A$'s remained uppercase to denote that they'll belong to a matrix while the $x$'s and $b$ were left lowercase to denote that they'll belong to a vector. You can see that here, where we go from standard form to matrix form:\n",
    "$$\\begin{pmatrix} A_{1,1}&A_{1,2} \\end{pmatrix}\\begin{pmatrix}x_{1}\\\\x_{2}\\end{pmatrix} = \\begin{pmatrix}b_{1}\\end{pmatrix}.$$\n",
    "\n",
    "But since we have a system of two linear equations, standard form would actually look like this:\n",
    "\n",
    "$$A_{1,1}x_{1} + A_{1,2}x_{2} = b_1$$\n",
    "$$A_{2,1}x_{1} + A_{2,2}x_{2} = b_2$$\n",
    "\n",
    "and so the matrix representation becomes:\n",
    "\n",
    "$$\\begin{pmatrix}\n",
    "A_{1,1} & A_{1,2}\\\\\n",
    "A_{2,1} & A_{2,2}\n",
    "\\end{pmatrix}\n",
    "\\begin{pmatrix}\n",
    "x_1\\\\x_2\n",
    "\\end{pmatrix} = \n",
    "\\begin{pmatrix}\n",
    "b_1\\\\\n",
    "b_2\n",
    "\\end{pmatrix}.$$\n",
    "\n",
    "Plugging in the numbers from our linear system, we get:\n",
    "\n",
    "$$\\begin{pmatrix}\n",
    "1 & 2\\\\\n",
    "3 & 4\n",
    "\\end{pmatrix}\n",
    "\\begin{pmatrix}\n",
    "x_1\\\\x_2\n",
    "\\end{pmatrix} = \n",
    "\\begin{pmatrix}\n",
    "12\\\\\n",
    "26\n",
    "\\end{pmatrix}.$$\n",
    "\n",
    "And then here's the magic! It's the **dot product** of the two leftmost terms, which we'll call $\\bs{A}$ and $\\bs{x}$, that gives us the original set of equations in standard form:\n",
    "\n",
    "<img src=\"images/system-linear-equations-matrix-form.png\" width=\"400\" alt=\"Matrix form of a system of linear equation\" title=\"Matrix form of a system of linear equation\">\n",
    "<em>Matrix form of a system of linear equations</em>\n",
    "\n",
    "What's great about this notation is that it can be extended indefinitely for any number of equations with any number of variables. \n",
    "\n",
    "First, you have matrix $\\bs{A}$, which is the leftmost matrix in the image above. What is matrix $\\bs{A}$? It contains the *weights* for each variable (that's why there are $n$ columns) and each equation (that's why there are $m$ rows):\n",
    "\n",
    "$$\n",
    "\\bs{A}=\n",
    "\\begin{bmatrix}\n",
    "    A_{1,1} & A_{1,2} & \\cdots & A_{1,n} \\\\\\\\\n",
    "    A_{2,1} & A_{2,2} & \\cdots & A_{2,n} \\\\\\\\\n",
    "    \\cdots & \\cdots & \\cdots & \\cdots \\\\\\\\\n",
    "    A_{m,1} & A_{m,2} & \\cdots & A_{m,n}\n",
    "\\end{bmatrix}\n",
    "$$\n",
    "\n",
    "And then there's vector $\\bs{x}$. It simply contains all of the $n$ unknown variables.\n",
    "\n",
    "$$\n",
    "\\bs{x}=\n",
    "\\begin{bmatrix}\n",
    "    x_1 \\\\\\\\\n",
    "    x_2 \\\\\\\\\n",
    "    \\cdots \\\\\\\\\n",
    "    x_n\n",
    "\\end{bmatrix}\n",
    "$$\n",
    "\n",
    "The whole system of equations can be therefore  be written like this:\n",
    "\n",
    "$$\n",
    "\\begin{bmatrix}\n",
    "    A_{1,1} & A_{1,2} & \\cdots & A_{1,n} \\\\\\\\\n",
    "    A_{2,1} & A_{2,2} & \\cdots & A_{2,n} \\\\\\\\\n",
    "    \\cdots & \\cdots & \\cdots & \\cdots \\\\\\\\\n",
    "    A_{m,1} & A_{m,2} & \\cdots & A_{m,n}\n",
    "\\end{bmatrix}\n",
    "\\times\n",
    "\\begin{bmatrix}\n",
    "    x_1 \\\\\\\\\n",
    "    x_2 \\\\\\\\\n",
    "    \\cdots \\\\\\\\\n",
    "    x_n\n",
    "\\end{bmatrix}\n",
    "=\n",
    "\\begin{bmatrix}\n",
    "    b_1 \\\\\\\\\n",
    "    b_2 \\\\\\\\\n",
    "    \\cdots \\\\\\\\\n",
    "    b_m\n",
    "\\end{bmatrix}\n",
    "$$\n",
    "\n",
    "Or more simply:\n",
    "\n",
    "$$\\bs{Ax}=\\bs{b}$$\n",
    "\n",
    "Just remember that $\\bs{A}$ is a matrix and $\\bs{b}$ and $\\bs{x}$ are vectors! And more importantly, note that $\\bs{Ax}$ signifies the dot product operation."
   ]
  },
  {
   "cell_type": "markdown",
   "metadata": {},
   "source": [
    "> If you're curious about solving systems of linear equations, there are several named methods, like [Gauss-Jordan](https://en.wikipedia.org/wiki/Gaussian_elimination) elimination, which can be expressed algorithmically as matrix elementary row operations. You could also check out this [module in the sympy package](http://docs.sympy.org/dev/modules/solvers/solveset.html#sympy.solvers.solveset.linsolve)."
   ]
  },
  {
   "cell_type": "markdown",
   "metadata": {},
   "source": [
    "# What's next?\n",
    "Next we will see two important matrices: the identity matrix and the inverse matrix. We will see why they are important in linear algebra and how to use them with numpy. Finally, we will see an example on how to solve a system of linear equations with the inverse matrix."
   ]
  },
  {
   "cell_type": "markdown",
   "metadata": {},
   "source": [
    "# References\n",
    "\n",
    "- [Math is fun - Multiplying matrices](https://www.mathsisfun.com/algebra/matrix-multiplying.html)"
   ]
  }
 ],
 "metadata": {
  "hide_code_all_hidden": false,
  "kernelspec": {
   "display_name": "Python 3",
   "language": "python",
   "name": "python3"
  },
  "language_info": {
   "codemirror_mode": {
    "name": "ipython",
    "version": 3
   },
   "file_extension": ".py",
   "mimetype": "text/x-python",
   "name": "python",
   "nbconvert_exporter": "python",
   "pygments_lexer": "ipython3",
   "version": "3.6.4"
  }
 },
 "nbformat": 4,
 "nbformat_minor": 2
}
