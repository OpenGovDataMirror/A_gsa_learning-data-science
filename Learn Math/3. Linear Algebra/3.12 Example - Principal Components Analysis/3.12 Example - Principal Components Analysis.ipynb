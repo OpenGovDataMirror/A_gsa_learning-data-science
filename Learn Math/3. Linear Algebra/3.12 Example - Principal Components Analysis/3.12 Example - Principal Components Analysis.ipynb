{
 "cells": [
  {
   "cell_type": "code",
   "execution_count": 1,
   "metadata": {
    "scrolled": false
   },
   "outputs": [],
   "source": [
    "import numpy as np\n",
    "import matplotlib.pyplot as plt\n",
    "import seaborn as sns"
   ]
  },
  {
   "cell_type": "code",
   "execution_count": 2,
   "metadata": {},
   "outputs": [
    {
     "name": "stdout",
     "output_type": "stream",
     "text": [
      "Populating the interactive namespace from numpy and matplotlib\n"
     ]
    }
   ],
   "source": [
    "# Plot style\n",
    "sns.set()\n",
    "%pylab inline\n",
    "pylab.rcParams['figure.figsize'] = (4, 4)"
   ]
  },
  {
   "cell_type": "code",
   "execution_count": 3,
   "metadata": {},
   "outputs": [
    {
     "data": {
      "text/html": [
       "<style>\n",
       ".pquote {\n",
       "  text-align: left;\n",
       "  margin: 40px 0 40px auto;\n",
       "  width: 70%;\n",
       "  font-size: 1.5em;\n",
       "  font-style: italic;\n",
       "  display: block;\n",
       "  line-height: 1.3em;\n",
       "  color: #5a75a7;\n",
       "  font-weight: 600;\n",
       "  border-left: 5px solid rgba(90, 117, 167, .1);\n",
       "  padding-left: 6px;\n",
       "}\n",
       ".notes {\n",
       "  font-style: italic;\n",
       "  display: block;\n",
       "  margin: 40px 10%;\n",
       "}\n",
       "img + em {\n",
       "  text-align: center;\n",
       "  display: block;\n",
       "  color: gray;\n",
       "  font-size: 0.9em;\n",
       "  font-weight: 600;\n",
       "}\n",
       "</style>"
      ],
      "text/plain": [
       "<IPython.core.display.HTML object>"
      ]
     },
     "metadata": {},
     "output_type": "display_data"
    }
   ],
   "source": [
    "%%html\n",
    "<style>\n",
    ".pquote {\n",
    "  text-align: left;\n",
    "  margin: 40px 0 40px auto;\n",
    "  width: 70%;\n",
    "  font-size: 1.5em;\n",
    "  font-style: italic;\n",
    "  display: block;\n",
    "  line-height: 1.3em;\n",
    "  color: #5a75a7;\n",
    "  font-weight: 600;\n",
    "  border-left: 5px solid rgba(90, 117, 167, .1);\n",
    "  padding-left: 6px;\n",
    "}\n",
    ".notes {\n",
    "  font-style: italic;\n",
    "  display: block;\n",
    "  margin: 40px 10%;\n",
    "}\n",
    "img + em {\n",
    "  text-align: center;\n",
    "  display: block;\n",
    "  color: gray;\n",
    "  font-size: 0.9em;\n",
    "  font-weight: 600;\n",
    "}\n",
    "</style>"
   ]
  },
  {
   "cell_type": "code",
   "execution_count": 4,
   "metadata": {},
   "outputs": [],
   "source": [
    "def plotVectors(vecs, cols, alpha=1):\n",
    "    \"\"\"\n",
    "    Plot set of vectors.\n",
    "\n",
    "    Parameters\n",
    "    ----------\n",
    "    vecs : array-like\n",
    "        Coordinates of the vectors to plot. Each vectors is in an array. For\n",
    "        instance: [[1, 3], [2, 2]] can be used to plot 2 vectors.\n",
    "    cols : array-like\n",
    "        Colors of the vectors. For instance: ['red', 'blue'] will display the\n",
    "        first vector in red and the second in blue.\n",
    "    alpha : float\n",
    "        Opacity of vectors\n",
    "\n",
    "    Returns:\n",
    "\n",
    "    fig : instance of matplotlib.figure.Figure\n",
    "        The figure of the vectors\n",
    "    \"\"\"\n",
    "    plt.axvline(x=0, color='#A9A9A9', zorder=0)\n",
    "    plt.axhline(y=0, color='#A9A9A9', zorder=0)\n",
    "\n",
    "    for i in range(len(vecs)):\n",
    "        if (isinstance(alpha, list)):\n",
    "            alpha_i = alpha[i]\n",
    "        else:\n",
    "            alpha_i = alpha\n",
    "        x = np.concatenate([[0,0],vecs[i]])\n",
    "        plt.quiver([x[0]],\n",
    "                   [x[1]],\n",
    "                   [x[2]],\n",
    "                   [x[3]],\n",
    "                   angles='xy', scale_units='xy', scale=1, color=cols[i],\n",
    "                  alpha=alpha_i)"
   ]
  },
  {
   "cell_type": "markdown",
   "metadata": {},
   "source": [
    "$$\n",
    "\\newcommand\\norm[1]{\\left\\lVert#1\\right\\rVert} \n",
    "\\DeclareMathOperator{\\Tr}{Tr}\n",
    "\\newcommand\\bs[1]{\\boldsymbol{#1}}\n",
    "\\newcommand\\argmin[1]{\\underset{\\bs{#1}}{\\arg\\min}}\n",
    "\\newcommand\\argmax[1]{\\underset{\\bs{#1}}{\\arg\\max}}\n",
    "$$"
   ]
  },
  {
   "cell_type": "markdown",
   "metadata": {},
   "source": [
    "# Introduction\n",
    "\n",
    "In this final chapter, we'll put together everything we've learning about linear algebra through an application of  Principal Components Analysis."
   ]
  },
  {
   "cell_type": "markdown",
   "metadata": {},
   "source": [
    "# 3.12 Principal Components Analysis\n"
   ]
  },
  {
   "cell_type": "markdown",
   "metadata": {
    "collapsed": true
   },
   "source": [
    "**Dimensions** are a crucial topic in data science. The dimensions of a dataset are all of the features (aka variables) of the dataset. For instance, take a look at the [iris dataset](http://scikit-learn.org/stable/auto_examples/datasets/plot_iris_dataset.html), a common classification challenge for machine learning models:\n",
    "\n",
    "<img src=\"images/iris.jpg\">\n",
    "<em> The famed iris dataset </em>\n",
    "\n",
    "In this dataset, the rows are the samples (i.e. individual flowers) and the columns are:\n",
    " - Sepal Length\n",
    " - Sepal Width\n",
    " - Petal Length\n",
    " - Petal Width\n",
    " - Species\n",
    "\n",
    "Since the object is to predict the species, Sepal Length, Sepal Width, Petal Length and Petal Width are all dimensions. With so few features, it is easy to plot a couple at a time to visualize a potential relationship:\n",
    "\n",
    "<img src=\"images/sphx_glr_plot_iris_dataset_002.png\" width = 450 height = 450 >\n",
    "<em> Sepal Length plotted against Sepal Width </em>\n",
    "\n",
    "But sometimes your dataset has a lot of dimensions - hundreds and maybe even thousands. This can be a problem for reasons that have been summed up as the [curse of dimensionality](https://en.wikipedia.org/wiki/Curse_of_dimensionality). The gist of the curse is that not every sample will possess a value for every dimension when you have hundreds or thousands of dimensions. Such sparsity is problematic for any method that requires statistical significance; it can also obfuscate meaningful patterns that would otherwise be easy to detect. \n",
    "\n",
    "The natural solution to the curse of dimensionality is to reduce the number of dimensions in your dataset. But which dimensions should you drop? With hundreds or thousdands of dimensions, it's likely that some of the dimensions will be correlated with one another. When that's the case, they're not really adding anything new information-wise. So the right approach might be dropping dimensions that are highly correlated with others. But the problem here is that you might be losing potentially good information with every dimension you drop, especially when you consider the fact that out-of-sample observtions might be well-explained by these dimensions. Thus your dilemma is to find a way to reduce your dimensionality without losing all of the information present in the dataset as-is.\n",
    "\n",
    "Enter principal components analysis (PCA). The aim of PCA is to reduce the number of dimensions of a dataset by providing us with a new set of dimensions - called the principal components (PC). These PCs are ordered, with the first PC explaining the largest amount of variance among the original set of dimensions. In addition, each PC is *orthogonal* to the preceding one. Remember that orthogonal vectors possess the property that their dot product is equal to $0$. A handy way to remember/visualize this is to note that the dictionary definition of orthogonal means \"of or involving right angles; at right angles.\" Visually, you can see that these unit vectors are an example of orthogonal vectors:\n",
    "\n",
    "<img src=\"images/orthogonal-vectors.png\" width=\"200\" alt=\"Example of orthogonal vectors\" title=\"Orthogonal vectors\">\n",
    "<em>Orthogonal vectors</em>\n",
    "\n",
    "\n",
    "All this this means is that each PC is [decorrelated](https://en.wikipedia.org/wiki/Decorrelation) to the preceding one. The upshot is that you can choose the number of principal components that you want to reduce your highly dimensional dataset down to (although there are methods that can help you with this choice)."
   ]
  },
  {
   "cell_type": "markdown",
   "metadata": {
    "collapsed": true
   },
   "source": [
    "## Describing the problem\n",
    "\n",
    "The problem can be expressed as finding a function that converts a set of data points from $\\mathbb{R}^n$ to $\\mathbb{R}^l$. This means that we change the number of dimensions of our dataset. We also need a function that can decode back from the transformed dataset to the initial one:\n",
    "\n",
    "<img src=\"images/principal-components-analysis-PCA-change-coordinates.png\" width=\"80%\" alt=\"Principal components analysis (PCA)\" title=\"Principal components analysis (PCA)\">\n",
    "<em>Principal components analysis as a change of coordinate system</em>\n",
    "\n",
    "The first step is to understand the shape of the data. $x^{(i)}$ is one data point containing $n$ dimensions. Let's have $m$ data points organized as column vectors (one column per point):\n",
    "\n",
    "$$\n",
    "\\bs{x}=\n",
    "\\begin{bmatrix}\n",
    "    x^{(1)} & x^{(2)} & \\cdots & x^{(m)}\n",
    "\\end{bmatrix}\n",
    "$$\n",
    "\n",
    "If we deploy the $n$ dimensions of our data points we will have:\n",
    "\n",
    "$$\n",
    "\\bs{x}=\n",
    "\\begin{bmatrix}\n",
    "    x_1^{(1)} & x_1^{(2)} & \\cdots & x_1^{(m)}\\\\\\\\\n",
    "    x_2^{(1)} & x_2^{(2)} & \\cdots & x_2^{(m)}\\\\\\\\\n",
    "    \\cdots & \\cdots & \\cdots & \\cdots\\\\\\\\\n",
    "    x_n^{(1)} & x_n^{(2)} & \\cdots & x_n^{(m)}\n",
    "\\end{bmatrix}\n",
    "$$\n",
    "\n",
    "We can also write:\n",
    "\n",
    "$$\n",
    "\\bs{x}=\n",
    "\\begin{bmatrix}\n",
    "    x_1\\\\\\\\\n",
    "    x_2\\\\\\\\\n",
    "    \\cdots\\\\\\\\\n",
    "    x_n\n",
    "\\end{bmatrix}\n",
    "$$\n",
    "\n",
    "$c$ will have the shape:\n",
    "\n",
    "$$\n",
    "\\bs{c}=\n",
    "\\begin{bmatrix}\n",
    "    c_1\\\\\\\\\n",
    "    c_2\\\\\\\\\n",
    "    \\cdots\\\\\\\\\n",
    "    c_l\n",
    "\\end{bmatrix}\n",
    "$$"
   ]
  },
  {
   "cell_type": "markdown",
   "metadata": {
    "collapsed": true
   },
   "source": [
    "## Adding some constraints: the decoding function\n",
    "\n",
    "The encoding function $f(\\bs{x})$ transforms $\\bs{x}$ into $\\bs{c}$ and the decoding function transforms back $\\bs{c}$ into an approximation of $\\bs{x}$. To keep things simple, PCA will respect some constraints:\n",
    "\n",
    "### Constraint 1.\n",
    "\n",
    "The decoding function has to be a simple matrix multiplication:\n",
    "\n",
    "$$\n",
    "g(\\bs{c})=\\bs{Dc}\n",
    "$$\n",
    "\n",
    "By applying the matrix $\\bs{D}$ to the dataset from the new coordinates system we should get back to the initial coordinate system.\n",
    "\n",
    "### Constraint 2.\n",
    "\n",
    "The columns of $\\bs{D}$ must be orthogonal.\n",
    "\n",
    "### Constraint 3.\n",
    "\n",
    "The columns of $\\bs{D}$ must have unit norm."
   ]
  },
  {
   "cell_type": "markdown",
   "metadata": {},
   "source": [
    "## Finding the encoding function\n",
    "\n",
    "Important: For now we will consider only **one data point**. Thus we will have the following dimensions for these matrices (note that $\\bs{x}$ and $\\bs{c}$ are column vectors):\n",
    "\n",
    "<img src=\"images/principal-components-analysis-PCA-decoding-function.png\" width=\"250\" alt=\"Principal components analysis (PCA) - the decoding function\" title=\"The decoding function\">\n",
    "<em>The decoding function</em>\n",
    "\n",
    "We want a decoding function which is a simple matrix multiplication. For that reason, we have $g(\\bs{c})=\\bs{Dc}$. We will then find the encoding function from the decoding function. We want to minimize the error between the decoded data point and the actual data point. With our previous notation, this means reducing the distance between $\\bs{x}$ and $g(\\bs{c})$. As an indicator of this distance, we will use the squared $L^2$ norm:\n",
    "\n",
    "$$\n",
    "\\norm{\\bs{x} - g(\\bs{c})}_2^2\n",
    "$$\n",
    "\n",
    "This is what we want to minimize. Let's call $\\bs{c}^*$ the optimal $\\bs{c}$. Mathematically it can be written:\n",
    "\n",
    "$$\n",
    "\\bs{c}^* = \\underset{c}{\\arg\\min} \\norm{\\bs{x} - g(\\bs{c})}_2^2\n",
    "$$\n",
    "\n",
    "This means that we want to find the values of the vector $\\bs{c}$ such that $\\norm{\\bs{x} - g(\\bs{c})}_2^2$ is as small as possible.\n",
    "\n",
    "If you have a look back to our lesson on vector norms, you'll see that the squared $L^2$ norm can be expressed as:\n",
    "\n",
    "$$\n",
    "\\norm{\\bs{y}}_2^2 = \\bs{y}^\\text{T}\\bs{y}\n",
    "$$\n",
    "\n",
    "We have named the variable $\\bs{y}$ to avoid confusion with our $\\bs{x}$. Here $\\bs{y}=\\bs{x} - g(\\bs{c})$"
   ]
  },
  {
   "cell_type": "markdown",
   "metadata": {},
   "source": [
    "Thus the equation that we want to minimize becomes:\n",
    "\n",
    "$$\n",
    "(\\bs{x} - g(\\bs{c}))^\\text{T}(\\bs{x} - g(\\bs{c}))\n",
    "$$\n",
    "\n",
    "Since the transpose respects addition we have:\n",
    "\n",
    "$$\n",
    "(\\bs{x}^\\text{T} - g(\\bs{c})^\\text{T})(\\bs{x} - g(\\bs{c}))\n",
    "$$\n",
    "\n",
    "By the distributive property, we can develop:\n",
    "\n",
    "$$\n",
    "\\bs{x^\\text{T}x} - \\bs{x}^\\text{T}g(\\bs{c}) -  g(\\bs{c})^\\text{T}\\bs{x} + g(\\bs{c})^\\text{T}g(\\bs{c})\n",
    "$$\n",
    "\n",
    "The commutative property tells us that $\n",
    "\\bs{x^\\text{T}y} = \\bs{y^\\text{T}x}\n",
    "$. We can use that in the previous equation: $\n",
    "\\bs{x}^\\text{T}g(\\bs{c}) = g(\\bs{c})^\\text{T}\\bs{x}\n",
    "$. So the equation becomes:\n",
    "\n",
    "$$\n",
    "\\bs{x^\\text{T}x} -2\\bs{x}^\\text{T}g(\\bs{c}) + g(\\bs{c})^\\text{T}g(\\bs{c})\n",
    "$$\n",
    "\n",
    "The first term $\\bs{x^\\text{T}x}$ does not depends on $\\bs{c}$ and since we want to minimize the function according to $\\bs{c}$ we can just nix this term. We simplify to:\n",
    "\n",
    "$$\n",
    "\\bs{c}^* = \\underset{c}{\\arg\\min} -2\\bs{x}^\\text{T}g(\\bs{c}) + g(\\bs{c})^\\text{T}g(\\bs{c})\n",
    "$$\n",
    "\n",
    "Since $g(\\bs{c})=\\bs{Dc}$:\n",
    "\n",
    "$$\n",
    "\\bs{c}^* = \\underset{c}{\\arg\\min} -2\\bs{x}^\\text{T}\\bs{Dc} + (\\bs{Dc})^\\text{T}\\bs{Dc}\n",
    "$$\n",
    "\n",
    "Since $(\\bs{Dc})^\\text{T}=\\bs{c}^\\text{T}\\bs{D}^\\text{T}$, we have:\n",
    "\n",
    "$$\n",
    "\\bs{c}^* = \\underset{c}{\\arg\\min} -2\\bs{x}^\\text{T}\\bs{Dc} + \\bs{c}^\\text{T}\\bs{D}^\\text{T}\\bs{Dc}\n",
    "$$\n",
    "\n",
    "As we saw in [2.6](https://hadrienj.github.io/posts/Deep-Learning-Book-Series-2.6-Special-Kinds-of-Matrices-and-Vectors/), $\\bs{D}^\\text{T}\\bs{D}=\\bs{I}_l$ because $\\bs{D}$ is orthogonal (actually, it is [semi-orthogonal](https://en.wikipedia.org/wiki/Semi-orthogonal_matrix) if $n \\neq l$) and their columns have unit norm. We can replace in the equation:\n",
    "\n",
    "$$\n",
    "\\bs{c}^* = \\underset{c}{\\arg\\min} -2\\bs{x}^\\text{T}\\bs{Dc} + \\bs{c}^\\text{T}\\bs{I}_l\\bs{c}\n",
    "$$\n",
    "\n",
    "$$\n",
    "\\bs{c}^* = \\underset{c}{\\arg\\min} -2\\bs{x}^\\text{T}\\bs{Dc} + \\bs{c}^\\text{T}\\bs{c}\n",
    "$$"
   ]
  },
  {
   "cell_type": "markdown",
   "metadata": {},
   "source": [
    "### Minimizing the function\n",
    "\n",
    "Now the goal is to find the minimum of the function $- 2\\bs{x}^\\text{T}\\bs{Dc} + \\bs{c}^\\text{T}\\bs{c}$. One widely used way of doing that is to use the **gradient descent** algorithm. It is not the focus of this chapter but we will say a word about it.\n",
    "\n",
    "The main idea is that the sign of the [derivative](https://en.wikipedia.org/wiki/Derivative) of the function at a specific value of $x$ tells you if you need to increase or decrease $x$ to reach the minimum. When the slope is near $0$, the minimum should have been reached.\n",
    "\n",
    "<img src=\"images/gradient-descent.png\" width=\"400\" alt=\"Mechanism of the gradient descent algorithm\" title=\"Mechanism of the gradient descent algorithm\">\n",
    "<em>Gradient descent</em>\n",
    "\n",
    "However, functions with local minima can trouble the descent:\n",
    "\n",
    "<img src=\"images/gradient-descent-local-minima.png\" width=\"400\" alt=\"Gradient descent in the case of local minimum\" title=\"Gradient descent\">\n",
    "<em>Gradient descent can get stuck in local minima</em>\n",
    "\n",
    "These examples are in 2 dimensions but the principle stands for higher dimensional functions as well. In higher dimensions, the gradient is a vector containing the [partial derivatives](https://en.wikipedia.org/wiki/Partial_derivative) of all dimensions. Its mathematical notation is $\\nabla_xf(\\bs{x})$."
   ]
  },
  {
   "cell_type": "markdown",
   "metadata": {},
   "source": [
    "### Calculating the gradient of the function\n",
    "\n",
    "Here we want to minimize through each dimension of $\\bs{c}$. We are looking for a slope of $0$. The equation is:\n",
    "\n",
    "$$\n",
    "\\nabla_c(-2\\bs{x}^\\text{T}\\bs{Dc} + \\bs{c}^\\text{T}\\bs{c})=0\n",
    "$$\n",
    "\n",
    "Let's take these terms separately to calculate the derivative according to $\\bs{c}$. \n",
    "\n",
    "$$\n",
    "\\frac{d(-2\\bs{x}^\\text{T}\\bs{Dc})}{d\\bs{c}} = -2\\bs{x}^\\text{T}\\bs{D}\n",
    "$$\n",
    "\n",
    "The second term is $\\bs{c}^\\text{T}\\bs{c}$. We can develop the vector $\\bs{c}$ and calculate the derivative for each element:\n",
    "\n",
    "$$\n",
    "\\begin{align*}\n",
    "\\frac{d(\\bs{c}\\text{T}\\bs{c})}{d\\bs{c}} &=\n",
    "\\left(\\frac{d(\\bs{c}_1^2 + \\bs{c}_2^2 + \\cdots + \\bs{c}_l^2)}{d\\bs{c}_1},\n",
    "\\frac{d(\\bs{c}_1^2 + \\bs{c}_2^2 + \\cdots + \\bs{c}_l^2)}{d\\bs{c}_2},\n",
    "\\cdots,\n",
    "\\frac{d(\\bs{c}_1^2 + \\bs{c}_2^2 + \\cdots + \\bs{c}_l^2)}{d\\bs{c}_l}\\right) \\\\\\\\\n",
    "&=(2\\bs{c}_1, 2\\bs{c}_2, \\cdots, 2\\bs{c}_l)\\\\\\\\\n",
    "&=2(\\bs{c}_1, \\bs{c}_2, \\cdots, \\bs{c}_l)\\\\\\\\\n",
    "&=2\\bs{c}\n",
    "\\end{align*}\n",
    "$$\n",
    "\n",
    "So we can plug in our derivatives:\n",
    "\n",
    "$$\n",
    "\\nabla_c(-2\\bs{x}^\\text{T}\\bs{Dc} + \\bs{c}^\\text{T}\\bs{c})=0\\\\\\\\\n",
    "-2\\bs{x}^\\text{T}\\bs{D} + 2\\bs{c}=0\\\\\\\\\n",
    "-2\\bs{D}^\\text{T}\\bs{x} + 2\\bs{c}=0\\\\\\\\\n",
    "\\bs{c}=\\bs{D}^\\text{T}\\bs{x}\n",
    "$$\n",
    "\n",
    "Great! We found the encoding function! Here are its dimensions:\n",
    "\n",
    "<img src=\"images/principal-components-analysis-PCA-encoding-function.png\" width=\"250\" alt=\"Expression of the encoding function\" title=\"The encoding function\">\n",
    "<em>The encoding function</em>\n",
    "\n",
    "To go back from $\\bs{c}$ to $\\bs{x}$ we use $g(\\bs{c})=\\bs{Dc}$:\n",
    "\n",
    "$$\n",
    "r(\\bs{x}) = g(f(\\bs{x})=\\bs{D}\\bs{D}^\\text{T}\\bs{x}\n",
    "$$\n",
    "\n",
    "<img src=\"images/principal-components-analysis-PCA-reconstruction-function.png\" width=\"300\" alt=\"Expression of the reconstruction function\" title=\"The reconstruction function\">\n",
    "<em>The reconstruction function</em>"
   ]
  },
  {
   "cell_type": "markdown",
   "metadata": {},
   "source": [
    "## Finding $\\bs{D}$\n",
    "\n",
    "The next step is to find the matrix $\\bs{D}$. Recall that the purpose of the PCA is to change the coordinate system in order to maximize the variance along the first dimensions of the projected space. This is equivalent to minimizing the error between data points and their reconstruction ([cf here](https://stats.stackexchange.com/questions/32174/pca-objective-function-what-is-the-connection-between-maximizing-variance-and-m))."
   ]
  },
  {
   "cell_type": "markdown",
   "metadata": {},
   "source": [
    "### The Frobenius norm\n",
    "\n",
    "Since we have to take all points into account (the same matrix $\\bs{D}$ will be used for all points) we will use the Frobenius norm of the errors, which is equivalent to the $L^2$ norm for matrices. Here's the formula for the Frobenius norm:\n",
    "\n",
    "$$\n",
    "\\norm{\\bs{A}}_F=\\sqrt{\\sum_{i,j}A^2_{i,j}}\n",
    "$$\n",
    "\n",
    "It is like if you unroll the matrix to end up with a one dimensional vector and that you take the $L^2$ norm of this vector.\n",
    "\n",
    "We will call $\\bs{D}^*$ the optimal $\\bs{D}$ (in the sense that the error is as small as possible). We have:\n",
    "\n",
    "$$\n",
    "\\bs{D}^* = \\underset{\\bs{D}}{\\arg\\min} \\sqrt{\\sum_{i,j}(x_j^{(i)}-r(\\bs{x}^{(i)})_j})^2\n",
    "$$\n",
    "\n",
    "With the constraint that $\\bs{D}^\\text{T}\\bs{D}=\\bs{I}_l$ because we have chosen the constraint of having the columns of $\\bs{D}$ orthogonal."
   ]
  },
  {
   "cell_type": "markdown",
   "metadata": {},
   "source": [
    "### The first principal component\n",
    "\n",
    "We will start to find only the first principal component (PC). For that reason, we will have $l=1$. So the matrix $\\bs{D}$ will have the shape $(n \\times 1)$: it is a simple column vector. Since it is a vector we will call it $\\bs{d}$:\n",
    "\n",
    "<img src=\"images/first-principal-component.png\" width=\"100\" alt=\"Dimension of the first principal component\" title=\"The first principal component\">\n",
    "<em>The first principal component</em>\n",
    "\n",
    "We can therefore remove the sum over $j$ and the square root since we will take the squared $L^2$ norm:\n",
    "\n",
    "$$\n",
    "\\bs{d}^* = \\underset{\\bs{d}}{\\arg\\min} \\sum_{i}\\norm{(\\bs{x}^{(i)}-r(\\bs{x}^{(i)}))}_2^2\n",
    "$$\n",
    "\n",
    "\n",
    "We have also seen that:\n",
    "\n",
    "$$\n",
    "r(\\bs{x})=\\bs{D}\\bs{D}^\\text{T}\\bs{x}\n",
    "$$\n",
    "\n",
    "Since we are looking only for the first PC:\n",
    "\n",
    "$$\n",
    "r(\\bs{x})=\\bs{d}\\bs{d}^\\text{T}\\bs{x}\n",
    "$$\n",
    "\n",
    "We can plug $r(\\bs{x})$ into the equation:\n",
    "\n",
    "$$\n",
    "\\bs{d}^* = \\underset{\\bs{d}}{\\arg\\min} \\sum_{i}\\norm{\\bs{x}^{(i)}-\\bs{dd}^\\text{T}\\bs{x}^{(i)}}_2^2\n",
    "$$\n",
    "\n",
    "Because of constraint 3 (the columns of $\\bs{D}$ must have unit norms), we have $\\norm{\\bs{d}}_2 = 1$. $\\bs{d}$ is one of the columns of $\\bs{D}$ and thus has a unit norm.\n",
    "\n",
    "\n",
    "Instead of using the sum along the $m$ data points $\\bs{x}$ we can have the matrix $\\bs{X}$ gather all of the observations:\n",
    "\n",
    "$$\n",
    "\\bs{X} = \\begin{bmatrix}\n",
    "    \\bs{x}^{(1)\\text{T}}\\\\\\\\\n",
    "    \\bs{x}^{(2)\\text{T}}\\\\\\\\\n",
    "    \\cdots\\\\\\\\\n",
    "    \\bs{x}^{(m)\\text{T}}\n",
    "\\end{bmatrix}=\n",
    "\\begin{bmatrix}\n",
    "    \\bs{x}_1^{(1)} & \\bs{x}_2^{(1)} & \\cdots & \\bs{x}_n^{(1)}\\\\\\\\\n",
    "    \\bs{x}_1^{(2)} & \\bs{x}_2^{(2)} & \\cdots & \\bs{x}_n^{(2)}\\\\\\\\\n",
    "    \\cdots & \\cdots & \\cdots & \\cdots\\\\\\\\\n",
    "    \\bs{x}_0^{(m)} & \\bs{x}_1^{(m)} & \\cdots & \\bs{x}_n^{(m)}\n",
    "\\end{bmatrix}\n",
    "$$\n",
    "\n",
    "We want $\\bs{x}^{(i)\\text{T}}$ instead of $\\bs{x}^{(i)}$ in our expression of $\\bs{d}^*$. We can transpose the content of the norm:\n",
    "\n",
    "$$\n",
    "\\begin{align*}\n",
    "\\bs{d}^* &= \\underset{\\bs{d}}{\\arg\\min} \\sum_{i}\\norm{(\\bs{x}^{(i)}-\\bs{dd}^\\text{T}\\bs{x}^{(i)})^\\text{T}}_2^2\\\\\\\\\n",
    "&=\\underset{\\bs{d}}{\\arg\\min} \\sum_{i}\\norm{\\bs{x}^{(i)\\text{T}}-\\bs{x}^{(i)\\text{T}}\\bs{dd}^\\text{T}}_2^2\\\\\\\\\n",
    "\\end{align*}\n",
    "$$\n",
    "\n",
    "and\n",
    "\n",
    "$$\n",
    "\\bs{d}^* = \\underset{\\bs{d}}{\\arg\\min} \\norm{\\bs{X}-\\bs{X}\\bs{dd}^\\text{T}}_\\text{F}^2\n",
    "$$\n",
    "\n",
    "with the constraint that $\\bs{dd}^\\text{T}=1$."
   ]
  },
  {
   "cell_type": "markdown",
   "metadata": {},
   "source": [
    "### Using the Trace operator\n",
    "\n",
    "We will now use the Trace operator to simplify the equation. Recall that:\n",
    "\n",
    "$$\n",
    "\\norm{\\bs{A}}_F=\\sqrt{\\Tr({\\bs{AA}^T})}\n",
    "$$\n",
    "\n",
    "So here $\\bs{A}=\\bs{X}-\\bs{X}\\bs{dd}^\\text{T}$. So we have:\n",
    "\n",
    "$$\n",
    "\\bs{d}^* = \\underset{\\bs{d}}{\\arg\\min} \\Tr{((\\bs{X}-\\bs{Xdd}^\\text{T})}(\\bs{X}-\\bs{Xdd}^\\text{T})^\\text{T})\n",
    "$$\n",
    "\n",
    "Since the trace is invariant under [cyclic permutations](https://en.wikipedia.org/wiki/Cyclic_permutation), we can write:\n",
    "\n",
    "$$\n",
    "\\begin{align*}\n",
    "\\bs{d}^* &= \\argmin{d} \\Tr{((\\bs{X}-\\bs{Xdd}^\\text{T})^\\text{T}}(\\bs{X}-\\bs{Xdd}^\\text{T}))\\\\\\\\\n",
    "&=\\argmin{d} \\Tr{((\\bs{X}^\\text{T}-(\\bs{Xdd}^\\text{T})^\\text{T})}(\\bs{X}-\\bs{Xdd}^\\text{T}))\n",
    "\\end{align*}\n",
    "$$\n",
    "\n",
    "And $(\\bs{Xdd}^\\text{T})^\\text{T}=(\\bs{d}^\\text{T})^\\text{T}\\bs{d}^\\text{T}\\bs{X}^\\text{T}=\\bs{d}\\bs{d}^\\text{T}\\bs{X}^\\text{T}$. Let's plug that into our equation:"
   ]
  },
  {
   "cell_type": "markdown",
   "metadata": {
    "collapsed": true
   },
   "source": [
    "\n",
    "$$\n",
    "\\begin{align*}\n",
    "\\bs{d}^* &= \\argmin{d} \\Tr{(\\bs{X}^\\text{T}-\\bs{d}\\bs{d}^\\text{T}\\bs{X}^\\text{T})}(\\bs{X}-\\bs{Xdd}^\\text{T}))\\\\\\\\\n",
    "&= \\argmin{d} \\Tr{(\\bs{X}^\\text{T}\\bs{X}-\\bs{X}^\\text{T}\\bs{Xdd}^\\text{T} -\\bs{d}\\bs{d}^\\text{T}\\bs{X}^\\text{T}\\bs{X} +\\bs{d}\\bs{d}^\\text{T}\\bs{X}^\\text{T}\\bs{Xdd}^\\text{T}})\\\\\\\\\n",
    "&= \\argmin{d} \\Tr{(\\bs{X}^\\text{T}\\bs{X})} - \\Tr{(\\bs{X}^\\text{T}\\bs{Xdd}^\\text{T})}\n",
    "- \\Tr{(\\bs{d}\\bs{d}^\\text{T}\\bs{X}^\\text{T}\\bs{X})} + \\Tr{(\\bs{d}\\bs{d}^\\text{T}\\bs{X}^\\text{T}\\bs{Xdd}^\\text{T})}\n",
    "\\end{align*}\n",
    "$$\n",
    "\n",
    "We can remove the first term that does not depend on $d$:\n",
    "\n",
    "$$\n",
    "\\bs{d}^* = \\argmin{d} - \\Tr{(\\bs{X}^\\text{T}\\bs{Xdd}^\\text{T})}\n",
    "- \\Tr{(\\bs{d}\\bs{d}^\\text{T}\\bs{X}^\\text{T}\\bs{X})} + \\Tr{(\\bs{d}\\bs{d}^\\text{T}\\bs{X}^\\text{T}\\bs{Xdd}^\\text{T})}\n",
    "$$\n",
    "\n",
    "And because of the cycling property of a trace, we have:\n",
    "\n",
    "$$\n",
    "\\Tr{(\\bs{X}^\\text{T}\\bs{Xdd}^\\text{T})} = \\Tr{(\\bs{d}\\bs{d}^\\text{T}\\bs{X}^\\text{T}\\bs{X})}\n",
    "$$\n",
    "\n",
    "We can simplify to:\n",
    "\n",
    "$$\n",
    "\\bs{d}^* = \\argmin{d} -2\\Tr{(\\bs{X}^\\text{T}\\bs{Xdd}^\\text{T})}\n",
    " + \\Tr{(\\bs{d}\\bs{d}^\\text{T}\\bs{X}^\\text{T}\\bs{Xdd}^\\text{T})}\n",
    "$$\n",
    "\n",
    "and then\n",
    "\n",
    "$$\n",
    "\\bs{d}^* = \\argmin{d} -2\\Tr{(\\bs{X}^\\text{T}\\bs{Xdd}^\\text{T})}\n",
    " + \\Tr{(\\bs{X}^\\text{T}\\bs{Xdd}^\\text{T}\\bs{d}\\bs{d}^\\text{T})}\n",
    "$$\n",
    "\n",
    "Because of the constraint $\\bs{dd}^\\text{T}=1$:\n",
    "\n",
    "$$\n",
    "\\begin{align*}\n",
    "\\bs{d}^* &= \\argmin{d} -2\\Tr{(\\bs{X}^\\text{T}\\bs{Xdd}^\\text{T})}\n",
    " + \\Tr{(\\bs{X}^\\text{T}\\bs{Xd}\\bs{d}^\\text{T})}\\textrm{ subject to }\\bs{dd}^\\text{T}=1\\\\\\\\\n",
    "&= \\argmin{d} -\\Tr{(\\bs{X}^\\text{T}\\bs{Xdd}^\\text{T})}\\textrm{ subject to }\\bs{dd}^\\text{T}=1\\\\\\\\\n",
    "&=\\argmax{d} \\Tr{(\\bs{X}^\\text{T}\\bs{Xdd}^\\text{T})}\\textrm{ subject to }\\bs{dd}^\\text{T}=1\n",
    "\\end{align*}\n",
    "$$\n",
    "\n",
    "and with the cycling property:\n",
    "\n",
    "$$\n",
    "\\bs{d}^* = \\argmax{d} \\Tr{(\\bs{d}^\\text{T}\\bs{X}^\\text{T}\\bs{Xd})} \\textrm{ subject to }\\bs{dd}^\\text{T}=1\n",
    "$$"
   ]
  },
  {
   "cell_type": "markdown",
   "metadata": {},
   "source": [
    "### Eigendecomposition\n",
    "\n",
    "We will see that we can find the maximum of the function by calculating the eigenvectors of $\\bs{X^\\text{T}X}$.\n",
    "\n",
    "\n",
    "### Covariance matrix\n",
    "\n",
    "As we wrote above, the optimization problem of maximizing the variance of the components and minimizing the error between the reconstructed and the actual data are equivalent. Actually, if you look at the formula of $\\bs{d}$ you can see that there is the term $\\bs{X^\\text{T}X}$ in the middle.\n",
    "\n",
    "If we have centered our data around 0 (see bellow for more details about centering), $\\bs{X^\\text{T}X}$ is the covariance matrix (see [this Quora question](https://www.quora.com/Why-do-we-need-to-center-the-data-for-Principle-Components-Analysis)).\n",
    "\n",
    "The covariance matrix is a $n$ by $n$ matrix ($n$ being the number of dimensions). Its diagonal is the variance of the corresponding dimensions and the other cells are the covariance between the two corresponding dimensions (the amount of redundancy).\n",
    "\n",
    "<img src=\"images/covariance_matrix.png\" >\n",
    "\n",
    "The larger the covariance we have between two dimensions, the more redundancy exists between these dimensions. This also means that the best-fit line is associated with small errors if the covariance is high. To maximize the variance and minimize the covariance (in order to decorrelate the dimensions) means that the ideal covariance matrix is a diagonal matrix (non-zero values in the diagonal only). Therefore the diagonalization of the covariance matrix will give us the optimal solution."
   ]
  },
  {
   "cell_type": "markdown",
   "metadata": {
    "collapsed": true
   },
   "source": [
    "### Example 2.\n",
    "\n",
    "As an example we will create a 2D data set. To see the effect of the PCA we will introduce some correlations between the two dimensions. Let's create 100 data points with 2 dimensions:"
   ]
  },
  {
   "cell_type": "code",
   "execution_count": 5,
   "metadata": {},
   "outputs": [
    {
     "data": {
      "text/plain": [
       "(100, 2)"
      ]
     },
     "execution_count": 5,
     "metadata": {},
     "output_type": "execute_result"
    }
   ],
   "source": [
    "np.random.seed(123)\n",
    "x = 5*np.random.rand(100)\n",
    "y = 2*x + 1 + np.random.randn(100)\n",
    "\n",
    "x = x.reshape(100, 1)\n",
    "y = y.reshape(100, 1)\n",
    "\n",
    "X = np.hstack([x, y])\n",
    "X.shape"
   ]
  },
  {
   "cell_type": "markdown",
   "metadata": {},
   "source": [
    "Let's plot the data:"
   ]
  },
  {
   "cell_type": "code",
   "execution_count": 6,
   "metadata": {},
   "outputs": [
    {
     "data": {
      "image/png": "[encoded data removed]",
      "text/plain": [
       "<Figure size 288x288 with 1 Axes>"
      ]
     },
     "metadata": {},
     "output_type": "display_data"
    }
   ],
   "source": [
    "plt.plot(X[:,0], X[:,1], '*')\n",
    "plt.show()"
   ]
  },
  {
   "cell_type": "markdown",
   "metadata": {},
   "source": [
    "Highly correlated data means that the dimensions are redundant. It is possible to predict one from the other without losing much information.\n",
    "\n",
    "The first processing we will do is to center the data around 0. PCA is a regression model without intercept (see [here](https://stats.stackexchange.com/questions/22329/how-does-centering-the-data-get-rid-of-the-intercept-in-regression-and-pca)) and the first component must therefore cross the origin.\n",
    "\n",
    "Here is a simple function that substracts the mean of each column from each data point within the column. It can be used to center the data points around 0."
   ]
  },
  {
   "cell_type": "code",
   "execution_count": 7,
   "metadata": {},
   "outputs": [],
   "source": [
    "def centerData(X):\n",
    "    X = X.copy()\n",
    "    X -= np.mean(X, axis = 0)\n",
    "    return X"
   ]
  },
  {
   "cell_type": "markdown",
   "metadata": {},
   "source": [
    "So let's center our data $\\bs{X}$ around 0 for both dimensions:"
   ]
  },
  {
   "cell_type": "code",
   "execution_count": 8,
   "metadata": {},
   "outputs": [
    {
     "data": {
      "image/png": "[encoded data removed]",
      "text/plain": [
       "<Figure size 288x288 with 1 Axes>"
      ]
     },
     "metadata": {},
     "output_type": "display_data"
    }
   ],
   "source": [
    "X_centered = centerData(X)\n",
    "plt.plot(X_centered[:,0], X_centered[:,1], '*')\n",
    "plt.show()"
   ]
  },
  {
   "cell_type": "markdown",
   "metadata": {},
   "source": [
    "As you can see, the middle of our y-axis is now $0$.\n",
    "\n",
    "We can now look for PCs. We saw that they correspond to values taken by $\\bs{d}$ that maximize the following function:\n",
    "\n",
    "$$\n",
    "\\bs{d}^* = \\argmax{d} \\Tr{(\\bs{d}^\\text{T}\\bs{X}^\\text{T}\\bs{Xd})} \\textrm{ subject to }\\bs{dd}^\\text{T}=1\n",
    "$$\n",
    "\n",
    "To find $\\bs{d}$ we can calculate the eigenvectors of $\\bs{X^\\text{T}X}$. So let's do that:"
   ]
  },
  {
   "cell_type": "code",
   "execution_count": 9,
   "metadata": {},
   "outputs": [
    {
     "data": {
      "text/plain": [
       "array([[-0.91116273, -0.41204669],\n",
       "       [ 0.41204669, -0.91116273]])"
      ]
     },
     "execution_count": 9,
     "metadata": {},
     "output_type": "execute_result"
    }
   ],
   "source": [
    "eigVals, eigVecs = np.linalg.eig(X_centered.T.dot(X_centered)/100)\n",
    "eigVecs"
   ]
  },
  {
   "cell_type": "code",
   "execution_count": 10,
   "metadata": {},
   "outputs": [
    {
     "name": "stdout",
     "output_type": "stream",
     "text": [
      "(array([ 18.04730409, 798.35242844]), array([[-0.91116273, -0.41204669],\n",
      "       [ 0.41204669, -0.91116273]]))\n",
      "(array([0.18047304, 7.98352428]), array([[-0.91116273, -0.41204669],\n",
      "       [ 0.41204669, -0.91116273]]))\n"
     ]
    }
   ],
   "source": [
    "print(np.linalg.eig(X_centered.T.dot(X_centered)))\n",
    "print(np.linalg.eig(X_centered.T.dot(X_centered)/100))"
   ]
  },
  {
   "cell_type": "markdown",
   "metadata": {},
   "source": [
    "These are the vectors maximizing our function. Each column vector is associated with an eigenvalue. The vector associated with the larger eigenvalue tells us the direction associated with the larger variance in our data. To check that, we will plot these vectors along with the data. "
   ]
  },
  {
   "cell_type": "code",
   "execution_count": 11,
   "metadata": {},
   "outputs": [
    {
     "data": {
      "image/png": "[encoded data removed]",
      "text/plain": [
       "<Figure size 288x288 with 1 Axes>"
      ]
     },
     "metadata": {},
     "output_type": "display_data"
    }
   ],
   "source": [
    "orange = '#FF9A13'\n",
    "blue = '#1190FF'\n",
    "plotVectors(eigVecs.T, [orange, blue])\n",
    "plt.plot(X_centered[:,0], X_centered[:,1], '*')\n",
    "plt.xlim(-3, 3)\n",
    "plt.ylim(-3, 3)\n",
    "plt.show()"
   ]
  },
  {
   "cell_type": "markdown",
   "metadata": {},
   "source": [
    "We can see that the blue vector direction corresponds to the oblique shape of our data. The idea is that if you project the data points on the line corresponding to the blue vector, you'll maximize the explained variance. Have a look at the following figure:\n",
    "\n",
    "<img src=\"images/principal-component-analysis-variance-explained.png\" width=\"400\" alt=\"Representation of the variance explained across directions\" title=\"Maximizing the variance\">\n",
    "<em>Projection of the data point: this line direction is the one with the largest variance</em>\n",
    "\n",
    "When you project data points on the pink line there is more variance. This line has the direction that maximizes the variance of the data points. It is the same for the figure above: our blue vector has the direction of the line where data point projection has the higher variance. Then the second eigenvector is orthogonal to the first.\n",
    "\n",
    "In our figure above, the blue vector is the second eigenvector so let's check that it is the one associated with the bigger eigenvalue:"
   ]
  },
  {
   "cell_type": "code",
   "execution_count": 12,
   "metadata": {},
   "outputs": [
    {
     "data": {
      "text/plain": [
       "array([0.18047304, 7.98352428])"
      ]
     },
     "execution_count": 12,
     "metadata": {},
     "output_type": "execute_result"
    }
   ],
   "source": [
    "eigVals"
   ]
  },
  {
   "cell_type": "markdown",
   "metadata": {},
   "source": [
    "So yes, the second vector corresponds to the biggest eigenvalue.\n",
    "\n",
    "Now that we have found the matrix $\\bs{d}$ we will use the encoding function to rotate the data. The goal of the rotation is to end up with a new coordinate system where data is uncorrelated and thus where the basis axes gather all the variance. It is then possible to keep only few a axes: this is the purpose of dimensionality reduction.\n",
    "\n",
    "Recall that the encoding function is:\n",
    "\n",
    "$$\n",
    "\\bs{c}=\\bs{D}^\\text{T}\\bs{x}\n",
    "$$\n",
    "\n",
    "$\\bs{D}$ is the matrix containing the eigenvectors that we have calculated before. In addition, this formula corresponds to only one data point where dimensions are the rows of $\\bs{x}$. In our case, we will apply it to all data points and since $\\bs{X}$ has dimensions on the columns we need to transpose it."
   ]
  },
  {
   "cell_type": "code",
   "execution_count": 13,
   "metadata": {},
   "outputs": [
    {
     "data": {
      "image/png": "[encoded data removed]",
      "text/plain": [
       "<Figure size 288x288 with 1 Axes>"
      ]
     },
     "metadata": {},
     "output_type": "display_data"
    }
   ],
   "source": [
    "X_new = eigVecs.T.dot(X_centered.T)\n",
    "\n",
    "plt.plot(eigVecs.T.dot(X_centered.T)[0, :], eigVecs.T.dot(X_centered.T)[1, :], '*')\n",
    "plt.xlim(-5, 5)\n",
    "plt.ylim(-5, 5)\n",
    "plt.show()"
   ]
  },
  {
   "cell_type": "markdown",
   "metadata": {},
   "source": [
    "It worked! The rotation transformed our dataset so that we now have the more variance on one of the basis axes. You could keep only this dimension and have a fairly good representation of the data."
   ]
  },
  {
   "cell_type": "markdown",
   "metadata": {},
   "source": [
    "### About the unit norm constraint\n",
    "\n",
    "We saw that the maximization is subject to $\\bs{dd}^\\text{T}=1$. This means that the solution vector has to be a unit vector. Without this constraint, you could scale $\\bs{d}$ up to infinity to increase the function to maximize (see [here](https://stats.stackexchange.com/questions/117695/why-is-the-eigenvector-in-pca-taken-to-be-unit-norm)). For instance, let's see some vectors $\\bs{x}$ that could maximize the function:"
   ]
  },
  {
   "cell_type": "code",
   "execution_count": 14,
   "metadata": {},
   "outputs": [
    {
     "data": {
      "text/plain": [
       "array([[4165298.04389264]])"
      ]
     },
     "execution_count": 14,
     "metadata": {},
     "output_type": "execute_result"
    }
   ],
   "source": [
    "d = np.array([[12], [26]])\n",
    "d.T.dot(X.T).dot(X).dot(d)"
   ]
  },
  {
   "cell_type": "markdown",
   "metadata": {},
   "source": [
    "However this $\\bs{d}$ does not have a unit norm (since $\\bs{d}$ is a column vector we use the transpose of $\\bs{dd}^\\text{T}$:"
   ]
  },
  {
   "cell_type": "code",
   "execution_count": 15,
   "metadata": {},
   "outputs": [
    {
     "data": {
      "text/plain": [
       "array([[820]])"
      ]
     },
     "execution_count": 15,
     "metadata": {},
     "output_type": "execute_result"
    }
   ],
   "source": [
    "d.T.dot(d)"
   ]
  },
  {
   "cell_type": "markdown",
   "metadata": {},
   "source": [
    "The eigenvectors have unit norm and thus respect the constraint:"
   ]
  },
  {
   "cell_type": "code",
   "execution_count": 16,
   "metadata": {},
   "outputs": [
    {
     "data": {
      "text/plain": [
       "1.0000000000000002"
      ]
     },
     "execution_count": 16,
     "metadata": {},
     "output_type": "execute_result"
    }
   ],
   "source": [
    "eigVecs[:,0].dot(eigVecs[:,0].T)"
   ]
  },
  {
   "cell_type": "markdown",
   "metadata": {},
   "source": [
    "and"
   ]
  },
  {
   "cell_type": "code",
   "execution_count": 17,
   "metadata": {},
   "outputs": [
    {
     "data": {
      "text/plain": [
       "1.0000000000000002"
      ]
     },
     "execution_count": 17,
     "metadata": {},
     "output_type": "execute_result"
    }
   ],
   "source": [
    "eigVecs[:,1].dot(eigVecs[:,1].T)"
   ]
  },
  {
   "cell_type": "markdown",
   "metadata": {},
   "source": [
    "# References\n",
    "\n",
    "## PCA\n",
    "\n",
    "- Visualize PCA:  http://setosa.io/ev/principal-component-analysis/\n",
    "\n",
    "- A lot of intuitive explanations on PCA: https://arxiv.org/pdf/1404.1100.pdf\n",
    "\n",
    "- https://brilliant.org/wiki/principal-component-analysis/#from-approximate-equality-to-minimizing-function\n",
    "\n",
    "- http://www4.ncsu.edu/~slrace/LinearAlgebra2017/Slides/PCAPrint.pdf\n",
    "\n",
    "- https://towardsdatascience.com/a-one-stop-shop-for-principal-component-analysis-5582fb7e0a9c\n",
    "\n",
    "- https://www.cs.bgu.ac.il/~inabd171/wiki.files/lecture14_handouts.pdf\n",
    "\n",
    "## Semi-orthogonal matrix\n",
    "\n",
    "- https://en.wikipedia.org/wiki/Semi-orthogonal_matrix\n",
    "\n",
    "## Intuition about PCA\n",
    "\n",
    "- https://georgemdallas.wordpress.com/2013/10/30/principal-component-analysis-4-dummies-eigenvectors-eigenvalues-and-dimension-reduction/\n",
    "\n",
    "## Derivatives\n",
    "\n",
    "- https://math.stackexchange.com/questions/1377764/derivative-of-vector-and-vector-transpose-product\n",
    "\n",
    "## Link between variance maximized and error minimized:\n",
    "\n",
    "- https://stats.stackexchange.com/questions/130721/what-norm-of-the-reconstruction-error-is-minimized-by-the-low-rank-approximation\n",
    "\n",
    "- https://stats.stackexchange.com/questions/32174/pca-objective-function-what-is-the-connection-between-maximizing-variance-and-m\n",
    "\n",
    "- https://stats.stackexchange.com/questions/318625/why-do-the-leading-eigenvectors-of-a-maximize-texttrdtad\n",
    "\n",
    "## Centering data\n",
    "\n",
    "- https://www.quora.com/Why-do-we-need-to-center-the-data-for-Principle-Components-Analysis\n",
    "- https://stats.stackexchange.com/questions/22329/how-does-centering-the-data-get-rid-of-the-intercept-in-regression-and-pca\n",
    "\n",
    "## Unit norm constraint\n",
    "\n",
    "- https://stats.stackexchange.com/questions/117695/why-is-the-eigenvector-in-pca-taken-to-be-unit-norm"
   ]
  },
  {
   "cell_type": "code",
   "execution_count": null,
   "metadata": {},
   "outputs": [],
   "source": []
  }
 ],
 "metadata": {
  "kernelspec": {
   "display_name": "Python 3",
   "language": "python",
   "name": "python3"
  },
  "language_info": {
   "codemirror_mode": {
    "name": "ipython",
    "version": 3
   },
   "file_extension": ".py",
   "mimetype": "text/x-python",
   "name": "python",
   "nbconvert_exporter": "python",
   "pygments_lexer": "ipython3",
   "version": "3.6.5"
  }
 },
 "nbformat": 4,
 "nbformat_minor": 2
}
