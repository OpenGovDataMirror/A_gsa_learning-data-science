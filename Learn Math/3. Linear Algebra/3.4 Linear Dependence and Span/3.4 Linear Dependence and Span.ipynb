{
 "cells": [
  {
   "cell_type": "code",
   "execution_count": 10,
   "metadata": {
    "scrolled": false
   },
   "outputs": [],
   "source": [
    "import numpy as np\n",
    "import matplotlib.pyplot as plt\n",
    "import seaborn as sns\n",
    "from matplotlib import cm\n",
    "from mpl_toolkits.mplot3d import Axes3D\n",
    "from scipy.interpolate import interp2d"
   ]
  },
  {
   "cell_type": "code",
   "execution_count": 2,
   "metadata": {},
   "outputs": [
    {
     "name": "stdout",
     "output_type": "stream",
     "text": [
      "Populating the interactive namespace from numpy and matplotlib\n"
     ]
    }
   ],
   "source": [
    "# Plot style\n",
    "sns.set()\n",
    "%pylab inline\n",
    "pylab.rcParams['figure.figsize'] = (4, 4)\n",
    "# Avoid inaccurate floating values (for inverse matrices in dot product for instance)\n",
    "# See https://stackoverflow.com/questions/24537791/numpy-matrix-inversion-rounding-errors\n",
    "np.set_printoptions(suppress=True)"
   ]
  },
  {
   "cell_type": "code",
   "execution_count": 3,
   "metadata": {},
   "outputs": [
    {
     "data": {
      "text/html": [
       "<style>\n",
       ".pquote {\n",
       "  text-align: left;\n",
       "  margin: 40px 0 40px auto;\n",
       "  width: 70%;\n",
       "  font-size: 1.5em;\n",
       "  font-style: italic;\n",
       "  display: block;\n",
       "  line-height: 1.3em;\n",
       "  color: #5a75a7;\n",
       "  font-weight: 600;\n",
       "  border-left: 5px solid rgba(90, 117, 167, .1);\n",
       "  padding-left: 6px;\n",
       "}\n",
       ".notes {\n",
       "  font-style: italic;\n",
       "  display: block;\n",
       "  margin: 40px 10%;\n",
       "}\n",
       "img + em {\n",
       "  text-align: center;\n",
       "  display: block;\n",
       "  color: gray;\n",
       "  font-size: 0.9em;\n",
       "  font-weight: 600;\n",
       "}\n",
       "</style>"
      ],
      "text/plain": [
       "<IPython.core.display.HTML object>"
      ]
     },
     "metadata": {},
     "output_type": "display_data"
    }
   ],
   "source": [
    "%%html\n",
    "<style>\n",
    ".pquote {\n",
    "  text-align: left;\n",
    "  margin: 40px 0 40px auto;\n",
    "  width: 70%;\n",
    "  font-size: 1.5em;\n",
    "  font-style: italic;\n",
    "  display: block;\n",
    "  line-height: 1.3em;\n",
    "  color: #5a75a7;\n",
    "  font-weight: 600;\n",
    "  border-left: 5px solid rgba(90, 117, 167, .1);\n",
    "  padding-left: 6px;\n",
    "}\n",
    ".notes {\n",
    "  font-style: italic;\n",
    "  display: block;\n",
    "  margin: 40px 10%;\n",
    "}\n",
    "img + em {\n",
    "  text-align: center;\n",
    "  display: block;\n",
    "  color: gray;\n",
    "  font-size: 0.9em;\n",
    "  font-weight: 600;\n",
    "}\n",
    "</style>"
   ]
  },
  {
   "cell_type": "code",
   "execution_count": 4,
   "metadata": {},
   "outputs": [],
   "source": [
    "def plotVectors(vecs, cols, alpha=1):\n",
    "    \"\"\"\n",
    "    Plot a set of vectors.\n",
    "\n",
    "    Parameters\n",
    "    ----------\n",
    "    vecs : array-like\n",
    "        Coordinates of the vectors to plot. Each vectors is in an array. For\n",
    "        instance: [[1, 3], [2, 2]] can be used to plot 2 vectors.\n",
    "    cols : array-like\n",
    "        Colors of the vectors. For instance: ['red', 'blue'] will display the\n",
    "        first vector in red and the second in blue.\n",
    "    alpha : float\n",
    "        Opacity of vectors\n",
    "\n",
    "    Returns:\n",
    "\n",
    "    fig : instance of matplotlib.figure.Figure\n",
    "        The figure of the vectors\n",
    "    \"\"\"\n",
    "    plt.figure()\n",
    "    plt.axvline(x=0, color='#A9A9A9', zorder=0)\n",
    "    plt.axhline(y=0, color='#A9A9A9', zorder=0)\n",
    "\n",
    "    for i in range(len(vecs)):\n",
    "        x = np.concatenate([[0,0],vecs[i]])\n",
    "        plt.quiver([x[0]],\n",
    "                   [x[1]],\n",
    "                   [x[2]],\n",
    "                   [x[3]],\n",
    "                   angles='xy', scale_units='xy', scale=1, color=cols[i],\n",
    "                  alpha=alpha)"
   ]
  },
  {
   "cell_type": "markdown",
   "metadata": {},
   "source": [
    "$$\n",
    "\\newcommand\\bs[1]{\\boldsymbol{#1}}\n",
    "$$"
   ]
  },
  {
   "cell_type": "markdown",
   "metadata": {},
   "source": [
    "# Introduction\n",
    "\n",
    "This chapter is quite heavy by its size and its content but I did what I could to make it more intuitive and visual. We will see how to represent systems of equations graphically, how to interpret the number of solutions of a system, what is linear combination and more. As usual, we will use Numpy/Matplotlib as a tool to experiment these concepts and hopefully gain a more concrete understanding."
   ]
  },
  {
   "cell_type": "markdown",
   "metadata": {},
   "source": [
    "# 3.4 Linear Dependence and Span\n",
    "## Quick recap of a linear system\n",
    "\n",
    "In our last lesson, we saw that a system of linear equations can be represented in matrix form as:\n",
    "\n",
    "$$\\bs{Ax}=\\bs{b}$$\n",
    "\n",
    "This corresponds to:\n",
    "\n",
    "$$\n",
    "A_{1,1}x_1 + A_{1,2}x_2 + \\cdots + A_{1,n}x_n = b_1 \\\\\\\\\n",
    "A_{2,1}x_1 + A_{2,2}x_2 + \\cdots + A_{2,n}x_n = b_2 \\\\\\\\\n",
    "\\cdots \\\\\\\\\n",
    "A_{m,1}x_1 + A_{m,2}x_2 + \\cdots + A_{m,n}x_n = b_n\n",
    "$$\n",
    "\n",
    "Recall that, for matrix $\\bs{A}$, the $m$ represents the number of equations in our system while the $n$ represents the number of variables. \n",
    "\n",
    "Recall also that, since we know $A_{1,1}...A_{m,n}$ and $b_1...b_n$, we can solve the system by finding the values of the variables $x_1...x_n$ that satisfy all of the equations in the system."
   ]
  },
  {
   "cell_type": "markdown",
   "metadata": {},
   "source": [
    "# Number of solutions\n",
    "\n",
    "The first thing to ask when we confront a system of equations is: What is the number of solutions?\n",
    "\n",
    "There are three possible answers to this question:\n",
    " \n",
    " 1. No solution\n",
    " 2. 1 solution\n",
    " 3. An infinite number of solutions\n",
    " \n",
    "## Why there can't be more than 1 solution and less than an infinite number of solutions\n",
    "\n",
    "### Intuition\n",
    "\n",
    "If you think again about the geometric representation of a linear system, you'll realize that two plus lines can't intersect each other more than once!\n",
    "\n",
    "To be able to visualize this, let's take two dimensions (i.e. two variables) and two equations (i.e. two lines). The solution of each system corresponds to the intersection of the lines. \n",
    "\n",
    "\n",
    "<img src=\"images/number-solutions-system-equations.png\" width=\"700\" alt=\"Examples of systems of equations with 0, 1 and an infinite number of solutions\" title=\"System of equations with 0, 1 and an infinite number of solutions\">\n",
    "<em>A system of equations has no solution, 1 solution or an infinite number of solutions</em>\n",
    "\n",
    "\n",
    "As you can see, \n",
    "- There's no solution for parallel lines.\n",
    "- There's one solution when the lines intersect.\n",
    "- There's an infinite number of solutions if the lines are superimposed."
   ]
  },
  {
   "cell_type": "markdown",
   "metadata": {},
   "source": [
    "### A more rigorous proof\n",
    "\n",
    "Let's imagine that vectors $\\bs{x}$ and $\\bs{y}$ are two sets of solutions to our system. This means that\n",
    "\n",
    "$$\n",
    "\\begin{cases}\n",
    "\\bs{Ax}=\\bs{b}\\\\\\\\\n",
    "\\bs{Ay}=\\bs{b}\n",
    "\\end{cases}\n",
    "$$\n",
    "\n",
    "If there are two solutions, our intuition should also tell us that there are infinite solutions. \n",
    "\n",
    "To prove this, let's propose a new solution vector called $\\bs{z}$. And let's say $\\bs{z}=\\alpha \\bs{x} + (1-\\alpha \\bs{y})$, where $\\alpha$ can take on any value to represent an infinte number of possibel values for $\\bs{z}$.\n",
    "\n",
    "If we can show that $\\bs{Az}=\\bs{b}$, then we can prove an infinite number of solutions. \n",
    "\n",
    "So, let's plug $\\bs{z}$ into the lefthand side of our equation:\n",
    "\n",
    "$$\n",
    "\\begin{align*}\n",
    "\\bs{Az}&=\\bs{A}(\\alpha x + (1-\\alpha y))\\\\\\\\\n",
    "    &=\\bs{Ax}\\alpha + \\bs{A}(1-\\alpha y)\\\\\\\\\n",
    "    &=\\bs{Ax}\\alpha + \\bs{Ay}(1-\\alpha)\n",
    "\\end{align*}\n",
    "$$\n",
    "\n",
    "Since $\\bs{Ax}=\\bs{Ay}=\\bs{b}$, we can substitute the values and obtain:\n",
    "\n",
    "$$\n",
    "\\begin{align*}\n",
    "\\bs{Az}&=\\bs{b}\\alpha + \\bs{b}(1-\\alpha)\\\\\\\\\n",
    "    &=\\bs{b}\\alpha + \\bs{b}-\\bs{b}\\alpha\\\\\\\\\n",
    "    &=\\bs{b}\n",
    "\\end{align*}\n",
    "$$\n",
    "\n",
    "Hence $\\bs{z}$ is also a solution. And since $\\bs{z}$ contained $\\alpha$, we have an infinite number of solutions."
   ]
  },
  {
   "cell_type": "markdown",
   "metadata": {},
   "source": [
    "# Matrix representation of the system\n",
    "\n",
    "As we saw in the last lesson, the equation $\\bs{Ax}=\\bs{b}$ can be represented by a matrix $\\bs{A}$ containing the weigths of each variable and a vector $\\bs{x}$ containing each variable. The dot product of $\\bs{A}$ and $\\bs{x}$ gives $\\bs{b}$, which is is another vector of size $m$ that represents the solutions:\n",
    "\n",
    "$$\n",
    "\\begin{bmatrix}\n",
    "    A_{1,1} & A_{1,2} & \\cdots & A_{1,n} \\\\\\\\\n",
    "    A_{2,1} & A_{2,2} & \\cdots & A_{2,n} \\\\\\\\\n",
    "    \\cdots & \\cdots & \\cdots & \\cdots \\\\\\\\\n",
    "    A_{m,1} & A_{m,2} & \\cdots & A_{m,n}\n",
    "\\end{bmatrix}\n",
    "\\times\n",
    "\\begin{bmatrix}\n",
    "    x_1 \\\\\\\\\n",
    "    x_2 \\\\\\\\\n",
    "    \\cdots \\\\\\\\\n",
    "    x_n\n",
    "\\end{bmatrix}\n",
    "=\n",
    "\\begin{bmatrix}\n",
    "    b_1 \\\\\\\\\n",
    "    b_2 \\\\\\\\\n",
    "    \\cdots \\\\\\\\\n",
    "    b_m\n",
    "\\end{bmatrix}\n",
    "$$\n",
    "\n",
    "Performing that dot product, we get the system of linear equations written in the more familiar standard form: \n",
    "\n",
    "$$\n",
    "A_{1,1}x_1 + A_{1,2}x_2 + \\cdots + A_{1,n}x_n = b_1 \\\\\\\\\n",
    "A_{2,1}x_1 + A_{2,2}x_2 + \\cdots + A_{2,n}x_n = b_2 \\\\\\\\\n",
    "\\cdots \\\\\\\\\n",
    "A_{m,1}x_1 + A_{m,2}x_2 + \\cdots + A_{m,n}x_n = b_n\n",
    "$$\n",
    "\n",
    "If we think about this geometrically again, the number of columns in $\\bs{A}$ corresponds to the number of dimensions in our vector space. In other words, $n$ is the number of directions we can travel through the vector space. This is important because the number of solutions to our linear system corresponds to the number of ways we can reach $\\bs{b}$ by travelling through our $n$ dimensions.\n",
    "\n",
    "To more fully appreciate this, let's take a look at two visual approaches to using matrices to represent and solve a system of linear equations: ***the row figure*** and ***the column figure***."
   ]
  },
  {
   "cell_type": "markdown",
   "metadata": {},
   "source": [
    "# Graphical views: Row and column figures\n",
    "\n",
    "If you watch [this video lesson of MIT mathematician Gilbert Strang](http://ia802205.us.archive.org/18/items/MIT18.06S05_MP4/01.mp4), you'll see a very nice explanation of the intuition behind solving linear systems with linear algebra. Or, you can just keep reading.\n",
    "\n",
    "Take a look at matrix $\\bs{A}$:\n",
    "\n",
    "$$\n",
    "\\bs{A}=\\begin{bmatrix}\n",
    "    A_{1,1} & A_{1,2} & \\cdots & A_{1,n} \\\\\\\\\n",
    "    A_{2,1} & A_{2,2} & \\cdots & A_{2,n} \\\\\\\\\n",
    "    \\cdots & \\cdots & \\cdots & \\cdots \\\\\\\\\n",
    "    A_{m,1} & A_{m,2} & \\cdots & A_{m,n}\n",
    "\\end{bmatrix}\n",
    "$$\n",
    "\n",
    "Now consider its rows and columns separately. \n",
    "\n",
    "> Each row represents the coefficients for each variable from one equation. \n",
    "\n",
    "> And each column contains the coefficients for one variable in particular.\n",
    "\n",
    "The important thing is that you can graphically represent a linear system two ways:  either row-wise or column-wise. "
   ]
  },
  {
   "cell_type": "markdown",
   "metadata": {},
   "source": [
    "## Graphical view 1: the row figure\n",
    "\n",
    "The row figure is typically more familiar because it is the representation we're used to. By looking each row, we're essentially looking at one equation at a time and trying to plot it. \n",
    "\n",
    "And remember, we said that the solution to a linear system is the set of values $x_1...x_n$ that satisfies all equations. This is straightforward in the case of $\\bs{A}$ being a ($2 \\times 2$) matrix ($n=m=2$) since the equations correspond to lines in a $2$-dimensional space and the solution of the system is the intersection of these lines. But sometimes our linear systems aren't so convenient...\n",
    "\n",
    "### Overdetermined and underdetermined systems\n",
    "So far, we've been considering convenient situations where our linear systems can be represented as square matrices, i.e. there is the same number of equations as unknowns.\n",
    "\n",
    "But, more formally, a linear system can be viewed as a set of $(n-1)$-dimensional [hyperplanes](https://en.wikipedia.org/wiki/Hyperplane) in an *n*-dimensional space. So the linear system can be characterized by its number of equations ($m$) and its number of unknown variables ($n$).\n",
    "\n",
    "- If there are more equations than unknows, the system is called **overdetermined**. In the following example we can see a system of 3 equations (represented by 3 lines) and 2 unknowns (corresponding to 2 dimensions). In this example there is no solution since there is no point belonging to the three lines:\n",
    "\n",
    "<img src=\"images/overdetermined-system-linear-equations.png\" width=\"300\" alt=\"Example of an overdetermined system of linear equations with no solution\" title=\"Example of an overdetermined system of linear equations with no solution\">\n",
    "<em>Example of an overdetermined system of linear equations with no solution</em>\n",
    "\n",
    "- If there are more unknowns than equations, the system is called **underdetermined**. In the following picture, there is only 1 equation (1 line) and 2 dimensions. Each point that is on the line is a solution of the system. In this case, there is an infinite number of solutions:\n",
    "\n",
    "<img src=\"images/underdetermined-system-linear-equations.png\" width=\"300\" alt=\"Example of an underdetermined system of linear equations with an infinite number of solutions\" title=\"Example of an underdetermined system of linear equations with an infinite number of solutions\">\n",
    "<em>Example of an underdetermined system of linear equations with an infinite number of solutions</em>\n",
    "\n",
    "\n",
    "Let's see a few examples of these different cases to clarify that."
   ]
  },
  {
   "cell_type": "markdown",
   "metadata": {},
   "source": [
    "### Example 1. \n",
    "\n",
    "$m=1$, $n=2$: **1 equation and 2 variables**\n",
    "\n",
    "$$\n",
    "A_{1,1}x_1 + A_{1,2}x_2 = b_1\n",
    "$$\n",
    "\n",
    "The graphical interpretation of $n=2$ is that we have a 2-D space. So we can represent it with 2 axes. Since our hyperplane is $n-1$-dimensional, we have a 1-D hyperplane. This is simply a line. As $m=1$, we have only one equation. This means that we have only one line characterizing our linear system.\n",
    "\n",
    "Note that the last equation can also be written in the more usual slope-intercept form:\n",
    "\n",
    "$$\n",
    "y = ax + b\n",
    "$$\n",
    "\n",
    "with $y$ corresponding to $x_2$, $x$ corresponding to $x_1$, $a$ corresponding to $A_{1,1}$ and $A_{1,2}=1$.\n",
    "\n",
    "For this first example we will take the following equation:\n",
    "\n",
    "$$\n",
    "y = 2x + 1\n",
    "$$\n",
    "\n",
    "Let's draw the line of this equation:"
   ]
  },
  {
   "cell_type": "code",
   "execution_count": 5,
   "metadata": {},
   "outputs": [
    {
     "data": {
      "text/plain": [
       "<matplotlib.lines.Line2D at 0x109db3128>"
      ]
     },
     "execution_count": 5,
     "metadata": {},
     "output_type": "execute_result"
    },
    {
     "data": {
      "image/png": "[encoded data removed]",
      "text/plain": [
       "<matplotlib.figure.Figure at 0x11542dbe0>"
      ]
     },
     "metadata": {},
     "output_type": "display_data"
    }
   ],
   "source": [
    "x = np.arange(-10, 10)\n",
    "y = 2*x + 1\n",
    "\n",
    "plt.figure()\n",
    "plt.plot(x, y)\n",
    "plt.xlim(-2, 10)\n",
    "plt.ylim(-2, 10)\n",
    "# draw axes\n",
    "plt.axvline(x=0, color='#A9A9A9')\n",
    "plt.axhline(y=0, color='#A9A9A9')"
   ]
  },
  {
   "cell_type": "markdown",
   "metadata": {
    "collapsed": true
   },
   "source": [
    "#### Solutions\n",
    "\n",
    "The solutions of this linear system correspond to the values of $x$ and $y$ such as $y=2x+1$. Graphically, it corresponds to each point on the line, which means there is an infinite number of solutions. For instance, one solution is $x=0$ and $y=1$, or $x=1$ and $y=3$ and so on."
   ]
  },
  {
   "cell_type": "markdown",
   "metadata": {
    "collapsed": true
   },
   "source": [
    "### Example 2.\n",
    "\n",
    "*m*=2, *n*=2: **2 equations and 2 unknowns**\n",
    "\n",
    "$$\n",
    "A_{1,1}x_1 + A_{1,2}x_2 = b_1\\\\\\\\\n",
    "A_{2,1}x_1 + A_{2,2}x_2 = b_2\n",
    "$$"
   ]
  },
  {
   "cell_type": "markdown",
   "metadata": {
    "collapsed": true
   },
   "source": [
    "The graphical interpretation of this system is that we still have lines in a 2-D space. However this time there are 2 lines since there are 2 equations.\n",
    "\n",
    "Let's take these equations as example:\n",
    "\n",
    "$$\n",
    "\\begin{cases}\n",
    "y = 2x + 1\\\\\\\\\n",
    "y = 6x - 2\n",
    "\\end{cases}\n",
    "$$\n"
   ]
  },
  {
   "cell_type": "code",
   "execution_count": 6,
   "metadata": {},
   "outputs": [
    {
     "data": {
      "text/plain": [
       "<matplotlib.lines.Line2D at 0x115840550>"
      ]
     },
     "execution_count": 6,
     "metadata": {},
     "output_type": "execute_result"
    },
    {
     "data": {
      "image/png": "[encoded data removed]",
      "text/plain": [
       "<matplotlib.figure.Figure at 0x11542db00>"
      ]
     },
     "metadata": {},
     "output_type": "display_data"
    }
   ],
   "source": [
    "x = np.arange(-10, 10)\n",
    "y = 2*x + 1\n",
    "y1 = 6*x - 2\n",
    "\n",
    "plt.figure()\n",
    "plt.plot(x, y)\n",
    "plt.plot(x, y1)\n",
    "plt.xlim(-2, 10)\n",
    "plt.ylim(-2, 10)\n",
    "# draw axes\n",
    "plt.axvline(x=0, color='#A9A9A9')\n",
    "plt.axhline(y=0, color='#A9A9A9')"
   ]
  },
  {
   "cell_type": "markdown",
   "metadata": {},
   "source": [
    "In the figure above, the two lines intersect so there is just one unique solution. If they were superimposed (i.e. the same equation or equivalent), then there would be an infinite number of solutions. If they were parallel, there would be no solution."
   ]
  },
  {
   "cell_type": "markdown",
   "metadata": {},
   "source": [
    "### Example 3.\n",
    "\n",
    "*m*=3, *n*=2: **3 equations and 2 unknowns**\n",
    "\n",
    "$$\n",
    "A_{1,1}x_1 + A_{1,2}x_2 = b_1\\\\\\\\\n",
    "A_{2,1}x_1 + A_{2,2}x_2 = b_2\\\\\\\\\n",
    "A_{3,1}x_1 + A_{3,2}x_2 = b_3\n",
    "$$\n",
    "\n",
    "The same idea stands with more than 2 equations in a 2-D space. In that example we have the following 3 equations:\n",
    "\n",
    "$$\n",
    "\\begin{cases}\n",
    "y = 2x + 1\\\\\\\\\n",
    "y = 6x - 2\\\\\\\\\n",
    "y = \\frac{1}{10}x+6\n",
    "\\end{cases}\n",
    "$$"
   ]
  },
  {
   "cell_type": "code",
   "execution_count": 7,
   "metadata": {},
   "outputs": [
    {
     "data": {
      "text/plain": [
       "<matplotlib.lines.Line2D at 0x115940400>"
      ]
     },
     "execution_count": 7,
     "metadata": {},
     "output_type": "execute_result"
    },
    {
     "data": {
      "image/png": "[encoded data removed]",
      "text/plain": [
       "<matplotlib.figure.Figure at 0x115894ef0>"
      ]
     },
     "metadata": {},
     "output_type": "display_data"
    }
   ],
   "source": [
    "x = np.arange(-10, 10)\n",
    "y = 2*x + 1\n",
    "\n",
    "y1 = 6*x - 2\n",
    "y2 = 0.1*x+6\n",
    "\n",
    "plt.figure()\n",
    "plt.plot(x, y)\n",
    "plt.plot(x, y1)\n",
    "plt.plot(x, y2)\n",
    "plt.xlim(-2, 10)\n",
    "plt.ylim(-2, 10)\n",
    "# draw axes\n",
    "plt.axvline(x=0, color='#A9A9A9')\n",
    "plt.axhline(y=0, color='#A9A9A9')"
   ]
  },
  {
   "cell_type": "markdown",
   "metadata": {},
   "source": [
    "In the case above, there are 3 equations but no solution because there is no point in space that is on each of these lines."
   ]
  },
  {
   "cell_type": "markdown",
   "metadata": {},
   "source": [
    "### Drawbacks of the row figure\n",
    "How far can we extend these plotting techniques? If we try to look at the row figures of linear systems with higher values of $m$ (the number of equations) and $n$ (the number of dimensions), we'll very quickly encounter higher dimensional spaces and higher dimensional hyperplanes that are beyond human comprehension. I mean, how could we possibly visualize a 9-dimensional shape!? As you can imagine, solving linear systems with the row figure approach becomes very difficult very quickly!"
   ]
  },
  {
   "cell_type": "markdown",
   "metadata": {},
   "source": [
    "## Linear combination (a prerequisite for the column figure)\n",
    "\n",
    "Before introducing the column figure, we need to talk about **linear combination**. \n",
    "\n",
    "If we're working with just 2 vectors, their linear combination corresponds to their weighted sum.\n",
    "\n",
    "### Example 4.\n",
    "\n",
    "Let's take two vectors\n",
    "\n",
    "$$\n",
    "\\vec{u}=\n",
    "\\begin{bmatrix}\n",
    "    1 \\\\\\\\\n",
    "    3\n",
    "\\end{bmatrix}\n",
    "$$\n",
    "\n",
    "and\n",
    "\n",
    "$$\n",
    "\\vec{v}=\n",
    "\\begin{bmatrix}\n",
    "    2 \\\\\\\\\n",
    "    1\n",
    "\\end{bmatrix}\n",
    "$$\n",
    "\n",
    "These two vectors have 2 dimensions and thus contain coordinates in 2-D space.\n",
    "\n",
    "\n",
    "The linear combination of $\\vec{u}$ and $\\vec{v}$ is\n",
    "\n",
    "$$\n",
    "a\\vec{u}+b\\vec{v}= a\n",
    "\\begin{bmatrix}\n",
    "    1 \\\\\\\\\n",
    "    3\n",
    "\\end{bmatrix} + b\\begin{bmatrix}\n",
    "    2 \\\\\\\\\n",
    "    1\n",
    "\\end{bmatrix}\n",
    "$$\n",
    "\n",
    "with $a$ and $b$ being the weights we're applying to the vectors.\n",
    "\n",
    "Graphically, the vectors are added to reach a specific point in space. For example if $a=2$ and $b=1$:\n",
    "\n",
    "$$\n",
    "2\\vec{u}+\\vec{v}= 2\n",
    "\\begin{bmatrix}\n",
    "    1 \\\\\\\\\n",
    "    3\n",
    "\\end{bmatrix} +\n",
    "\\begin{bmatrix}\n",
    "    2 \\\\\\\\\n",
    "    1\n",
    "\\end{bmatrix} =\n",
    "\\begin{bmatrix}\n",
    "    2 \\cdot 1 + 2 \\\\\\\\\n",
    "    2 \\cdot 3 + 1\n",
    "\\end{bmatrix} =\n",
    "\\begin{bmatrix}\n",
    "    4 \\\\\\\\\n",
    "    7\n",
    "\\end{bmatrix}\n",
    "$$\n",
    "\n",
    "The sum of $\\vec{u}$ and $\\vec{v}$ is a vector that will reach the point of corrdinates $(4, 7)$. To show that on a plot, I will use the custom function `plotVectors()` that we defined at the beginning of the notebook. It takes a set of coordinates and an array of colors as input and plots the corresponding vectors. So let's plot $\\vec{u}$ and $\\vec{v}$:"
   ]
  },
  {
   "cell_type": "code",
   "execution_count": 8,
   "metadata": {},
   "outputs": [
    {
     "data": {
      "text/plain": [
       "<matplotlib.text.Text at 0x118b94358>"
      ]
     },
     "execution_count": 8,
     "metadata": {},
     "output_type": "execute_result"
    },
    {
     "data": {
      "image/png": "[encoded data removed]",
      "text/plain": [
       "<matplotlib.figure.Figure at 0x115840eb8>"
      ]
     },
     "metadata": {},
     "output_type": "display_data"
    }
   ],
   "source": [
    "orange = '#FF9A13'\n",
    "blue = '#1190FF'\n",
    "plotVectors([[1, 3], [2, 1]], [orange, blue])\n",
    "plt.xlim(0, 5)\n",
    "plt.ylim(0, 5)\n",
    "plt.text(0.25, 2.5, r'$\\vec{u}$', color=orange, size=18)\n",
    "plt.text(1.5, .25, r'$\\vec{v}$', color=blue, size=18)"
   ]
  },
  {
   "cell_type": "markdown",
   "metadata": {},
   "source": [
    "We will now add these vectors and their weights. This gives:"
   ]
  },
  {
   "cell_type": "code",
   "execution_count": 9,
   "metadata": {},
   "outputs": [
    {
     "data": {
      "text/plain": [
       "<matplotlib.text.Text at 0x118d03f98>"
      ]
     },
     "execution_count": 9,
     "metadata": {},
     "output_type": "execute_result"
    },
    {
     "data": {
      "image/png": "[encoded data removed]",
      "text/plain": [
       "<matplotlib.figure.Figure at 0x118bf3438>"
      ]
     },
     "metadata": {},
     "output_type": "display_data"
    }
   ],
   "source": [
    "# Weigths of the vectors\n",
    "a = 2\n",
    "b = 1\n",
    "# Start and end coordinates of the vectors\n",
    "u = [0,0,1,3]\n",
    "v = [2,6,2,1]\n",
    "\n",
    "plt.quiver([u[0], a*u[0], b*v[0]],\n",
    "           [u[1], a*u[1], b*v[1]],\n",
    "           [u[2], a*u[2], b*v[2]],\n",
    "           [u[3], a*u[3], b*v[3]],\n",
    "           angles='xy', scale_units='xy', scale=1, color=[orange, orange, blue])\n",
    "plt.xlim(-1, 8)\n",
    "plt.ylim(-1, 8)\n",
    "# Draw axes\n",
    "plt.axvline(x=0, color='#A9A9A9')\n",
    "plt.axhline(y=0, color='#A9A9A9')\n",
    "plt.scatter(4,7,marker='x',s=50)\n",
    "# Draw the name of the vectors\n",
    "plt.text(-0.5, 2, r'$\\vec{u}$', color=orange, size=18)\n",
    "plt.text(0.5, 4.5, r'$\\vec{u}$', color=orange, size=18)\n",
    "plt.text(2.5, 7, r'$\\vec{v}$', color=blue, size=18)"
   ]
  },
  {
   "cell_type": "markdown",
   "metadata": {},
   "source": [
    "Above, we weighted $\\vec{u}$ twice and $\\vec{v}$ just once. With these weights, the linear combination of $\\vec{v}$ and $\\vec{u}$ resulted in a new vector comprised of the coordinates ($4$, $7$)."
   ]
  },
  {
   "cell_type": "markdown",
   "metadata": {},
   "source": [
    "## Span (another prerequisite for the column figure)\n",
    "\n",
    "Take the vectors $\\vec{u}$ and $\\vec{v}$ from the previous example and think about all the points you can reach by their combination with changing values of $a$ and $b$. This set of points is called the **span** of the set of vectors $\\{\\vec{u}, \\vec{v}\\}$.\n",
    "\n",
    "### A more formal span definition\n",
    "More formally, given a set of vectors $A:=\\{\\vec{a}_{1},\\ldots,\\vec{a}_{k}\\}$ in $\\mathbb{R}^{n}$, consider all of the new vectors that we could create through linear combinations.\n",
    "\n",
    "New vectors created in this manner are called linear combinations of $A$.\n",
    "\n",
    "Specifically, $y \\in \\mathbb R ^n$ is a linear combination of $A:=\\{\\vec{a}_{1},\\ldots,\\vec{a}_{k}\\}$ if:\n",
    "\n",
    "$$y = \\beta_1 a_1 + \\cdots + \\beta_k a_k\n",
    "\\text{ for some scalars } \\beta_1, \\ldots, \\beta_k$$\n",
    "\n",
    "Above,, the values $\\beta_1, \\ldots, \\beta_k$ are called the coefficients of the linear combination. They're synonymous with $a$ and $b$ from above. \n",
    "\n",
    "It is the set of linear combinations of $A$ that we call the **span** of $A$.\n",
    "\n",
    "In the figure we plot below, we'll see the span of $A = \\{a_1, a_2\\}$ in $\\mathbb{R}^{3}$.\n",
    "\n",
    "The span is a $2$-dimensional plane passing through these two points and the origin."
   ]
  },
  {
   "cell_type": "code",
   "execution_count": 12,
   "metadata": {},
   "outputs": [
    {
     "data": {
      "text/plain": [
       "<mpl_toolkits.mplot3d.art3d.Poly3DCollection at 0x118d7df28>"
      ]
     },
     "execution_count": 12,
     "metadata": {},
     "output_type": "execute_result"
    },
    {
     "data": {
      "image/png": "[encoded data removed]",
      "text/plain": [
       "<matplotlib.figure.Figure at 0x118e89550>"
      ]
     },
     "metadata": {},
     "output_type": "display_data"
    }
   ],
   "source": [
    "fig = plt.figure(figsize=(10, 8))\n",
    "ax = fig.gca(projection='3d')\n",
    "\n",
    "x_min, x_max = -5, 5\n",
    "y_min, y_max = -5, 5\n",
    "\n",
    "α, β = 0.2, 0.1\n",
    "\n",
    "ax.set(xlim=(x_min, x_max), ylim=(x_min, x_max), zlim=(x_min, x_max),\n",
    "       xticks=(0,), yticks=(0,), zticks=(0,))\n",
    "\n",
    "gs = 3\n",
    "z = np.linspace(x_min, x_max, gs)\n",
    "x = np.zeros(gs)\n",
    "y = np.zeros(gs)\n",
    "ax.plot(x, y, z, 'k-', lw=2, alpha=0.5)\n",
    "ax.plot(z, x, y, 'k-', lw=2, alpha=0.5)\n",
    "ax.plot(y, z, x, 'k-', lw=2, alpha=0.5)\n",
    "\n",
    "\n",
    "# Fixed linear function, to generate a plane\n",
    "def f(x, y):\n",
    "    return α * x + β * y\n",
    "\n",
    "# Vector locations, by coordinate\n",
    "x_coords = np.array((3, 3))\n",
    "y_coords = np.array((4, -4))\n",
    "z = f(x_coords, y_coords)\n",
    "for i in (0, 1):\n",
    "    ax.text(x_coords[i], y_coords[i], z[i], f'$a_{i+1}$', fontsize=14)\n",
    "\n",
    "# Lines to vectors\n",
    "for i in (0, 1):\n",
    "    x = (0, x_coords[i])\n",
    "    y = (0, y_coords[i])\n",
    "    z = (0, f(x_coords[i], y_coords[i]))\n",
    "    ax.plot(x, y, z, 'b-', lw=1.5, alpha=0.6)\n",
    "\n",
    "\n",
    "# Draw the plane\n",
    "grid_size = 20\n",
    "xr2 = np.linspace(x_min, x_max, grid_size)\n",
    "yr2 = np.linspace(y_min, y_max, grid_size)\n",
    "x2, y2 = np.meshgrid(xr2, yr2)\n",
    "z2 = f(x2, y2)\n",
    "ax.plot_surface(x2, y2, z2, rstride=1, cstride=1, cmap=cm.jet,\n",
    "                linewidth=0, antialiased=True, alpha=0.2)\n",
    "#plt.show()"
   ]
  },
  {
   "cell_type": "markdown",
   "metadata": {},
   "source": [
    ">### A note on spaces and subspaces\n",
    ">Above, you saw some new math terminology:  \n",
    "\n",
    ">$$\\mathbb{R}^n$$\n",
    "\n",
    ">Let's talk about that.\n",
    "\n",
    ">The **space** of a vector determines all of the values that can be taken by this vector. The vector spaces are denoted $\\mathbb{R}$ because the values are [real numbers](https://en.wikipedia.org/wiki/Real_number). If there are multiple dimensions, the space is denoted $\\mathbb{R}^n$ with $n$ corresponding to the number of dimensions. For instance $\\mathbb{R}^2$ is the space of the usual $x$-$y$ plane where $x$ and $y$ values are real numbers.\n",
    "\n",
    ">If you take a 2-dimensional plane in $\\mathbb{R}^3$ (3-dimensional space), this plane is a **subspace** of your original $\\mathbb{R}^3$ space. In the same manner, if you start with a $\\mathbb{R}^2$ space and take a line in this space, this line is a subspace of the original space.\n",
    "\n",
    ">A linear combination of vectors gives vectors in the original space. Every linear combination of vectors inside a space will stay in this space. For instance, if you take 2 lines in a $\\mathbb{R}^2$ space, any linear combination will give you a vector in the same $\\mathbb{R}^2$ space.\n",
    "\n",
    "\n",
    ">**The important takeaway is that a linear combination of vectors returns a vector in the original space.**"
   ]
  },
  {
   "cell_type": "markdown",
   "metadata": {},
   "source": [
    "## Graphical view 2: the column figure\n",
    "\n",
    "OK, now we're ready to see how it's possible to represent a linear system by looking at the columns. Specifically, we'll see that the solution vector $\\bs{b}$ corresponds to a linear combination of each column multiplied by its weights.\n",
    "\n",
    "From the set of equations:\n",
    "\n",
    "$$\n",
    "A_{1,1}x_1 + A_{1,2}x_2 + A_{1,n}x_n = b_1 \\\\\\\\\n",
    "A_{2,1}x_1 + A_{2,2}x_2 + A_{2,n}x_n = b_2 \\\\\\\\\n",
    "\\cdots \\\\\\\\\n",
    "A_{m,1}x_1 + A_{m,2}x_2 + A_{m,n}x_n = b_m\n",
    "$$\n",
    "\n",
    "The column form is then:\n",
    "\n",
    "$$\n",
    "x_1\n",
    "\\begin{bmatrix}\n",
    "    A_{1,1}\\\\\\\\\n",
    "    A_{2,1}\\\\\\\\\n",
    "    A_{m,1}\n",
    "\\end{bmatrix}\n",
    "+\n",
    "x_2\n",
    "\\begin{bmatrix}\n",
    "    A_{1,2}\\\\\\\\\n",
    "    A_{2,2}\\\\\\\\\n",
    "    A_{m,2}\n",
    "\\end{bmatrix}\n",
    "+ \n",
    "x_n\n",
    "\\begin{bmatrix}\n",
    "    A_{1,n}\\\\\\\\\n",
    "    A_{2,n}\\\\\\\\\n",
    "    A_{m,n}\n",
    "\\end{bmatrix}\n",
    "=\n",
    "\\begin{bmatrix}\n",
    "    b_1\\\\\\\\\n",
    "    b_2\\\\\\\\\n",
    "    b_m\n",
    "\\end{bmatrix}\n",
    "$$\n",
    "\n",
    "Thinking graphically, the task is to travel from the origin (zero on every dimension) to the point of represented by the coordinates in $\\bs{b}$. **The columns of $\\bs{A}$ give us the directions we ought to travel by while their weights represent how far we go in that direction.**"
   ]
  },
  {
   "cell_type": "markdown",
   "metadata": {},
   "source": [
    "### Example 5. \n",
    "Let's take a case when $m=n=2$:\n",
    "$$\n",
    "A_{1,1}x_1 + A_{1,2}x_2 = b_1\\\\\\\\\n",
    "A_{2,1}x_1 + A_{2,2}x_2 = b_2\n",
    "$$\n",
    "\n",
    "And let's start with two equations in slope-intercept form that are then converted to standard form:\n",
    "\n",
    "$$\n",
    "\\begin{cases}\n",
    "y = \\frac{1}{2}x+1\\\\\\\\\n",
    "y = -x + 4\n",
    "\\end{cases}\n",
    "\\Leftrightarrow\n",
    "\\begin{cases}\n",
    "\\frac{1}{2}x-y = -1\\\\\\\\\n",
    "x+y=4\n",
    "\\end{cases}\n",
    "$$\n",
    "\n",
    "And then converted to matrix form in $\\bs{A}$:\n",
    "\n",
    "$$\n",
    "\\bs{A}=\n",
    "\\begin{bmatrix}\n",
    "    \\frac{1}{2} & -1 \\\\\\\\\n",
    "    1 & 1\n",
    "\\end{bmatrix}\n",
    "$$\n",
    "\n",
    "The column figure gives us:\n",
    "\n",
    "$$\n",
    "x\n",
    "\\begin{bmatrix}\n",
    "    \\frac{1}{2} \\\\\\\\\n",
    "    1\n",
    "\\end{bmatrix}\n",
    "+\n",
    "y\n",
    "\\begin{bmatrix}\n",
    "    -1 \\\\\\\\\n",
    "    1\n",
    "\\end{bmatrix}\n",
    "=\n",
    "\\begin{bmatrix}\n",
    "    -1 \\\\\\\\\n",
    "    4\n",
    "\\end{bmatrix}\n",
    "$$\n",
    "\n",
    "The goal is to find the value of the weights ($x$ and $y$) for which the linear combination of the vector\n",
    "\n",
    "$$\n",
    "\\begin{bmatrix}\n",
    "    \\frac{1}{2} \\\\\\\\\n",
    "    1\n",
    "\\end{bmatrix}\n",
    "$$\n",
    "\n",
    "and\n",
    "\n",
    "$$\n",
    "\\begin{bmatrix}\n",
    "    -1 \\\\\\\\\n",
    "    1\n",
    "\\end{bmatrix}\n",
    "$$\n",
    "\n",
    "gives the vector \n",
    "\n",
    "$$\n",
    "\\begin{bmatrix}\n",
    "    -1 \\\\\\\\\n",
    "    4\n",
    "\\end{bmatrix}\n",
    "$$\n",
    "\n",
    "Let's first solve this system graphically using the row figure. We'll plot the equations and simply look for their intersection:"
   ]
  },
  {
   "cell_type": "code",
   "execution_count": 14,
   "metadata": {},
   "outputs": [
    {
     "data": {
      "image/png": "[encoded data removed]",
      "text/plain": [
       "<matplotlib.figure.Figure at 0x119a267f0>"
      ]
     },
     "metadata": {},
     "output_type": "display_data"
    }
   ],
   "source": [
    "x = np.arange(-10, 10)\n",
    "y = 0.5*x + 1\n",
    "\n",
    "y1 = -x + 4\n",
    "\n",
    "plt.figure()\n",
    "plt.plot(x, y)\n",
    "plt.plot(x, y1)\n",
    "plt.xlim(-2, 10)\n",
    "plt.ylim(-2, 10)\n",
    "# draw axes\n",
    "plt.axvline(x=0, color='#A9A9A9')\n",
    "plt.axhline(y=0, color='#A9A9A9')\n",
    "plt.show()\n",
    "plt.close()"
   ]
  },
  {
   "cell_type": "markdown",
   "metadata": {},
   "source": [
    "We can see that the solution (the intersection of the two lines) is $x=2$ and $y=2$. This means that the linear combination is the following:\n",
    "\n",
    "$$\n",
    "2\n",
    "\\begin{bmatrix}\n",
    "    \\frac{1}{2} \\\\\\\\\n",
    "    1\n",
    "\\end{bmatrix}\n",
    "+\n",
    "2\n",
    "\\begin{bmatrix}\n",
    "    -1 \\\\\\\\\n",
    "    1\n",
    "\\end{bmatrix}\n",
    "=\n",
    "\\begin{bmatrix}\n",
    "    -1 \\\\\\\\\n",
    "    4\n",
    "\\end{bmatrix}\n",
    "$$\n",
    "\n",
    "So let's say that\n",
    "\n",
    "$$\n",
    "\\vec{u}=\n",
    "\\begin{bmatrix}\n",
    "    \\frac{1}{2} \\\\\\\\\n",
    "    1\n",
    "\\end{bmatrix}\n",
    "$$\n",
    "\n",
    "and\n",
    "\n",
    "$$\n",
    "\\vec{v}=\n",
    "\\begin{bmatrix}\n",
    "    -1 \\\\\\\\\n",
    "    1\n",
    "\\end{bmatrix}\n",
    "$$\n",
    "\n",
    "The column figure approach says that we can reach the point of intersection $(-1, 4)$ if we add two times the vector $\\vec{u}$ and two times the vector $\\vec{v}$. Let's check that:"
   ]
  },
  {
   "cell_type": "code",
   "execution_count": 15,
   "metadata": {},
   "outputs": [
    {
     "data": {
      "image/png": "[encoded data removed]",
      "text/plain": [
       "<matplotlib.figure.Figure at 0x118e8ff28>"
      ]
     },
     "metadata": {},
     "output_type": "display_data"
    }
   ],
   "source": [
    "u = [0,0,0.5,1]\n",
    "u_bis = [u[2],u[3],u[2],u[3]]\n",
    "v = [2*u[2],2*u[3],-1,1]\n",
    "v_bis = [2*u[2]-1,2*u[3]+1,v[2],v[3]]\n",
    "\n",
    "plt.quiver([u[0], u_bis[0], v[0], v_bis[0]],\n",
    "           [u[1], u_bis[1], v[1], v_bis[1]],\n",
    "           [u[2], u_bis[2], v[2], v_bis[2]],\n",
    "           [u[3], u_bis[3], v[3], v_bis[3]],\n",
    "           angles='xy', scale_units='xy', scale=1, color=[blue, blue, orange, orange])\n",
    "# plt.rc('text', usetex=True)\n",
    "plt.xlim(-1.5, 2)\n",
    "plt.ylim(-0.5, 4.5)\n",
    "# draw axes\n",
    "plt.axvline(x=0, color='#A9A9A9')\n",
    "plt.axhline(y=0, color='#A9A9A9')\n",
    "plt.scatter(-1,4,marker='x',s=50)\n",
    "plt.text(0, 0.5, r'$\\vec{u}$', color=blue, size=18)\n",
    "plt.text(0.5, 1.5, r'$\\vec{u}$', color=blue, size=18)\n",
    "plt.text(0.5, 2.7, r'$\\vec{v}$', color=orange, size=18)\n",
    "plt.text(-0.8, 3, r'$\\vec{v}$', color=orange, size=18)\n",
    "plt.show()\n",
    "plt.close()"
   ]
  },
  {
   "cell_type": "markdown",
   "metadata": {},
   "source": [
    "And there you have it! We arrived at the point ($-1$, $4$)."
   ]
  },
  {
   "cell_type": "markdown",
   "metadata": {},
   "source": [
    "## Determine if the system has one and only one solution for every value of $\\bs{b}$\n",
    "\n",
    "We will now see how to determine if a system of equations has one and only one solution. *Note that this only applies to the [general cases](https://en.wikipedia.org/wiki/System_of_linear_equations#General_behavior), like those we discussed above.* For us, this means our system must meet two requirements:\n",
    "\n",
    "1. The system must have at least one solution\n",
    "2. Then, the system must have **only** one solution\n",
    "\n",
    "### Requirement 1. Overdetermined system: the system must have at least one solution for each value of $\\bs{b}$: $m\\geq n$\n",
    "\n",
    "Recall that **an overdetermined system of equations is a system with more equations than unknowns.**\n",
    "\n",
    "The column figure helps us understand why a linear system usually has no solution when $n$ (the number of unknowns) is smaller than $m$ (the number of equations). Let's add 1 equation to the system we worked above in order to end up with a ($3\\times2$) matrix (3 equations and 2 unknowns):\n",
    "\n",
    "$$\n",
    "\\begin{cases}\n",
    "y = \\frac{1}{2}x+1\\\\\\\\\n",
    "y = -x + 4\\\\\\\\\n",
    "y = 7x + 2\n",
    "\\end{cases}\n",
    "\\Leftrightarrow\n",
    "\\begin{cases}\n",
    "\\frac{1}{2}x-y = -1\\\\\\\\\n",
    "x+y=4\\\\\\\\\n",
    "7x-y=2\n",
    "\\end{cases}\n",
    "$$\n",
    "\n",
    "This corresponds to:\n",
    "\n",
    "$$\n",
    "x\n",
    "\\begin{bmatrix}\n",
    "    \\frac{1}{2} \\\\\\\\\n",
    "    1 \\\\\\\\\n",
    "    7\n",
    "\\end{bmatrix}\n",
    "+\n",
    "y\n",
    "\\begin{bmatrix}\n",
    "    -1 \\\\\\\\\n",
    "    1 \\\\\\\\\n",
    "    -1\n",
    "\\end{bmatrix}\n",
    "=\n",
    "\\begin{bmatrix}\n",
    "    -1 \\\\\\\\\n",
    "    4 \\\\\\\\\n",
    "    2\n",
    "\\end{bmatrix}\n",
    "$$\n",
    "\n",
    "Graphically, this means we are still traveling in our $2$-dimensional space (see the plot of the column space above), but the point that we are looking for is defined by $3$ dimensions. If this third coordinate does not rely on our $2$-dimensional $x$-$y$ plane, then no solution exists."
   ]
  },
  {
   "cell_type": "markdown",
   "metadata": {},
   "source": [
    "### Linear dependence\n",
    "\n",
    "As we've seen, the number of columns provides us with information on the number of solutions. But for an overdetermined system, the true number that we have to take into account is the number of **linearly independent** columns. Columns are linearly dependent if one of them is a linear combination of the others. Thinking graphically in terms of the column figure, this means the direction of two linearly dependent vectors is the same. This means that the column doesn't add a dimension that we can use to travel by and reach $\\bs{b}$."
   ]
  },
  {
   "cell_type": "markdown",
   "metadata": {},
   "source": [
    "Here is an example of a linear system that exhibits linear dependency:\n",
    "\n",
    "$$\n",
    "\\begin{cases}\n",
    "y = 2x+6\\\\\\\\\n",
    "y = 2x\n",
    "\\end{cases}\n",
    "\\Leftrightarrow\n",
    "\\begin{cases}\n",
    "2x-y = -6\\\\\\\\\n",
    "2x-y=0\n",
    "\\end{cases}\n",
    "$$\n",
    "\n",
    "Let's first look at the row figure to clearly show that the system has no solution:"
   ]
  },
  {
   "cell_type": "code",
   "execution_count": 16,
   "metadata": {},
   "outputs": [
    {
     "data": {
      "image/png": "[encoded data removed]",
      "text/plain": [
       "<matplotlib.figure.Figure at 0x119b85dd8>"
      ]
     },
     "metadata": {},
     "output_type": "display_data"
    }
   ],
   "source": [
    "x = np.arange(-10, 10)\n",
    "y = 2*x + 6\n",
    "\n",
    "y1 = 2*x\n",
    "\n",
    "plt.figure()\n",
    "plt.plot(x, y)\n",
    "plt.plot(x, y1)\n",
    "plt.xlim(-2, 10)\n",
    "plt.ylim(-2, 10)\n",
    "# draw axes\n",
    "plt.axvline(x=0, color='#A9A9A9')\n",
    "plt.axhline(y=0, color='#A9A9A9')\n",
    "plt.show()\n",
    "plt.close()"
   ]
  },
  {
   "cell_type": "markdown",
   "metadata": {},
   "source": [
    "Since the lines are parallel, they will never intersect and therefore there is no solution."
   ]
  },
  {
   "cell_type": "markdown",
   "metadata": {},
   "source": [
    "The column figure illustrates the point as well:\n",
    "\n",
    "$$\n",
    "x\n",
    "\\begin{bmatrix}\n",
    "    2 \\\\\\\\\n",
    "    2\n",
    "\\end{bmatrix}\n",
    "+\n",
    "y\n",
    "\\begin{bmatrix}\n",
    "    -1 \\\\\\\\\n",
    "    -1\n",
    "\\end{bmatrix}\n",
    "=\n",
    "\\begin{bmatrix}\n",
    "    -6 \\\\\\\\\n",
    "    0\n",
    "\\end{bmatrix}\n",
    "$$\n"
   ]
  },
  {
   "cell_type": "code",
   "execution_count": 17,
   "metadata": {},
   "outputs": [
    {
     "data": {
      "image/png": "[encoded data removed]",
      "text/plain": [
       "<matplotlib.figure.Figure at 0x119c64438>"
      ]
     },
     "metadata": {},
     "output_type": "display_data"
    }
   ],
   "source": [
    "u = [0,0,2,2]\n",
    "v = [0,0,-1,-1]\n",
    "\n",
    "plt.quiver([u[0], v[0]],\n",
    "           [u[1], v[1]],\n",
    "           [u[2], v[2]],\n",
    "           [u[3], v[3]],\n",
    "           angles='xy', scale_units='xy', scale=1, color=[blue, orange])\n",
    "plt.xlim(-7, 3)\n",
    "plt.ylim(-2, 3)\n",
    "# draw axes\n",
    "plt.axvline(x=0, color='#A9A9A9')\n",
    "plt.axhline(y=0, color='#A9A9A9')\n",
    "plt.scatter(-6,0,marker='x',s=150)\n",
    "plt.text(-6, 0.5, r'$b$', color='b', size=18)\n",
    "plt.show()\n",
    "plt.close()"
   ]
  },
  {
   "cell_type": "markdown",
   "metadata": {},
   "source": [
    "We would like to go to $b$ but the only path we can take is along the blue/orange line. The second equation doesn't provide us with a new direction to take since it is just a linear combination of the first one."
   ]
  },
  {
   "cell_type": "markdown",
   "metadata": {},
   "source": [
    "### Requirement 2. Underdetermined system: the system must have **only** one solution for each value of $\\bs{b}$: $n=m$\n",
    "\n",
    "Recall that **an underdetermined system of equations is a system with less equations than unknowns.**\n",
    "\n",
    "The other requirement is that $n$ (the number of unknowns) must not be less than $m$ (the number of equations). But if we want our system to have one and only one solution, a second requirement is that $n$ must not be bigger than $m$."
   ]
  },
  {
   "cell_type": "markdown",
   "metadata": {},
   "source": [
    "Let's take the example of a ($2\\times 3$) matrix that corresponds to a set of 2 equations with 3 unknowns variables:\n",
    "\n",
    "\n",
    "$$\n",
    "\\begin{cases}\n",
    "8x+y+z=1\\\\\\\\\n",
    "x+y+z=1\n",
    "\\end{cases}\n",
    "$$\n",
    "\n",
    "$$\n",
    "x\n",
    "\\begin{bmatrix}\n",
    "    8 \\\\\\\\\n",
    "    1\n",
    "\\end{bmatrix}\n",
    "+\n",
    "y\n",
    "\\begin{bmatrix}\n",
    "    1 \\\\\\\\\n",
    "    1\n",
    "\\end{bmatrix}\n",
    "+\n",
    "z\n",
    "\\begin{bmatrix}\n",
    "    1 \\\\\\\\\n",
    "    1\n",
    "\\end{bmatrix}\n",
    "=\n",
    "\\begin{bmatrix}\n",
    "    1 \\\\\\\\\n",
    "    1\n",
    "\\end{bmatrix}\n",
    "$$"
   ]
  },
  {
   "cell_type": "markdown",
   "metadata": {},
   "source": [
    "Here is the representation of the planes plotted with the help of this [website](https://technology.cpm.org/general/3dgraph/):\n",
    "\n",
    "<img src=\"images/intersection-2-planes-line.png\" alt=\"Plot showing two planes. The intersection of the two planes is a line\" title=\"The intersection of the two planes is a line\" width=\"500\">\n",
    "<em>The intersection of the two planes is a line</em>"
   ]
  },
  {
   "cell_type": "markdown",
   "metadata": {},
   "source": [
    "We can at least see that the two planes are not parallel, and so there are solutions to the set of equations. This meets our first requirement. \n",
    "\n",
    "But, when it comes to our second requirement, we can see that there is an infinite number of points of intersection (the intersection of the planes is a line). We would need a third plane to have a unique solution.\n",
    "\n",
    "The takeaway is is that linear systems need a **square matrix** $\\bs{A}$ ($m=n$) with **linearly independant columns** in order to have a unique solution for every values of $\\bs{b}$.\n",
    "\n",
    "Furthermore, to connect this to our earlier lesson about the inverse of a matrix, we can say that the inverse of a matrix representing a linear system only exists if the set of equations has one and only one solution for each value of $\\bs{b}$. Why? Because:\n",
    "\n",
    "- The matrix $\\bs{A}$ cannot have more than 1 inverse. Imagine that $\\bs{A}$ has 2 inverses $\\bs{B}$ and $\\bs{C}$ such as $\\bs{AB}=\\bs{I}$ and $\\bs{AC}=\\bs{I}$. This would mean that $\\bs{B}=\\bs{C}$.\n",
    "\n",
    "- The solution of the system $\\bs{Ax}=\\bs{b}$ is $\\bs{x}=\\bs{A} ^{-1} \\bs{b}$. So if there are multiple solutions, there are multiple inverses and the first point is not met."
   ]
  },
  {
   "cell_type": "markdown",
   "metadata": {
    "collapsed": true
   },
   "source": [
    "# References\n",
    "\n",
    "## Books and videos of Gilbert Strang\n",
    "\n",
    "- Strang, G. (2006). Linear Algebra and Its Applications, 4th Edition (4th edition). Belmont, CA: Cengage Learning.\n",
    "\n",
    "- Strang, G. (2014). Differential Equations and Linear Algebra (UK ed. edition). Wellesley, Mass: Wellesley-Cambridge.\n",
    "\n",
    "- [The column space of a matrix. Video from Gilbert Strang](https://ocw.mit.edu/resources/res-18-009-learn-differential-equations-up-close-with-gilbert-strang-and-cleve-moler-fall-2015/differential-equations-and-linear-algebra/vector-spaces-and-subspaces/the-column-space-of-a-matrix/)\n",
    "\n",
    "## System of equations\n",
    "\n",
    "- [Wikipedia - System of linear equations](https://en.wikipedia.org/wiki/System_of_linear_equations)\n",
    "\n",
    "## Numpy\n",
    "\n",
    "- [Numpy arange()](https://docs.scipy.org/doc/numpy/reference/generated/numpy.arange.html)"
   ]
  }
 ],
 "metadata": {
  "kernelspec": {
   "display_name": "Python 3",
   "language": "python",
   "name": "python3"
  },
  "language_info": {
   "codemirror_mode": {
    "name": "ipython",
    "version": 3
   },
   "file_extension": ".py",
   "mimetype": "text/x-python",
   "name": "python",
   "nbconvert_exporter": "python",
   "pygments_lexer": "ipython3",
   "version": "3.6.4"
  }
 },
 "nbformat": 4,
 "nbformat_minor": 2
}
